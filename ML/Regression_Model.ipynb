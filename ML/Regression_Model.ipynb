{
  "cells": [
    {
      "cell_type": "markdown",
      "metadata": {
        "id": "view-in-github",
        "colab_type": "text"
      },
      "source": [
        "<a href=\"https://colab.research.google.com/github/ManalSahafi/master-degree/blob/main/ML/Regression_Model.ipynb\" target=\"_parent\"><img src=\"https://colab.research.google.com/assets/colab-badge.svg\" alt=\"Open In Colab\"/></a>"
      ]
    },
    {
      "cell_type": "code",
      "execution_count": null,
      "metadata": {
        "id": "3wObwptpKbNP"
      },
      "outputs": [],
      "source": [
        "import numpy as np\n",
        "import pandas as pd\n",
        "import matplotlib.pyplot as plt\n",
        "import matplotlib.image as mpimg\n",
        "%matplotlib inline\n",
        "import seaborn as sns\n",
        "from sklearn.model_selection import train_test_split"
      ]
    },
    {
      "cell_type": "code",
      "source": [
        "from google.colab import drive\n",
        "drive.mount('/content/drive')\n",
        "\n"
      ],
      "metadata": {
        "colab": {
          "base_uri": "https://localhost:8080/"
        },
        "id": "IpKXvF6UuwvH",
        "outputId": "447c1cbd-2607-4ba6-e218-06282235a53c"
      },
      "execution_count": null,
      "outputs": [
        {
          "output_type": "stream",
          "name": "stdout",
          "text": [
            "Drive already mounted at /content/drive; to attempt to forcibly remount, call drive.mount(\"/content/drive\", force_remount=True).\n"
          ]
        }
      ]
    },
    {
      "cell_type": "markdown",
      "source": [
        "# Read the dataset"
      ],
      "metadata": {
        "id": "vjdXTLd6GZEZ"
      }
    },
    {
      "cell_type": "code",
      "execution_count": null,
      "metadata": {
        "colab": {
          "base_uri": "https://localhost:8080/",
          "height": 423
        },
        "id": "iL-hgnawKe6u",
        "outputId": "17733d9b-2017-4b4c-8aea-eee20d1014c4"
      },
      "outputs": [
        {
          "output_type": "execute_result",
          "data": {
            "text/plain": [
              "       area   age  num_bedrooms  num_livings  num_water_cycles  street_width  \\\n",
              "0     225.0   9.0             3          0.0                 2          15.0   \n",
              "1     130.0  12.0             3          1.0                 2          30.0   \n",
              "2     200.0   NaN             3          1.0                 2          25.0   \n",
              "3     120.0   0.0             1          1.0                 1          34.0   \n",
              "4      60.0   9.0             1          1.0                 1          39.0   \n",
              "...     ...   ...           ...          ...               ...           ...   \n",
              "6757  180.0   0.0             3          1.0                 2          18.0   \n",
              "6758   90.0  25.0             2          1.0                 1           5.0   \n",
              "6759  120.0   5.0             3          1.0                 2          20.0   \n",
              "6760  200.0   1.0             2          2.0                 2          15.0   \n",
              "6761   70.0   3.0             1          0.0                 1          34.0   \n",
              "\n",
              "      IsKetchen  IsFurnished  review  IsRent  price  \n",
              "0           1.0          0.0    5.00   False  20000  \n",
              "1           1.0          0.0    4.33    True  25000  \n",
              "2           0.0          0.0    4.67    True  22000  \n",
              "3           1.0          0.0    4.17   False  38000  \n",
              "4           1.0          0.0    4.42   False  25000  \n",
              "...         ...          ...     ...     ...    ...  \n",
              "6757        1.0          0.0    4.31   False  60000  \n",
              "6758        0.0          0.0    4.82   False   9800  \n",
              "6759        1.0          1.0    5.00   False  50000  \n",
              "6760        1.0          0.0    4.54   False  40000  \n",
              "6761        0.0          0.0    4.54   False  17000  \n",
              "\n",
              "[6762 rows x 11 columns]"
            ],
            "text/html": [
              "\n",
              "  <div id=\"df-5ed9ef20-a33b-4b30-82a8-470e63f30b5e\">\n",
              "    <div class=\"colab-df-container\">\n",
              "      <div>\n",
              "<style scoped>\n",
              "    .dataframe tbody tr th:only-of-type {\n",
              "        vertical-align: middle;\n",
              "    }\n",
              "\n",
              "    .dataframe tbody tr th {\n",
              "        vertical-align: top;\n",
              "    }\n",
              "\n",
              "    .dataframe thead th {\n",
              "        text-align: right;\n",
              "    }\n",
              "</style>\n",
              "<table border=\"1\" class=\"dataframe\">\n",
              "  <thead>\n",
              "    <tr style=\"text-align: right;\">\n",
              "      <th></th>\n",
              "      <th>area</th>\n",
              "      <th>age</th>\n",
              "      <th>num_bedrooms</th>\n",
              "      <th>num_livings</th>\n",
              "      <th>num_water_cycles</th>\n",
              "      <th>street_width</th>\n",
              "      <th>IsKetchen</th>\n",
              "      <th>IsFurnished</th>\n",
              "      <th>review</th>\n",
              "      <th>IsRent</th>\n",
              "      <th>price</th>\n",
              "    </tr>\n",
              "  </thead>\n",
              "  <tbody>\n",
              "    <tr>\n",
              "      <th>0</th>\n",
              "      <td>225.0</td>\n",
              "      <td>9.0</td>\n",
              "      <td>3</td>\n",
              "      <td>0.0</td>\n",
              "      <td>2</td>\n",
              "      <td>15.0</td>\n",
              "      <td>1.0</td>\n",
              "      <td>0.0</td>\n",
              "      <td>5.00</td>\n",
              "      <td>False</td>\n",
              "      <td>20000</td>\n",
              "    </tr>\n",
              "    <tr>\n",
              "      <th>1</th>\n",
              "      <td>130.0</td>\n",
              "      <td>12.0</td>\n",
              "      <td>3</td>\n",
              "      <td>1.0</td>\n",
              "      <td>2</td>\n",
              "      <td>30.0</td>\n",
              "      <td>1.0</td>\n",
              "      <td>0.0</td>\n",
              "      <td>4.33</td>\n",
              "      <td>True</td>\n",
              "      <td>25000</td>\n",
              "    </tr>\n",
              "    <tr>\n",
              "      <th>2</th>\n",
              "      <td>200.0</td>\n",
              "      <td>NaN</td>\n",
              "      <td>3</td>\n",
              "      <td>1.0</td>\n",
              "      <td>2</td>\n",
              "      <td>25.0</td>\n",
              "      <td>0.0</td>\n",
              "      <td>0.0</td>\n",
              "      <td>4.67</td>\n",
              "      <td>True</td>\n",
              "      <td>22000</td>\n",
              "    </tr>\n",
              "    <tr>\n",
              "      <th>3</th>\n",
              "      <td>120.0</td>\n",
              "      <td>0.0</td>\n",
              "      <td>1</td>\n",
              "      <td>1.0</td>\n",
              "      <td>1</td>\n",
              "      <td>34.0</td>\n",
              "      <td>1.0</td>\n",
              "      <td>0.0</td>\n",
              "      <td>4.17</td>\n",
              "      <td>False</td>\n",
              "      <td>38000</td>\n",
              "    </tr>\n",
              "    <tr>\n",
              "      <th>4</th>\n",
              "      <td>60.0</td>\n",
              "      <td>9.0</td>\n",
              "      <td>1</td>\n",
              "      <td>1.0</td>\n",
              "      <td>1</td>\n",
              "      <td>39.0</td>\n",
              "      <td>1.0</td>\n",
              "      <td>0.0</td>\n",
              "      <td>4.42</td>\n",
              "      <td>False</td>\n",
              "      <td>25000</td>\n",
              "    </tr>\n",
              "    <tr>\n",
              "      <th>...</th>\n",
              "      <td>...</td>\n",
              "      <td>...</td>\n",
              "      <td>...</td>\n",
              "      <td>...</td>\n",
              "      <td>...</td>\n",
              "      <td>...</td>\n",
              "      <td>...</td>\n",
              "      <td>...</td>\n",
              "      <td>...</td>\n",
              "      <td>...</td>\n",
              "      <td>...</td>\n",
              "    </tr>\n",
              "    <tr>\n",
              "      <th>6757</th>\n",
              "      <td>180.0</td>\n",
              "      <td>0.0</td>\n",
              "      <td>3</td>\n",
              "      <td>1.0</td>\n",
              "      <td>2</td>\n",
              "      <td>18.0</td>\n",
              "      <td>1.0</td>\n",
              "      <td>0.0</td>\n",
              "      <td>4.31</td>\n",
              "      <td>False</td>\n",
              "      <td>60000</td>\n",
              "    </tr>\n",
              "    <tr>\n",
              "      <th>6758</th>\n",
              "      <td>90.0</td>\n",
              "      <td>25.0</td>\n",
              "      <td>2</td>\n",
              "      <td>1.0</td>\n",
              "      <td>1</td>\n",
              "      <td>5.0</td>\n",
              "      <td>0.0</td>\n",
              "      <td>0.0</td>\n",
              "      <td>4.82</td>\n",
              "      <td>False</td>\n",
              "      <td>9800</td>\n",
              "    </tr>\n",
              "    <tr>\n",
              "      <th>6759</th>\n",
              "      <td>120.0</td>\n",
              "      <td>5.0</td>\n",
              "      <td>3</td>\n",
              "      <td>1.0</td>\n",
              "      <td>2</td>\n",
              "      <td>20.0</td>\n",
              "      <td>1.0</td>\n",
              "      <td>1.0</td>\n",
              "      <td>5.00</td>\n",
              "      <td>False</td>\n",
              "      <td>50000</td>\n",
              "    </tr>\n",
              "    <tr>\n",
              "      <th>6760</th>\n",
              "      <td>200.0</td>\n",
              "      <td>1.0</td>\n",
              "      <td>2</td>\n",
              "      <td>2.0</td>\n",
              "      <td>2</td>\n",
              "      <td>15.0</td>\n",
              "      <td>1.0</td>\n",
              "      <td>0.0</td>\n",
              "      <td>4.54</td>\n",
              "      <td>False</td>\n",
              "      <td>40000</td>\n",
              "    </tr>\n",
              "    <tr>\n",
              "      <th>6761</th>\n",
              "      <td>70.0</td>\n",
              "      <td>3.0</td>\n",
              "      <td>1</td>\n",
              "      <td>0.0</td>\n",
              "      <td>1</td>\n",
              "      <td>34.0</td>\n",
              "      <td>0.0</td>\n",
              "      <td>0.0</td>\n",
              "      <td>4.54</td>\n",
              "      <td>False</td>\n",
              "      <td>17000</td>\n",
              "    </tr>\n",
              "  </tbody>\n",
              "</table>\n",
              "<p>6762 rows × 11 columns</p>\n",
              "</div>\n",
              "      <button class=\"colab-df-convert\" onclick=\"convertToInteractive('df-5ed9ef20-a33b-4b30-82a8-470e63f30b5e')\"\n",
              "              title=\"Convert this dataframe to an interactive table.\"\n",
              "              style=\"display:none;\">\n",
              "        \n",
              "  <svg xmlns=\"http://www.w3.org/2000/svg\" height=\"24px\"viewBox=\"0 0 24 24\"\n",
              "       width=\"24px\">\n",
              "    <path d=\"M0 0h24v24H0V0z\" fill=\"none\"/>\n",
              "    <path d=\"M18.56 5.44l.94 2.06.94-2.06 2.06-.94-2.06-.94-.94-2.06-.94 2.06-2.06.94zm-11 1L8.5 8.5l.94-2.06 2.06-.94-2.06-.94L8.5 2.5l-.94 2.06-2.06.94zm10 10l.94 2.06.94-2.06 2.06-.94-2.06-.94-.94-2.06-.94 2.06-2.06.94z\"/><path d=\"M17.41 7.96l-1.37-1.37c-.4-.4-.92-.59-1.43-.59-.52 0-1.04.2-1.43.59L10.3 9.45l-7.72 7.72c-.78.78-.78 2.05 0 2.83L4 21.41c.39.39.9.59 1.41.59.51 0 1.02-.2 1.41-.59l7.78-7.78 2.81-2.81c.8-.78.8-2.07 0-2.86zM5.41 20L4 18.59l7.72-7.72 1.47 1.35L5.41 20z\"/>\n",
              "  </svg>\n",
              "      </button>\n",
              "      \n",
              "  <style>\n",
              "    .colab-df-container {\n",
              "      display:flex;\n",
              "      flex-wrap:wrap;\n",
              "      gap: 12px;\n",
              "    }\n",
              "\n",
              "    .colab-df-convert {\n",
              "      background-color: #E8F0FE;\n",
              "      border: none;\n",
              "      border-radius: 50%;\n",
              "      cursor: pointer;\n",
              "      display: none;\n",
              "      fill: #1967D2;\n",
              "      height: 32px;\n",
              "      padding: 0 0 0 0;\n",
              "      width: 32px;\n",
              "    }\n",
              "\n",
              "    .colab-df-convert:hover {\n",
              "      background-color: #E2EBFA;\n",
              "      box-shadow: 0px 1px 2px rgba(60, 64, 67, 0.3), 0px 1px 3px 1px rgba(60, 64, 67, 0.15);\n",
              "      fill: #174EA6;\n",
              "    }\n",
              "\n",
              "    [theme=dark] .colab-df-convert {\n",
              "      background-color: #3B4455;\n",
              "      fill: #D2E3FC;\n",
              "    }\n",
              "\n",
              "    [theme=dark] .colab-df-convert:hover {\n",
              "      background-color: #434B5C;\n",
              "      box-shadow: 0px 1px 3px 1px rgba(0, 0, 0, 0.15);\n",
              "      filter: drop-shadow(0px 1px 2px rgba(0, 0, 0, 0.3));\n",
              "      fill: #FFFFFF;\n",
              "    }\n",
              "  </style>\n",
              "\n",
              "      <script>\n",
              "        const buttonEl =\n",
              "          document.querySelector('#df-5ed9ef20-a33b-4b30-82a8-470e63f30b5e button.colab-df-convert');\n",
              "        buttonEl.style.display =\n",
              "          google.colab.kernel.accessAllowed ? 'block' : 'none';\n",
              "\n",
              "        async function convertToInteractive(key) {\n",
              "          const element = document.querySelector('#df-5ed9ef20-a33b-4b30-82a8-470e63f30b5e');\n",
              "          const dataTable =\n",
              "            await google.colab.kernel.invokeFunction('convertToInteractive',\n",
              "                                                     [key], {});\n",
              "          if (!dataTable) return;\n",
              "\n",
              "          const docLinkHtml = 'Like what you see? Visit the ' +\n",
              "            '<a target=\"_blank\" href=https://colab.research.google.com/notebooks/data_table.ipynb>data table notebook</a>'\n",
              "            + ' to learn more about interactive tables.';\n",
              "          element.innerHTML = '';\n",
              "          dataTable['output_type'] = 'display_data';\n",
              "          await google.colab.output.renderOutput(dataTable, element);\n",
              "          const docLink = document.createElement('div');\n",
              "          docLink.innerHTML = docLinkHtml;\n",
              "          element.appendChild(docLink);\n",
              "        }\n",
              "      </script>\n",
              "    </div>\n",
              "  </div>\n",
              "  "
            ]
          },
          "metadata": {},
          "execution_count": 3
        }
      ],
      "source": [
        "realEstate=pd.read_csv(\"/content/drive/MyDrive/realEstate_Riyadh.csv\", sep=';')\n",
        "#drop columns not include in our expermanints\n",
        "realEstate.drop(columns=['id','onMarket', \"latitude\", 'longitude', 'district'], inplace=True) \n",
        "realEstate"
      ]
    },
    {
      "cell_type": "code",
      "execution_count": null,
      "metadata": {
        "id": "L67tOBkDKh8R",
        "colab": {
          "base_uri": "https://localhost:8080/"
        },
        "outputId": "dc9d3553-ecaf-4af8-d8fb-fe3210a5b0d5"
      },
      "outputs": [
        {
          "output_type": "execute_result",
          "data": {
            "text/plain": [
              "(6762, 11)"
            ]
          },
          "metadata": {},
          "execution_count": 4
        }
      ],
      "source": [
        "#Number of rows and columns in the dataset \n",
        "realEstate.shape"
      ]
    },
    {
      "cell_type": "markdown",
      "source": [
        "# Take only Rentail dataset"
      ],
      "metadata": {
        "id": "eYEUmneXGEJM"
      }
    },
    {
      "cell_type": "code",
      "execution_count": null,
      "metadata": {
        "id": "AS2QcuCyKkgH",
        "colab": {
          "base_uri": "https://localhost:8080/"
        },
        "outputId": "c9181e9b-5a0c-4c95-d738-51d232eabd3a"
      },
      "outputs": [
        {
          "output_type": "execute_result",
          "data": {
            "text/plain": [
              "False    3753\n",
              "True     3009\n",
              "Name: IsRent, dtype: int64"
            ]
          },
          "metadata": {},
          "execution_count": 5
        }
      ],
      "source": [
        "#compute each value in column IsRent\n",
        "realEstate.IsRent.value_counts()"
      ]
    },
    {
      "cell_type": "code",
      "execution_count": null,
      "metadata": {
        "id": "XrDW4K2yKott",
        "colab": {
          "base_uri": "https://localhost:8080/",
          "height": 423
        },
        "outputId": "ef06127f-2df1-4f6b-c607-7c0eaa061c3e"
      },
      "outputs": [
        {
          "output_type": "execute_result",
          "data": {
            "text/plain": [
              "       area   age  num_bedrooms  num_livings  num_water_cycles  street_width  \\\n",
              "1     130.0  12.0             3          1.0                 2          30.0   \n",
              "2     200.0   NaN             3          1.0                 2          25.0   \n",
              "5     170.0   3.0             3          1.0                 2          35.0   \n",
              "9     160.0   2.0             4          1.0                 2          27.0   \n",
              "10    150.0   1.0             1          0.0                 1          39.0   \n",
              "...     ...   ...           ...          ...               ...           ...   \n",
              "6747   75.0   3.0             2          1.0                 1          22.0   \n",
              "6750   80.0   0.0             1          1.0                 1          30.0   \n",
              "6753  175.0   2.0             4          1.0                 5          19.0   \n",
              "6755  175.0   0.0             3          1.0                 2          30.0   \n",
              "6756  140.0   5.0             3          1.0                 2          20.0   \n",
              "\n",
              "      IsKetchen  IsFurnished  review  IsRent  price  \n",
              "1           1.0          0.0    4.33    True  25000  \n",
              "2           0.0          0.0    4.67    True  22000  \n",
              "5           0.0          0.0    4.47    True  40000  \n",
              "9           1.0          0.0    4.79    True  40000  \n",
              "10          1.0          0.0    4.29    True  19000  \n",
              "...         ...          ...     ...     ...    ...  \n",
              "6747        1.0          0.0    4.78    True  27000  \n",
              "6750        1.0          0.0    4.37    True  30000  \n",
              "6753        1.0          0.0    4.31    True  60000  \n",
              "6755        1.0          0.0    3.74    True  75000  \n",
              "6756        0.0          0.0    4.29    True  26000  \n",
              "\n",
              "[3009 rows x 11 columns]"
            ],
            "text/html": [
              "\n",
              "  <div id=\"df-37fda95f-cd93-4575-8a95-f8f49ecf8e9f\">\n",
              "    <div class=\"colab-df-container\">\n",
              "      <div>\n",
              "<style scoped>\n",
              "    .dataframe tbody tr th:only-of-type {\n",
              "        vertical-align: middle;\n",
              "    }\n",
              "\n",
              "    .dataframe tbody tr th {\n",
              "        vertical-align: top;\n",
              "    }\n",
              "\n",
              "    .dataframe thead th {\n",
              "        text-align: right;\n",
              "    }\n",
              "</style>\n",
              "<table border=\"1\" class=\"dataframe\">\n",
              "  <thead>\n",
              "    <tr style=\"text-align: right;\">\n",
              "      <th></th>\n",
              "      <th>area</th>\n",
              "      <th>age</th>\n",
              "      <th>num_bedrooms</th>\n",
              "      <th>num_livings</th>\n",
              "      <th>num_water_cycles</th>\n",
              "      <th>street_width</th>\n",
              "      <th>IsKetchen</th>\n",
              "      <th>IsFurnished</th>\n",
              "      <th>review</th>\n",
              "      <th>IsRent</th>\n",
              "      <th>price</th>\n",
              "    </tr>\n",
              "  </thead>\n",
              "  <tbody>\n",
              "    <tr>\n",
              "      <th>1</th>\n",
              "      <td>130.0</td>\n",
              "      <td>12.0</td>\n",
              "      <td>3</td>\n",
              "      <td>1.0</td>\n",
              "      <td>2</td>\n",
              "      <td>30.0</td>\n",
              "      <td>1.0</td>\n",
              "      <td>0.0</td>\n",
              "      <td>4.33</td>\n",
              "      <td>True</td>\n",
              "      <td>25000</td>\n",
              "    </tr>\n",
              "    <tr>\n",
              "      <th>2</th>\n",
              "      <td>200.0</td>\n",
              "      <td>NaN</td>\n",
              "      <td>3</td>\n",
              "      <td>1.0</td>\n",
              "      <td>2</td>\n",
              "      <td>25.0</td>\n",
              "      <td>0.0</td>\n",
              "      <td>0.0</td>\n",
              "      <td>4.67</td>\n",
              "      <td>True</td>\n",
              "      <td>22000</td>\n",
              "    </tr>\n",
              "    <tr>\n",
              "      <th>5</th>\n",
              "      <td>170.0</td>\n",
              "      <td>3.0</td>\n",
              "      <td>3</td>\n",
              "      <td>1.0</td>\n",
              "      <td>2</td>\n",
              "      <td>35.0</td>\n",
              "      <td>0.0</td>\n",
              "      <td>0.0</td>\n",
              "      <td>4.47</td>\n",
              "      <td>True</td>\n",
              "      <td>40000</td>\n",
              "    </tr>\n",
              "    <tr>\n",
              "      <th>9</th>\n",
              "      <td>160.0</td>\n",
              "      <td>2.0</td>\n",
              "      <td>4</td>\n",
              "      <td>1.0</td>\n",
              "      <td>2</td>\n",
              "      <td>27.0</td>\n",
              "      <td>1.0</td>\n",
              "      <td>0.0</td>\n",
              "      <td>4.79</td>\n",
              "      <td>True</td>\n",
              "      <td>40000</td>\n",
              "    </tr>\n",
              "    <tr>\n",
              "      <th>10</th>\n",
              "      <td>150.0</td>\n",
              "      <td>1.0</td>\n",
              "      <td>1</td>\n",
              "      <td>0.0</td>\n",
              "      <td>1</td>\n",
              "      <td>39.0</td>\n",
              "      <td>1.0</td>\n",
              "      <td>0.0</td>\n",
              "      <td>4.29</td>\n",
              "      <td>True</td>\n",
              "      <td>19000</td>\n",
              "    </tr>\n",
              "    <tr>\n",
              "      <th>...</th>\n",
              "      <td>...</td>\n",
              "      <td>...</td>\n",
              "      <td>...</td>\n",
              "      <td>...</td>\n",
              "      <td>...</td>\n",
              "      <td>...</td>\n",
              "      <td>...</td>\n",
              "      <td>...</td>\n",
              "      <td>...</td>\n",
              "      <td>...</td>\n",
              "      <td>...</td>\n",
              "    </tr>\n",
              "    <tr>\n",
              "      <th>6747</th>\n",
              "      <td>75.0</td>\n",
              "      <td>3.0</td>\n",
              "      <td>2</td>\n",
              "      <td>1.0</td>\n",
              "      <td>1</td>\n",
              "      <td>22.0</td>\n",
              "      <td>1.0</td>\n",
              "      <td>0.0</td>\n",
              "      <td>4.78</td>\n",
              "      <td>True</td>\n",
              "      <td>27000</td>\n",
              "    </tr>\n",
              "    <tr>\n",
              "      <th>6750</th>\n",
              "      <td>80.0</td>\n",
              "      <td>0.0</td>\n",
              "      <td>1</td>\n",
              "      <td>1.0</td>\n",
              "      <td>1</td>\n",
              "      <td>30.0</td>\n",
              "      <td>1.0</td>\n",
              "      <td>0.0</td>\n",
              "      <td>4.37</td>\n",
              "      <td>True</td>\n",
              "      <td>30000</td>\n",
              "    </tr>\n",
              "    <tr>\n",
              "      <th>6753</th>\n",
              "      <td>175.0</td>\n",
              "      <td>2.0</td>\n",
              "      <td>4</td>\n",
              "      <td>1.0</td>\n",
              "      <td>5</td>\n",
              "      <td>19.0</td>\n",
              "      <td>1.0</td>\n",
              "      <td>0.0</td>\n",
              "      <td>4.31</td>\n",
              "      <td>True</td>\n",
              "      <td>60000</td>\n",
              "    </tr>\n",
              "    <tr>\n",
              "      <th>6755</th>\n",
              "      <td>175.0</td>\n",
              "      <td>0.0</td>\n",
              "      <td>3</td>\n",
              "      <td>1.0</td>\n",
              "      <td>2</td>\n",
              "      <td>30.0</td>\n",
              "      <td>1.0</td>\n",
              "      <td>0.0</td>\n",
              "      <td>3.74</td>\n",
              "      <td>True</td>\n",
              "      <td>75000</td>\n",
              "    </tr>\n",
              "    <tr>\n",
              "      <th>6756</th>\n",
              "      <td>140.0</td>\n",
              "      <td>5.0</td>\n",
              "      <td>3</td>\n",
              "      <td>1.0</td>\n",
              "      <td>2</td>\n",
              "      <td>20.0</td>\n",
              "      <td>0.0</td>\n",
              "      <td>0.0</td>\n",
              "      <td>4.29</td>\n",
              "      <td>True</td>\n",
              "      <td>26000</td>\n",
              "    </tr>\n",
              "  </tbody>\n",
              "</table>\n",
              "<p>3009 rows × 11 columns</p>\n",
              "</div>\n",
              "      <button class=\"colab-df-convert\" onclick=\"convertToInteractive('df-37fda95f-cd93-4575-8a95-f8f49ecf8e9f')\"\n",
              "              title=\"Convert this dataframe to an interactive table.\"\n",
              "              style=\"display:none;\">\n",
              "        \n",
              "  <svg xmlns=\"http://www.w3.org/2000/svg\" height=\"24px\"viewBox=\"0 0 24 24\"\n",
              "       width=\"24px\">\n",
              "    <path d=\"M0 0h24v24H0V0z\" fill=\"none\"/>\n",
              "    <path d=\"M18.56 5.44l.94 2.06.94-2.06 2.06-.94-2.06-.94-.94-2.06-.94 2.06-2.06.94zm-11 1L8.5 8.5l.94-2.06 2.06-.94-2.06-.94L8.5 2.5l-.94 2.06-2.06.94zm10 10l.94 2.06.94-2.06 2.06-.94-2.06-.94-.94-2.06-.94 2.06-2.06.94z\"/><path d=\"M17.41 7.96l-1.37-1.37c-.4-.4-.92-.59-1.43-.59-.52 0-1.04.2-1.43.59L10.3 9.45l-7.72 7.72c-.78.78-.78 2.05 0 2.83L4 21.41c.39.39.9.59 1.41.59.51 0 1.02-.2 1.41-.59l7.78-7.78 2.81-2.81c.8-.78.8-2.07 0-2.86zM5.41 20L4 18.59l7.72-7.72 1.47 1.35L5.41 20z\"/>\n",
              "  </svg>\n",
              "      </button>\n",
              "      \n",
              "  <style>\n",
              "    .colab-df-container {\n",
              "      display:flex;\n",
              "      flex-wrap:wrap;\n",
              "      gap: 12px;\n",
              "    }\n",
              "\n",
              "    .colab-df-convert {\n",
              "      background-color: #E8F0FE;\n",
              "      border: none;\n",
              "      border-radius: 50%;\n",
              "      cursor: pointer;\n",
              "      display: none;\n",
              "      fill: #1967D2;\n",
              "      height: 32px;\n",
              "      padding: 0 0 0 0;\n",
              "      width: 32px;\n",
              "    }\n",
              "\n",
              "    .colab-df-convert:hover {\n",
              "      background-color: #E2EBFA;\n",
              "      box-shadow: 0px 1px 2px rgba(60, 64, 67, 0.3), 0px 1px 3px 1px rgba(60, 64, 67, 0.15);\n",
              "      fill: #174EA6;\n",
              "    }\n",
              "\n",
              "    [theme=dark] .colab-df-convert {\n",
              "      background-color: #3B4455;\n",
              "      fill: #D2E3FC;\n",
              "    }\n",
              "\n",
              "    [theme=dark] .colab-df-convert:hover {\n",
              "      background-color: #434B5C;\n",
              "      box-shadow: 0px 1px 3px 1px rgba(0, 0, 0, 0.15);\n",
              "      filter: drop-shadow(0px 1px 2px rgba(0, 0, 0, 0.3));\n",
              "      fill: #FFFFFF;\n",
              "    }\n",
              "  </style>\n",
              "\n",
              "      <script>\n",
              "        const buttonEl =\n",
              "          document.querySelector('#df-37fda95f-cd93-4575-8a95-f8f49ecf8e9f button.colab-df-convert');\n",
              "        buttonEl.style.display =\n",
              "          google.colab.kernel.accessAllowed ? 'block' : 'none';\n",
              "\n",
              "        async function convertToInteractive(key) {\n",
              "          const element = document.querySelector('#df-37fda95f-cd93-4575-8a95-f8f49ecf8e9f');\n",
              "          const dataTable =\n",
              "            await google.colab.kernel.invokeFunction('convertToInteractive',\n",
              "                                                     [key], {});\n",
              "          if (!dataTable) return;\n",
              "\n",
              "          const docLinkHtml = 'Like what you see? Visit the ' +\n",
              "            '<a target=\"_blank\" href=https://colab.research.google.com/notebooks/data_table.ipynb>data table notebook</a>'\n",
              "            + ' to learn more about interactive tables.';\n",
              "          element.innerHTML = '';\n",
              "          dataTable['output_type'] = 'display_data';\n",
              "          await google.colab.output.renderOutput(dataTable, element);\n",
              "          const docLink = document.createElement('div');\n",
              "          docLink.innerHTML = docLinkHtml;\n",
              "          element.appendChild(docLink);\n",
              "        }\n",
              "      </script>\n",
              "    </div>\n",
              "  </div>\n",
              "  "
            ]
          },
          "metadata": {},
          "execution_count": 6
        }
      ],
      "source": [
        "#Drop the data that have not rent\n",
        "realEstate_new = realEstate[(realEstate['IsRent'] == False)].index\n",
        "realEstate.drop(realEstate_new , inplace=True)\n",
        "realEstate"
      ]
    },
    {
      "cell_type": "code",
      "execution_count": null,
      "metadata": {
        "id": "2m3nmmeUKt3J",
        "colab": {
          "base_uri": "https://localhost:8080/"
        },
        "outputId": "6da51aa2-b879-43d7-979f-ab2374ae56c9"
      },
      "outputs": [
        {
          "output_type": "stream",
          "name": "stdout",
          "text": [
            "<class 'pandas.core.frame.DataFrame'>\n",
            "Int64Index: 3009 entries, 1 to 6756\n",
            "Data columns (total 11 columns):\n",
            " #   Column            Non-Null Count  Dtype  \n",
            "---  ------            --------------  -----  \n",
            " 0   area              2945 non-null   float64\n",
            " 1   age               2661 non-null   float64\n",
            " 2   num_bedrooms      3009 non-null   int64  \n",
            " 3   num_livings       3009 non-null   float64\n",
            " 4   num_water_cycles  3009 non-null   int64  \n",
            " 5   street_width      2936 non-null   float64\n",
            " 6   IsKetchen         3005 non-null   float64\n",
            " 7   IsFurnished       2996 non-null   float64\n",
            " 8   review            2845 non-null   float64\n",
            " 9   IsRent            3009 non-null   bool   \n",
            " 10  price             3009 non-null   int64  \n",
            "dtypes: bool(1), float64(7), int64(3)\n",
            "memory usage: 261.5 KB\n"
          ]
        }
      ],
      "source": [
        "# See the column data types and non missing values\n",
        "realEstate.info()"
      ]
    },
    {
      "cell_type": "markdown",
      "source": [
        "# Dealing with missing value "
      ],
      "metadata": {
        "id": "0oA2dYw1FqlU"
      }
    },
    {
      "cell_type": "code",
      "execution_count": null,
      "metadata": {
        "id": "-0qm8VoDKrW-",
        "colab": {
          "base_uri": "https://localhost:8080/"
        },
        "outputId": "359dcb24-6f41-4cc3-9303-3f47299abcf4"
      },
      "outputs": [
        {
          "output_type": "execute_result",
          "data": {
            "text/plain": [
              "area                 64\n",
              "age                 348\n",
              "num_bedrooms          0\n",
              "num_livings           0\n",
              "num_water_cycles      0\n",
              "street_width         73\n",
              "IsKetchen             4\n",
              "IsFurnished          13\n",
              "review              164\n",
              "IsRent                0\n",
              "price                 0\n",
              "dtype: int64"
            ]
          },
          "metadata": {},
          "execution_count": 8
        }
      ],
      "source": [
        "#First: \n",
        "#compute all NaN value in each column\n",
        "realEstate.isnull().sum()"
      ]
    },
    {
      "cell_type": "code",
      "execution_count": null,
      "metadata": {
        "id": "SeMpOHn6K0Fr"
      },
      "outputs": [],
      "source": [
        "#Second:\n",
        "#Replacing all NaN values with 0\n",
        "realEstate.fillna({'review':0}, inplace=True)\n",
        "realEstate.fillna({'num_livings':0}, inplace=True)\n",
        "realEstate.fillna({'IsKetchen':0}, inplace=True)\n",
        "realEstate.fillna({'IsFurnished':0}, inplace=True)"
      ]
    },
    {
      "cell_type": "code",
      "execution_count": null,
      "metadata": {
        "id": "0WG0lvyGK2Qx",
        "colab": {
          "base_uri": "https://localhost:8080/",
          "height": 423
        },
        "outputId": "fc685bba-7122-4204-8d39-15e98e880817"
      },
      "outputs": [
        {
          "output_type": "execute_result",
          "data": {
            "text/plain": [
              "       area   age  num_bedrooms  num_livings  num_water_cycles  street_width  \\\n",
              "1     130.0  12.0             3          1.0                 2          30.0   \n",
              "5     170.0   3.0             3          1.0                 2          35.0   \n",
              "9     160.0   2.0             4          1.0                 2          27.0   \n",
              "10    150.0   1.0             1          0.0                 1          39.0   \n",
              "11      8.0   0.0             2          1.0                 1          29.0   \n",
              "...     ...   ...           ...          ...               ...           ...   \n",
              "6747   75.0   3.0             2          1.0                 1          22.0   \n",
              "6750   80.0   0.0             1          1.0                 1          30.0   \n",
              "6753  175.0   2.0             4          1.0                 5          19.0   \n",
              "6755  175.0   0.0             3          1.0                 2          30.0   \n",
              "6756  140.0   5.0             3          1.0                 2          20.0   \n",
              "\n",
              "      IsKetchen  IsFurnished  review  IsRent  price  \n",
              "1           1.0          0.0    4.33    True  25000  \n",
              "5           0.0          0.0    4.47    True  40000  \n",
              "9           1.0          0.0    4.79    True  40000  \n",
              "10          1.0          0.0    4.29    True  19000  \n",
              "11          1.0          0.0    4.40    True  27000  \n",
              "...         ...          ...     ...     ...    ...  \n",
              "6747        1.0          0.0    4.78    True  27000  \n",
              "6750        1.0          0.0    4.37    True  30000  \n",
              "6753        1.0          0.0    4.31    True  60000  \n",
              "6755        1.0          0.0    3.74    True  75000  \n",
              "6756        0.0          0.0    4.29    True  26000  \n",
              "\n",
              "[2600 rows x 11 columns]"
            ],
            "text/html": [
              "\n",
              "  <div id=\"df-3c07e4c6-2c4c-424b-b8af-068231d7c712\">\n",
              "    <div class=\"colab-df-container\">\n",
              "      <div>\n",
              "<style scoped>\n",
              "    .dataframe tbody tr th:only-of-type {\n",
              "        vertical-align: middle;\n",
              "    }\n",
              "\n",
              "    .dataframe tbody tr th {\n",
              "        vertical-align: top;\n",
              "    }\n",
              "\n",
              "    .dataframe thead th {\n",
              "        text-align: right;\n",
              "    }\n",
              "</style>\n",
              "<table border=\"1\" class=\"dataframe\">\n",
              "  <thead>\n",
              "    <tr style=\"text-align: right;\">\n",
              "      <th></th>\n",
              "      <th>area</th>\n",
              "      <th>age</th>\n",
              "      <th>num_bedrooms</th>\n",
              "      <th>num_livings</th>\n",
              "      <th>num_water_cycles</th>\n",
              "      <th>street_width</th>\n",
              "      <th>IsKetchen</th>\n",
              "      <th>IsFurnished</th>\n",
              "      <th>review</th>\n",
              "      <th>IsRent</th>\n",
              "      <th>price</th>\n",
              "    </tr>\n",
              "  </thead>\n",
              "  <tbody>\n",
              "    <tr>\n",
              "      <th>1</th>\n",
              "      <td>130.0</td>\n",
              "      <td>12.0</td>\n",
              "      <td>3</td>\n",
              "      <td>1.0</td>\n",
              "      <td>2</td>\n",
              "      <td>30.0</td>\n",
              "      <td>1.0</td>\n",
              "      <td>0.0</td>\n",
              "      <td>4.33</td>\n",
              "      <td>True</td>\n",
              "      <td>25000</td>\n",
              "    </tr>\n",
              "    <tr>\n",
              "      <th>5</th>\n",
              "      <td>170.0</td>\n",
              "      <td>3.0</td>\n",
              "      <td>3</td>\n",
              "      <td>1.0</td>\n",
              "      <td>2</td>\n",
              "      <td>35.0</td>\n",
              "      <td>0.0</td>\n",
              "      <td>0.0</td>\n",
              "      <td>4.47</td>\n",
              "      <td>True</td>\n",
              "      <td>40000</td>\n",
              "    </tr>\n",
              "    <tr>\n",
              "      <th>9</th>\n",
              "      <td>160.0</td>\n",
              "      <td>2.0</td>\n",
              "      <td>4</td>\n",
              "      <td>1.0</td>\n",
              "      <td>2</td>\n",
              "      <td>27.0</td>\n",
              "      <td>1.0</td>\n",
              "      <td>0.0</td>\n",
              "      <td>4.79</td>\n",
              "      <td>True</td>\n",
              "      <td>40000</td>\n",
              "    </tr>\n",
              "    <tr>\n",
              "      <th>10</th>\n",
              "      <td>150.0</td>\n",
              "      <td>1.0</td>\n",
              "      <td>1</td>\n",
              "      <td>0.0</td>\n",
              "      <td>1</td>\n",
              "      <td>39.0</td>\n",
              "      <td>1.0</td>\n",
              "      <td>0.0</td>\n",
              "      <td>4.29</td>\n",
              "      <td>True</td>\n",
              "      <td>19000</td>\n",
              "    </tr>\n",
              "    <tr>\n",
              "      <th>11</th>\n",
              "      <td>8.0</td>\n",
              "      <td>0.0</td>\n",
              "      <td>2</td>\n",
              "      <td>1.0</td>\n",
              "      <td>1</td>\n",
              "      <td>29.0</td>\n",
              "      <td>1.0</td>\n",
              "      <td>0.0</td>\n",
              "      <td>4.40</td>\n",
              "      <td>True</td>\n",
              "      <td>27000</td>\n",
              "    </tr>\n",
              "    <tr>\n",
              "      <th>...</th>\n",
              "      <td>...</td>\n",
              "      <td>...</td>\n",
              "      <td>...</td>\n",
              "      <td>...</td>\n",
              "      <td>...</td>\n",
              "      <td>...</td>\n",
              "      <td>...</td>\n",
              "      <td>...</td>\n",
              "      <td>...</td>\n",
              "      <td>...</td>\n",
              "      <td>...</td>\n",
              "    </tr>\n",
              "    <tr>\n",
              "      <th>6747</th>\n",
              "      <td>75.0</td>\n",
              "      <td>3.0</td>\n",
              "      <td>2</td>\n",
              "      <td>1.0</td>\n",
              "      <td>1</td>\n",
              "      <td>22.0</td>\n",
              "      <td>1.0</td>\n",
              "      <td>0.0</td>\n",
              "      <td>4.78</td>\n",
              "      <td>True</td>\n",
              "      <td>27000</td>\n",
              "    </tr>\n",
              "    <tr>\n",
              "      <th>6750</th>\n",
              "      <td>80.0</td>\n",
              "      <td>0.0</td>\n",
              "      <td>1</td>\n",
              "      <td>1.0</td>\n",
              "      <td>1</td>\n",
              "      <td>30.0</td>\n",
              "      <td>1.0</td>\n",
              "      <td>0.0</td>\n",
              "      <td>4.37</td>\n",
              "      <td>True</td>\n",
              "      <td>30000</td>\n",
              "    </tr>\n",
              "    <tr>\n",
              "      <th>6753</th>\n",
              "      <td>175.0</td>\n",
              "      <td>2.0</td>\n",
              "      <td>4</td>\n",
              "      <td>1.0</td>\n",
              "      <td>5</td>\n",
              "      <td>19.0</td>\n",
              "      <td>1.0</td>\n",
              "      <td>0.0</td>\n",
              "      <td>4.31</td>\n",
              "      <td>True</td>\n",
              "      <td>60000</td>\n",
              "    </tr>\n",
              "    <tr>\n",
              "      <th>6755</th>\n",
              "      <td>175.0</td>\n",
              "      <td>0.0</td>\n",
              "      <td>3</td>\n",
              "      <td>1.0</td>\n",
              "      <td>2</td>\n",
              "      <td>30.0</td>\n",
              "      <td>1.0</td>\n",
              "      <td>0.0</td>\n",
              "      <td>3.74</td>\n",
              "      <td>True</td>\n",
              "      <td>75000</td>\n",
              "    </tr>\n",
              "    <tr>\n",
              "      <th>6756</th>\n",
              "      <td>140.0</td>\n",
              "      <td>5.0</td>\n",
              "      <td>3</td>\n",
              "      <td>1.0</td>\n",
              "      <td>2</td>\n",
              "      <td>20.0</td>\n",
              "      <td>0.0</td>\n",
              "      <td>0.0</td>\n",
              "      <td>4.29</td>\n",
              "      <td>True</td>\n",
              "      <td>26000</td>\n",
              "    </tr>\n",
              "  </tbody>\n",
              "</table>\n",
              "<p>2600 rows × 11 columns</p>\n",
              "</div>\n",
              "      <button class=\"colab-df-convert\" onclick=\"convertToInteractive('df-3c07e4c6-2c4c-424b-b8af-068231d7c712')\"\n",
              "              title=\"Convert this dataframe to an interactive table.\"\n",
              "              style=\"display:none;\">\n",
              "        \n",
              "  <svg xmlns=\"http://www.w3.org/2000/svg\" height=\"24px\"viewBox=\"0 0 24 24\"\n",
              "       width=\"24px\">\n",
              "    <path d=\"M0 0h24v24H0V0z\" fill=\"none\"/>\n",
              "    <path d=\"M18.56 5.44l.94 2.06.94-2.06 2.06-.94-2.06-.94-.94-2.06-.94 2.06-2.06.94zm-11 1L8.5 8.5l.94-2.06 2.06-.94-2.06-.94L8.5 2.5l-.94 2.06-2.06.94zm10 10l.94 2.06.94-2.06 2.06-.94-2.06-.94-.94-2.06-.94 2.06-2.06.94z\"/><path d=\"M17.41 7.96l-1.37-1.37c-.4-.4-.92-.59-1.43-.59-.52 0-1.04.2-1.43.59L10.3 9.45l-7.72 7.72c-.78.78-.78 2.05 0 2.83L4 21.41c.39.39.9.59 1.41.59.51 0 1.02-.2 1.41-.59l7.78-7.78 2.81-2.81c.8-.78.8-2.07 0-2.86zM5.41 20L4 18.59l7.72-7.72 1.47 1.35L5.41 20z\"/>\n",
              "  </svg>\n",
              "      </button>\n",
              "      \n",
              "  <style>\n",
              "    .colab-df-container {\n",
              "      display:flex;\n",
              "      flex-wrap:wrap;\n",
              "      gap: 12px;\n",
              "    }\n",
              "\n",
              "    .colab-df-convert {\n",
              "      background-color: #E8F0FE;\n",
              "      border: none;\n",
              "      border-radius: 50%;\n",
              "      cursor: pointer;\n",
              "      display: none;\n",
              "      fill: #1967D2;\n",
              "      height: 32px;\n",
              "      padding: 0 0 0 0;\n",
              "      width: 32px;\n",
              "    }\n",
              "\n",
              "    .colab-df-convert:hover {\n",
              "      background-color: #E2EBFA;\n",
              "      box-shadow: 0px 1px 2px rgba(60, 64, 67, 0.3), 0px 1px 3px 1px rgba(60, 64, 67, 0.15);\n",
              "      fill: #174EA6;\n",
              "    }\n",
              "\n",
              "    [theme=dark] .colab-df-convert {\n",
              "      background-color: #3B4455;\n",
              "      fill: #D2E3FC;\n",
              "    }\n",
              "\n",
              "    [theme=dark] .colab-df-convert:hover {\n",
              "      background-color: #434B5C;\n",
              "      box-shadow: 0px 1px 3px 1px rgba(0, 0, 0, 0.15);\n",
              "      filter: drop-shadow(0px 1px 2px rgba(0, 0, 0, 0.3));\n",
              "      fill: #FFFFFF;\n",
              "    }\n",
              "  </style>\n",
              "\n",
              "      <script>\n",
              "        const buttonEl =\n",
              "          document.querySelector('#df-3c07e4c6-2c4c-424b-b8af-068231d7c712 button.colab-df-convert');\n",
              "        buttonEl.style.display =\n",
              "          google.colab.kernel.accessAllowed ? 'block' : 'none';\n",
              "\n",
              "        async function convertToInteractive(key) {\n",
              "          const element = document.querySelector('#df-3c07e4c6-2c4c-424b-b8af-068231d7c712');\n",
              "          const dataTable =\n",
              "            await google.colab.kernel.invokeFunction('convertToInteractive',\n",
              "                                                     [key], {});\n",
              "          if (!dataTable) return;\n",
              "\n",
              "          const docLinkHtml = 'Like what you see? Visit the ' +\n",
              "            '<a target=\"_blank\" href=https://colab.research.google.com/notebooks/data_table.ipynb>data table notebook</a>'\n",
              "            + ' to learn more about interactive tables.';\n",
              "          element.innerHTML = '';\n",
              "          dataTable['output_type'] = 'display_data';\n",
              "          await google.colab.output.renderOutput(dataTable, element);\n",
              "          const docLink = document.createElement('div');\n",
              "          docLink.innerHTML = docLinkHtml;\n",
              "          element.appendChild(docLink);\n",
              "        }\n",
              "      </script>\n",
              "    </div>\n",
              "  </div>\n",
              "  "
            ]
          },
          "metadata": {},
          "execution_count": 10
        }
      ],
      "source": [
        "#Thired:\n",
        "#Drope all rows has NaN value from dataset\n",
        "data=realEstate.dropna()\n",
        "\n",
        "#Finally:\n",
        "#Examing the changes\n",
        "data"
      ]
    },
    {
      "cell_type": "markdown",
      "source": [
        "# Change datatype"
      ],
      "metadata": {
        "id": "SIMfU9zaF15N"
      }
    },
    {
      "cell_type": "code",
      "execution_count": null,
      "metadata": {
        "id": "sB0HOempK5A6",
        "colab": {
          "base_uri": "https://localhost:8080/"
        },
        "outputId": "ea21cc6f-f0b2-4094-a71d-1421fc6668b1"
      },
      "outputs": [
        {
          "output_type": "stream",
          "name": "stderr",
          "text": [
            "/usr/local/lib/python3.7/dist-packages/ipykernel_launcher.py:3: SettingWithCopyWarning: \n",
            "A value is trying to be set on a copy of a slice from a DataFrame.\n",
            "Try using .loc[row_indexer,col_indexer] = value instead\n",
            "\n",
            "See the caveats in the documentation: https://pandas.pydata.org/pandas-docs/stable/user_guide/indexing.html#returning-a-view-versus-a-copy\n",
            "  This is separate from the ipykernel package so we can avoid doing imports until\n",
            "/usr/local/lib/python3.7/dist-packages/ipykernel_launcher.py:5: SettingWithCopyWarning: \n",
            "A value is trying to be set on a copy of a slice from a DataFrame.\n",
            "Try using .loc[row_indexer,col_indexer] = value instead\n",
            "\n",
            "See the caveats in the documentation: https://pandas.pydata.org/pandas-docs/stable/user_guide/indexing.html#returning-a-view-versus-a-copy\n",
            "  \"\"\"\n",
            "/usr/local/lib/python3.7/dist-packages/ipykernel_launcher.py:6: SettingWithCopyWarning: \n",
            "A value is trying to be set on a copy of a slice from a DataFrame.\n",
            "Try using .loc[row_indexer,col_indexer] = value instead\n",
            "\n",
            "See the caveats in the documentation: https://pandas.pydata.org/pandas-docs/stable/user_guide/indexing.html#returning-a-view-versus-a-copy\n",
            "  \n"
          ]
        }
      ],
      "source": [
        "# Convert int columns to float datatype\n",
        "\n",
        "data['price'] = data['price'].astype(float)\n",
        "\n",
        "data['num_bedrooms'] = data['num_bedrooms'].astype(float)\n",
        "data['num_water_cycles'] = data['num_water_cycles'].astype(float)\n",
        "\n",
        "#assert NewRealEstate['price'].dtype == 'float'"
      ]
    },
    {
      "cell_type": "code",
      "source": [
        "data.drop(columns=['IsRent'], inplace=True)"
      ],
      "metadata": {
        "colab": {
          "base_uri": "https://localhost:8080/"
        },
        "id": "uuF9G-SLsVVd",
        "outputId": "595b591a-6025-4019-da51-0a9ed87805a0"
      },
      "execution_count": null,
      "outputs": [
        {
          "output_type": "stream",
          "name": "stderr",
          "text": [
            "/usr/local/lib/python3.7/dist-packages/pandas/core/frame.py:4913: SettingWithCopyWarning: \n",
            "A value is trying to be set on a copy of a slice from a DataFrame\n",
            "\n",
            "See the caveats in the documentation: https://pandas.pydata.org/pandas-docs/stable/user_guide/indexing.html#returning-a-view-versus-a-copy\n",
            "  errors=errors,\n"
          ]
        }
      ]
    },
    {
      "cell_type": "markdown",
      "metadata": {
        "id": "GfcCp9JDLdsO"
      },
      "source": [
        "#Exploratory Data Analysis (EDA)\n"
      ]
    },
    {
      "cell_type": "code",
      "source": [
        "variables = ['area',\t'age','num_bedrooms','num_livings','num_water_cycles'\t,'street_width',\t'IsKetchen',\t'IsFurnished'\t,'review']\n",
        "\n",
        "for var in variables:\n",
        "    plt.figure() # Creating a rectangle (figure) for each plot\n",
        "    data.plot(kind = \"scatter\", x=var, y=\"price\", figsize=(5,5)).set(title=f'Regression plot of {var} and Price');\n"
      ],
      "metadata": {
        "colab": {
          "base_uri": "https://localhost:8080/",
          "height": 1000
        },
        "id": "j_ifibVdAZpr",
        "outputId": "529dd5e3-17f7-43ea-a9c7-fe41979d9365"
      },
      "execution_count": null,
      "outputs": [
        {
          "output_type": "display_data",
          "data": {
            "text/plain": [
              "<Figure size 432x288 with 0 Axes>"
            ]
          },
          "metadata": {}
        },
        {
          "output_type": "display_data",
          "data": {
            "text/plain": [
              "<Figure size 360x360 with 1 Axes>"
            ],
            "image/png": "[encoded data removed]"
          },
          "metadata": {
            "needs_background": "light"
          }
        },
        {
          "output_type": "display_data",
          "data": {
            "text/plain": [
              "<Figure size 432x288 with 0 Axes>"
            ]
          },
          "metadata": {}
        },
        {
          "output_type": "display_data",
          "data": {
            "text/plain": [
              "<Figure size 360x360 with 1 Axes>"
            ],
            "image/png": "[encoded data removed]"
          },
          "metadata": {
            "needs_background": "light"
          }
        },
        {
          "output_type": "display_data",
          "data": {
            "text/plain": [
              "<Figure size 432x288 with 0 Axes>"
            ]
          },
          "metadata": {}
        },
        {
          "output_type": "display_data",
          "data": {
            "text/plain": [
              "<Figure size 360x360 with 1 Axes>"
            ],
            "image/png": "[encoded data removed]"
          },
          "metadata": {
            "needs_background": "light"
          }
        },
        {
          "output_type": "display_data",
          "data": {
            "text/plain": [
              "<Figure size 432x288 with 0 Axes>"
            ]
          },
          "metadata": {}
        },
        {
          "output_type": "display_data",
          "data": {
            "text/plain": [
              "<Figure size 360x360 with 1 Axes>"
            ],
            "image/png": "[encoded data removed]"
          },
          "metadata": {
            "needs_background": "light"
          }
        },
        {
          "output_type": "display_data",
          "data": {
            "text/plain": [
              "<Figure size 432x288 with 0 Axes>"
            ]
          },
          "metadata": {}
        },
        {
          "output_type": "display_data",
          "data": {
            "text/plain": [
              "<Figure size 360x360 with 1 Axes>"
            ],
            "image/png": "[encoded data removed]"
          },
          "metadata": {
            "needs_background": "light"
          }
        },
        {
          "output_type": "display_data",
          "data": {
            "text/plain": [
              "<Figure size 432x288 with 0 Axes>"
            ]
          },
          "metadata": {}
        },
        {
          "output_type": "display_data",
          "data": {
            "text/plain": [
              "<Figure size 360x360 with 1 Axes>"
            ],
            "image/png": "[encoded data removed]"
          },
          "metadata": {
            "needs_background": "light"
          }
        },
        {
          "output_type": "display_data",
          "data": {
            "text/plain": [
              "<Figure size 432x288 with 0 Axes>"
            ]
          },
          "metadata": {}
        },
        {
          "output_type": "display_data",
          "data": {
            "text/plain": [
              "<Figure size 360x360 with 1 Axes>"
            ],
            "image/png": "[encoded data removed]"
          },
          "metadata": {
            "needs_background": "light"
          }
        },
        {
          "output_type": "display_data",
          "data": {
            "text/plain": [
              "<Figure size 432x288 with 0 Axes>"
            ]
          },
          "metadata": {}
        },
        {
          "output_type": "display_data",
          "data": {
            "text/plain": [
              "<Figure size 360x360 with 1 Axes>"
            ],
            "image/png": "[encoded data removed]"
          },
          "metadata": {
            "needs_background": "light"
          }
        },
        {
          "output_type": "display_data",
          "data": {
            "text/plain": [
              "<Figure size 432x288 with 0 Axes>"
            ]
          },
          "metadata": {}
        },
        {
          "output_type": "display_data",
          "data": {
            "text/plain": [
              "<Figure size 360x360 with 1 Axes>"
            ],
            "image/png": "[encoded data removed]"
          },
          "metadata": {
            "needs_background": "light"
          }
        }
      ]
    },
    {
      "cell_type": "code",
      "execution_count": null,
      "metadata": {
        "id": "-4OhaVTEK74O",
        "colab": {
          "base_uri": "https://localhost:8080/",
          "height": 1000
        },
        "outputId": "244a01dd-372e-4849-af3d-3274bdbd8a93"
      },
      "outputs": [
        {
          "output_type": "execute_result",
          "data": {
            "text/plain": [
              "array([[<matplotlib.axes._subplots.AxesSubplot object at 0x7fc5cd2f40d0>,\n",
              "        <matplotlib.axes._subplots.AxesSubplot object at 0x7fc5cb6923d0>,\n",
              "        <matplotlib.axes._subplots.AxesSubplot object at 0x7fc5cb6439d0>],\n",
              "       [<matplotlib.axes._subplots.AxesSubplot object at 0x7fc5cb5eeb10>,\n",
              "        <matplotlib.axes._subplots.AxesSubplot object at 0x7fc5cb5bc610>,\n",
              "        <matplotlib.axes._subplots.AxesSubplot object at 0x7fc5cb572c10>],\n",
              "       [<matplotlib.axes._subplots.AxesSubplot object at 0x7fc5cb5362d0>,\n",
              "        <matplotlib.axes._subplots.AxesSubplot object at 0x7fc5cb4e5f90>,\n",
              "        <matplotlib.axes._subplots.AxesSubplot object at 0x7fc5cb4f3050>],\n",
              "       [<matplotlib.axes._subplots.AxesSubplot object at 0x7fc5cb4a95d0>,\n",
              "        <matplotlib.axes._subplots.AxesSubplot object at 0x7fc5cb417ed0>,\n",
              "        <matplotlib.axes._subplots.AxesSubplot object at 0x7fc5cb3da410>]],\n",
              "      dtype=object)"
            ]
          },
          "metadata": {},
          "execution_count": 14
        },
        {
          "output_type": "display_data",
          "data": {
            "text/plain": [
              "<Figure size 1440x1440 with 12 Axes>"
            ],
            "image/png": "[encoded data removed]"
          },
          "metadata": {
            "needs_background": "light"
          }
        }
      ],
      "source": [
        "data.hist(figsize=(20,20), xrot=-45)"
      ]
    },
    {
      "cell_type": "code",
      "source": [
        "print(data.describe().round(2).T)"
      ],
      "metadata": {
        "colab": {
          "base_uri": "https://localhost:8080/"
        },
        "id": "WnZ_ZI8WH7JQ",
        "outputId": "bd864f38-ea9b-4e11-ffad-f426b980706f"
      },
      "execution_count": null,
      "outputs": [
        {
          "output_type": "stream",
          "name": "stdout",
          "text": [
            "                   count      mean       std   min       25%       50%  \\\n",
            "area              2600.0    179.84    441.69   1.0    100.00    150.00   \n",
            "age               2600.0      2.65      4.17   0.0      0.00      1.00   \n",
            "num_bedrooms      2600.0      2.65      1.07   1.0      2.00      3.00   \n",
            "num_livings       2600.0      1.00      0.42   0.0      1.00      1.00   \n",
            "num_water_cycles  2600.0      2.09      0.87   1.0      1.00      2.00   \n",
            "street_width      2600.0     23.83     12.93   1.0     15.00     20.00   \n",
            "IsKetchen         2600.0      0.86      0.34   0.0      1.00      1.00   \n",
            "IsFurnished       2600.0      0.06      0.23   0.0      0.00      0.00   \n",
            "review            2600.0      4.12      1.03   0.0      4.14      4.36   \n",
            "price             2600.0  41531.47  28492.61  75.0  25000.00  35000.00   \n",
            "\n",
            "                       75%       max  \n",
            "area                190.00   18000.0  \n",
            "age                   4.00      36.0  \n",
            "num_bedrooms          3.00       7.0  \n",
            "num_livings           1.00       4.0  \n",
            "num_water_cycles      3.00       5.0  \n",
            "street_width         30.00     100.0  \n",
            "IsKetchen             1.00       1.0  \n",
            "IsFurnished           0.00       1.0  \n",
            "review                4.52       5.0  \n",
            "price             50000.00  450000.0  \n"
          ]
        }
      ]
    },
    {
      "cell_type": "code",
      "source": [
        "data.info()"
      ],
      "metadata": {
        "colab": {
          "base_uri": "https://localhost:8080/"
        },
        "id": "MKu8J9rk7Zdv",
        "outputId": "aa80636a-9c0f-460a-ede2-4f95405c03e0"
      },
      "execution_count": null,
      "outputs": [
        {
          "output_type": "stream",
          "name": "stdout",
          "text": [
            "<class 'pandas.core.frame.DataFrame'>\n",
            "Int64Index: 2600 entries, 1 to 6756\n",
            "Data columns (total 10 columns):\n",
            " #   Column            Non-Null Count  Dtype  \n",
            "---  ------            --------------  -----  \n",
            " 0   area              2600 non-null   float64\n",
            " 1   age               2600 non-null   float64\n",
            " 2   num_bedrooms      2600 non-null   float64\n",
            " 3   num_livings       2600 non-null   float64\n",
            " 4   num_water_cycles  2600 non-null   float64\n",
            " 5   street_width      2600 non-null   float64\n",
            " 6   IsKetchen         2600 non-null   float64\n",
            " 7   IsFurnished       2600 non-null   float64\n",
            " 8   review            2600 non-null   float64\n",
            " 9   price             2600 non-null   float64\n",
            "dtypes: float64(10)\n",
            "memory usage: 223.4 KB\n"
          ]
        }
      ]
    },
    {
      "cell_type": "markdown",
      "source": [
        "## **Feature Engineering**"
      ],
      "metadata": {
        "id": "WpJis9tFbE3w"
      }
    },
    {
      "cell_type": "markdown",
      "source": [
        "\n",
        "# Remove outliers"
      ],
      "metadata": {
        "id": "s0GyGdgU_yeK"
      }
    },
    {
      "cell_type": "code",
      "source": [
        "def remove_outliers(df,columns,n_std):\n",
        "    for col in columns:\n",
        "        print('Working on column: {}'.format(col))\n",
        "        \n",
        "        mean = df[col].mean()\n",
        "        sd = df[col].std()\n",
        "        \n",
        "        df = df[(df[col] <= mean+(n_std*sd))]\n",
        "        \n",
        "    return df"
      ],
      "metadata": {
        "id": "d3hcFNlV9mYf"
      },
      "execution_count": null,
      "outputs": []
    },
    {
      "cell_type": "code",
      "source": [
        "columns = data.columns\n",
        "n_std = 3\n",
        "New_data= remove_outliers(data,columns,n_std)\n",
        "New_data"
      ],
      "metadata": {
        "colab": {
          "base_uri": "https://localhost:8080/",
          "height": 597
        },
        "id": "9sbLkYI7Bt4W",
        "outputId": "b1cc96a5-b655-4985-bb4b-94ad9ecdb378"
      },
      "execution_count": null,
      "outputs": [
        {
          "output_type": "stream",
          "name": "stdout",
          "text": [
            "Working on column: area\n",
            "Working on column: age\n",
            "Working on column: num_bedrooms\n",
            "Working on column: num_livings\n",
            "Working on column: num_water_cycles\n",
            "Working on column: street_width\n",
            "Working on column: IsKetchen\n",
            "Working on column: IsFurnished\n",
            "Working on column: review\n",
            "Working on column: price\n"
          ]
        },
        {
          "output_type": "execute_result",
          "data": {
            "text/plain": [
              "       area   age  num_bedrooms  num_livings  num_water_cycles  street_width  \\\n",
              "1     130.0  12.0           3.0          1.0               2.0          30.0   \n",
              "5     170.0   3.0           3.0          1.0               2.0          35.0   \n",
              "9     160.0   2.0           4.0          1.0               2.0          27.0   \n",
              "10    150.0   1.0           1.0          0.0               1.0          39.0   \n",
              "11      8.0   0.0           2.0          1.0               1.0          29.0   \n",
              "...     ...   ...           ...          ...               ...           ...   \n",
              "6745  220.0   0.0           2.0          2.0               2.0          20.0   \n",
              "6747   75.0   3.0           2.0          1.0               1.0          22.0   \n",
              "6750   80.0   0.0           1.0          1.0               1.0          30.0   \n",
              "6755  175.0   0.0           3.0          1.0               2.0          30.0   \n",
              "6756  140.0   5.0           3.0          1.0               2.0          20.0   \n",
              "\n",
              "      IsKetchen  IsFurnished  review    price  \n",
              "1           1.0          0.0    4.33  25000.0  \n",
              "5           0.0          0.0    4.47  40000.0  \n",
              "9           1.0          0.0    4.79  40000.0  \n",
              "10          1.0          0.0    4.29  19000.0  \n",
              "11          1.0          0.0    4.40  27000.0  \n",
              "...         ...          ...     ...      ...  \n",
              "6745        1.0          0.0    4.82  35000.0  \n",
              "6747        1.0          0.0    4.78  27000.0  \n",
              "6750        1.0          0.0    4.37  30000.0  \n",
              "6755        1.0          0.0    3.74  75000.0  \n",
              "6756        0.0          0.0    4.29  26000.0  \n",
              "\n",
              "[2307 rows x 10 columns]"
            ],
            "text/html": [
              "\n",
              "  <div id=\"df-aaf54ea9-ace7-4926-9b70-060d2b7e1410\">\n",
              "    <div class=\"colab-df-container\">\n",
              "      <div>\n",
              "<style scoped>\n",
              "    .dataframe tbody tr th:only-of-type {\n",
              "        vertical-align: middle;\n",
              "    }\n",
              "\n",
              "    .dataframe tbody tr th {\n",
              "        vertical-align: top;\n",
              "    }\n",
              "\n",
              "    .dataframe thead th {\n",
              "        text-align: right;\n",
              "    }\n",
              "</style>\n",
              "<table border=\"1\" class=\"dataframe\">\n",
              "  <thead>\n",
              "    <tr style=\"text-align: right;\">\n",
              "      <th></th>\n",
              "      <th>area</th>\n",
              "      <th>age</th>\n",
              "      <th>num_bedrooms</th>\n",
              "      <th>num_livings</th>\n",
              "      <th>num_water_cycles</th>\n",
              "      <th>street_width</th>\n",
              "      <th>IsKetchen</th>\n",
              "      <th>IsFurnished</th>\n",
              "      <th>review</th>\n",
              "      <th>price</th>\n",
              "    </tr>\n",
              "  </thead>\n",
              "  <tbody>\n",
              "    <tr>\n",
              "      <th>1</th>\n",
              "      <td>130.0</td>\n",
              "      <td>12.0</td>\n",
              "      <td>3.0</td>\n",
              "      <td>1.0</td>\n",
              "      <td>2.0</td>\n",
              "      <td>30.0</td>\n",
              "      <td>1.0</td>\n",
              "      <td>0.0</td>\n",
              "      <td>4.33</td>\n",
              "      <td>25000.0</td>\n",
              "    </tr>\n",
              "    <tr>\n",
              "      <th>5</th>\n",
              "      <td>170.0</td>\n",
              "      <td>3.0</td>\n",
              "      <td>3.0</td>\n",
              "      <td>1.0</td>\n",
              "      <td>2.0</td>\n",
              "      <td>35.0</td>\n",
              "      <td>0.0</td>\n",
              "      <td>0.0</td>\n",
              "      <td>4.47</td>\n",
              "      <td>40000.0</td>\n",
              "    </tr>\n",
              "    <tr>\n",
              "      <th>9</th>\n",
              "      <td>160.0</td>\n",
              "      <td>2.0</td>\n",
              "      <td>4.0</td>\n",
              "      <td>1.0</td>\n",
              "      <td>2.0</td>\n",
              "      <td>27.0</td>\n",
              "      <td>1.0</td>\n",
              "      <td>0.0</td>\n",
              "      <td>4.79</td>\n",
              "      <td>40000.0</td>\n",
              "    </tr>\n",
              "    <tr>\n",
              "      <th>10</th>\n",
              "      <td>150.0</td>\n",
              "      <td>1.0</td>\n",
              "      <td>1.0</td>\n",
              "      <td>0.0</td>\n",
              "      <td>1.0</td>\n",
              "      <td>39.0</td>\n",
              "      <td>1.0</td>\n",
              "      <td>0.0</td>\n",
              "      <td>4.29</td>\n",
              "      <td>19000.0</td>\n",
              "    </tr>\n",
              "    <tr>\n",
              "      <th>11</th>\n",
              "      <td>8.0</td>\n",
              "      <td>0.0</td>\n",
              "      <td>2.0</td>\n",
              "      <td>1.0</td>\n",
              "      <td>1.0</td>\n",
              "      <td>29.0</td>\n",
              "      <td>1.0</td>\n",
              "      <td>0.0</td>\n",
              "      <td>4.40</td>\n",
              "      <td>27000.0</td>\n",
              "    </tr>\n",
              "    <tr>\n",
              "      <th>...</th>\n",
              "      <td>...</td>\n",
              "      <td>...</td>\n",
              "      <td>...</td>\n",
              "      <td>...</td>\n",
              "      <td>...</td>\n",
              "      <td>...</td>\n",
              "      <td>...</td>\n",
              "      <td>...</td>\n",
              "      <td>...</td>\n",
              "      <td>...</td>\n",
              "    </tr>\n",
              "    <tr>\n",
              "      <th>6745</th>\n",
              "      <td>220.0</td>\n",
              "      <td>0.0</td>\n",
              "      <td>2.0</td>\n",
              "      <td>2.0</td>\n",
              "      <td>2.0</td>\n",
              "      <td>20.0</td>\n",
              "      <td>1.0</td>\n",
              "      <td>0.0</td>\n",
              "      <td>4.82</td>\n",
              "      <td>35000.0</td>\n",
              "    </tr>\n",
              "    <tr>\n",
              "      <th>6747</th>\n",
              "      <td>75.0</td>\n",
              "      <td>3.0</td>\n",
              "      <td>2.0</td>\n",
              "      <td>1.0</td>\n",
              "      <td>1.0</td>\n",
              "      <td>22.0</td>\n",
              "      <td>1.0</td>\n",
              "      <td>0.0</td>\n",
              "      <td>4.78</td>\n",
              "      <td>27000.0</td>\n",
              "    </tr>\n",
              "    <tr>\n",
              "      <th>6750</th>\n",
              "      <td>80.0</td>\n",
              "      <td>0.0</td>\n",
              "      <td>1.0</td>\n",
              "      <td>1.0</td>\n",
              "      <td>1.0</td>\n",
              "      <td>30.0</td>\n",
              "      <td>1.0</td>\n",
              "      <td>0.0</td>\n",
              "      <td>4.37</td>\n",
              "      <td>30000.0</td>\n",
              "    </tr>\n",
              "    <tr>\n",
              "      <th>6755</th>\n",
              "      <td>175.0</td>\n",
              "      <td>0.0</td>\n",
              "      <td>3.0</td>\n",
              "      <td>1.0</td>\n",
              "      <td>2.0</td>\n",
              "      <td>30.0</td>\n",
              "      <td>1.0</td>\n",
              "      <td>0.0</td>\n",
              "      <td>3.74</td>\n",
              "      <td>75000.0</td>\n",
              "    </tr>\n",
              "    <tr>\n",
              "      <th>6756</th>\n",
              "      <td>140.0</td>\n",
              "      <td>5.0</td>\n",
              "      <td>3.0</td>\n",
              "      <td>1.0</td>\n",
              "      <td>2.0</td>\n",
              "      <td>20.0</td>\n",
              "      <td>0.0</td>\n",
              "      <td>0.0</td>\n",
              "      <td>4.29</td>\n",
              "      <td>26000.0</td>\n",
              "    </tr>\n",
              "  </tbody>\n",
              "</table>\n",
              "<p>2307 rows × 10 columns</p>\n",
              "</div>\n",
              "      <button class=\"colab-df-convert\" onclick=\"convertToInteractive('df-aaf54ea9-ace7-4926-9b70-060d2b7e1410')\"\n",
              "              title=\"Convert this dataframe to an interactive table.\"\n",
              "              style=\"display:none;\">\n",
              "        \n",
              "  <svg xmlns=\"http://www.w3.org/2000/svg\" height=\"24px\"viewBox=\"0 0 24 24\"\n",
              "       width=\"24px\">\n",
              "    <path d=\"M0 0h24v24H0V0z\" fill=\"none\"/>\n",
              "    <path d=\"M18.56 5.44l.94 2.06.94-2.06 2.06-.94-2.06-.94-.94-2.06-.94 2.06-2.06.94zm-11 1L8.5 8.5l.94-2.06 2.06-.94-2.06-.94L8.5 2.5l-.94 2.06-2.06.94zm10 10l.94 2.06.94-2.06 2.06-.94-2.06-.94-.94-2.06-.94 2.06-2.06.94z\"/><path d=\"M17.41 7.96l-1.37-1.37c-.4-.4-.92-.59-1.43-.59-.52 0-1.04.2-1.43.59L10.3 9.45l-7.72 7.72c-.78.78-.78 2.05 0 2.83L4 21.41c.39.39.9.59 1.41.59.51 0 1.02-.2 1.41-.59l7.78-7.78 2.81-2.81c.8-.78.8-2.07 0-2.86zM5.41 20L4 18.59l7.72-7.72 1.47 1.35L5.41 20z\"/>\n",
              "  </svg>\n",
              "      </button>\n",
              "      \n",
              "  <style>\n",
              "    .colab-df-container {\n",
              "      display:flex;\n",
              "      flex-wrap:wrap;\n",
              "      gap: 12px;\n",
              "    }\n",
              "\n",
              "    .colab-df-convert {\n",
              "      background-color: #E8F0FE;\n",
              "      border: none;\n",
              "      border-radius: 50%;\n",
              "      cursor: pointer;\n",
              "      display: none;\n",
              "      fill: #1967D2;\n",
              "      height: 32px;\n",
              "      padding: 0 0 0 0;\n",
              "      width: 32px;\n",
              "    }\n",
              "\n",
              "    .colab-df-convert:hover {\n",
              "      background-color: #E2EBFA;\n",
              "      box-shadow: 0px 1px 2px rgba(60, 64, 67, 0.3), 0px 1px 3px 1px rgba(60, 64, 67, 0.15);\n",
              "      fill: #174EA6;\n",
              "    }\n",
              "\n",
              "    [theme=dark] .colab-df-convert {\n",
              "      background-color: #3B4455;\n",
              "      fill: #D2E3FC;\n",
              "    }\n",
              "\n",
              "    [theme=dark] .colab-df-convert:hover {\n",
              "      background-color: #434B5C;\n",
              "      box-shadow: 0px 1px 3px 1px rgba(0, 0, 0, 0.15);\n",
              "      filter: drop-shadow(0px 1px 2px rgba(0, 0, 0, 0.3));\n",
              "      fill: #FFFFFF;\n",
              "    }\n",
              "  </style>\n",
              "\n",
              "      <script>\n",
              "        const buttonEl =\n",
              "          document.querySelector('#df-aaf54ea9-ace7-4926-9b70-060d2b7e1410 button.colab-df-convert');\n",
              "        buttonEl.style.display =\n",
              "          google.colab.kernel.accessAllowed ? 'block' : 'none';\n",
              "\n",
              "        async function convertToInteractive(key) {\n",
              "          const element = document.querySelector('#df-aaf54ea9-ace7-4926-9b70-060d2b7e1410');\n",
              "          const dataTable =\n",
              "            await google.colab.kernel.invokeFunction('convertToInteractive',\n",
              "                                                     [key], {});\n",
              "          if (!dataTable) return;\n",
              "\n",
              "          const docLinkHtml = 'Like what you see? Visit the ' +\n",
              "            '<a target=\"_blank\" href=https://colab.research.google.com/notebooks/data_table.ipynb>data table notebook</a>'\n",
              "            + ' to learn more about interactive tables.';\n",
              "          element.innerHTML = '';\n",
              "          dataTable['output_type'] = 'display_data';\n",
              "          await google.colab.output.renderOutput(dataTable, element);\n",
              "          const docLink = document.createElement('div');\n",
              "          docLink.innerHTML = docLinkHtml;\n",
              "          element.appendChild(docLink);\n",
              "        }\n",
              "      </script>\n",
              "    </div>\n",
              "  </div>\n",
              "  "
            ]
          },
          "metadata": {},
          "execution_count": 18
        }
      ]
    },
    {
      "cell_type": "markdown",
      "source": [
        "# **Scalling Dataset with Stander Scaler**"
      ],
      "metadata": {
        "id": "M1bID2BNB2_Q"
      }
    },
    {
      "cell_type": "code",
      "source": [
        "from sklearn.preprocessing import StandardScaler\n",
        "\n",
        "scaler  = StandardScaler()\n",
        "dataset = scaler.fit_transform(New_data)\n",
        "\n",
        "features = pd.DataFrame(dataset, columns= New_data.columns)\n",
        "features"
      ],
      "metadata": {
        "colab": {
          "base_uri": "https://localhost:8080/",
          "height": 423
        },
        "id": "VPMrzhSNtZVv",
        "outputId": "8dfbe707-9487-494d-9dd8-c07208e41cf0"
      },
      "execution_count": null,
      "outputs": [
        {
          "output_type": "execute_result",
          "data": {
            "text/plain": [
              "          area       age  num_bedrooms  num_livings  num_water_cycles  \\\n",
              "0    -0.277913  3.400163      0.354227     0.008955         -0.081142   \n",
              "1     0.068091  0.290411      0.354227     0.008955         -0.081142   \n",
              "2    -0.018410 -0.055117      1.323624     0.008955         -0.081142   \n",
              "3    -0.104911 -0.400645     -1.584567    -2.573324         -1.320842   \n",
              "4    -1.333224 -0.746173     -0.615170     0.008955         -1.320842   \n",
              "...        ...       ...           ...          ...               ...   \n",
              "2302  0.500595 -0.746173     -0.615170     2.591234         -0.081142   \n",
              "2303 -0.753668  0.290411     -0.615170     0.008955         -1.320842   \n",
              "2304 -0.710417 -0.746173     -1.584567     0.008955         -1.320842   \n",
              "2305  0.111341 -0.746173      0.354227     0.008955         -0.081142   \n",
              "2306 -0.191412  0.981467      0.354227     0.008955         -0.081142   \n",
              "\n",
              "      street_width  IsKetchen  IsFurnished    review     price  \n",
              "0         0.581712   0.409280          0.0  0.197755 -0.745918  \n",
              "1         1.010798  -2.443315          0.0  0.340516  0.013988  \n",
              "2         0.324260   0.409280          0.0  0.666825  0.013988  \n",
              "3         1.354066   0.409280          0.0  0.156967 -1.049881  \n",
              "4         0.495895   0.409280          0.0  0.269135 -0.644598  \n",
              "...            ...        ...          ...       ...       ...  \n",
              "2302     -0.276460   0.409280          0.0  0.697416 -0.239314  \n",
              "2303     -0.104826   0.409280          0.0  0.656628 -0.644598  \n",
              "2304      0.581712   0.409280          0.0  0.238544 -0.492616  \n",
              "2305      0.581712   0.409280          0.0 -0.403878  1.787101  \n",
              "2306     -0.276460  -2.443315          0.0  0.156967 -0.695258  \n",
              "\n",
              "[2307 rows x 10 columns]"
            ],
            "text/html": [
              "\n",
              "  <div id=\"df-2b3092a9-9442-46dc-8d22-ba2cc159bda0\">\n",
              "    <div class=\"colab-df-container\">\n",
              "      <div>\n",
              "<style scoped>\n",
              "    .dataframe tbody tr th:only-of-type {\n",
              "        vertical-align: middle;\n",
              "    }\n",
              "\n",
              "    .dataframe tbody tr th {\n",
              "        vertical-align: top;\n",
              "    }\n",
              "\n",
              "    .dataframe thead th {\n",
              "        text-align: right;\n",
              "    }\n",
              "</style>\n",
              "<table border=\"1\" class=\"dataframe\">\n",
              "  <thead>\n",
              "    <tr style=\"text-align: right;\">\n",
              "      <th></th>\n",
              "      <th>area</th>\n",
              "      <th>age</th>\n",
              "      <th>num_bedrooms</th>\n",
              "      <th>num_livings</th>\n",
              "      <th>num_water_cycles</th>\n",
              "      <th>street_width</th>\n",
              "      <th>IsKetchen</th>\n",
              "      <th>IsFurnished</th>\n",
              "      <th>review</th>\n",
              "      <th>price</th>\n",
              "    </tr>\n",
              "  </thead>\n",
              "  <tbody>\n",
              "    <tr>\n",
              "      <th>0</th>\n",
              "      <td>-0.277913</td>\n",
              "      <td>3.400163</td>\n",
              "      <td>0.354227</td>\n",
              "      <td>0.008955</td>\n",
              "      <td>-0.081142</td>\n",
              "      <td>0.581712</td>\n",
              "      <td>0.409280</td>\n",
              "      <td>0.0</td>\n",
              "      <td>0.197755</td>\n",
              "      <td>-0.745918</td>\n",
              "    </tr>\n",
              "    <tr>\n",
              "      <th>1</th>\n",
              "      <td>0.068091</td>\n",
              "      <td>0.290411</td>\n",
              "      <td>0.354227</td>\n",
              "      <td>0.008955</td>\n",
              "      <td>-0.081142</td>\n",
              "      <td>1.010798</td>\n",
              "      <td>-2.443315</td>\n",
              "      <td>0.0</td>\n",
              "      <td>0.340516</td>\n",
              "      <td>0.013988</td>\n",
              "    </tr>\n",
              "    <tr>\n",
              "      <th>2</th>\n",
              "      <td>-0.018410</td>\n",
              "      <td>-0.055117</td>\n",
              "      <td>1.323624</td>\n",
              "      <td>0.008955</td>\n",
              "      <td>-0.081142</td>\n",
              "      <td>0.324260</td>\n",
              "      <td>0.409280</td>\n",
              "      <td>0.0</td>\n",
              "      <td>0.666825</td>\n",
              "      <td>0.013988</td>\n",
              "    </tr>\n",
              "    <tr>\n",
              "      <th>3</th>\n",
              "      <td>-0.104911</td>\n",
              "      <td>-0.400645</td>\n",
              "      <td>-1.584567</td>\n",
              "      <td>-2.573324</td>\n",
              "      <td>-1.320842</td>\n",
              "      <td>1.354066</td>\n",
              "      <td>0.409280</td>\n",
              "      <td>0.0</td>\n",
              "      <td>0.156967</td>\n",
              "      <td>-1.049881</td>\n",
              "    </tr>\n",
              "    <tr>\n",
              "      <th>4</th>\n",
              "      <td>-1.333224</td>\n",
              "      <td>-0.746173</td>\n",
              "      <td>-0.615170</td>\n",
              "      <td>0.008955</td>\n",
              "      <td>-1.320842</td>\n",
              "      <td>0.495895</td>\n",
              "      <td>0.409280</td>\n",
              "      <td>0.0</td>\n",
              "      <td>0.269135</td>\n",
              "      <td>-0.644598</td>\n",
              "    </tr>\n",
              "    <tr>\n",
              "      <th>...</th>\n",
              "      <td>...</td>\n",
              "      <td>...</td>\n",
              "      <td>...</td>\n",
              "      <td>...</td>\n",
              "      <td>...</td>\n",
              "      <td>...</td>\n",
              "      <td>...</td>\n",
              "      <td>...</td>\n",
              "      <td>...</td>\n",
              "      <td>...</td>\n",
              "    </tr>\n",
              "    <tr>\n",
              "      <th>2302</th>\n",
              "      <td>0.500595</td>\n",
              "      <td>-0.746173</td>\n",
              "      <td>-0.615170</td>\n",
              "      <td>2.591234</td>\n",
              "      <td>-0.081142</td>\n",
              "      <td>-0.276460</td>\n",
              "      <td>0.409280</td>\n",
              "      <td>0.0</td>\n",
              "      <td>0.697416</td>\n",
              "      <td>-0.239314</td>\n",
              "    </tr>\n",
              "    <tr>\n",
              "      <th>2303</th>\n",
              "      <td>-0.753668</td>\n",
              "      <td>0.290411</td>\n",
              "      <td>-0.615170</td>\n",
              "      <td>0.008955</td>\n",
              "      <td>-1.320842</td>\n",
              "      <td>-0.104826</td>\n",
              "      <td>0.409280</td>\n",
              "      <td>0.0</td>\n",
              "      <td>0.656628</td>\n",
              "      <td>-0.644598</td>\n",
              "    </tr>\n",
              "    <tr>\n",
              "      <th>2304</th>\n",
              "      <td>-0.710417</td>\n",
              "      <td>-0.746173</td>\n",
              "      <td>-1.584567</td>\n",
              "      <td>0.008955</td>\n",
              "      <td>-1.320842</td>\n",
              "      <td>0.581712</td>\n",
              "      <td>0.409280</td>\n",
              "      <td>0.0</td>\n",
              "      <td>0.238544</td>\n",
              "      <td>-0.492616</td>\n",
              "    </tr>\n",
              "    <tr>\n",
              "      <th>2305</th>\n",
              "      <td>0.111341</td>\n",
              "      <td>-0.746173</td>\n",
              "      <td>0.354227</td>\n",
              "      <td>0.008955</td>\n",
              "      <td>-0.081142</td>\n",
              "      <td>0.581712</td>\n",
              "      <td>0.409280</td>\n",
              "      <td>0.0</td>\n",
              "      <td>-0.403878</td>\n",
              "      <td>1.787101</td>\n",
              "    </tr>\n",
              "    <tr>\n",
              "      <th>2306</th>\n",
              "      <td>-0.191412</td>\n",
              "      <td>0.981467</td>\n",
              "      <td>0.354227</td>\n",
              "      <td>0.008955</td>\n",
              "      <td>-0.081142</td>\n",
              "      <td>-0.276460</td>\n",
              "      <td>-2.443315</td>\n",
              "      <td>0.0</td>\n",
              "      <td>0.156967</td>\n",
              "      <td>-0.695258</td>\n",
              "    </tr>\n",
              "  </tbody>\n",
              "</table>\n",
              "<p>2307 rows × 10 columns</p>\n",
              "</div>\n",
              "      <button class=\"colab-df-convert\" onclick=\"convertToInteractive('df-2b3092a9-9442-46dc-8d22-ba2cc159bda0')\"\n",
              "              title=\"Convert this dataframe to an interactive table.\"\n",
              "              style=\"display:none;\">\n",
              "        \n",
              "  <svg xmlns=\"http://www.w3.org/2000/svg\" height=\"24px\"viewBox=\"0 0 24 24\"\n",
              "       width=\"24px\">\n",
              "    <path d=\"M0 0h24v24H0V0z\" fill=\"none\"/>\n",
              "    <path d=\"M18.56 5.44l.94 2.06.94-2.06 2.06-.94-2.06-.94-.94-2.06-.94 2.06-2.06.94zm-11 1L8.5 8.5l.94-2.06 2.06-.94-2.06-.94L8.5 2.5l-.94 2.06-2.06.94zm10 10l.94 2.06.94-2.06 2.06-.94-2.06-.94-.94-2.06-.94 2.06-2.06.94z\"/><path d=\"M17.41 7.96l-1.37-1.37c-.4-.4-.92-.59-1.43-.59-.52 0-1.04.2-1.43.59L10.3 9.45l-7.72 7.72c-.78.78-.78 2.05 0 2.83L4 21.41c.39.39.9.59 1.41.59.51 0 1.02-.2 1.41-.59l7.78-7.78 2.81-2.81c.8-.78.8-2.07 0-2.86zM5.41 20L4 18.59l7.72-7.72 1.47 1.35L5.41 20z\"/>\n",
              "  </svg>\n",
              "      </button>\n",
              "      \n",
              "  <style>\n",
              "    .colab-df-container {\n",
              "      display:flex;\n",
              "      flex-wrap:wrap;\n",
              "      gap: 12px;\n",
              "    }\n",
              "\n",
              "    .colab-df-convert {\n",
              "      background-color: #E8F0FE;\n",
              "      border: none;\n",
              "      border-radius: 50%;\n",
              "      cursor: pointer;\n",
              "      display: none;\n",
              "      fill: #1967D2;\n",
              "      height: 32px;\n",
              "      padding: 0 0 0 0;\n",
              "      width: 32px;\n",
              "    }\n",
              "\n",
              "    .colab-df-convert:hover {\n",
              "      background-color: #E2EBFA;\n",
              "      box-shadow: 0px 1px 2px rgba(60, 64, 67, 0.3), 0px 1px 3px 1px rgba(60, 64, 67, 0.15);\n",
              "      fill: #174EA6;\n",
              "    }\n",
              "\n",
              "    [theme=dark] .colab-df-convert {\n",
              "      background-color: #3B4455;\n",
              "      fill: #D2E3FC;\n",
              "    }\n",
              "\n",
              "    [theme=dark] .colab-df-convert:hover {\n",
              "      background-color: #434B5C;\n",
              "      box-shadow: 0px 1px 3px 1px rgba(0, 0, 0, 0.15);\n",
              "      filter: drop-shadow(0px 1px 2px rgba(0, 0, 0, 0.3));\n",
              "      fill: #FFFFFF;\n",
              "    }\n",
              "  </style>\n",
              "\n",
              "      <script>\n",
              "        const buttonEl =\n",
              "          document.querySelector('#df-2b3092a9-9442-46dc-8d22-ba2cc159bda0 button.colab-df-convert');\n",
              "        buttonEl.style.display =\n",
              "          google.colab.kernel.accessAllowed ? 'block' : 'none';\n",
              "\n",
              "        async function convertToInteractive(key) {\n",
              "          const element = document.querySelector('#df-2b3092a9-9442-46dc-8d22-ba2cc159bda0');\n",
              "          const dataTable =\n",
              "            await google.colab.kernel.invokeFunction('convertToInteractive',\n",
              "                                                     [key], {});\n",
              "          if (!dataTable) return;\n",
              "\n",
              "          const docLinkHtml = 'Like what you see? Visit the ' +\n",
              "            '<a target=\"_blank\" href=https://colab.research.google.com/notebooks/data_table.ipynb>data table notebook</a>'\n",
              "            + ' to learn more about interactive tables.';\n",
              "          element.innerHTML = '';\n",
              "          dataTable['output_type'] = 'display_data';\n",
              "          await google.colab.output.renderOutput(dataTable, element);\n",
              "          const docLink = document.createElement('div');\n",
              "          docLink.innerHTML = docLinkHtml;\n",
              "          element.appendChild(docLink);\n",
              "        }\n",
              "      </script>\n",
              "    </div>\n",
              "  </div>\n",
              "  "
            ]
          },
          "metadata": {},
          "execution_count": 19
        }
      ]
    },
    {
      "cell_type": "markdown",
      "source": [
        "## **Feature Selection**"
      ],
      "metadata": {
        "id": "BOeGOzZNbae8"
      }
    },
    {
      "cell_type": "markdown",
      "source": [
        "# Split to Train and Test dataset"
      ],
      "metadata": {
        "id": "KfWr36wvOHRv"
      }
    },
    {
      "cell_type": "code",
      "execution_count": null,
      "metadata": {
        "id": "pQxCw8psLhs7"
      },
      "outputs": [],
      "source": [
        "features.insert(0, 'Ones', 1)\n",
        "cols = features.shape[1]\n",
        "X = features.iloc[:,0:cols-1] \n",
        "y = features.iloc[:,cols-1:cols]\n",
        "X_train, X_test, y_train, y_test = train_test_split(X, y, random_state=45, train_size = 0.70)"
      ]
    },
    {
      "cell_type": "code",
      "source": [
        "X_train.shape, X_test.shape"
      ],
      "metadata": {
        "colab": {
          "base_uri": "https://localhost:8080/"
        },
        "id": "TWgu8TaFSTi6",
        "outputId": "e80f7b39-39b1-4e5e-9c21-18d26646f89a"
      },
      "execution_count": null,
      "outputs": [
        {
          "output_type": "execute_result",
          "data": {
            "text/plain": [
              "((1614, 10), (693, 10))"
            ]
          },
          "metadata": {},
          "execution_count": 21
        }
      ]
    },
    {
      "cell_type": "code",
      "source": [
        "def correlation(dataset, threshold):\n",
        "    col_corr = set()  # Set of all the names of correlated columns\n",
        "    corr_matrix = dataset.corr()\n",
        "    for i in range(len(corr_matrix.columns)):\n",
        "        for j in range(i):\n",
        "            if abs(corr_matrix.iloc[i, j]) > threshold: # we are interested in absolute coeff value\n",
        "                colname = corr_matrix.columns[i]  # getting the name of column\n",
        "                col_corr.add(colname)\n",
        "    return col_corr"
      ],
      "metadata": {
        "id": "oFon_ArcO-Pn"
      },
      "execution_count": null,
      "outputs": []
    },
    {
      "cell_type": "code",
      "source": [
        "corr_features = correlation(X_train, 0.6)\n",
        "print( 'correlation length =:' ,len(set(corr_features)) , '\\n', 'correlation column name:',corr_features )"
      ],
      "metadata": {
        "colab": {
          "base_uri": "https://localhost:8080/"
        },
        "id": "0XyGdEd5TFdk",
        "outputId": "ec73a2d4-4926-408d-d636-6993a3bddbab"
      },
      "execution_count": null,
      "outputs": [
        {
          "output_type": "stream",
          "name": "stdout",
          "text": [
            "correlation length =: 1 \n",
            " correlation column name: {'num_water_cycles'}\n"
          ]
        }
      ]
    },
    {
      "cell_type": "code",
      "source": [
        "X_train.drop(corr_features,axis=1)\n",
        "X_test.drop(corr_features,axis=1)"
      ],
      "metadata": {
        "colab": {
          "base_uri": "https://localhost:8080/",
          "height": 423
        },
        "id": "TQKXhwkbTS1t",
        "outputId": "d551fdb6-768f-49e4-e0c5-40d752cd03da"
      },
      "execution_count": null,
      "outputs": [
        {
          "output_type": "execute_result",
          "data": {
            "text/plain": [
              "      Ones      area       age  num_bedrooms  num_livings  street_width  \\\n",
              "666      1 -0.537415 -0.055117     -0.615170    -2.573324     -0.877180   \n",
              "1566     1  1.192603 -0.746173      0.354227     0.008955     -0.448094   \n",
              "2078     1 -0.104911  2.709107      1.323624     0.008955     -0.705546   \n",
              "868      1  0.137292 -0.746173      1.323624     0.008955     -0.705546   \n",
              "200      1 -0.191412 -0.746173      0.354227     0.008955     -0.533912   \n",
              "...    ...       ...       ...           ...          ...           ...   \n",
              "1208     1 -0.450915  0.290411      0.354227     0.008955     -0.276460   \n",
              "766      1 -0.243312 -0.746173      0.354227     0.008955      0.581712   \n",
              "1296     1 -0.364414 -0.055117     -0.615170     0.008955      1.439884   \n",
              "2267     1  2.057612 -0.055117      0.354227     0.008955     -0.276460   \n",
              "154      1 -0.139511 -0.746173      0.354227     2.591234     -1.563718   \n",
              "\n",
              "      IsKetchen  IsFurnished    review  \n",
              "666    0.409280          0.0  0.656628  \n",
              "1566   0.409280          0.0  0.371107  \n",
              "2078  -2.443315          0.0 -0.046977  \n",
              "868    0.409280          0.0  0.126375  \n",
              "200    0.409280          0.0  0.126375  \n",
              "...         ...          ...       ...  \n",
              "1208   0.409280          0.0 -0.199934  \n",
              "766    0.409280          0.0  0.299727  \n",
              "1296   0.409280          0.0  0.177361  \n",
              "2267   0.409280          0.0 -0.148948  \n",
              "154    0.409280          0.0 -4.217618  \n",
              "\n",
              "[693 rows x 9 columns]"
            ],
            "text/html": [
              "\n",
              "  <div id=\"df-5b2fb0ba-d277-4ea9-b20b-8353a5031fbd\">\n",
              "    <div class=\"colab-df-container\">\n",
              "      <div>\n",
              "<style scoped>\n",
              "    .dataframe tbody tr th:only-of-type {\n",
              "        vertical-align: middle;\n",
              "    }\n",
              "\n",
              "    .dataframe tbody tr th {\n",
              "        vertical-align: top;\n",
              "    }\n",
              "\n",
              "    .dataframe thead th {\n",
              "        text-align: right;\n",
              "    }\n",
              "</style>\n",
              "<table border=\"1\" class=\"dataframe\">\n",
              "  <thead>\n",
              "    <tr style=\"text-align: right;\">\n",
              "      <th></th>\n",
              "      <th>Ones</th>\n",
              "      <th>area</th>\n",
              "      <th>age</th>\n",
              "      <th>num_bedrooms</th>\n",
              "      <th>num_livings</th>\n",
              "      <th>street_width</th>\n",
              "      <th>IsKetchen</th>\n",
              "      <th>IsFurnished</th>\n",
              "      <th>review</th>\n",
              "    </tr>\n",
              "  </thead>\n",
              "  <tbody>\n",
              "    <tr>\n",
              "      <th>666</th>\n",
              "      <td>1</td>\n",
              "      <td>-0.537415</td>\n",
              "      <td>-0.055117</td>\n",
              "      <td>-0.615170</td>\n",
              "      <td>-2.573324</td>\n",
              "      <td>-0.877180</td>\n",
              "      <td>0.409280</td>\n",
              "      <td>0.0</td>\n",
              "      <td>0.656628</td>\n",
              "    </tr>\n",
              "    <tr>\n",
              "      <th>1566</th>\n",
              "      <td>1</td>\n",
              "      <td>1.192603</td>\n",
              "      <td>-0.746173</td>\n",
              "      <td>0.354227</td>\n",
              "      <td>0.008955</td>\n",
              "      <td>-0.448094</td>\n",
              "      <td>0.409280</td>\n",
              "      <td>0.0</td>\n",
              "      <td>0.371107</td>\n",
              "    </tr>\n",
              "    <tr>\n",
              "      <th>2078</th>\n",
              "      <td>1</td>\n",
              "      <td>-0.104911</td>\n",
              "      <td>2.709107</td>\n",
              "      <td>1.323624</td>\n",
              "      <td>0.008955</td>\n",
              "      <td>-0.705546</td>\n",
              "      <td>-2.443315</td>\n",
              "      <td>0.0</td>\n",
              "      <td>-0.046977</td>\n",
              "    </tr>\n",
              "    <tr>\n",
              "      <th>868</th>\n",
              "      <td>1</td>\n",
              "      <td>0.137292</td>\n",
              "      <td>-0.746173</td>\n",
              "      <td>1.323624</td>\n",
              "      <td>0.008955</td>\n",
              "      <td>-0.705546</td>\n",
              "      <td>0.409280</td>\n",
              "      <td>0.0</td>\n",
              "      <td>0.126375</td>\n",
              "    </tr>\n",
              "    <tr>\n",
              "      <th>200</th>\n",
              "      <td>1</td>\n",
              "      <td>-0.191412</td>\n",
              "      <td>-0.746173</td>\n",
              "      <td>0.354227</td>\n",
              "      <td>0.008955</td>\n",
              "      <td>-0.533912</td>\n",
              "      <td>0.409280</td>\n",
              "      <td>0.0</td>\n",
              "      <td>0.126375</td>\n",
              "    </tr>\n",
              "    <tr>\n",
              "      <th>...</th>\n",
              "      <td>...</td>\n",
              "      <td>...</td>\n",
              "      <td>...</td>\n",
              "      <td>...</td>\n",
              "      <td>...</td>\n",
              "      <td>...</td>\n",
              "      <td>...</td>\n",
              "      <td>...</td>\n",
              "      <td>...</td>\n",
              "    </tr>\n",
              "    <tr>\n",
              "      <th>1208</th>\n",
              "      <td>1</td>\n",
              "      <td>-0.450915</td>\n",
              "      <td>0.290411</td>\n",
              "      <td>0.354227</td>\n",
              "      <td>0.008955</td>\n",
              "      <td>-0.276460</td>\n",
              "      <td>0.409280</td>\n",
              "      <td>0.0</td>\n",
              "      <td>-0.199934</td>\n",
              "    </tr>\n",
              "    <tr>\n",
              "      <th>766</th>\n",
              "      <td>1</td>\n",
              "      <td>-0.243312</td>\n",
              "      <td>-0.746173</td>\n",
              "      <td>0.354227</td>\n",
              "      <td>0.008955</td>\n",
              "      <td>0.581712</td>\n",
              "      <td>0.409280</td>\n",
              "      <td>0.0</td>\n",
              "      <td>0.299727</td>\n",
              "    </tr>\n",
              "    <tr>\n",
              "      <th>1296</th>\n",
              "      <td>1</td>\n",
              "      <td>-0.364414</td>\n",
              "      <td>-0.055117</td>\n",
              "      <td>-0.615170</td>\n",
              "      <td>0.008955</td>\n",
              "      <td>1.439884</td>\n",
              "      <td>0.409280</td>\n",
              "      <td>0.0</td>\n",
              "      <td>0.177361</td>\n",
              "    </tr>\n",
              "    <tr>\n",
              "      <th>2267</th>\n",
              "      <td>1</td>\n",
              "      <td>2.057612</td>\n",
              "      <td>-0.055117</td>\n",
              "      <td>0.354227</td>\n",
              "      <td>0.008955</td>\n",
              "      <td>-0.276460</td>\n",
              "      <td>0.409280</td>\n",
              "      <td>0.0</td>\n",
              "      <td>-0.148948</td>\n",
              "    </tr>\n",
              "    <tr>\n",
              "      <th>154</th>\n",
              "      <td>1</td>\n",
              "      <td>-0.139511</td>\n",
              "      <td>-0.746173</td>\n",
              "      <td>0.354227</td>\n",
              "      <td>2.591234</td>\n",
              "      <td>-1.563718</td>\n",
              "      <td>0.409280</td>\n",
              "      <td>0.0</td>\n",
              "      <td>-4.217618</td>\n",
              "    </tr>\n",
              "  </tbody>\n",
              "</table>\n",
              "<p>693 rows × 9 columns</p>\n",
              "</div>\n",
              "      <button class=\"colab-df-convert\" onclick=\"convertToInteractive('df-5b2fb0ba-d277-4ea9-b20b-8353a5031fbd')\"\n",
              "              title=\"Convert this dataframe to an interactive table.\"\n",
              "              style=\"display:none;\">\n",
              "        \n",
              "  <svg xmlns=\"http://www.w3.org/2000/svg\" height=\"24px\"viewBox=\"0 0 24 24\"\n",
              "       width=\"24px\">\n",
              "    <path d=\"M0 0h24v24H0V0z\" fill=\"none\"/>\n",
              "    <path d=\"M18.56 5.44l.94 2.06.94-2.06 2.06-.94-2.06-.94-.94-2.06-.94 2.06-2.06.94zm-11 1L8.5 8.5l.94-2.06 2.06-.94-2.06-.94L8.5 2.5l-.94 2.06-2.06.94zm10 10l.94 2.06.94-2.06 2.06-.94-2.06-.94-.94-2.06-.94 2.06-2.06.94z\"/><path d=\"M17.41 7.96l-1.37-1.37c-.4-.4-.92-.59-1.43-.59-.52 0-1.04.2-1.43.59L10.3 9.45l-7.72 7.72c-.78.78-.78 2.05 0 2.83L4 21.41c.39.39.9.59 1.41.59.51 0 1.02-.2 1.41-.59l7.78-7.78 2.81-2.81c.8-.78.8-2.07 0-2.86zM5.41 20L4 18.59l7.72-7.72 1.47 1.35L5.41 20z\"/>\n",
              "  </svg>\n",
              "      </button>\n",
              "      \n",
              "  <style>\n",
              "    .colab-df-container {\n",
              "      display:flex;\n",
              "      flex-wrap:wrap;\n",
              "      gap: 12px;\n",
              "    }\n",
              "\n",
              "    .colab-df-convert {\n",
              "      background-color: #E8F0FE;\n",
              "      border: none;\n",
              "      border-radius: 50%;\n",
              "      cursor: pointer;\n",
              "      display: none;\n",
              "      fill: #1967D2;\n",
              "      height: 32px;\n",
              "      padding: 0 0 0 0;\n",
              "      width: 32px;\n",
              "    }\n",
              "\n",
              "    .colab-df-convert:hover {\n",
              "      background-color: #E2EBFA;\n",
              "      box-shadow: 0px 1px 2px rgba(60, 64, 67, 0.3), 0px 1px 3px 1px rgba(60, 64, 67, 0.15);\n",
              "      fill: #174EA6;\n",
              "    }\n",
              "\n",
              "    [theme=dark] .colab-df-convert {\n",
              "      background-color: #3B4455;\n",
              "      fill: #D2E3FC;\n",
              "    }\n",
              "\n",
              "    [theme=dark] .colab-df-convert:hover {\n",
              "      background-color: #434B5C;\n",
              "      box-shadow: 0px 1px 3px 1px rgba(0, 0, 0, 0.15);\n",
              "      filter: drop-shadow(0px 1px 2px rgba(0, 0, 0, 0.3));\n",
              "      fill: #FFFFFF;\n",
              "    }\n",
              "  </style>\n",
              "\n",
              "      <script>\n",
              "        const buttonEl =\n",
              "          document.querySelector('#df-5b2fb0ba-d277-4ea9-b20b-8353a5031fbd button.colab-df-convert');\n",
              "        buttonEl.style.display =\n",
              "          google.colab.kernel.accessAllowed ? 'block' : 'none';\n",
              "\n",
              "        async function convertToInteractive(key) {\n",
              "          const element = document.querySelector('#df-5b2fb0ba-d277-4ea9-b20b-8353a5031fbd');\n",
              "          const dataTable =\n",
              "            await google.colab.kernel.invokeFunction('convertToInteractive',\n",
              "                                                     [key], {});\n",
              "          if (!dataTable) return;\n",
              "\n",
              "          const docLinkHtml = 'Like what you see? Visit the ' +\n",
              "            '<a target=\"_blank\" href=https://colab.research.google.com/notebooks/data_table.ipynb>data table notebook</a>'\n",
              "            + ' to learn more about interactive tables.';\n",
              "          element.innerHTML = '';\n",
              "          dataTable['output_type'] = 'display_data';\n",
              "          await google.colab.output.renderOutput(dataTable, element);\n",
              "          const docLink = document.createElement('div');\n",
              "          docLink.innerHTML = docLinkHtml;\n",
              "          element.appendChild(docLink);\n",
              "        }\n",
              "      </script>\n",
              "    </div>\n",
              "  </div>\n",
              "  "
            ]
          },
          "metadata": {},
          "execution_count": 24
        }
      ]
    },
    {
      "cell_type": "markdown",
      "source": [
        "# Implemente Linear Regression"
      ],
      "metadata": {
        "id": "HEWBQ1C8QGiY"
      }
    },
    {
      "cell_type": "markdown",
      "source": [
        "##**A investigate: Impact of altering the cost function**\n"
      ],
      "metadata": {
        "id": "qzFl0JePK3Rw"
      }
    },
    {
      "cell_type": "markdown",
      "source": [
        "compute the predicted value (h(x)) in cost function J(θ) in one function"
      ],
      "metadata": {
        "id": "OSS4tomQo71o"
      }
    },
    {
      "cell_type": "markdown",
      "source": [
        "![image.png](data:image/png;base64,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)"
      ],
      "metadata": {
        "id": "LaDhIWkJogZx"
      }
    },
    {
      "cell_type": "markdown",
      "source": [
        "![costfunction.png](data:image/png;base64,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)"
      ],
      "metadata": {
        "id": "KTIMfRM-VRqu"
      }
    },
    {
      "cell_type": "code",
      "source": [
        "def FirstCost(X, y, theta):\n",
        "    inner = np.power((y - (X * theta.T)), 2)\n",
        "    return np.sum(inner) / (2)"
      ],
      "metadata": {
        "id": "cxvyHiewWclc"
      },
      "execution_count": null,
      "outputs": []
    },
    {
      "cell_type": "code",
      "source": [
        "def SecondCost(X, y, theta):\n",
        "    inner = np.power((y-(X * theta.T)), 2)\n",
        "    return np.sum(inner) / (2 * len(X))"
      ],
      "metadata": {
        "id": "KlvEiJRsP27e"
      },
      "execution_count": null,
      "outputs": []
    },
    {
      "cell_type": "code",
      "source": [
        "#Accuracy\n",
        "def r_squared(Y, YP):\n",
        "    ssr, sse, r_sqr = [0]*3\n",
        "    YM = np.mean(Y)\n",
        "    sse=np.sum(np.square(YP-YM))\n",
        "    sst=np.sum(np.square(Y-YM))\n",
        "    r_sqr = 1 - (sse / sst)\n",
        "    return r_sqr"
      ],
      "metadata": {
        "id": "HQ9bMWLjVHVo"
      },
      "execution_count": null,
      "outputs": []
    },
    {
      "cell_type": "markdown",
      "source": [
        "#Comperion"
      ],
      "metadata": {
        "id": "a6DpduQtJnqt"
      }
    },
    {
      "cell_type": "code",
      "source": [
        "#Define paramters\n",
        "\n",
        "X = np.matrix(X_train.values) #Training\n",
        "y = np.matrix(y_train.values)\n",
        "X_of_test = np.matrix(X_test.values)#Testing\n",
        "y_of_test = np.matrix(y_test.values)\n",
        "theta = np.matrix(np.array([0,0,0,0,0,0,0,0,0,0]))\n",
        "iters = 1000 #Fix iteration\n",
        "\n",
        "print(\"FirstCost Function= \", FirstCost(X,y, theta))\n",
        "print(\"SecondCost Function= \", SecondCost(X, y, theta))"
      ],
      "metadata": {
        "colab": {
          "base_uri": "https://localhost:8080/"
        },
        "id": "zVzAMvdCENIy",
        "outputId": "e774da21-bedf-4c05-9981-030bc92fd594"
      },
      "execution_count": null,
      "outputs": [
        {
          "output_type": "stream",
          "name": "stdout",
          "text": [
            "FirstCost Function=  815.5392543509256\n",
            "SecondCost Function=  0.5052907399943777\n"
          ]
        }
      ]
    },
    {
      "cell_type": "markdown",
      "source": [
        "## **Gradient Descent**"
      ],
      "metadata": {
        "id": "woqc6_iorYYz"
      }
    },
    {
      "cell_type": "markdown",
      "source": [
        "![image.png](data:image/png;base64,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)"
      ],
      "metadata": {
        "id": "wduJEcmgowJk"
      }
    },
    {
      "cell_type": "code",
      "source": [
        "def gradientDescent(X, y, theta, alpha, iters):\n",
        "    temp = np.matrix(np.zeros(theta.shape))\n",
        "    parameters = int(theta.ravel().shape[1]) \n",
        "    cost = np.zeros(iters)\n",
        "\n",
        "    # iterate over examples\n",
        "    # predict y with current bias and coefficient\n",
        "    for i in range(iters):\n",
        "        error = (X * theta.T) - y \n",
        "        \n",
        "        for j in range(parameters):\n",
        "            term = np.multiply(error, X[:,j])\n",
        "            temp[0,j] = theta[0,j] - ((alpha / len(X)) * np.sum(term)) #update thetas\n",
        "            \n",
        "        theta = temp #new thetas\n",
        "        cost[i] = SecondCost(X, y, theta) #error at each itereation\n",
        "        \n",
        "    return theta, cost"
      ],
      "metadata": {
        "id": "MhzLzaWcrqlV"
      },
      "execution_count": null,
      "outputs": []
    },
    {
      "cell_type": "markdown",
      "source": [
        "# **B investigate : Impact of Learing Rate 𝛼**"
      ],
      "metadata": {
        "id": "XDLCpAdgLRYA"
      }
    },
    {
      "cell_type": "markdown",
      "source": [
        "\n",
        "# Attempt.1: A very small (𝛼 = 0.0001)\n",
        "\n",
        "0.001, 0.01, 0.1, 1, 10, 100}**\n",
        "= 0.001"
      ],
      "metadata": {
        "id": "KR4AGziaE29b"
      }
    },
    {
      "cell_type": "code",
      "source": [
        "lr_1 = 0.0001\n",
        "\n",
        "%time\n",
        "print(\"''''''''''''''''''''''Training''''''''''''''''''''\")\n",
        "g1, cost1 = gradientDescent(X, y, theta, lr_1, iters)\n",
        "print(\"error:\" ,SecondCost(X, y, g1) )\n",
        "#predict\n",
        "theta_list=g1[-1]\n",
        "y_pred_T=np.dot(X , theta_list.T)\n",
        "print(\"accuracy:\", r_squared(y,y_pred_T))\n",
        "\n",
        "print(\"''''''''''''''''''''''Testing''''''''''''''''''''\")\n",
        "g1_test, cost1_test = gradientDescent(X_of_test, y_of_test, theta, lr_1, iters)\n",
        "print(\"error:\" , SecondCost(X_of_test, y_of_test, g1_test))\n",
        "theta_list=g1_test[-1]\n",
        "y_pred_S=np.dot(X , theta_list.T)\n",
        "print(\"accuracy:\",r_squared(y,y_pred_S))\n"
      ],
      "metadata": {
        "colab": {
          "base_uri": "https://localhost:8080/"
        },
        "id": "Dhvi_hXDr5V9",
        "outputId": "5d7ff749-beba-4c44-a20b-fb8df67162a0"
      },
      "execution_count": null,
      "outputs": [
        {
          "output_type": "stream",
          "name": "stdout",
          "text": [
            "CPU times: user 3 µs, sys: 1e+03 ns, total: 4 µs\n",
            "Wall time: 9.3 µs\n",
            "''''''''''''''''''''''Training''''''''''''''''''''\n",
            "error: 0.4314424696664665\n",
            "accuracy: 0.9868238635397751\n",
            "''''''''''''''''''''''Testing''''''''''''''''''''\n",
            "error: 0.4122640682147556\n",
            "accuracy: 0.9867433288236603\n"
          ]
        }
      ]
    },
    {
      "cell_type": "code",
      "source": [
        "#Plot\n",
        "fig, ax = plt.subplots(figsize=(12,8))\n",
        "ax.plot(np.arange(iters), cost1_test, 'r')\n",
        "ax.set_xlabel('Iterations')\n",
        "ax.set_ylabel('Cost')\n",
        "ax.set_title('Error vs. Iterations')"
      ],
      "metadata": {
        "colab": {
          "base_uri": "https://localhost:8080/",
          "height": 475
        },
        "id": "R304iEIFC0uC",
        "outputId": "0db344a8-4747-4861-9418-2dd7be5f036a"
      },
      "execution_count": null,
      "outputs": [
        {
          "output_type": "execute_result",
          "data": {
            "text/plain": [
              "Text(0.5, 1.0, 'Error vs. Iterations')"
            ]
          },
          "metadata": {},
          "execution_count": 268
        },
        {
          "output_type": "display_data",
          "data": {
            "text/plain": [
              "<Figure size 720x504 with 1 Axes>"
            ],
            "image/png": "[encoded data removed]"
          },
          "metadata": {
            "needs_background": "light"
          }
        }
      ]
    },
    {
      "cell_type": "markdown",
      "source": [
        "# Attempt.2: A very small (𝛼 = 0.001)"
      ],
      "metadata": {
        "id": "prNvCy4lFs-J"
      }
    },
    {
      "cell_type": "code",
      "source": [
        "lr_2 = 0.001\n",
        "\n",
        "#Training\n",
        "%time\n",
        "print(\"''''''''''''''''''''''Training''''''''''''''''''''\")\n",
        "g2, cost2 = gradientDescent(X, y, theta, lr_2, iters)\n",
        "print(\"error:\" ,SecondCost(X, y, g2) )\n",
        "#predict\n",
        "theta_list=g2[-1]\n",
        "y_pred_T=np.dot(X , theta_list.T)\n",
        "print(\"accuracy:\", r_squared(y,y_pred_T))\n",
        "\n",
        "print(\"''''''''''''''''''''''Testing''''''''''''''''''''\")\n",
        "g2_test, cost2_test = gradientDescent(X_of_test, y_of_test, theta, lr_2, iters)\n",
        "print(\"error:\" , SecondCost(X_of_test, y_of_test, g2_test))\n",
        "\n",
        "theta_list=g2_test[-1]\n",
        "y_pred_S=np.dot(X , theta_list.T)\n",
        "print(\"accuracy:\",r_squared(y,y_pred_S))\n",
        "\n"
      ],
      "metadata": {
        "colab": {
          "base_uri": "https://localhost:8080/"
        },
        "id": "WR1pgSTt1TsE",
        "outputId": "18e670fa-95f5-4149-cb82-d900f7c031bd"
      },
      "execution_count": null,
      "outputs": [
        {
          "output_type": "stream",
          "name": "stdout",
          "text": [
            "CPU times: user 18 µs, sys: 0 ns, total: 18 µs\n",
            "Wall time: 23.4 µs\n",
            "''''''''''''''''''''''Training''''''''''''''''''''\n",
            "error: 0.2521698447576688\n",
            "accuracy: 0.6768787422416489\n",
            "''''''''''''''''''''''Testing''''''''''''''''''''\n",
            "error: 0.23276410581482887\n",
            "accuracy: 0.6754811244235718\n"
          ]
        }
      ]
    },
    {
      "cell_type": "code",
      "source": [
        "#Plot\n",
        "fig, ax = plt.subplots(figsize=(12,8))\n",
        "ax.plot(np.arange(iters), cost2_test, 'r')\n",
        "ax.set_xlabel('Iterations')\n",
        "ax.set_ylabel('Cost')\n",
        "ax.set_title('Error vs. Iterations')"
      ],
      "metadata": {
        "colab": {
          "base_uri": "https://localhost:8080/",
          "height": 530
        },
        "id": "90KPC6tcL17Z",
        "outputId": "f987788a-b777-4b0e-8ff6-82118fb6bf62"
      },
      "execution_count": null,
      "outputs": [
        {
          "output_type": "execute_result",
          "data": {
            "text/plain": [
              "Text(0.5, 1.0, 'Error vs. Iterations')"
            ]
          },
          "metadata": {},
          "execution_count": 210
        },
        {
          "output_type": "display_data",
          "data": {
            "text/plain": [
              "<Figure size 864x576 with 1 Axes>"
            ],
            "image/png": "[encoded data removed]"
          },
          "metadata": {
            "needs_background": "light"
          }
        }
      ]
    },
    {
      "cell_type": "markdown",
      "source": [
        "# Attempt.3: A good one  (𝛼 = 0.01)\n",
        "\n"
      ],
      "metadata": {
        "id": "1zAyPD6_FyeU"
      }
    },
    {
      "cell_type": "code",
      "source": [
        "lr_3 = 0.01\n",
        "#Training\n",
        "%time \n",
        "\n",
        "print(\"''''''''''''''''''''''Training''''''''''''''''''''\")\n",
        "g3, cost3 = gradientDescent(X, y, theta, lr_3, iters)\n",
        "print(\"error:\" ,SecondCost(X, y, g3) )\n",
        "#predict\n",
        "theta_list=g3[-1]\n",
        "y_pred_T=np.dot(X , theta_list.T)\n",
        "print(\"accuracy:\", r_squared(y,y_pred_T))\n",
        "\n",
        "print(\"''''''''''''''''''''''Testing''''''''''''''''''''\")\n",
        "g3_test, cost3_test = gradientDescent(X_of_test, y_of_test, theta, lr_3, iters)\n",
        "print(\"error:\" , SecondCost(X_of_test, y_of_test, g3_test))\n",
        "\n",
        "theta_list=g3_test[-1]\n",
        "y_pred_S=np.dot(X , theta_list.T)\n",
        "print(\"accuracy:\",r_squared(y,y_pred_S))\n",
        "\n"
      ],
      "metadata": {
        "colab": {
          "base_uri": "https://localhost:8080/"
        },
        "id": "nI-1gVJL1jMM",
        "outputId": "3dc0c7b8-a0e2-4aa1-abd7-c7775e37927b"
      },
      "execution_count": null,
      "outputs": [
        {
          "output_type": "stream",
          "name": "stdout",
          "text": [
            "CPU times: user 5 µs, sys: 2 µs, total: 7 µs\n",
            "Wall time: 12.9 µs\n",
            "''''''''''''''''''''''Training''''''''''''''''''''\n",
            "error: 0.22310535953031924\n",
            "accuracy: 0.44762930756543773\n",
            "''''''''''''''''''''''Testing''''''''''''''''''''\n",
            "error: 0.20890273157874362\n",
            "accuracy: 0.47508228034826483\n"
          ]
        }
      ]
    },
    {
      "cell_type": "code",
      "source": [
        "#Plot\n",
        "fig, ax = plt.subplots(figsize=(12,8))\n",
        "ax.plot(np.arange(iters), cost3_test, 'r')\n",
        "ax.set_xlabel('Iterations')\n",
        "ax.set_ylabel('Cost')\n",
        "ax.set_title('Error vs. Iterations')"
      ],
      "metadata": {
        "colab": {
          "base_uri": "https://localhost:8080/",
          "height": 530
        },
        "id": "zvcBAEweL_Rs",
        "outputId": "7ea157aa-edf8-4032-ba0e-dd41fce21fdb"
      },
      "execution_count": null,
      "outputs": [
        {
          "output_type": "execute_result",
          "data": {
            "text/plain": [
              "Text(0.5, 1.0, 'Error vs. Iterations')"
            ]
          },
          "metadata": {},
          "execution_count": 212
        },
        {
          "output_type": "display_data",
          "data": {
            "text/plain": [
              "<Figure size 864x576 with 1 Axes>"
            ],
            "image/png": "[encoded data removed]"
          },
          "metadata": {
            "needs_background": "light"
          }
        }
      ]
    },
    {
      "cell_type": "markdown",
      "source": [
        "# Attempt.4: The Best one (𝛼 = 0.1)"
      ],
      "metadata": {
        "id": "w6yeJ4vbQBz1"
      }
    },
    {
      "cell_type": "code",
      "source": [
        "lr_4 = 0.1\n",
        "#Training\n",
        "%time\n",
        "print(\"''''''''''''''''''''''Training''''''''''''''''''''\")\n",
        "g4, cost4 = gradientDescent(X, y, theta, lr_4, iters)\n",
        "print(\"error:\" ,SecondCost(X, y, g4) )\n",
        "\n",
        "#predict\n",
        "theta_list=g4[-1]\n",
        "y_pred_T=np.dot(X , theta_list.T)\n",
        "print(\"accuracy:\", r_squared(y,y_pred_T))\n",
        "\n",
        "print(\"''''''''''''''''''''''Testing''''''''''''''''''''\")\n",
        "g4_test, cost4_test = gradientDescent(X_of_test, y_of_test, theta, lr_4, iters)\n",
        "print(\"error:\" , SecondCost(X_of_test, y_of_test, g4_test))\n",
        "\n",
        "theta_list=g4_test[-1]\n",
        "y_pred_S=np.dot(X , theta_list.T)\n",
        "print(\"accuracy:\",r_squared(y,y_pred_S))\n"
      ],
      "metadata": {
        "colab": {
          "base_uri": "https://localhost:8080/"
        },
        "id": "wZW4Wque1nDV",
        "outputId": "2cac5ab5-377e-49fd-d05f-fd8f4e91144a"
      },
      "execution_count": null,
      "outputs": [
        {
          "output_type": "stream",
          "name": "stdout",
          "text": [
            "CPU times: user 5 µs, sys: 3 µs, total: 8 µs\n",
            "Wall time: 12.4 µs\n",
            "''''''''''''''''''''''Training''''''''''''''''''''\n",
            "error: 0.2229555762083044\n",
            "accuracy: 0.44124331423202157\n",
            "''''''''''''''''''''''Testing''''''''''''''''''''\n",
            "error: 0.20879899090203483\n",
            "accuracy: 0.4717359023191119\n"
          ]
        }
      ]
    },
    {
      "cell_type": "code",
      "source": [
        "#Plot\n",
        "fig, ax = plt.subplots(figsize=(12,8))\n",
        "ax.plot(np.arange(iters), cost4_test, 'r')\n",
        "ax.set_xlabel('Iterations')\n",
        "ax.set_ylabel('Cost')\n",
        "ax.set_title('Error vs. Iterations')"
      ],
      "metadata": {
        "colab": {
          "base_uri": "https://localhost:8080/",
          "height": 530
        },
        "id": "bxm_jxpWMEEw",
        "outputId": "f7da3fa9-b031-436c-97f3-13e96c5ee2f8"
      },
      "execution_count": null,
      "outputs": [
        {
          "output_type": "execute_result",
          "data": {
            "text/plain": [
              "Text(0.5, 1.0, 'Error vs. Iterations')"
            ]
          },
          "metadata": {},
          "execution_count": 216
        },
        {
          "output_type": "display_data",
          "data": {
            "text/plain": [
              "<Figure size 864x576 with 1 Axes>"
            ],
            "image/png": "[encoded data removed]"
          },
          "metadata": {
            "needs_background": "light"
          }
        }
      ]
    },
    {
      "cell_type": "markdown",
      "source": [
        "# Attempt.5: A large one  (𝛼 = 1)"
      ],
      "metadata": {
        "id": "8sQvOpRhGHmg"
      }
    },
    {
      "cell_type": "code",
      "source": [
        "lr_5 = 1\n",
        "#Training\n",
        "%time\n",
        "\n",
        "print(\"''''''''''''''''''''''Training''''''''''''''''''''\")\n",
        "g5, cost5 = gradientDescent(X, y, theta, lr_5, iters)\n",
        "print(\"error:\" ,SecondCost(X, y, g5) )\n",
        "#predict\n",
        "theta_list=g5[-1]\n",
        "y_pred_T=np.dot(X , theta_list.T)\n",
        "print(\"accuracy:\", r_squared(y,y_pred_T))\n",
        "\n",
        "print(\"''''''''''''''''''''''Testing''''''''''''''''''''\")\n",
        "g5_test, cost5_test = gradientDescent(X_of_test, y_of_test, theta, lr_5, iters)\n",
        "print(\"error:\" , SecondCost(X_of_test, y_of_test, g5_test))\n",
        "\n",
        "theta_list=g5_test[-1]\n",
        "y_pred_S=np.dot(X , theta_list.T)\n",
        "print(\"accuracy:\",r_squared(y,y_pred_S))"
      ],
      "metadata": {
        "colab": {
          "base_uri": "https://localhost:8080/"
        },
        "id": "VcveDrMV1oZz",
        "outputId": "969abe47-0de9-4671-cd57-6560195ba466"
      },
      "execution_count": null,
      "outputs": [
        {
          "output_type": "stream",
          "name": "stdout",
          "text": [
            "CPU times: user 2 µs, sys: 1e+03 ns, total: 3 µs\n",
            "Wall time: 8.11 µs\n",
            "''''''''''''''''''''''Training''''''''''''''''''''\n",
            "error: 7.879309181235524e+132\n",
            "accuracy: -1.5593655723257167e+133\n",
            "''''''''''''''''''''''Testing''''''''''''''''''''\n",
            "error: 1.7262861645773092e+120\n",
            "accuracy: -3.3483117016260217e+120\n"
          ]
        }
      ]
    },
    {
      "cell_type": "code",
      "source": [
        "#Plot\n",
        "fig, ax = plt.subplots(figsize=(12,8))\n",
        "ax.plot(np.arange(iters), cost5_test, 'r')\n",
        "ax.set_xlabel('Iterations')\n",
        "ax.set_ylabel('Cost')\n",
        "ax.set_title('Error vs. Iterations')"
      ],
      "metadata": {
        "colab": {
          "base_uri": "https://localhost:8080/",
          "height": 530
        },
        "id": "kljkFEs5MF2Q",
        "outputId": "366a642f-5233-4cf3-d706-60053c963d80"
      },
      "execution_count": null,
      "outputs": [
        {
          "output_type": "execute_result",
          "data": {
            "text/plain": [
              "Text(0.5, 1.0, 'Error vs. Iterations')"
            ]
          },
          "metadata": {},
          "execution_count": 218
        },
        {
          "output_type": "display_data",
          "data": {
            "text/plain": [
              "<Figure size 864x576 with 1 Axes>"
            ],
            "image/png": "[encoded data removed]"
          },
          "metadata": {
            "needs_background": "light"
          }
        }
      ]
    },
    {
      "cell_type": "markdown",
      "source": [
        "# Attempt.6: A very large (𝛼 = 10)"
      ],
      "metadata": {
        "id": "Tn6OI1lCGhmO"
      }
    },
    {
      "cell_type": "code",
      "source": [
        "lr_6 = 10\n",
        "#Trining\n",
        "%time\n",
        "\n",
        "print(\"''''''''''''''''''''''Training''''''''''''''''''''\")\n",
        "g6, cost6 = gradientDescent(X, y, theta, lr_6, iters)\n",
        "print(\"error:\" ,SecondCost(X, y, g6) )\n",
        "#predict\n",
        "theta_list=g6[-1]\n",
        "y_pred_T=np.dot(X , theta_list.T)\n",
        "print(\"accuracy:\", r_squared(y,y_pred_T))\n",
        "\n",
        "print(\"''''''''''''''''''''''Testing''''''''''''''''''''\")\n",
        "g6_test, cost6_test = gradientDescent(X_of_test, y_of_test, theta, lr_6, iters)\n",
        "print(\"error:\" , SecondCost(X_of_test, y_of_test, g6_test))\n",
        "\n",
        "theta_list=g6_test[-1]\n",
        "y_pred_S=np.dot(X , theta_list.T)\n",
        "print(\"accuracy:\",r_squared(y,y_pred_S))"
      ],
      "metadata": {
        "colab": {
          "base_uri": "https://localhost:8080/"
        },
        "id": "hAmDn5-91vX-",
        "outputId": "c2b8f860-64a4-4fed-d0f8-84e4dec1a601"
      },
      "execution_count": null,
      "outputs": [
        {
          "output_type": "stream",
          "name": "stdout",
          "text": [
            "CPU times: user 4 µs, sys: 0 ns, total: 4 µs\n",
            "Wall time: 9.3 µs\n",
            "''''''''''''''''''''''Training''''''''''''''''''''\n"
          ]
        },
        {
          "output_type": "stream",
          "name": "stderr",
          "text": [
            "/usr/local/lib/python3.7/dist-packages/numpy/core/_methods.py:48: RuntimeWarning: overflow encountered in reduce\n",
            "  return umr_sum(a, axis, dtype, out, keepdims, initial, where)\n",
            "/usr/local/lib/python3.7/dist-packages/ipykernel_launcher.py:2: RuntimeWarning: overflow encountered in power\n",
            "  \n",
            "/usr/local/lib/python3.7/dist-packages/ipykernel_launcher.py:12: RuntimeWarning: invalid value encountered in multiply\n",
            "  if sys.path[0] == '':\n"
          ]
        },
        {
          "output_type": "stream",
          "name": "stdout",
          "text": [
            "error: nan\n",
            "accuracy: nan\n",
            "''''''''''''''''''''''Testing''''''''''''''''''''\n",
            "error: nan\n",
            "accuracy: nan\n"
          ]
        }
      ]
    },
    {
      "cell_type": "code",
      "source": [
        "#Plot\n",
        "fig, ax = plt.subplots(figsize=(12,8))\n",
        "ax.plot(np.arange(iters), cost6_test, 'r')\n",
        "ax.set_xlabel('Iterations')\n",
        "ax.set_ylabel('Cost')\n",
        "ax.set_title('Error vs. Iterations')"
      ],
      "metadata": {
        "colab": {
          "base_uri": "https://localhost:8080/",
          "height": 530
        },
        "id": "xpjby12lMGpj",
        "outputId": "dc3fa31a-bf0a-4c25-9878-b916ed5301cf"
      },
      "execution_count": null,
      "outputs": [
        {
          "output_type": "execute_result",
          "data": {
            "text/plain": [
              "Text(0.5, 1.0, 'Error vs. Iterations')"
            ]
          },
          "metadata": {},
          "execution_count": 220
        },
        {
          "output_type": "display_data",
          "data": {
            "text/plain": [
              "<Figure size 864x576 with 1 Axes>"
            ],
            "image/png": "[encoded data removed]"
          },
          "metadata": {
            "needs_background": "light"
          }
        }
      ]
    },
    {
      "cell_type": "markdown",
      "source": [
        "# Attempt.7: The worst one (𝛼 = 100)"
      ],
      "metadata": {
        "id": "m2sMvF75Gr6O"
      }
    },
    {
      "cell_type": "code",
      "source": [
        "lr_7 = 100\n",
        "#Trining\n",
        "%time\n",
        "print(\"''''''''''''''''''''''Training''''''''''''''''''''\")\n",
        "g7, cost7 = gradientDescent(X, y, theta, lr_7, iters)\n",
        "print(\"error:\" ,SecondCost(X, y, g7) )\n",
        "#predict\n",
        "theta_list=g7[-1]\n",
        "y_pred_T=np.dot(X , theta_list.T)\n",
        "print(\"accuracy:\", r_squared(y,y_pred_T))\n",
        "\n",
        "print(\"''''''''''''''''''''''Testing''''''''''''''''''''\")\n",
        "g7_test, cost7_test = gradientDescent(X_of_test, y_of_test, theta, lr_7, iters)\n",
        "print(\"error:\" , SecondCost(X_of_test, y_of_test, g7_test))\n",
        "\n",
        "theta_list=g7_test[-1]\n",
        "y_pred_S=np.dot(X , theta_list.T)\n",
        "print(\"accuracy:\",r_squared(y,y_pred_S))"
      ],
      "metadata": {
        "colab": {
          "base_uri": "https://localhost:8080/"
        },
        "id": "S6NThmP71vbh",
        "outputId": "8fe0ccf2-18a6-44cc-85c9-572cca49108a"
      },
      "execution_count": null,
      "outputs": [
        {
          "output_type": "stream",
          "name": "stdout",
          "text": [
            "CPU times: user 3 µs, sys: 1e+03 ns, total: 4 µs\n",
            "Wall time: 9.78 µs\n",
            "''''''''''''''''''''''Training''''''''''''''''''''\n"
          ]
        },
        {
          "output_type": "stream",
          "name": "stderr",
          "text": [
            "/usr/local/lib/python3.7/dist-packages/ipykernel_launcher.py:2: RuntimeWarning: overflow encountered in power\n",
            "  \n",
            "/usr/local/lib/python3.7/dist-packages/numpy/core/_methods.py:48: RuntimeWarning: overflow encountered in reduce\n",
            "  return umr_sum(a, axis, dtype, out, keepdims, initial, where)\n",
            "/usr/local/lib/python3.7/dist-packages/numpy/core/_methods.py:48: RuntimeWarning: invalid value encountered in reduce\n",
            "  return umr_sum(a, axis, dtype, out, keepdims, initial, where)\n",
            "/usr/local/lib/python3.7/dist-packages/ipykernel_launcher.py:12: RuntimeWarning: invalid value encountered in multiply\n",
            "  if sys.path[0] == '':\n"
          ]
        },
        {
          "output_type": "stream",
          "name": "stdout",
          "text": [
            "error: nan\n",
            "accuracy: nan\n",
            "''''''''''''''''''''''Testing''''''''''''''''''''\n"
          ]
        },
        {
          "output_type": "stream",
          "name": "stderr",
          "text": [
            "/usr/local/lib/python3.7/dist-packages/ipykernel_launcher.py:12: RuntimeWarning: overflow encountered in multiply\n",
            "  if sys.path[0] == '':\n"
          ]
        },
        {
          "output_type": "stream",
          "name": "stdout",
          "text": [
            "error: nan\n",
            "accuracy: nan\n"
          ]
        }
      ]
    },
    {
      "cell_type": "code",
      "source": [
        "#Plot\n",
        "fig, ax = plt.subplots(figsize=(12,8))\n",
        "ax.plot(np.arange(iters), cost7_test, 'r')\n",
        "ax.set_xlabel('Iterations')\n",
        "ax.set_ylabel('Cost')\n",
        "ax.set_title('Error vs. Iterations')"
      ],
      "metadata": {
        "colab": {
          "base_uri": "https://localhost:8080/",
          "height": 530
        },
        "id": "dLqu2-YJMIUn",
        "outputId": "c2ace7d5-2a38-4e91-d2bd-725d7ba452df"
      },
      "execution_count": null,
      "outputs": [
        {
          "output_type": "execute_result",
          "data": {
            "text/plain": [
              "Text(0.5, 1.0, 'Error vs. Iterations')"
            ]
          },
          "metadata": {},
          "execution_count": 222
        },
        {
          "output_type": "display_data",
          "data": {
            "text/plain": [
              "<Figure size 864x576 with 1 Axes>"
            ],
            "image/png": "[encoded data removed]"
          },
          "metadata": {
            "needs_background": "light"
          }
        }
      ]
    },
    {
      "cell_type": "markdown",
      "source": [
        "# **C investigate : Compare my best mode performance with sklearn**\n"
      ],
      "metadata": {
        "id": "FguOi8r8NyvS"
      }
    },
    {
      "cell_type": "code",
      "source": [
        "# linear regression from sklearn\n",
        "from sklearn.linear_model import LinearRegression\n",
        "from sklearn.metrics import mean_squared_error\n",
        "#Traing the model\n",
        "%time\n",
        "model = LinearRegression().fit(X_train, y_train)\n",
        "\n",
        "#predicing the model\n",
        "y_pred_test = model.predict(X_test)\n",
        "y_pred_train = model.predict(X_train)\n",
        "\n",
        "score_train = model.score(X_train, y_train)\n",
        "score_test = model.score(X_test, y_test)\n",
        "\n",
        "# model evaluation\n",
        "mse_test=mean_squared_error(y_test,y_pred_test)\n",
        "mse_train=mean_squared_error(y_train,y_pred_train)\n",
        "print(\"''''''''''''''''''''''Training''''''''''''''''''''\")\n",
        "print(\"error:\" ,mse_train )\n",
        "print(\"accuracy:\", score_train)\n",
        "\n",
        "print(\"''''''''''''''''''''''Testing''''''''''''''''''''\")\n",
        "print(\"error:\" ,mse_test )\n",
        "print(\"accuracy:\", score_test)"
      ],
      "metadata": {
        "colab": {
          "base_uri": "https://localhost:8080/"
        },
        "id": "p-_fEHmuNkyI",
        "outputId": "822cf3f1-7956-4abd-c689-eff148ccfe42"
      },
      "execution_count": null,
      "outputs": [
        {
          "output_type": "stream",
          "name": "stdout",
          "text": [
            "CPU times: user 4 µs, sys: 0 ns, total: 4 µs\n",
            "Wall time: 9.54 µs\n",
            "''''''''''''''''''''''Training''''''''''''''''''''\n",
            "error: 0.44591115241660884\n",
            "accuracy: 0.5587566857698103\n",
            "''''''''''''''''''''''Testing''''''''''''''''''''\n",
            "error: 0.4205651701925033\n",
            "accuracy: 0.5688020556272153\n"
          ]
        }
      ]
    },
    {
      "cell_type": "markdown",
      "source": [
        "# **Investigate D : Regularized My linear regression model**"
      ],
      "metadata": {
        "id": "fk-dHRxjefxW"
      }
    },
    {
      "cell_type": "code",
      "source": [
        "def SecondCost(X, y, theta):\n",
        "    inner = np.power(((X * theta.T) - y), 2)\n",
        "    return np.sum(inner) / (2 * len(X))"
      ],
      "metadata": {
        "id": "ap1KdI5jMnGC"
      },
      "execution_count": null,
      "outputs": []
    },
    {
      "cell_type": "code",
      "source": [
        "def gradientDescentReg(X, y, theta, alpha, iters, lamb):\n",
        "    temp = np.matrix(np.zeros(theta.shape))\n",
        "    parameters = int(theta.ravel().shape[1]) \n",
        "    cost = np.zeros(iters)\n",
        "\n",
        "    # iterate over examples\n",
        "    # predict y with current bias and coefficient\n",
        "    for i in range(iters):\n",
        "        error = (X * theta.T) - y\n",
        "        for j in range(parameters):\n",
        "            term = np.multiply(error, X[:,j])\n",
        "            temp[0,j] = (1-(alpha/lamb))*theta[0,j] - ((alpha / len(X)) * np.sum(term)) #Modyfi with Regularization Parameter\n",
        "            \n",
        "        theta = temp #new thetas\n",
        "        cost[i] = SecondCost(X, y, theta) #error at each itereation\n",
        "        \n",
        "    return theta, cost"
      ],
      "metadata": {
        "id": "jjIIfxaf_Znu"
      },
      "execution_count": null,
      "outputs": []
    },
    {
      "cell_type": "code",
      "source": [
        "#Training\n",
        "%time\n",
        "print(\"''''''''''''''''''''''Training''''''''''''''''''''\")\n",
        "gL, costL= gradientDescentReg(X, y, theta,0.1, 1000, 100)\n",
        "print(\"error:\" ,SecondCost(X, y, gL) )\n",
        "#predict\n",
        "theta_list=gL[-1]\n",
        "y_pred_T=np.dot(X , theta_list.T)\n",
        "print(\"accuracy:\", r_squared(y,y_pred_T))\n",
        "\n",
        "print(\"''''''''''''''''''''''Testing''''''''''''''''''''\")\n",
        "gL_test, costL_test = gradientDescentReg(X_of_test, y_of_test, theta, 0.1,1000, 100)\n",
        "print(\"error:\" , SecondCost(X_of_test, y_of_test, gL_test))\n",
        "\n",
        "theta_list=gL_test[-1]\n",
        "y_pred_S=np.dot(X , theta_list.T)\n",
        "print(\"accuracy:\",r_squared(y,y_pred_S))\n"
      ],
      "metadata": {
        "colab": {
          "base_uri": "https://localhost:8080/"
        },
        "id": "BKhgup1LZhsa",
        "outputId": "10b5ce91-45a0-4b12-8305-6bb085cfb1b5"
      },
      "execution_count": null,
      "outputs": [
        {
          "output_type": "stream",
          "name": "stdout",
          "text": [
            "CPU times: user 3 µs, sys: 1 µs, total: 4 µs\n",
            "Wall time: 10 µs\n",
            "''''''''''''''''''''''Training''''''''''''''''''''\n",
            "error: 0.22300002575207173\n",
            "accuracy: 0.4513558644314912\n",
            "''''''''''''''''''''''Testing''''''''''''''''''''\n",
            "error: 0.2088330126676162\n",
            "accuracy: 0.48008227746909937\n"
          ]
        }
      ]
    },
    {
      "cell_type": "code",
      "source": [
        "#Plot\n",
        "fig, ax = plt.subplots(figsize=(12,8))\n",
        "ax.plot(np.arange(iters), costL_test, 'r')\n",
        "ax.set_xlabel('Iterations')\n",
        "ax.set_ylabel('Cost')\n",
        "ax.set_title('Error vs. Iterations')"
      ],
      "metadata": {
        "colab": {
          "base_uri": "https://localhost:8080/",
          "height": 530
        },
        "id": "OPOrYzkDq7l8",
        "outputId": "73448be7-d6ec-48df-f59d-40b4f710e8fb"
      },
      "execution_count": null,
      "outputs": [
        {
          "output_type": "execute_result",
          "data": {
            "text/plain": [
              "Text(0.5, 1.0, 'Error vs. Iterations')"
            ]
          },
          "metadata": {},
          "execution_count": 234
        },
        {
          "output_type": "display_data",
          "data": {
            "text/plain": [
              "<Figure size 864x576 with 1 Axes>"
            ],
            "image/png": "[encoded data removed]"
          },
          "metadata": {
            "needs_background": "light"
          }
        }
      ]
    },
    {
      "cell_type": "markdown",
      "source": [
        "# **Investigate E : Compare my model with another regressor (Ridge Regression)**"
      ],
      "metadata": {
        "id": "j6YDKPoiPgXf"
      }
    },
    {
      "cell_type": "code",
      "source": [
        "ridge_model = Ridge(alpha=0.3).fit(X_train, y_train)\n",
        "#predicing the model\n",
        "y_pred_test = ridge_model.predict(X_test)\n",
        "y_pred_train = ridge_model.predict(X_train)\n",
        "score_train = ridge_model.score(X_train, y_train)\n",
        "score_test = ridge_model.score(X_test, y_test)\n",
        "\n",
        "# model evaluation\n",
        "mse_test=mean_squared_error(y_test,y_pred_test)\n",
        "mse_train=mean_squared_error(y_train,y_pred_train)\n",
        "print(\"''''''''''''''''''''''Training''''''''''''''''''''\")\n",
        "print(\"error:\" ,mse_train )\n",
        "print(\"accuracy:\", score_train)\n",
        "\n",
        "print(\"''''''''''''''''''''''Testing''''''''''''''''''''\")\n",
        "print(\"error:\" ,mse_test )\n",
        "print(\"accuracy:\", score_test)"
      ],
      "metadata": {
        "colab": {
          "base_uri": "https://localhost:8080/"
        },
        "id": "K5zuLfHFugc7",
        "outputId": "893e2bc0-5d02-47e9-876a-fa85b739969e"
      },
      "execution_count": null,
      "outputs": [
        {
          "output_type": "stream",
          "name": "stdout",
          "text": [
            "''''''''''''''''''''''Training''''''''''''''''''''\n",
            "error: 0.44591118501663624\n",
            "accuracy: 0.5587566535110429\n",
            "''''''''''''''''''''''Testing''''''''''''''''''''\n",
            "error: 0.420554316668643\n",
            "accuracy: 0.5688131835510413\n"
          ]
        }
      ]
    },
    {
      "cell_type": "markdown",
      "source": [
        "# **Investigate F : Polynomial regression model**"
      ],
      "metadata": {
        "id": "tslInVhSPUp3"
      }
    },
    {
      "cell_type": "code",
      "source": [
        "from sklearn.preprocessing import PolynomialFeatures\n",
        "\n",
        "poly = PolynomialFeatures(degree=4)\n",
        "\n",
        "x_train_poly = poly.fit_transform(X_train)\n",
        "x_test_poly = poly.transform(X_test)\n",
        "\n",
        "poly_model_train = LinearRegression().fit(x_train_poly, y_train)\n",
        "poly_model_test = LinearRegression().fit(x_test_poly, y_test)\n",
        "%time\n",
        "\n",
        "#predicing the model\n",
        "y_pred_train = poly_model_train.predict(x_train_poly)\n",
        "y_pred_test = poly_model_test.predict(x_test_poly)\n",
        "\n",
        "\n",
        "score_train = poly_model_train.score(x_train_poly, y_train)\n",
        "score_test = poly_model_test.score(x_test_poly, y_test)\n",
        "\n",
        "\n",
        "\n",
        "# model evaluation\n",
        "mse_test=mean_squared_error(y_test,y_pred_test)\n",
        "mse_train=mean_squared_error(y_train,y_pred_train)\n",
        "\n",
        "\n",
        "print(\"''''''''''''''''''''''Training''''''''''''''''''''\")\n",
        "print(\"error:\" ,mse_train )\n",
        "print(\"accuracy:\", score_train)\n",
        "\n",
        "print(\"''''''''''''''''''''''Testing''''''''''''''''''''\")\n",
        "print(\"error:\" ,mse_test )\n",
        "print(\"accuracy:\", score_test)\n",
        "\n",
        " "
      ],
      "metadata": {
        "colab": {
          "base_uri": "https://localhost:8080/"
        },
        "id": "W1ndJ0i7Pezk",
        "outputId": "42ba69d7-5854-4075-dfdd-53e6b1802a24"
      },
      "execution_count": null,
      "outputs": [
        {
          "output_type": "stream",
          "name": "stdout",
          "text": [
            "CPU times: user 6 µs, sys: 2 µs, total: 8 µs\n",
            "Wall time: 8.11 µs\n",
            "''''''''''''''''''''''Training''''''''''''''''''''\n",
            "error: 0.23348173350601967\n",
            "accuracy: 0.7689623743517549\n",
            "''''''''''''''''''''''Testing''''''''''''''''''''\n",
            "error: 0.12924713350831038\n",
            "accuracy: 0.867485226464786\n"
          ]
        }
      ]
    }
  ],
  "metadata": {
    "colab": {
      "provenance": [],
      "authorship_tag": "ABX9TyM/+u37HZntZIGYXE27iyv8",
      "include_colab_link": true
    },
    "kernelspec": {
      "display_name": "Python 3",
      "name": "python3"
    },
    "language_info": {
      "name": "python"
    }
  },
  "nbformat": 4,
  "nbformat_minor": 0
}