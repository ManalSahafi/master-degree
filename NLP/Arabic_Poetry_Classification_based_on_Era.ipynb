{
  "cells": [
    {
      "cell_type": "markdown",
      "metadata": {
        "id": "view-in-github",
        "colab_type": "text"
      },
      "source": [
        "<a href=\"https://colab.research.google.com/github/ManalSahafi/master-degree/blob/main/NLP/Arabic_Poetry_Classification_based_on_Era.ipynb\" target=\"_parent\"><img src=\"https://colab.research.google.com/assets/colab-badge.svg\" alt=\"Open In Colab\"/></a>"
      ]
    },
    {
      "cell_type": "code",
      "execution_count": null,
      "metadata": {
        "colab": {
          "base_uri": "https://localhost:8080/"
        },
        "id": "9Oem_hQOFnIo",
        "outputId": "7c064193-bb41-406b-ad3b-9008ccf69f64"
      },
      "outputs": [
        {
          "output_type": "stream",
          "name": "stdout",
          "text": [
            "Mounted at /content/drive\n"
          ]
        }
      ],
      "source": [
        "from google.colab import drive\n",
        "drive.mount('/content/drive')"
      ],
      "id": "9Oem_hQOFnIo"
    },
    {
      "cell_type": "code",
      "execution_count": null,
      "metadata": {
        "colab": {
          "base_uri": "https://localhost:8080/"
        },
        "id": "b91e7be4",
        "outputId": "2de5b159-482e-416e-b560-308d1d0901e0"
      },
      "outputs": [
        {
          "output_type": "stream",
          "name": "stdout",
          "text": [
            "[nltk_data] Downloading package punkt to /root/nltk_data...\n",
            "[nltk_data]   Unzipping tokenizers/punkt.zip.\n",
            "[nltk_data] Downloading package stopwords to /root/nltk_data...\n",
            "[nltk_data]   Unzipping corpora/stopwords.zip.\n"
          ]
        }
      ],
      "source": [
        "import pandas as pd\n",
        "import numpy as np\n",
        "import nltk \n",
        "import string\n",
        "import re\n",
        "nltk.download('punkt')\n",
        "nltk.download(\"stopwords\")\n",
        "from nltk.corpus import stopwords\n",
        "from nltk.tokenize import sent_tokenize , word_tokenize\n",
        "import codecs\n",
        "from nltk.stem import arlstem\n",
        "from collections import Counter\n",
        "import sklearn\n",
        "from sklearn.model_selection import train_test_split\n",
        "from sklearn.utils import shuffle\n",
        "from sklearn.metrics import classification_report, accuracy_score, confusion_matrix\n",
        "import tensorflow as tf\n",
        "\n",
        "from keras.models import Model\n",
        "from keras.models import load_model\n",
        "\n",
        "\n",
        "# give a path of model to load function\n",
        "import numpy as np\n",
        "from tqdm import tqdm\n",
        "tqdm.pandas(desc=\"progress-bar\")\n",
        "from gensim.models import Doc2Vec\n",
        "from sklearn import utils\n",
        "from sklearn.model_selection import train_test_split\n",
        "import gensim\n",
        "from sklearn.linear_model import LogisticRegression\n",
        "from gensim.models.doc2vec import TaggedDocument\n",
        "import re\n",
        "import seaborn as sns\n",
        "import matplotlib.pyplot as plt\n",
        "codecs\n",
        "from sklearn.svm import SVC"
      ],
      "id": "b91e7be4"
    },
    {
      "cell_type": "markdown",
      "metadata": {
        "id": "BT5tnHMkGrTl"
      },
      "source": [
        "# **Load The raw Dataset**"
      ],
      "id": "BT5tnHMkGrTl"
    },
    {
      "cell_type": "code",
      "execution_count": null,
      "metadata": {
        "colab": {
          "base_uri": "https://localhost:8080/",
          "height": 641
        },
        "id": "713e1762",
        "outputId": "460ebce0-27df-4492-a9c2-2fc139136ecd"
      },
      "outputs": [
        {
          "output_type": "execute_result",
          "data": {
            "text/plain": [
              "                    Poet                                  Title  \\\n",
              "5835             الفرزدق                وبيض ترقى من بنات مجاشع   \n",
              "3876                جرير              لقدْ نادى أميركِ باحتمالِ   \n",
              "2291  سوزان عليوان لبنان                                   غيمة   \n",
              "5071   عمر ابن أبي ربيعة  يَقُولُ عَتيقٌ إذْ شَكَوْتُ صَبَابَتي   \n",
              "3286        حسان بن ثابت   أهاجَكَ بالبَيْداء رَسْمُ المنازِلِ،   \n",
              "...                  ...                                    ...   \n",
              "1125    نزار قباني سوريا                     مَصْلوبَة النهدَين   \n",
              "4073   عمر ابن أبي ربيعة      قفْ بالديارِ عفا من اهلها الأثرُ،   \n",
              "757   عمر أبو ريشة سوريا                          في موسم الورد   \n",
              "3481        حسان بن ثابت           واللهِ ربي لا نفارقُ ماجداً،   \n",
              "2943   معين بسيسو فلسطين                             دقت الساعة   \n",
              "\n",
              "                                                   Poem    Labels  \\\n",
              "5835  وَبِيضٍ تَرَقّى مِنْ بَناتِ مُجاشِعٍ بهِنّ إلى...  الإسلامي   \n",
              "3876  لقدْ نادى أميركِ باحتمالِ و صدعَ نية َ الأنسِ ...  الإسلامي   \n",
              "2291                    ليتني غيمة تبكي .بدلاً عن عينيك    الحديث   \n",
              "5071  يَقُولُ عَتيقٌ إذْ شَكَوْتُ صَبَابَتي وبينَ دا...  الإسلامي   \n",
              "3286  أهاجَكَ بالبَيْداء رَسْمُ المنازِلِ، نعم قد عف...  الإسلامي   \n",
              "...                                                 ...       ...   \n",
              "1125  مَصْلوبَةَ النهدين . يالي منهُما تركا الرِدا ....    الحديث   \n",
              "4073  قفْ بالديارِ عفا من اهلها الأثرُ، عفى معالمها ...  الإسلامي   \n",
              "757   هنــا في موســـم الوردِ تلاقَيْنــا بـلا وَعْـ...    الحديث   \n",
              "3481  واللهِ ربي لا نفارقُ ماجداً، عَفَّ الخَلِيقَة ...  الإسلامي   \n",
              "2943  ليس ذنبي إن كان للنور قبر في بلادي وللمكافح قب...    الحديث   \n",
              "\n",
              "                                             Poem_clean  \\\n",
              "5835  [['وبيض', 'ترقى', 'من', 'بنات', 'مجاشع', 'بهن'...   \n",
              "3876  [['لقد', 'نادى', 'اميرك', 'باحتمال', 'و', 'صدع...   \n",
              "2291  [['ليتني', 'غيمة', 'تبكي', 'بدلا', 'عن', 'عيني...   \n",
              "5071  [['يقول', 'عتيق', 'اذ', 'شكوت', 'صبابتي', 'وبي...   \n",
              "3286  [['اهاجك', 'بالبيداء', 'رسم', 'المنازل', 'نعم'...   \n",
              "...                                                 ...   \n",
              "1125  [['مصلوبة', 'النهدين', 'يالي', 'منهما', 'تركا'...   \n",
              "4073  [['قف', 'بالديار', 'عفا', 'من', 'اهلها', 'الاث...   \n",
              "757   [['هنا', 'في', 'موسم', 'الورد', 'تلاقينا', 'بل...   \n",
              "3481  [['والله', 'ربي', 'لا', 'نفارق', 'ماجدا', 'عف'...   \n",
              "2943  [['ليس', 'ذنبي', 'ان', 'كان', 'للنور', 'قبر', ...   \n",
              "\n",
              "                                                 remove  \\\n",
              "5835  [['وبيض', 'ترقى', 'بنات', 'مجاشع', 'المجد', 'ا...   \n",
              "3876  [['نادى', 'اميرك', 'باحتمال', 'صدع', 'نية', 'ا...   \n",
              "2291               [['ليتني', 'غيمة', 'تبكي', 'عينيك']]   \n",
              "5071  [['يقول', 'عتيق', 'شكوت', 'صبابتي', 'داء', 'فؤ...   \n",
              "3286  [['اهاجك', 'بالبيداء', 'رسم', 'المنازل', 'عفاه...   \n",
              "...                                                 ...   \n",
              "1125  [['مصلوبة', 'النهدين', 'يالي', 'تركا', 'الردا'...   \n",
              "4073  [['قف', 'بالديار', 'عفا', 'اهلها', 'الاثر', 'ع...   \n",
              "757   [['موسم', 'الورد', 'تلاقينا', 'وعد', 'وسرنا', ...   \n",
              "3481  [['والله', 'ربي', 'نفارق', 'ماجدا', 'عف', 'الخ...   \n",
              "2943  [['ذنبي', 'للنور', 'قبر', 'بلادي', 'وللمكافح',...   \n",
              "\n",
              "                                                convert  \\\n",
              "5835  ['وبيض', 'ترقى', 'بنات', 'مجاشع', 'المجد', 'ال...   \n",
              "3876  ['نادى', 'اميرك', 'باحتمال', 'صدع', 'نية', 'ال...   \n",
              "2291                 ['ليتني', 'غيمة', 'تبكي', 'عينيك']   \n",
              "5071  ['يقول', 'عتيق', 'شكوت', 'صبابتي', 'داء', 'فؤا...   \n",
              "3286  ['اهاجك', 'بالبيداء', 'رسم', 'المنازل', 'عفاها...   \n",
              "...                                                 ...   \n",
              "1125  ['مصلوبة', 'النهدين', 'يالي', 'تركا', 'الردا',...   \n",
              "4073  ['قف', 'بالديار', 'عفا', 'اهلها', 'الاثر', 'عف...   \n",
              "757   ['موسم', 'الورد', 'تلاقينا', 'وعد', 'وسرنا', '...   \n",
              "3481  ['والله', 'ربي', 'نفارق', 'ماجدا', 'عف', 'الخل...   \n",
              "2943  ['ذنبي', 'للنور', 'قبر', 'بلادي', 'وللمكافح', ...   \n",
              "\n",
              "                                                   Text  procssLabel  \n",
              "5835  وبيض ترقى بنات مجاشع المجد التليد مفاخره بنات ...            1  \n",
              "3876  نادى اميرك باحتمال صدع نية الانس الحلال امن طر...            1  \n",
              "2291                              ليتني غيمة تبكي عينيك            0  \n",
              "5071  يقول عتيق شكوت صبابتي داء فؤادي مخامر احقا لئن...            1  \n",
              "3286  اهاجك بالبيداء رسم المنازل عفاها اسحم هاطل وجر...            1  \n",
              "...                                                 ...          ...  \n",
              "1125  مصلوبة النهدين يالي تركا الردا وتسلقا اضلاعي و...            0  \n",
              "4073  قف بالديار عفا اهلها الاثر عفى معالمها الارواح...            1  \n",
              "757   موسم الورد تلاقينا وعد وسرنا جلال الصمت مناكب ...            0  \n",
              "3481  والله ربي نفارق ماجدا عف الخليقة ماجد الاجداد ...            1  \n",
              "2943  ذنبي للنور قبر بلادي وللمكافح قبر وتفشى الظلام...            0  \n",
              "\n",
              "[5979 rows x 9 columns]"
            ],
            "text/html": [
              "\n",
              "  <div id=\"df-df1441a3-d503-45bb-8ec3-691505941e80\">\n",
              "    <div class=\"colab-df-container\">\n",
              "      <div>\n",
              "<style scoped>\n",
              "    .dataframe tbody tr th:only-of-type {\n",
              "        vertical-align: middle;\n",
              "    }\n",
              "\n",
              "    .dataframe tbody tr th {\n",
              "        vertical-align: top;\n",
              "    }\n",
              "\n",
              "    .dataframe thead th {\n",
              "        text-align: right;\n",
              "    }\n",
              "</style>\n",
              "<table border=\"1\" class=\"dataframe\">\n",
              "  <thead>\n",
              "    <tr style=\"text-align: right;\">\n",
              "      <th></th>\n",
              "      <th>Poet</th>\n",
              "      <th>Title</th>\n",
              "      <th>Poem</th>\n",
              "      <th>Labels</th>\n",
              "      <th>Poem_clean</th>\n",
              "      <th>remove</th>\n",
              "      <th>convert</th>\n",
              "      <th>Text</th>\n",
              "      <th>procssLabel</th>\n",
              "    </tr>\n",
              "  </thead>\n",
              "  <tbody>\n",
              "    <tr>\n",
              "      <th>5835</th>\n",
              "      <td>الفرزدق</td>\n",
              "      <td>وبيض ترقى من بنات مجاشع</td>\n",
              "      <td>وَبِيضٍ تَرَقّى مِنْ بَناتِ مُجاشِعٍ بهِنّ إلى...</td>\n",
              "      <td>الإسلامي</td>\n",
              "      <td>[['وبيض', 'ترقى', 'من', 'بنات', 'مجاشع', 'بهن'...</td>\n",
              "      <td>[['وبيض', 'ترقى', 'بنات', 'مجاشع', 'المجد', 'ا...</td>\n",
              "      <td>['وبيض', 'ترقى', 'بنات', 'مجاشع', 'المجد', 'ال...</td>\n",
              "      <td>وبيض ترقى بنات مجاشع المجد التليد مفاخره بنات ...</td>\n",
              "      <td>1</td>\n",
              "    </tr>\n",
              "    <tr>\n",
              "      <th>3876</th>\n",
              "      <td>جرير</td>\n",
              "      <td>لقدْ نادى أميركِ باحتمالِ</td>\n",
              "      <td>لقدْ نادى أميركِ باحتمالِ و صدعَ نية َ الأنسِ ...</td>\n",
              "      <td>الإسلامي</td>\n",
              "      <td>[['لقد', 'نادى', 'اميرك', 'باحتمال', 'و', 'صدع...</td>\n",
              "      <td>[['نادى', 'اميرك', 'باحتمال', 'صدع', 'نية', 'ا...</td>\n",
              "      <td>['نادى', 'اميرك', 'باحتمال', 'صدع', 'نية', 'ال...</td>\n",
              "      <td>نادى اميرك باحتمال صدع نية الانس الحلال امن طر...</td>\n",
              "      <td>1</td>\n",
              "    </tr>\n",
              "    <tr>\n",
              "      <th>2291</th>\n",
              "      <td>سوزان عليوان لبنان</td>\n",
              "      <td>غيمة</td>\n",
              "      <td>ليتني غيمة تبكي .بدلاً عن عينيك</td>\n",
              "      <td>الحديث</td>\n",
              "      <td>[['ليتني', 'غيمة', 'تبكي', 'بدلا', 'عن', 'عيني...</td>\n",
              "      <td>[['ليتني', 'غيمة', 'تبكي', 'عينيك']]</td>\n",
              "      <td>['ليتني', 'غيمة', 'تبكي', 'عينيك']</td>\n",
              "      <td>ليتني غيمة تبكي عينيك</td>\n",
              "      <td>0</td>\n",
              "    </tr>\n",
              "    <tr>\n",
              "      <th>5071</th>\n",
              "      <td>عمر ابن أبي ربيعة</td>\n",
              "      <td>يَقُولُ عَتيقٌ إذْ شَكَوْتُ صَبَابَتي</td>\n",
              "      <td>يَقُولُ عَتيقٌ إذْ شَكَوْتُ صَبَابَتي وبينَ دا...</td>\n",
              "      <td>الإسلامي</td>\n",
              "      <td>[['يقول', 'عتيق', 'اذ', 'شكوت', 'صبابتي', 'وبي...</td>\n",
              "      <td>[['يقول', 'عتيق', 'شكوت', 'صبابتي', 'داء', 'فؤ...</td>\n",
              "      <td>['يقول', 'عتيق', 'شكوت', 'صبابتي', 'داء', 'فؤا...</td>\n",
              "      <td>يقول عتيق شكوت صبابتي داء فؤادي مخامر احقا لئن...</td>\n",
              "      <td>1</td>\n",
              "    </tr>\n",
              "    <tr>\n",
              "      <th>3286</th>\n",
              "      <td>حسان بن ثابت</td>\n",
              "      <td>أهاجَكَ بالبَيْداء رَسْمُ المنازِلِ،</td>\n",
              "      <td>أهاجَكَ بالبَيْداء رَسْمُ المنازِلِ، نعم قد عف...</td>\n",
              "      <td>الإسلامي</td>\n",
              "      <td>[['اهاجك', 'بالبيداء', 'رسم', 'المنازل', 'نعم'...</td>\n",
              "      <td>[['اهاجك', 'بالبيداء', 'رسم', 'المنازل', 'عفاه...</td>\n",
              "      <td>['اهاجك', 'بالبيداء', 'رسم', 'المنازل', 'عفاها...</td>\n",
              "      <td>اهاجك بالبيداء رسم المنازل عفاها اسحم هاطل وجر...</td>\n",
              "      <td>1</td>\n",
              "    </tr>\n",
              "    <tr>\n",
              "      <th>...</th>\n",
              "      <td>...</td>\n",
              "      <td>...</td>\n",
              "      <td>...</td>\n",
              "      <td>...</td>\n",
              "      <td>...</td>\n",
              "      <td>...</td>\n",
              "      <td>...</td>\n",
              "      <td>...</td>\n",
              "      <td>...</td>\n",
              "    </tr>\n",
              "    <tr>\n",
              "      <th>1125</th>\n",
              "      <td>نزار قباني سوريا</td>\n",
              "      <td>مَصْلوبَة النهدَين</td>\n",
              "      <td>مَصْلوبَةَ النهدين . يالي منهُما تركا الرِدا ....</td>\n",
              "      <td>الحديث</td>\n",
              "      <td>[['مصلوبة', 'النهدين', 'يالي', 'منهما', 'تركا'...</td>\n",
              "      <td>[['مصلوبة', 'النهدين', 'يالي', 'تركا', 'الردا'...</td>\n",
              "      <td>['مصلوبة', 'النهدين', 'يالي', 'تركا', 'الردا',...</td>\n",
              "      <td>مصلوبة النهدين يالي تركا الردا وتسلقا اضلاعي و...</td>\n",
              "      <td>0</td>\n",
              "    </tr>\n",
              "    <tr>\n",
              "      <th>4073</th>\n",
              "      <td>عمر ابن أبي ربيعة</td>\n",
              "      <td>قفْ بالديارِ عفا من اهلها الأثرُ،</td>\n",
              "      <td>قفْ بالديارِ عفا من اهلها الأثرُ، عفى معالمها ...</td>\n",
              "      <td>الإسلامي</td>\n",
              "      <td>[['قف', 'بالديار', 'عفا', 'من', 'اهلها', 'الاث...</td>\n",
              "      <td>[['قف', 'بالديار', 'عفا', 'اهلها', 'الاثر', 'ع...</td>\n",
              "      <td>['قف', 'بالديار', 'عفا', 'اهلها', 'الاثر', 'عف...</td>\n",
              "      <td>قف بالديار عفا اهلها الاثر عفى معالمها الارواح...</td>\n",
              "      <td>1</td>\n",
              "    </tr>\n",
              "    <tr>\n",
              "      <th>757</th>\n",
              "      <td>عمر أبو ريشة سوريا</td>\n",
              "      <td>في موسم الورد</td>\n",
              "      <td>هنــا في موســـم الوردِ تلاقَيْنــا بـلا وَعْـ...</td>\n",
              "      <td>الحديث</td>\n",
              "      <td>[['هنا', 'في', 'موسم', 'الورد', 'تلاقينا', 'بل...</td>\n",
              "      <td>[['موسم', 'الورد', 'تلاقينا', 'وعد', 'وسرنا', ...</td>\n",
              "      <td>['موسم', 'الورد', 'تلاقينا', 'وعد', 'وسرنا', '...</td>\n",
              "      <td>موسم الورد تلاقينا وعد وسرنا جلال الصمت مناكب ...</td>\n",
              "      <td>0</td>\n",
              "    </tr>\n",
              "    <tr>\n",
              "      <th>3481</th>\n",
              "      <td>حسان بن ثابت</td>\n",
              "      <td>واللهِ ربي لا نفارقُ ماجداً،</td>\n",
              "      <td>واللهِ ربي لا نفارقُ ماجداً، عَفَّ الخَلِيقَة ...</td>\n",
              "      <td>الإسلامي</td>\n",
              "      <td>[['والله', 'ربي', 'لا', 'نفارق', 'ماجدا', 'عف'...</td>\n",
              "      <td>[['والله', 'ربي', 'نفارق', 'ماجدا', 'عف', 'الخ...</td>\n",
              "      <td>['والله', 'ربي', 'نفارق', 'ماجدا', 'عف', 'الخل...</td>\n",
              "      <td>والله ربي نفارق ماجدا عف الخليقة ماجد الاجداد ...</td>\n",
              "      <td>1</td>\n",
              "    </tr>\n",
              "    <tr>\n",
              "      <th>2943</th>\n",
              "      <td>معين بسيسو فلسطين</td>\n",
              "      <td>دقت الساعة</td>\n",
              "      <td>ليس ذنبي إن كان للنور قبر في بلادي وللمكافح قب...</td>\n",
              "      <td>الحديث</td>\n",
              "      <td>[['ليس', 'ذنبي', 'ان', 'كان', 'للنور', 'قبر', ...</td>\n",
              "      <td>[['ذنبي', 'للنور', 'قبر', 'بلادي', 'وللمكافح',...</td>\n",
              "      <td>['ذنبي', 'للنور', 'قبر', 'بلادي', 'وللمكافح', ...</td>\n",
              "      <td>ذنبي للنور قبر بلادي وللمكافح قبر وتفشى الظلام...</td>\n",
              "      <td>0</td>\n",
              "    </tr>\n",
              "  </tbody>\n",
              "</table>\n",
              "<p>5979 rows × 9 columns</p>\n",
              "</div>\n",
              "      <button class=\"colab-df-convert\" onclick=\"convertToInteractive('df-df1441a3-d503-45bb-8ec3-691505941e80')\"\n",
              "              title=\"Convert this dataframe to an interactive table.\"\n",
              "              style=\"display:none;\">\n",
              "        \n",
              "  <svg xmlns=\"http://www.w3.org/2000/svg\" height=\"24px\"viewBox=\"0 0 24 24\"\n",
              "       width=\"24px\">\n",
              "    <path d=\"M0 0h24v24H0V0z\" fill=\"none\"/>\n",
              "    <path d=\"M18.56 5.44l.94 2.06.94-2.06 2.06-.94-2.06-.94-.94-2.06-.94 2.06-2.06.94zm-11 1L8.5 8.5l.94-2.06 2.06-.94-2.06-.94L8.5 2.5l-.94 2.06-2.06.94zm10 10l.94 2.06.94-2.06 2.06-.94-2.06-.94-.94-2.06-.94 2.06-2.06.94z\"/><path d=\"M17.41 7.96l-1.37-1.37c-.4-.4-.92-.59-1.43-.59-.52 0-1.04.2-1.43.59L10.3 9.45l-7.72 7.72c-.78.78-.78 2.05 0 2.83L4 21.41c.39.39.9.59 1.41.59.51 0 1.02-.2 1.41-.59l7.78-7.78 2.81-2.81c.8-.78.8-2.07 0-2.86zM5.41 20L4 18.59l7.72-7.72 1.47 1.35L5.41 20z\"/>\n",
              "  </svg>\n",
              "      </button>\n",
              "      \n",
              "  <style>\n",
              "    .colab-df-container {\n",
              "      display:flex;\n",
              "      flex-wrap:wrap;\n",
              "      gap: 12px;\n",
              "    }\n",
              "\n",
              "    .colab-df-convert {\n",
              "      background-color: #E8F0FE;\n",
              "      border: none;\n",
              "      border-radius: 50%;\n",
              "      cursor: pointer;\n",
              "      display: none;\n",
              "      fill: #1967D2;\n",
              "      height: 32px;\n",
              "      padding: 0 0 0 0;\n",
              "      width: 32px;\n",
              "    }\n",
              "\n",
              "    .colab-df-convert:hover {\n",
              "      background-color: #E2EBFA;\n",
              "      box-shadow: 0px 1px 2px rgba(60, 64, 67, 0.3), 0px 1px 3px 1px rgba(60, 64, 67, 0.15);\n",
              "      fill: #174EA6;\n",
              "    }\n",
              "\n",
              "    [theme=dark] .colab-df-convert {\n",
              "      background-color: #3B4455;\n",
              "      fill: #D2E3FC;\n",
              "    }\n",
              "\n",
              "    [theme=dark] .colab-df-convert:hover {\n",
              "      background-color: #434B5C;\n",
              "      box-shadow: 0px 1px 3px 1px rgba(0, 0, 0, 0.15);\n",
              "      filter: drop-shadow(0px 1px 2px rgba(0, 0, 0, 0.3));\n",
              "      fill: #FFFFFF;\n",
              "    }\n",
              "  </style>\n",
              "\n",
              "      <script>\n",
              "        const buttonEl =\n",
              "          document.querySelector('#df-df1441a3-d503-45bb-8ec3-691505941e80 button.colab-df-convert');\n",
              "        buttonEl.style.display =\n",
              "          google.colab.kernel.accessAllowed ? 'block' : 'none';\n",
              "\n",
              "        async function convertToInteractive(key) {\n",
              "          const element = document.querySelector('#df-df1441a3-d503-45bb-8ec3-691505941e80');\n",
              "          const dataTable =\n",
              "            await google.colab.kernel.invokeFunction('convertToInteractive',\n",
              "                                                     [key], {});\n",
              "          if (!dataTable) return;\n",
              "\n",
              "          const docLinkHtml = 'Like what you see? Visit the ' +\n",
              "            '<a target=\"_blank\" href=https://colab.research.google.com/notebooks/data_table.ipynb>data table notebook</a>'\n",
              "            + ' to learn more about interactive tables.';\n",
              "          element.innerHTML = '';\n",
              "          dataTable['output_type'] = 'display_data';\n",
              "          await google.colab.output.renderOutput(dataTable, element);\n",
              "          const docLink = document.createElement('div');\n",
              "          docLink.innerHTML = docLinkHtml;\n",
              "          element.appendChild(docLink);\n",
              "        }\n",
              "      </script>\n",
              "    </div>\n",
              "  </div>\n",
              "  "
            ]
          },
          "metadata": {},
          "execution_count": 3
        }
      ],
      "source": [
        "path ='/content/drive/MyDrive/NLP Project/PAD_Poetry_Arabic_Dataset.csv'\n",
        "\n",
        "df = pd.read_csv(path)\n",
        "df.rename( columns={'Unnamed: 0':'name'}, inplace=True )\n",
        "df.drop('name', axis=1, inplace=True)\n",
        "\n",
        "df.rename( columns={'ages':'Labels'}, inplace=True )\n",
        "df.rename( columns={'string':'Text'}, inplace=True )\n",
        "df= df[df['Text'].notnull()]\n",
        "df = shuffle(df)\n",
        "df"
      ],
      "id": "713e1762"
    },
    {
      "cell_type": "markdown",
      "metadata": {
        "id": "y1r6X5AwhAhg"
      },
      "source": [
        "# **Text Preprocessing**"
      ],
      "id": "y1r6X5AwhAhg"
    },
    {
      "cell_type": "code",
      "execution_count": null,
      "metadata": {
        "colab": {
          "base_uri": "https://localhost:8080/",
          "height": 337
        },
        "id": "tma9XLa7Vyfo",
        "outputId": "9ff61335-988b-451f-90b2-5fbdab0eec61"
      },
      "outputs": [
        {
          "output_type": "stream",
          "name": "stderr",
          "text": [
            "/usr/local/lib/python3.7/dist-packages/seaborn/_decorators.py:43: FutureWarning: Pass the following variables as keyword args: x, y. From version 0.12, the only valid positional argument will be `data`, and passing other arguments without an explicit keyword will result in an error or misinterpretation.\n",
            "  FutureWarning\n"
          ]
        },
        {
          "output_type": "display_data",
          "data": {
            "text/plain": [
              "<Figure size 864x288 with 1 Axes>"
            ],
            "image/png": "[encoded data removed]"
          },
          "metadata": {
            "needs_background": "light"
          }
        }
      ],
      "source": [
        "cnt_pro = df['procssLabel'].value_counts()\n",
        "\n",
        "plt.figure(figsize=(12,4))\n",
        "sns.barplot(cnt_pro.index, cnt_pro.values)\n",
        "\n",
        "plt.ylabel('Number of Occurrences', fontsize=12)\n",
        "plt.xlabel('Ages', fontsize=12)\n",
        "\n",
        "#plt.xticks(rotation=90)\n",
        "plt.show()"
      ],
      "id": "tma9XLa7Vyfo"
    },
    {
      "cell_type": "code",
      "execution_count": null,
      "metadata": {
        "colab": {
          "base_uri": "https://localhost:8080/"
        },
        "id": "71HnyA8OeOKz",
        "outputId": "1d9ec997-cdd4-4180-da5a-0675976f0020"
      },
      "outputs": [
        {
          "output_type": "execute_result",
          "data": {
            "text/plain": [
              "TaggedDocument(words=['يظعن', 'الشيب', 'الشباب', 'ترى', 'لمة', 'يرم', 'غرابها', 'لئن', 'نفسي', 'تجيب', 'لطال', 'اقرت', 'بعيني', 'يغيم', 'سحابها', 'واصبحت', 'النسر', 'واقعا', 'وافناه', 'كر', 'الليالي', 'ذهابها', 'ومايرة', 'الاعضاد', 'اجهضت', 'نتيج', 'خداج', 'ناج', 'هبابها', 'تعاللتها', 'بالسوط', 'التياثها', 'بمقورة', 'الاعلام', 'يطفو', 'سرابها', 'زوري', 'بلالا', 'الحاجات', 'تنضى', 'ركابها', 'حلفت', 'ياثم', 'يمينه', 'اثمت', 'لاقيه', 'عذابها', 'لئن', 'ارضي', 'بلال', 'بدفقة', 'الغيث', 'يمنى', 'يديه', 'انسكابها', 'اكن', 'صاب', 'الحيا', 'ارضه', 'سقاها', 'جديبا', 'جنابها', 'فاصبح', 'رواه', 'جانب', 'مطرات', 'مستهل', 'ربابها', 'فتى', 'تقصر', 'الفتيان', 'فعاله', 'للحرب', 'يخبو', 'شهابها', 'المشتري', 'بالسيف', 'افضل', 'غلا', 'مارحى', 'الحرب', 'استدر', 'ضرابها', 'ابى', 'لبلال', 'كفيه', 'حيا', 'الارض', 'يسقي', 'محل', 'حبابها', 'ابن', 'ابي', 'موسى', 'لحاجات', 'اصحاب', 'الرسول', 'كتابها', 'رايت', 'بلالا', 'جرى', 'جاء', 'سابقا', 'وذلت', 'للحرب', 'قسرا', 'صعابها', 'يطمئن', 'الخائفون', 'وغيثه', 'بلاد', 'المحل', 'يحيا', 'ترابها', 'ابيت', 'الناهيك', 'تدفقا', 'انهل', 'نوء', 'الثريا', 'سحابها', 'رحلت', 'الدهنا', 'اليك', 'وبيننا', 'فلاة', 'وانياه', 'تعاوى', 'ذئابها', 'لالقاك', 'واللاقيك', 'يعلم', 'سيملا', 'كفي', 'ساعديه', 'ثوابها', 'نماك', 'ابو', 'موسى', 'ابوك', 'نمى', 'وعولا', 'باعلى', 'صاحتين', 'هضابها', 'يمان', 'جنته', 'تتقى', 'للحرب', 'فر', 'نابها', 'امروء', 'تعطي', 'يمينك', 'غلا', 'عاقبت', 'شديدا', 'عقابها'], tags=[1])"
            ]
          },
          "metadata": {},
          "execution_count": 5
        }
      ],
      "source": [
        "train, test = train_test_split(df ,test_size=0.3, random_state=42)\n",
        "\n",
        "train_tagged = train.apply(\n",
        "    lambda r: TaggedDocument(words=r['Text'].split(), tags=[r.procssLabel]), axis=1)\n",
        "test_tagged = test.apply(\n",
        "    lambda r: TaggedDocument(words=r['Text'].split(), tags=[r.procssLabel]), axis=1)\n",
        "\n",
        "# This list can also be considered as our first paragraph vector\n",
        "train_tagged.values[1]"
      ],
      "id": "71HnyA8OeOKz"
    },
    {
      "cell_type": "code",
      "execution_count": null,
      "metadata": {
        "id": "SaqHXXcYzO8j"
      },
      "outputs": [],
      "source": [
        "import multiprocessing\n",
        "\n",
        "cores = multiprocessing.cpu_count()"
      ],
      "id": "SaqHXXcYzO8j"
    },
    {
      "cell_type": "code",
      "execution_count": null,
      "metadata": {
        "colab": {
          "base_uri": "https://localhost:8080/"
        },
        "id": "refsXrpN1BAw",
        "outputId": "bebc4516-a13b-4642-f6f4-ba475058f0ee"
      },
      "outputs": [
        {
          "output_type": "stream",
          "name": "stderr",
          "text": [
            "100%|██████████| 4185/4185 [00:00<00:00, 653335.40it/s]\n"
          ]
        },
        {
          "output_type": "execute_result",
          "data": {
            "text/plain": [
              "{'ذكر': <gensim.models.keyedvectors.Vocab at 0x7f85c0a58690>,\n",
              " 'الرباب': <gensim.models.keyedvectors.Vocab at 0x7f85ba58cd10>,\n",
              " 'هجرا': <gensim.models.keyedvectors.Vocab at 0x7f85b6c6dad0>,\n",
              " 'ذكرى': <gensim.models.keyedvectors.Vocab at 0x7f85b6c6df50>,\n",
              " 'قريبة': <gensim.models.keyedvectors.Vocab at 0x7f85b6c6d910>,\n",
              " 'احدثت': <gensim.models.keyedvectors.Vocab at 0x7f85b6c6d3d0>,\n",
              " 'وطرا': <gensim.models.keyedvectors.Vocab at 0x7f85b6c6de50>,\n",
              " 'ولها': <gensim.models.keyedvectors.Vocab at 0x7f85b6c6d150>,\n",
              " 'باعلى': <gensim.models.keyedvectors.Vocab at 0x7f85b6c6de10>,\n",
              " 'الخيف': <gensim.models.keyedvectors.Vocab at 0x7f85b6c6d390>,\n",
              " 'منزلة': <gensim.models.keyedvectors.Vocab at 0x7f85b6c6dd50>,\n",
              " 'هاجت': <gensim.models.keyedvectors.Vocab at 0x7f85b6c6d310>,\n",
              " 'شوقا': <gensim.models.keyedvectors.Vocab at 0x7f85b68d6c50>,\n",
              " 'والبرد': <gensim.models.keyedvectors.Vocab at 0x7f85b68d6550>,\n",
              " 'طاف': <gensim.models.keyedvectors.Vocab at 0x7f85b68d6ed0>,\n",
              " 'قالت': <gensim.models.keyedvectors.Vocab at 0x7f85b68d6f10>,\n",
              " 'لتربيها': <gensim.models.keyedvectors.Vocab at 0x7f85b68d6510>,\n",
              " 'نرى': <gensim.models.keyedvectors.Vocab at 0x7f85b68d6bd0>,\n",
              " 'عمرا': <gensim.models.keyedvectors.Vocab at 0x7f85b68d6150>,\n",
              " 'اني': <gensim.models.keyedvectors.Vocab at 0x7f85b68d61d0>,\n",
              " 'النفس': <gensim.models.keyedvectors.Vocab at 0x7f85b68d6250>,\n",
              " 'ولذاك': <gensim.models.keyedvectors.Vocab at 0x7f85b68d6450>,\n",
              " 'اطمع': <gensim.models.keyedvectors.Vocab at 0x7f85b68d6050>,\n",
              " 'حضرا': <gensim.models.keyedvectors.Vocab at 0x7f85b68d6410>,\n",
              " 'قولها': <gensim.models.keyedvectors.Vocab at 0x7f85b68d6390>,\n",
              " 'لعمرك': <gensim.models.keyedvectors.Vocab at 0x7f85b68d65d0>,\n",
              " 'نخاف': <gensim.models.keyedvectors.Vocab at 0x7f85b68d6dd0>,\n",
              " 'وما': <gensim.models.keyedvectors.Vocab at 0x7f85b68d6610>,\n",
              " 'نرجو': <gensim.models.keyedvectors.Vocab at 0x7f85b68d64d0>,\n",
              " 'زيارة': <gensim.models.keyedvectors.Vocab at 0x7f85b68d6590>,\n",
              " 'زائر': <gensim.models.keyedvectors.Vocab at 0x7f85b68d6310>,\n",
              " 'ظهرا': <gensim.models.keyedvectors.Vocab at 0x7f85b68d6110>,\n",
              " 'ياتينا': <gensim.models.keyedvectors.Vocab at 0x7f85b68d6e50>,\n",
              " 'مجاهرة': <gensim.models.keyedvectors.Vocab at 0x7f85b68d6190>,\n",
              " 'فيمن': <gensim.models.keyedvectors.Vocab at 0x7f85b68d0c50>,\n",
              " 'ترين': <gensim.models.keyedvectors.Vocab at 0x7f85b68d0050>,\n",
              " 'شهرا': <gensim.models.keyedvectors.Vocab at 0x7f85b68d0e50>,\n",
              " 'الصغرى': <gensim.models.keyedvectors.Vocab at 0x7f85b68d05d0>,\n",
              " 'حلفت': <gensim.models.keyedvectors.Vocab at 0x7f85b68d0390>,\n",
              " 'بالله': <gensim.models.keyedvectors.Vocab at 0x7f85b68d0490>,\n",
              " 'صعدا': <gensim.models.keyedvectors.Vocab at 0x7f85b68d0250>,\n",
              " 'وهوت': <gensim.models.keyedvectors.Vocab at 0x7f85b68d02d0>,\n",
              " 'جيبها': <gensim.models.keyedvectors.Vocab at 0x7f85b68d07d0>,\n",
              " 'فطرا': <gensim.models.keyedvectors.Vocab at 0x7f85b68d0610>,\n",
              " 'وجرت': <gensim.models.keyedvectors.Vocab at 0x7f85b68d0410>,\n",
              " 'ماقيها': <gensim.models.keyedvectors.Vocab at 0x7f85b68d0090>,\n",
              " 'جزعا': <gensim.models.keyedvectors.Vocab at 0x7f85b68d00d0>,\n",
              " 'حب': <gensim.models.keyedvectors.Vocab at 0x7f85b68d0450>,\n",
              " 'ذكرا': <gensim.models.keyedvectors.Vocab at 0x7f85b68d0890>,\n",
              " 'رب': <gensim.models.keyedvectors.Vocab at 0x7f85b68d0810>,\n",
              " 'اعقب': <gensim.models.keyedvectors.Vocab at 0x7f85b68d0710>,\n",
              " 'فؤادي': <gensim.models.keyedvectors.Vocab at 0x7f85b68d0790>,\n",
              " 'بينا': <gensim.models.keyedvectors.Vocab at 0x7f85b68d0750>,\n",
              " 'قمت': <gensim.models.keyedvectors.Vocab at 0x7f85b68d0650>,\n",
              " 'لاسمع': <gensim.models.keyedvectors.Vocab at 0x7f85b68d0690>,\n",
              " 'فالتفتت': <gensim.models.keyedvectors.Vocab at 0x7f85b68d06d0>,\n",
              " 'اثبتت': <gensim.models.keyedvectors.Vocab at 0x7f85b68d0550>,\n",
              " 'اخو': <gensim.models.keyedvectors.Vocab at 0x7f85b68d0510>,\n",
              " 'جاءنا': <gensim.models.keyedvectors.Vocab at 0x7f85b68d0590>,\n",
              " 'يمشي': <gensim.models.keyedvectors.Vocab at 0x7f85b68d04d0>,\n",
              " 'خود': <gensim.models.keyedvectors.Vocab at 0x7f85b68d0350>,\n",
              " 'تجاوز': <gensim.models.keyedvectors.Vocab at 0x7f85b68d03d0>,\n",
              " 'حفرتي': <gensim.models.keyedvectors.Vocab at 0x7f85b68d0310>,\n",
              " 'حفرا': <gensim.models.keyedvectors.Vocab at 0x7f85b68d0150>,\n",
              " 'الشيب': <gensim.models.keyedvectors.Vocab at 0x7f85b68d01d0>,\n",
              " 'الشباب': <gensim.models.keyedvectors.Vocab at 0x7f85b68d0190>,\n",
              " 'ترى': <gensim.models.keyedvectors.Vocab at 0x7f85b68d0110>,\n",
              " 'يرم': <gensim.models.keyedvectors.Vocab at 0x7f85b68d0210>,\n",
              " 'لئن': <gensim.models.keyedvectors.Vocab at 0x7f85b68d0bd0>,\n",
              " 'نفسي': <gensim.models.keyedvectors.Vocab at 0x7f85b68d0b90>,\n",
              " 'تجيب': <gensim.models.keyedvectors.Vocab at 0x7f85b68d0c10>,\n",
              " 'لطال': <gensim.models.keyedvectors.Vocab at 0x7f85b68d0b10>,\n",
              " 'اقرت': <gensim.models.keyedvectors.Vocab at 0x7f85b68d0b50>,\n",
              " 'بعيني': <gensim.models.keyedvectors.Vocab at 0x7f85b68d0a90>,\n",
              " 'سحابها': <gensim.models.keyedvectors.Vocab at 0x7f85b68d0ad0>,\n",
              " 'واصبحت': <gensim.models.keyedvectors.Vocab at 0x7f85b68d0a10>,\n",
              " 'النسر': <gensim.models.keyedvectors.Vocab at 0x7f85b68d09d0>,\n",
              " 'واقعا': <gensim.models.keyedvectors.Vocab at 0x7f85b68d0910>,\n",
              " 'كر': <gensim.models.keyedvectors.Vocab at 0x7f85b68d0990>,\n",
              " 'الليالي': <gensim.models.keyedvectors.Vocab at 0x7f85b68d0950>,\n",
              " 'ذهابها': <gensim.models.keyedvectors.Vocab at 0x7f85b68d08d0>,\n",
              " 'الاعضاد': <gensim.models.keyedvectors.Vocab at 0x7f85b68d0fd0>,\n",
              " 'الاعلام': <gensim.models.keyedvectors.Vocab at 0x7f85b68d0850>,\n",
              " 'يطفو': <gensim.models.keyedvectors.Vocab at 0x7f85b68d0f90>,\n",
              " 'سرابها': <gensim.models.keyedvectors.Vocab at 0x7f85b68d0f10>,\n",
              " 'بلالا': <gensim.models.keyedvectors.Vocab at 0x7f85b68d0f50>,\n",
              " 'الحاجات': <gensim.models.keyedvectors.Vocab at 0x7f85b68d0e90>,\n",
              " 'ركابها': <gensim.models.keyedvectors.Vocab at 0x7f85b68d0ed0>,\n",
              " 'يمينه': <gensim.models.keyedvectors.Vocab at 0x7f85b68d0e10>,\n",
              " 'ارضي': <gensim.models.keyedvectors.Vocab at 0x7f85b68d0d90>,\n",
              " 'بلال': <gensim.models.keyedvectors.Vocab at 0x7f85b68d0d10>,\n",
              " 'الغيث': <gensim.models.keyedvectors.Vocab at 0x7f85b68d0dd0>,\n",
              " 'يمنى': <gensim.models.keyedvectors.Vocab at 0x7f85b68d0c90>,\n",
              " 'يديه': <gensim.models.keyedvectors.Vocab at 0x7f85b68d0cd0>,\n",
              " 'اكن': <gensim.models.keyedvectors.Vocab at 0x7f85b68d0d50>,\n",
              " 'صاب': <gensim.models.keyedvectors.Vocab at 0x7f85b6c7e150>,\n",
              " 'الحيا': <gensim.models.keyedvectors.Vocab at 0x7f85b6c7e450>,\n",
              " 'ارضه': <gensim.models.keyedvectors.Vocab at 0x7f85b6c7e1d0>,\n",
              " 'سقاها': <gensim.models.keyedvectors.Vocab at 0x7f85b7e25750>,\n",
              " 'فاصبح': <gensim.models.keyedvectors.Vocab at 0x7f85b686e310>,\n",
              " 'رواه': <gensim.models.keyedvectors.Vocab at 0x7f85b686e710>,\n",
              " 'جانب': <gensim.models.keyedvectors.Vocab at 0x7f85b686e790>,\n",
              " 'مستهل': <gensim.models.keyedvectors.Vocab at 0x7f85b686e610>,\n",
              " 'فتى': <gensim.models.keyedvectors.Vocab at 0x7f85b686eed0>,\n",
              " 'تقصر': <gensim.models.keyedvectors.Vocab at 0x7f85b686e190>,\n",
              " 'الفتيان': <gensim.models.keyedvectors.Vocab at 0x7f85b686ed90>,\n",
              " 'فعاله': <gensim.models.keyedvectors.Vocab at 0x7f85b686e990>,\n",
              " 'للحرب': <gensim.models.keyedvectors.Vocab at 0x7f85b686e890>,\n",
              " 'يخبو': <gensim.models.keyedvectors.Vocab at 0x7f85b686e850>,\n",
              " 'المشتري': <gensim.models.keyedvectors.Vocab at 0x7f85b686e150>,\n",
              " 'بالسيف': <gensim.models.keyedvectors.Vocab at 0x7f85b686e110>,\n",
              " 'افضل': <gensim.models.keyedvectors.Vocab at 0x7f85b686e0d0>,\n",
              " 'غلا': <gensim.models.keyedvectors.Vocab at 0x7f85b686e050>,\n",
              " 'الحرب': <gensim.models.keyedvectors.Vocab at 0x7f85b686e1d0>,\n",
              " 'ابى': <gensim.models.keyedvectors.Vocab at 0x7f85b686e450>,\n",
              " 'لبلال': <gensim.models.keyedvectors.Vocab at 0x7f85b686e5d0>,\n",
              " 'كفيه': <gensim.models.keyedvectors.Vocab at 0x7f85b686e250>,\n",
              " 'حيا': <gensim.models.keyedvectors.Vocab at 0x7f85b686e210>,\n",
              " 'الارض': <gensim.models.keyedvectors.Vocab at 0x7f85b686e090>,\n",
              " 'يسقي': <gensim.models.keyedvectors.Vocab at 0x7f85b686e4d0>,\n",
              " 'محل': <gensim.models.keyedvectors.Vocab at 0x7f85b686e510>,\n",
              " 'ابن': <gensim.models.keyedvectors.Vocab at 0x7f85b686e550>,\n",
              " 'ابي': <gensim.models.keyedvectors.Vocab at 0x7f85b686e410>,\n",
              " 'موسى': <gensim.models.keyedvectors.Vocab at 0x7f85b686e490>,\n",
              " 'اصحاب': <gensim.models.keyedvectors.Vocab at 0x7f85b686e690>,\n",
              " 'الرسول': <gensim.models.keyedvectors.Vocab at 0x7f85b686ea10>,\n",
              " 'كتابها': <gensim.models.keyedvectors.Vocab at 0x7f85b686e810>,\n",
              " 'رايت': <gensim.models.keyedvectors.Vocab at 0x7f85b686e3d0>,\n",
              " 'جرى': <gensim.models.keyedvectors.Vocab at 0x7f85b686e350>,\n",
              " 'جاء': <gensim.models.keyedvectors.Vocab at 0x7f85b686e650>,\n",
              " 'سابقا': <gensim.models.keyedvectors.Vocab at 0x7f85b686e390>,\n",
              " 'وذلت': <gensim.models.keyedvectors.Vocab at 0x7f85b686e9d0>,\n",
              " 'قسرا': <gensim.models.keyedvectors.Vocab at 0x7f85b686e950>,\n",
              " 'يطمئن': <gensim.models.keyedvectors.Vocab at 0x7f85b686e8d0>,\n",
              " 'الخائفون': <gensim.models.keyedvectors.Vocab at 0x7f85b686e910>,\n",
              " 'بلاد': <gensim.models.keyedvectors.Vocab at 0x7f85b686ec50>,\n",
              " 'المحل': <gensim.models.keyedvectors.Vocab at 0x7f85b686ef50>,\n",
              " 'يحيا': <gensim.models.keyedvectors.Vocab at 0x7f85b686ed10>,\n",
              " 'ترابها': <gensim.models.keyedvectors.Vocab at 0x7f85b686ec90>,\n",
              " 'ابيت': <gensim.models.keyedvectors.Vocab at 0x7f85b686e7d0>,\n",
              " 'نوء': <gensim.models.keyedvectors.Vocab at 0x7f85b686ed50>,\n",
              " 'الثريا': <gensim.models.keyedvectors.Vocab at 0x7f85b686ecd0>,\n",
              " 'رحلت': <gensim.models.keyedvectors.Vocab at 0x7f85b686ef10>,\n",
              " 'الدهنا': <gensim.models.keyedvectors.Vocab at 0x7f85b686ee90>,\n",
              " 'اليك': <gensim.models.keyedvectors.Vocab at 0x7f85b686ee10>,\n",
              " 'وبيننا': <gensim.models.keyedvectors.Vocab at 0x7f85b686ea90>,\n",
              " 'فلاة': <gensim.models.keyedvectors.Vocab at 0x7f85b686ee50>,\n",
              " 'تعاوى': <gensim.models.keyedvectors.Vocab at 0x7f85b686ead0>,\n",
              " 'لالقاك': <gensim.models.keyedvectors.Vocab at 0x7f85b686eb10>,\n",
              " 'يعلم': <gensim.models.keyedvectors.Vocab at 0x7f85b686ec10>,\n",
              " 'كفي': <gensim.models.keyedvectors.Vocab at 0x7f85b686eb50>,\n",
              " 'ساعديه': <gensim.models.keyedvectors.Vocab at 0x7f85b686e590>,\n",
              " 'ثوابها': <gensim.models.keyedvectors.Vocab at 0x7f85b686ebd0>,\n",
              " 'نماك': <gensim.models.keyedvectors.Vocab at 0x7f85b686eb90>,\n",
              " 'ابو': <gensim.models.keyedvectors.Vocab at 0x7f85b686edd0>,\n",
              " 'ابوك': <gensim.models.keyedvectors.Vocab at 0x7f85b686ea50>,\n",
              " 'نمى': <gensim.models.keyedvectors.Vocab at 0x7f85b686ef90>,\n",
              " 'يمان': <gensim.models.keyedvectors.Vocab at 0x7f85b686efd0>,\n",
              " 'جنته': <gensim.models.keyedvectors.Vocab at 0x7f85b689c310>,\n",
              " 'تتقى': <gensim.models.keyedvectors.Vocab at 0x7f85b689c1d0>,\n",
              " 'فر': <gensim.models.keyedvectors.Vocab at 0x7f85b689c450>,\n",
              " 'نابها': <gensim.models.keyedvectors.Vocab at 0x7f85b689c550>,\n",
              " 'تعطي': <gensim.models.keyedvectors.Vocab at 0x7f85b689cad0>,\n",
              " 'يمينك': <gensim.models.keyedvectors.Vocab at 0x7f85b689c150>,\n",
              " 'شديدا': <gensim.models.keyedvectors.Vocab at 0x7f85b689ca50>,\n",
              " 'عقابها': <gensim.models.keyedvectors.Vocab at 0x7f85b689c190>,\n",
              " 'هاج': <gensim.models.keyedvectors.Vocab at 0x7f85b689c350>,\n",
              " 'قلبي': <gensim.models.keyedvectors.Vocab at 0x7f85b689c110>,\n",
              " 'العام': <gensim.models.keyedvectors.Vocab at 0x7f85b689c5d0>,\n",
              " 'ظعن': <gensim.models.keyedvectors.Vocab at 0x7f85b689cc90>,\n",
              " 'مسحورا': <gensim.models.keyedvectors.Vocab at 0x7f85b689c290>,\n",
              " 'الشوق': <gensim.models.keyedvectors.Vocab at 0x7f85b689ca90>,\n",
              " 'ساحر': <gensim.models.keyedvectors.Vocab at 0x7f85b689c950>,\n",
              " 'سليمى': <gensim.models.keyedvectors.Vocab at 0x7f85b689c090>,\n",
              " 'وهند': <gensim.models.keyedvectors.Vocab at 0x7f85b689c7d0>,\n",
              " 'والرباب': <gensim.models.keyedvectors.Vocab at 0x7f85b689c750>,\n",
              " 'وزينب': <gensim.models.keyedvectors.Vocab at 0x7f85b689c790>,\n",
              " 'واروى': <gensim.models.keyedvectors.Vocab at 0x7f85b689c810>,\n",
              " 'وليلى': <gensim.models.keyedvectors.Vocab at 0x7f85b689c050>,\n",
              " 'كواعب': <gensim.models.keyedvectors.Vocab at 0x7f85b689ced0>,\n",
              " 'اتراب': <gensim.models.keyedvectors.Vocab at 0x7f85b689c850>,\n",
              " 'حمولها': <gensim.models.keyedvectors.Vocab at 0x7f85b689ca10>,\n",
              " 'النخل': <gensim.models.keyedvectors.Vocab at 0x7f85b689cdd0>,\n",
              " 'عمري': <gensim.models.keyedvectors.Vocab at 0x7f85b689ce10>,\n",
              " 'النخيل': <gensim.models.keyedvectors.Vocab at 0x7f85b689c910>,\n",
              " 'تعلق': <gensim.models.keyedvectors.Vocab at 0x7f85b689c0d0>,\n",
              " 'وعقل': <gensim.models.keyedvectors.Vocab at 0x7f85b689c690>,\n",
              " 'يملا': <gensim.models.keyedvectors.Vocab at 0x7f85b689c8d0>,\n",
              " 'العين': <gensim.models.keyedvectors.Vocab at 0x7f85b689c410>,\n",
              " 'فاخر': <gensim.models.keyedvectors.Vocab at 0x7f85b689cbd0>,\n",
              " 'دخلن': <gensim.models.keyedvectors.Vocab at 0x7f85b689cd50>,\n",
              " 'نصف': <gensim.models.keyedvectors.Vocab at 0x7f85b689cd10>,\n",
              " 'النهار': <gensim.models.keyedvectors.Vocab at 0x7f85b689c990>,\n",
              " 'الجاذر': <gensim.models.keyedvectors.Vocab at 0x7f85b689cfd0>,\n",
              " 'رقت': <gensim.models.keyedvectors.Vocab at 0x7f85b689c590>,\n",
              " 'دق': <gensim.models.keyedvectors.Vocab at 0x7f85b689c390>,\n",
              " 'تلوث': <gensim.models.keyedvectors.Vocab at 0x7f85b689c210>,\n",
              " 'فروعا': <gensim.models.keyedvectors.Vocab at 0x7f85b689c250>,\n",
              " 'اينعت': <gensim.models.keyedvectors.Vocab at 0x7f85b689c490>,\n",
              " 'وابيض': <gensim.models.keyedvectors.Vocab at 0x7f85b689cb90>,\n",
              " 'المحاجر': <gensim.models.keyedvectors.Vocab at 0x7f85b689c710>,\n",
              " 'الالوان': <gensim.models.keyedvectors.Vocab at 0x7f85b689c890>,\n",
              " 'لونا': <gensim.models.keyedvectors.Vocab at 0x7f85b689c3d0>,\n",
              " 'در': <gensim.models.keyedvectors.Vocab at 0x7f85b68dfbd0>,\n",
              " 'يقبل': <gensim.models.keyedvectors.Vocab at 0x7f85b68dfcd0>,\n",
              " 'الطيب': <gensim.models.keyedvectors.Vocab at 0x7f85b68dfed0>,\n",
              " 'باهر': <gensim.models.keyedvectors.Vocab at 0x7f85b68dfd90>,\n",
              " 'عتاق': <gensim.models.keyedvectors.Vocab at 0x7f85b68dfe10>,\n",
              " 'الحسن': <gensim.models.keyedvectors.Vocab at 0x7f85b68dffd0>,\n",
              " 'تضحي': <gensim.models.keyedvectors.Vocab at 0x7f85b68dff10>,\n",
              " 'ولو': <gensim.models.keyedvectors.Vocab at 0x7f85b68dfe50>,\n",
              " 'تصب': <gensim.models.keyedvectors.Vocab at 0x7f85b68dfa50>,\n",
              " 'طيبا': <gensim.models.keyedvectors.Vocab at 0x7f85b68df9d0>,\n",
              " 'لال': <gensim.models.keyedvectors.Vocab at 0x7f85b68dfc90>,\n",
              " 'الجادي': <gensim.models.keyedvectors.Vocab at 0x7f85b68df950>,\n",
              " 'متونها': <gensim.models.keyedvectors.Vocab at 0x7f85b68df990>,\n",
              " 'ومسك': <gensim.models.keyedvectors.Vocab at 0x7f85b68dfb10>,\n",
              " 'ذكي': <gensim.models.keyedvectors.Vocab at 0x7f85b68df8d0>,\n",
              " 'عيون': <gensim.models.keyedvectors.Vocab at 0x7f85b68df290>,\n",
              " 'صور': <gensim.models.keyedvectors.Vocab at 0x7f85b68df850>,\n",
              " 'الدمى': <gensim.models.keyedvectors.Vocab at 0x7f85b68dff90>,\n",
              " 'وطرف': <gensim.models.keyedvectors.Vocab at 0x7f85b68df810>,\n",
              " 'ضعيف': <gensim.models.keyedvectors.Vocab at 0x7f85b68df7d0>,\n",
              " 'العقل': <gensim.models.keyedvectors.Vocab at 0x7f85b68df090>,\n",
              " 'فاتر': <gensim.models.keyedvectors.Vocab at 0x7f85b68dfad0>,\n",
              " 'ابانت': <gensim.models.keyedvectors.Vocab at 0x7f85b68df750>,\n",
              " 'حصيدا': <gensim.models.keyedvectors.Vocab at 0x7f85b68df6d0>,\n",
              " 'يمين': <gensim.models.keyedvectors.Vocab at 0x7f85b68df710>,\n",
              " 'وسارت': <gensim.models.keyedvectors.Vocab at 0x7f85b68df790>,\n",
              " 'وفيها': <gensim.models.keyedvectors.Vocab at 0x7f85b68df250>,\n",
              " 'رماح': <gensim.models.keyedvectors.Vocab at 0x7f85b68df210>,\n",
              " 'فظلت': <gensim.models.keyedvectors.Vocab at 0x7f85b68df1d0>,\n",
              " 'هموم': <gensim.models.keyedvectors.Vocab at 0x7f85b68df150>,\n",
              " 'حزن': <gensim.models.keyedvectors.Vocab at 0x7f85b68df0d0>,\n",
              " 'عساكر': <gensim.models.keyedvectors.Vocab at 0x7f85b68df110>,\n",
              " 'وجد': <gensim.models.keyedvectors.Vocab at 0x7f85b68df190>,\n",
              " 'وشوق': <gensim.models.keyedvectors.Vocab at 0x7f85b68df050>,\n",
              " 'رفهت': <gensim.models.keyedvectors.Vocab at 0x7f85b68df650>,\n",
              " 'اتتني': <gensim.models.keyedvectors.Vocab at 0x7f85b68df5d0>,\n",
              " 'قلت': <gensim.models.keyedvectors.Vocab at 0x7f85b68df550>,\n",
              " 'يسلى': <gensim.models.keyedvectors.Vocab at 0x7f85b68df610>,\n",
              " 'القلب': <gensim.models.keyedvectors.Vocab at 0x7f85b68df590>,\n",
              " 'ذاكر': <gensim.models.keyedvectors.Vocab at 0x7f85b68df4d0>,\n",
              " 'مات': <gensim.models.keyedvectors.Vocab at 0x7f85b68df510>,\n",
              " 'صبابة': <gensim.models.keyedvectors.Vocab at 0x7f85b68dfb50>,\n",
              " 'لقام': <gensim.models.keyedvectors.Vocab at 0x7f85b68df410>,\n",
              " 'عفت': <gensim.models.keyedvectors.Vocab at 0x7f85b68df3d0>,\n",
              " 'دمنة': <gensim.models.keyedvectors.Vocab at 0x7f85b68df450>,\n",
              " 'اقفرت': <gensim.models.keyedvectors.Vocab at 0x7f85b68df350>,\n",
              " 'الحي': <gensim.models.keyedvectors.Vocab at 0x7f85b68df390>,\n",
              " 'سامر': <gensim.models.keyedvectors.Vocab at 0x7f85b68df310>,\n",
              " 'تبدت': <gensim.models.keyedvectors.Vocab at 0x7f85b68df2d0>,\n",
              " 'الارواح': <gensim.models.keyedvectors.Vocab at 0x7f85b68df910>,\n",
              " 'عشية': <gensim.models.keyedvectors.Vocab at 0x7f85b68dfa10>,\n",
              " 'وغير': <gensim.models.keyedvectors.Vocab at 0x7f85b68dfa90>,\n",
              " 'ايات': <gensim.models.keyedvectors.Vocab at 0x7f85b68df890>,\n",
              " 'الرسوم': <gensim.models.keyedvectors.Vocab at 0x7f85b6926fd0>,\n",
              " 'وغيث': <gensim.models.keyedvectors.Vocab at 0x7f85b6926150>,\n",
              " 'سماكي': <gensim.models.keyedvectors.Vocab at 0x7f85b6926110>,\n",
              " 'ركام': <gensim.models.keyedvectors.Vocab at 0x7f85b6926090>,\n",
              " 'سحابه': <gensim.models.keyedvectors.Vocab at 0x7f85b6926190>,\n",
              " 'الوسمي': <gensim.models.keyedvectors.Vocab at 0x7f85b6926290>,\n",
              " 'بالماء': <gensim.models.keyedvectors.Vocab at 0x7f85b6926210>,\n",
              " 'باكر': <gensim.models.keyedvectors.Vocab at 0x7f85b69260d0>,\n",
              " 'يبيت': <gensim.models.keyedvectors.Vocab at 0x7f85b6926250>,\n",
              " 'ابدى': <gensim.models.keyedvectors.Vocab at 0x7f85b6926390>,\n",
              " 'بروقا': <gensim.models.keyedvectors.Vocab at 0x7f85b6926350>,\n",
              " 'سيوف': <gensim.models.keyedvectors.Vocab at 0x7f85b6926490>,\n",
              " 'زحوف': <gensim.models.keyedvectors.Vocab at 0x7f85b6926450>,\n",
              " 'الاساور': <gensim.models.keyedvectors.Vocab at 0x7f85b69261d0>,\n",
              " 'اعجاز': <gensim.models.keyedvectors.Vocab at 0x7f85b69264d0>,\n",
              " 'مزنه': <gensim.models.keyedvectors.Vocab at 0x7f85b69263d0>,\n",
              " 'يجاوبها': <gensim.models.keyedvectors.Vocab at 0x7f85b69265d0>,\n",
              " 'اخر': <gensim.models.keyedvectors.Vocab at 0x7f85b6926550>,\n",
              " 'الليل': <gensim.models.keyedvectors.Vocab at 0x7f85b6926590>,\n",
              " 'حنين': <gensim.models.keyedvectors.Vocab at 0x7f85b6926a50>,\n",
              " 'خلج': <gensim.models.keyedvectors.Vocab at 0x7f85b6926410>,\n",
              " 'وعطف': <gensim.models.keyedvectors.Vocab at 0x7f85b6926610>,\n",
              " 'برق': <gensim.models.keyedvectors.Vocab at 0x7f85b69267d0>,\n",
              " 'ورعد': <gensim.models.keyedvectors.Vocab at 0x7f85b6926650>,\n",
              " 'مزامير': <gensim.models.keyedvectors.Vocab at 0x7f85b69268d0>,\n",
              " 'جون': <gensim.models.keyedvectors.Vocab at 0x7f85b6926dd0>,\n",
              " 'رسم': <gensim.models.keyedvectors.Vocab at 0x7f85b6926990>,\n",
              " 'الدار': <gensim.models.keyedvectors.Vocab at 0x7f85b6926790>,\n",
              " 'اجش': <gensim.models.keyedvectors.Vocab at 0x7f85b6926810>,\n",
              " 'هزيم': <gensim.models.keyedvectors.Vocab at 0x7f85b6926950>,\n",
              " 'الاكم': <gensim.models.keyedvectors.Vocab at 0x7f85b6926890>,\n",
              " 'ماطر': <gensim.models.keyedvectors.Vocab at 0x7f85b6926710>,\n",
              " 'يصب': <gensim.models.keyedvectors.Vocab at 0x7f85b6926850>,\n",
              " 'الماء': <gensim.models.keyedvectors.Vocab at 0x7f85b69266d0>,\n",
              " 'صبا': <gensim.models.keyedvectors.Vocab at 0x7f85b69269d0>,\n",
              " 'نزل': <gensim.models.keyedvectors.Vocab at 0x7f85b6926ad0>,\n",
              " 'تجر': <gensim.models.keyedvectors.Vocab at 0x7f85b6926e50>,\n",
              " 'زلقت': <gensim.models.keyedvectors.Vocab at 0x7f85b6926d10>,\n",
              " 'الضباب': <gensim.models.keyedvectors.Vocab at 0x7f85b6926750>,\n",
              " 'كساها': <gensim.models.keyedvectors.Vocab at 0x7f85b6926a10>,\n",
              " 'رياضا': <gensim.models.keyedvectors.Vocab at 0x7f85b6926b90>,\n",
              " 'صبح': <gensim.models.keyedvectors.Vocab at 0x7f85b6926f50>,\n",
              " 'ناضر': <gensim.models.keyedvectors.Vocab at 0x7f85b6926d50>,\n",
              " 'واعتم': <gensim.models.keyedvectors.Vocab at 0x7f85b6926b50>,\n",
              " 'ازواج': <gensim.models.keyedvectors.Vocab at 0x7f85b6926e10>,\n",
              " 'نبتها': <gensim.models.keyedvectors.Vocab at 0x7f85b6926f90>,\n",
              " 'نما': <gensim.models.keyedvectors.Vocab at 0x7f85b6926e90>,\n",
              " 'بعده': <gensim.models.keyedvectors.Vocab at 0x7f85b6926ed0>,\n",
              " 'بقل': <gensim.models.keyedvectors.Vocab at 0x7f85b6926d90>,\n",
              " 'روع': <gensim.models.keyedvectors.Vocab at 0x7f85b6926c10>,\n",
              " 'النؤي': <gensim.models.keyedvectors.Vocab at 0x7f85b6926f10>,\n",
              " 'اسه': <gensim.models.keyedvectors.Vocab at 0x7f85b6926c90>,\n",
              " 'واري': <gensim.models.keyedvectors.Vocab at 0x7f85b6926cd0>,\n",
              " 'افراس': <gensim.models.keyedvectors.Vocab at 0x7f85b6926c50>,\n",
              " 'النار': <gensim.models.keyedvectors.Vocab at 0x7f85b6926bd0>,\n",
              " 'ركد': <gensim.models.keyedvectors.Vocab at 0x7f85b6926310>,\n",
              " 'هاب': <gensim.models.keyedvectors.Vocab at 0x7f85b6926910>,\n",
              " 'كالحمامة': <gensim.models.keyedvectors.Vocab at 0x7f85b6926b10>,\n",
              " 'داثر': <gensim.models.keyedvectors.Vocab at 0x7f85b69262d0>,\n",
              " 'فهيج': <gensim.models.keyedvectors.Vocab at 0x7f85b6926050>,\n",
              " 'دمعي': <gensim.models.keyedvectors.Vocab at 0x7f85b6889ad0>,\n",
              " 'دار': <gensim.models.keyedvectors.Vocab at 0x7f85b68891d0>,\n",
              " 'وحي': <gensim.models.keyedvectors.Vocab at 0x7f85b68899d0>,\n",
              " 'السلام': <gensim.models.keyedvectors.Vocab at 0x7f85b6889550>,\n",
              " 'بوادر': <gensim.models.keyedvectors.Vocab at 0x7f85b68898d0>,\n",
              " 'وحبك': <gensim.models.keyedvectors.Vocab at 0x7f85b6889750>,\n",
              " 'تستطيع': <gensim.models.keyedvectors.Vocab at 0x7f85b6889210>,\n",
              " 'طلابه': <gensim.models.keyedvectors.Vocab at 0x7f85b6889510>,\n",
              " 'يجد': <gensim.models.keyedvectors.Vocab at 0x7f85b6889650>,\n",
              " 'الوصل': <gensim.models.keyedvectors.Vocab at 0x7f85b6889810>,\n",
              " 'داء': <gensim.models.keyedvectors.Vocab at 0x7f85b68894d0>,\n",
              " 'مخامر': <gensim.models.keyedvectors.Vocab at 0x7f85b6889ed0>,\n",
              " 'يجري': <gensim.models.keyedvectors.Vocab at 0x7f85b6889290>,\n",
              " 'الها': <gensim.models.keyedvectors.Vocab at 0x7f85b6889e50>,\n",
              " 'فاض': <gensim.models.keyedvectors.Vocab at 0x7f85b6889c90>,\n",
              " 'ماء': <gensim.models.keyedvectors.Vocab at 0x7f85b68b9d50>,\n",
              " 'البس': <gensim.models.keyedvectors.Vocab at 0x7f85b68b9e10>,\n",
              " 'غامر': <gensim.models.keyedvectors.Vocab at 0x7f85b68b9d10>,\n",
              " 'الشمس': <gensim.models.keyedvectors.Vocab at 0x7f85b691b090>,\n",
              " 'قم': <gensim.models.keyedvectors.Vocab at 0x7f85b691b610>,\n",
              " 'راس': <gensim.models.keyedvectors.Vocab at 0x7f85b691b210>,\n",
              " 'وظلت': <gensim.models.keyedvectors.Vocab at 0x7f85b691b590>,\n",
              " 'الخواطر': <gensim.models.keyedvectors.Vocab at 0x7f85b691b510>,\n",
              " 'اجوب': <gensim.models.keyedvectors.Vocab at 0x7f85b691b690>,\n",
              " 'يعمل': <gensim.models.keyedvectors.Vocab at 0x7f85b691b550>,\n",
              " 'الخيرات': <gensim.models.keyedvectors.Vocab at 0x7f85b691b850>,\n",
              " 'يخط': <gensim.models.keyedvectors.Vocab at 0x7f85b691b810>,\n",
              " 'خاليا': <gensim.models.keyedvectors.Vocab at 0x7f85b691b7d0>,\n",
              " 'اجد': <gensim.models.keyedvectors.Vocab at 0x7f85b691b910>,\n",
              " 'رد': <gensim.models.keyedvectors.Vocab at 0x7f85b691b6d0>,\n",
              " 'الطرف': <gensim.models.keyedvectors.Vocab at 0x7f85b691b9d0>,\n",
              " 'فحل': <gensim.models.keyedvectors.Vocab at 0x7f85b691b8d0>,\n",
              " 'عذافر': <gensim.models.keyedvectors.Vocab at 0x7f85b691b750>,\n",
              " 'تمد': <gensim.models.keyedvectors.Vocab at 0x7f85b691b950>,\n",
              " 'الزمام': <gensim.models.keyedvectors.Vocab at 0x7f85b691ba10>,\n",
              " 'مشت': <gensim.models.keyedvectors.Vocab at 0x7f85b691bdd0>,\n",
              " 'عاقر': <gensim.models.keyedvectors.Vocab at 0x7f85b691be10>,\n",
              " 'طوله': <gensim.models.keyedvectors.Vocab at 0x7f85b691bd50>,\n",
              " 'نفى': <gensim.models.keyedvectors.Vocab at 0x7f85b691be90>,\n",
              " 'ناجر': <gensim.models.keyedvectors.Vocab at 0x7f85b691bad0>,\n",
              " 'وطال': <gensim.models.keyedvectors.Vocab at 0x7f85b691bf90>,\n",
              " 'شواها': <gensim.models.keyedvectors.Vocab at 0x7f85b691bfd0>,\n",
              " 'طال': <gensim.models.keyedvectors.Vocab at 0x7f85b691ba50>,\n",
              " 'خطمها': <gensim.models.keyedvectors.Vocab at 0x7f85b691bed0>,\n",
              " 'جواب': <gensim.models.keyedvectors.Vocab at 0x7f85b691b710>,\n",
              " 'قفرة': <gensim.models.keyedvectors.Vocab at 0x7f85b691bf10>,\n",
              " 'باتر': <gensim.models.keyedvectors.Vocab at 0x7f85b691b650>,\n",
              " 'الميس': <gensim.models.keyedvectors.Vocab at 0x7f85b691b4d0>,\n",
              " 'اقضي': <gensim.models.keyedvectors.Vocab at 0x7f85b691bc90>,\n",
              " 'حاجتي': <gensim.models.keyedvectors.Vocab at 0x7f85b691bc10>,\n",
              " 'واردها': <gensim.models.keyedvectors.Vocab at 0x7f85b691bc50>,\n",
              " 'منينا': <gensim.models.keyedvectors.Vocab at 0x7f85b691bcd0>,\n",
              " 'المنيح': <gensim.models.keyedvectors.Vocab at 0x7f85b691bb50>,\n",
              " 'اللذات': <gensim.models.keyedvectors.Vocab at 0x7f85b691bb10>,\n",
              " 'الله': <gensim.models.keyedvectors.Vocab at 0x7f85b691bb90>,\n",
              " 'ساتر': <gensim.models.keyedvectors.Vocab at 0x7f85b691bbd0>,\n",
              " 'الاسلام': <gensim.models.keyedvectors.Vocab at 0x7f85b691b790>,\n",
              " 'والشيب': <gensim.models.keyedvectors.Vocab at 0x7f85b691b5d0>,\n",
              " 'والتقى': <gensim.models.keyedvectors.Vocab at 0x7f85b691ba90>,\n",
              " 'والاسلام': <gensim.models.keyedvectors.Vocab at 0x7f85b691bd10>,\n",
              " 'للمرء': <gensim.models.keyedvectors.Vocab at 0x7f85b691b890>,\n",
              " 'زاجر': <gensim.models.keyedvectors.Vocab at 0x7f85b691b450>,\n",
              " 'وقلت': <gensim.models.keyedvectors.Vocab at 0x7f85b691b3d0>,\n",
              " 'مرت': <gensim.models.keyedvectors.Vocab at 0x7f85b691b410>,\n",
              " 'باهلها': <gensim.models.keyedvectors.Vocab at 0x7f85b691b490>,\n",
              " 'ربي': <gensim.models.keyedvectors.Vocab at 0x7f85b691b350>,\n",
              " 'غابر': <gensim.models.keyedvectors.Vocab at 0x7f85b691b390>,\n",
              " 'الرب': <gensim.models.keyedvectors.Vocab at 0x7f85b691b990>,\n",
              " 'اللطيف': <gensim.models.keyedvectors.Vocab at 0x7f85b691bf50>,\n",
              " 'مكانه': <gensim.models.keyedvectors.Vocab at 0x7f85b691be50>,\n",
              " 'واول': <gensim.models.keyedvectors.Vocab at 0x7f85b691b1d0>,\n",
              " 'ربنا': <gensim.models.keyedvectors.Vocab at 0x7f85b691b310>,\n",
              " 'كريم': <gensim.models.keyedvectors.Vocab at 0x7f85b691b150>,\n",
              " 'حليم': <gensim.models.keyedvectors.Vocab at 0x7f85b691b250>,\n",
              " 'يعقب': <gensim.models.keyedvectors.Vocab at 0x7f85b691b290>,\n",
              " 'حكمه': <gensim.models.keyedvectors.Vocab at 0x7f85b691b050>,\n",
              " 'ايادي': <gensim.models.keyedvectors.Vocab at 0x7f85b691b190>,\n",
              " 'الخير': <gensim.models.keyedvectors.Vocab at 0x7f85b691b0d0>,\n",
              " 'ينيم': <gensim.models.keyedvectors.Vocab at 0x7f85b691b110>,\n",
              " 'حصاد': <gensim.models.keyedvectors.Vocab at 0x7f8640c37ad0>,\n",
              " 'الزرع': <gensim.models.keyedvectors.Vocab at 0x7f85b7e2aa90>,\n",
              " 'قرون': <gensim.models.keyedvectors.Vocab at 0x7f85b7e2aa50>,\n",
              " 'ابر': <gensim.models.keyedvectors.Vocab at 0x7f85b7e2aa10>,\n",
              " 'يعي': <gensim.models.keyedvectors.Vocab at 0x7f85b800d9d0>,\n",
              " 'فاني': <gensim.models.keyedvectors.Vocab at 0x7f85b800da10>,\n",
              " 'الشعر': <gensim.models.keyedvectors.Vocab at 0x7f85b6c59290>,\n",
              " 'الانسان': <gensim.models.keyedvectors.Vocab at 0x7f85b68fd610>,\n",
              " 'عامل': <gensim.models.keyedvectors.Vocab at 0x7f85b68fd190>,\n",
              " 'الموت': <gensim.models.keyedvectors.Vocab at 0x7f85b68fd150>,\n",
              " 'ناشر': <gensim.models.keyedvectors.Vocab at 0x7f85b68fd690>,\n",
              " 'الم': <gensim.models.keyedvectors.Vocab at 0x7f85b68fd490>,\n",
              " 'والشر': <gensim.models.keyedvectors.Vocab at 0x7f85b68fd310>,\n",
              " 'فتنة': <gensim.models.keyedvectors.Vocab at 0x7f85b68fd1d0>,\n",
              " 'يوما': <gensim.models.keyedvectors.Vocab at 0x7f85b68fdb10>,\n",
              " 'اضرت': <gensim.models.keyedvectors.Vocab at 0x7f85b68fd790>,\n",
              " 'اتت': <gensim.models.keyedvectors.Vocab at 0x7f85b68fdb90>,\n",
              " 'وعدنا': <gensim.models.keyedvectors.Vocab at 0x7f85b68fde50>,\n",
              " 'ونازل': <gensim.models.keyedvectors.Vocab at 0x7f85b68fdfd0>,\n",
              " 'يريد': <gensim.models.keyedvectors.Vocab at 0x7f85b68fda50>,\n",
              " 'فراقها': <gensim.models.keyedvectors.Vocab at 0x7f85b68fd7d0>,\n",
              " 'ينصف': <gensim.models.keyedvectors.Vocab at 0x7f85b68fd6d0>,\n",
              " 'الاقوام': <gensim.models.keyedvectors.Vocab at 0x7f85b68fd910>,\n",
              " 'فات': <gensim.models.keyedvectors.Vocab at 0x7f85b68fd290>,\n",
              " 'قاضيا': <gensim.models.keyedvectors.Vocab at 0x7f85b68fd9d0>,\n",
              " 'امرئ': <gensim.models.keyedvectors.Vocab at 0x7f85b68fd710>,\n",
              " 'جائر': <gensim.models.keyedvectors.Vocab at 0x7f85b68fd5d0>,\n",
              " 'يعذر': <gensim.models.keyedvectors.Vocab at 0x7f85b68fdc50>,\n",
              " 'الدين': <gensim.models.keyedvectors.Vocab at 0x7f85b68fd850>,\n",
              " 'لامر': <gensim.models.keyedvectors.Vocab at 0x7f85b68fdc10>,\n",
              " 'الناس': <gensim.models.keyedvectors.Vocab at 0x7f85b68fd8d0>,\n",
              " 'عاذر': <gensim.models.keyedvectors.Vocab at 0x7f85b68fd890>,\n",
              " 'تنتصر': <gensim.models.keyedvectors.Vocab at 0x7f85b68fdcd0>,\n",
              " 'القصيدة': <gensim.models.keyedvectors.Vocab at 0x7f85b68fdc90>,\n",
              " 'المسدس': <gensim.models.keyedvectors.Vocab at 0x7f85b68fd4d0>,\n",
              " 'للصوت': <gensim.models.keyedvectors.Vocab at 0x7f85b68fd2d0>,\n",
              " 'التلاميذ': <gensim.models.keyedvectors.Vocab at 0x7f85b68fdbd0>,\n",
              " 'للدموع': <gensim.models.keyedvectors.Vocab at 0x7f85b68fd810>,\n",
              " 'وتنتصر': <gensim.models.keyedvectors.Vocab at 0x7f85b68fda90>,\n",
              " 'الوردة': <gensim.models.keyedvectors.Vocab at 0x7f85b68fd110>,\n",
              " 'رجل': <gensim.models.keyedvectors.Vocab at 0x7f85b68fd590>,\n",
              " 'البوليس': <gensim.models.keyedvectors.Vocab at 0x7f85b68fdd10>,\n",
              " 'المكتبات': <gensim.models.keyedvectors.Vocab at 0x7f85b68fdb50>,\n",
              " 'مصانع': <gensim.models.keyedvectors.Vocab at 0x7f85b68fdf90>,\n",
              " 'الاسلحة': <gensim.models.keyedvectors.Vocab at 0x7f85b68fdad0>,\n",
              " 'استعيد': <gensim.models.keyedvectors.Vocab at 0x7f85b68fded0>,\n",
              " 'الاشياء': <gensim.models.keyedvectors.Vocab at 0x7f85b68fdd90>,\n",
              " 'الشامية': <gensim.models.keyedvectors.Vocab at 0x7f85b68fde10>,\n",
              " 'والكتابات': <gensim.models.keyedvectors.Vocab at 0x7f85b68fddd0>,\n",
              " 'تكتبني': <gensim.models.keyedvectors.Vocab at 0x7f85b68fdf10>,\n",
              " 'اريد': <gensim.models.keyedvectors.Vocab at 0x7f85b68fdd50>,\n",
              " 'افتح': <gensim.models.keyedvectors.Vocab at 0x7f85b68fde90>,\n",
              " 'الجوارير': <gensim.models.keyedvectors.Vocab at 0x7f85b68fdf50>,\n",
              " 'امي': <gensim.models.keyedvectors.Vocab at 0x7f85b68fd550>,\n",
              " 'تخبئ': <gensim.models.keyedvectors.Vocab at 0x7f85b68fda10>,\n",
              " 'خاتم': <gensim.models.keyedvectors.Vocab at 0x7f85b68fd650>,\n",
              " 'الذهبية': <gensim.models.keyedvectors.Vocab at 0x7f85b68fd210>,\n",
              " 'الحجازية': <gensim.models.keyedvectors.Vocab at 0x7f85b68fd250>,\n",
              " 'وخصلة': <gensim.models.keyedvectors.Vocab at 0x7f85b68fd0d0>,\n",
              " 'شعري': <gensim.models.keyedvectors.Vocab at 0x7f8640f3b650>,\n",
              " 'الذهبي': <gensim.models.keyedvectors.Vocab at 0x7f85b63f8710>,\n",
              " 'بقيت': <gensim.models.keyedvectors.Vocab at 0x7f85b63f8550>,\n",
              " 'تحتفظ': <gensim.models.keyedvectors.Vocab at 0x7f85b63f8650>,\n",
              " 'يوم': <gensim.models.keyedvectors.Vocab at 0x7f85b63f8cd0>,\n",
              " 'ولادتي': <gensim.models.keyedvectors.Vocab at 0x7f85b63f8350>,\n",
              " 'سيدتي': <gensim.models.keyedvectors.Vocab at 0x7f85b63f8790>,\n",
              " 'دخل': <gensim.models.keyedvectors.Vocab at 0x7f85b63f8fd0>,\n",
              " 'انتصرت': <gensim.models.keyedvectors.Vocab at 0x7f85b63f8a90>,\n",
              " 'قمر': <gensim.models.keyedvectors.Vocab at 0x7f85b63f8bd0>,\n",
              " 'الشعراء': <gensim.models.keyedvectors.Vocab at 0x7f85b63f85d0>,\n",
              " 'تفوقت': <gensim.models.keyedvectors.Vocab at 0x7f85b63f82d0>,\n",
              " 'نشيد': <gensim.models.keyedvectors.Vocab at 0x7f85b63f8590>,\n",
              " 'الانشاد': <gensim.models.keyedvectors.Vocab at 0x7f85b63f89d0>,\n",
              " 'وقصائد': <gensim.models.keyedvectors.Vocab at 0x7f85b63f80d0>,\n",
              " 'لوركا': <gensim.models.keyedvectors.Vocab at 0x7f85b63f8e50>,\n",
              " 'وبابلو': <gensim.models.keyedvectors.Vocab at 0x7f85b63f8490>,\n",
              " 'نيرودا': <gensim.models.keyedvectors.Vocab at 0x7f85b63f8a10>,\n",
              " 'احبك': <gensim.models.keyedvectors.Vocab at 0x7f85b63f8910>,\n",
              " 'يصبح': <gensim.models.keyedvectors.Vocab at 0x7f85b63f8e90>,\n",
              " 'قطعة': <gensim.models.keyedvectors.Vocab at 0x7f85b63f8250>,\n",
              " 'غيار': <gensim.models.keyedvectors.Vocab at 0x7f85b63f8c50>,\n",
              " 'تباع': <gensim.models.keyedvectors.Vocab at 0x7f85b63f8ed0>,\n",
              " 'الصيدليات': <gensim.models.keyedvectors.Vocab at 0x7f85b63f8d50>,\n",
              " 'فاطباء': <gensim.models.keyedvectors.Vocab at 0x7f85b63f8690>,\n",
              " 'القلوب': <gensim.models.keyedvectors.Vocab at 0x7f85b63f8810>,\n",
              " 'كليفلاند': <gensim.models.keyedvectors.Vocab at 0x7f85b63f8190>,\n",
              " 'تصنع': <gensim.models.keyedvectors.Vocab at 0x7f85b63f8390>,\n",
              " 'الاحذية': <gensim.models.keyedvectors.Vocab at 0x7f85b63f8ad0>,\n",
              " 'السماء': <gensim.models.keyedvectors.Vocab at 0x7f85b63f8f50>,\n",
              " 'واطئة': <gensim.models.keyedvectors.Vocab at 0x7f85b63f8d10>,\n",
              " 'والغيوم': <gensim.models.keyedvectors.Vocab at 0x7f85b63f8750>,\n",
              " 'العالية': <gensim.models.keyedvectors.Vocab at 0x7f85b63f8b10>,\n",
              " 'تتسكع': <gensim.models.keyedvectors.Vocab at 0x7f85b63f8450>,\n",
              " 'الاسفلت': <gensim.models.keyedvectors.Vocab at 0x7f85b63f8090>,\n",
              " 'وجمهورية': <gensim.models.keyedvectors.Vocab at 0x7f85b63f8410>,\n",
              " 'افلاطون': <gensim.models.keyedvectors.Vocab at 0x7f85b63f8d90>,\n",
              " 'وشريعة': <gensim.models.keyedvectors.Vocab at 0x7f85b63f87d0>,\n",
              " 'حمورابي': <gensim.models.keyedvectors.Vocab at 0x7f85b63f8890>,\n",
              " 'ووصايا': <gensim.models.keyedvectors.Vocab at 0x7f85b63f8610>,\n",
              " 'الانبياء': <gensim.models.keyedvectors.Vocab at 0x7f85b63f8110>,\n",
              " 'صارت': <gensim.models.keyedvectors.Vocab at 0x7f85b63f84d0>,\n",
              " 'مستوى': <gensim.models.keyedvectors.Vocab at 0x7f85b63f88d0>,\n",
              " 'سطح': <gensim.models.keyedvectors.Vocab at 0x7f85b63f81d0>,\n",
              " 'البحر': <gensim.models.keyedvectors.Vocab at 0x7f85b63f8f90>,\n",
              " 'ومشايخ': <gensim.models.keyedvectors.Vocab at 0x7f85b63f8b90>,\n",
              " 'الطرق': <gensim.models.keyedvectors.Vocab at 0x7f85b63f86d0>,\n",
              " 'الصوفية': <gensim.models.keyedvectors.Vocab at 0x7f85b63f8e10>,\n",
              " 'ترتفع': <gensim.models.keyedvectors.Vocab at 0x7f85b63f8990>,\n",
              " 'قليلا': <gensim.models.keyedvectors.Vocab at 0x7f85b63f8850>,\n",
              " 'وكلام': <gensim.models.keyedvectors.Vocab at 0x7f85b63f8290>,\n",
              " 'حلب': <gensim.models.keyedvectors.Vocab at 0x7f85b63f83d0>,\n",
              " 'ضرع': <gensim.models.keyedvectors.Vocab at 0x7f85b63f8c90>,\n",
              " 'ملا': <gensim.models.keyedvectors.Vocab at 0x7f85b63f8f10>,\n",
              " 'الثمن': <gensim.models.keyedvectors.Vocab at 0x7f85b63f8c10>,\n",
              " 'قبلت': <gensim.models.keyedvectors.Vocab at 0x7f85b63f8050>,\n",
              " 'يديها': <gensim.models.keyedvectors.Vocab at 0x7f85b63f8a50>,\n",
              " 'شاكره': <gensim.models.keyedvectors.Vocab at 0x7f85b63f8150>,\n",
              " 'اكلت': <gensim.models.keyedvectors.Vocab at 0x7f85b63f8dd0>,\n",
              " 'زمن': <gensim.models.keyedvectors.Vocab at 0x7f85b63f8b50>,\n",
              " 'قصدت': <gensim.models.keyedvectors.Vocab at 0x7f85b63f8950>,\n",
              " 'مدت': <gensim.models.keyedvectors.Vocab at 0x7f85b63f8510>,\n",
              " 'كوب': <gensim.models.keyedvectors.Vocab at 0x7f85b63f8210>,\n",
              " 'لبن': <gensim.models.keyedvectors.Vocab at 0x7f863eb946d0>,\n",
              " 'اليوميات': <gensim.models.keyedvectors.Vocab at 0x7f85b6d49e90>,\n",
              " 'تلاحقنا': <gensim.models.keyedvectors.Vocab at 0x7f85b6d49e10>,\n",
              " 'الخرافة': <gensim.models.keyedvectors.Vocab at 0x7f85b7f42210>,\n",
              " 'والاساطير': <gensim.models.keyedvectors.Vocab at 0x7f85b802a6d0>,\n",
              " 'القبر': <gensim.models.keyedvectors.Vocab at 0x7f85b7f4a250>,\n",
              " 'الاموات': <gensim.models.keyedvectors.Vocab at 0x7f85b89caad0>,\n",
              " 'والسياف': <gensim.models.keyedvectors.Vocab at 0x7f85b89ca910>,\n",
              " 'مسرور': <gensim.models.keyedvectors.Vocab at 0x7f85b89ca9d0>,\n",
              " 'ملايين': <gensim.models.keyedvectors.Vocab at 0x7f85b89ca990>,\n",
              " 'السنوات': <gensim.models.keyedvectors.Vocab at 0x7f85b7fb52d0>,\n",
              " 'شمس': <gensim.models.keyedvectors.Vocab at 0x7f85ba542250>,\n",
              " 'نور': <gensim.models.keyedvectors.Vocab at 0x7f85ba54a5d0>,\n",
              " 'بايدينا': <gensim.models.keyedvectors.Vocab at 0x7f85ba54a610>,\n",
              " 'مسامير': <gensim.models.keyedvectors.Vocab at 0x7f85ba54a650>,\n",
              " 'وفوق': <gensim.models.keyedvectors.Vocab at 0x7f85ba54a590>,\n",
              " 'سيف': <gensim.models.keyedvectors.Vocab at 0x7f85ba54a550>,\n",
              " 'رهيف': <gensim.models.keyedvectors.Vocab at 0x7f85ba54a690>,\n",
              " 'الحد': <gensim.models.keyedvectors.Vocab at 0x7f85ba54a6d0>,\n",
              " 'فراشنا': <gensim.models.keyedvectors.Vocab at 0x7f85b6bcc090>,\n",
              " 'عبد': <gensim.models.keyedvectors.Vocab at 0x7f85b6bccad0>,\n",
              " 'قبيح': <gensim.models.keyedvectors.Vocab at 0x7f85b6bcc490>,\n",
              " 'الوجه': <gensim.models.keyedvectors.Vocab at 0x7f85b6bcc590>,\n",
              " 'النهدين': <gensim.models.keyedvectors.Vocab at 0x7f85b6bccc50>,\n",
              " 'يفتش': <gensim.models.keyedvectors.Vocab at 0x7f85b6bcce50>,\n",
              " 'الاحلام': <gensim.models.keyedvectors.Vocab at 0x7f85b6bccbd0>,\n",
              " 'الاسرار': <gensim.models.keyedvectors.Vocab at 0x7f85b6bcc0d0>,\n",
              " 'الاشواق': <gensim.models.keyedvectors.Vocab at 0x7f85b6bcc290>,\n",
              " 'تحملها': <gensim.models.keyedvectors.Vocab at 0x7f85b6bcc250>,\n",
              " 'مقيم': <gensim.models.keyedvectors.Vocab at 0x7f85b6bcc210>,\n",
              " 'مدينتنا': <gensim.models.keyedvectors.Vocab at 0x7f85b6bcc190>,\n",
              " 'اراه': <gensim.models.keyedvectors.Vocab at 0x7f85b6bcc1d0>,\n",
              " 'ثياب': <gensim.models.keyedvectors.Vocab at 0x7f85b6bcc150>,\n",
              " 'اخي': <gensim.models.keyedvectors.Vocab at 0x7f85b6bccc10>,\n",
              " 'وهنا': <gensim.models.keyedvectors.Vocab at 0x7f85b6bcce90>,\n",
              " 'رجال': <gensim.models.keyedvectors.Vocab at 0x7f85b78e7b90>,\n",
              " 'بلدتنا': <gensim.models.keyedvectors.Vocab at 0x7f85b78e7b10>,\n",
              " 'السياف': <gensim.models.keyedvectors.Vocab at 0x7f85b78e7bd0>,\n",
              " 'عاصي': <gensim.models.keyedvectors.Vocab at 0x7f85b78e7a50>,\n",
              " 'الرحباني': <gensim.models.keyedvectors.Vocab at 0x7f85b78e7ad0>,\n",
              " 'الجميلة': <gensim.models.keyedvectors.Vocab at 0x7f85b6bb0f50>,\n",
              " 'حياتنا': <gensim.models.keyedvectors.Vocab at 0x7f85b6bb0c50>,\n",
              " 'قصيدة': <gensim.models.keyedvectors.Vocab at 0x7f85b6bb0ad0>,\n",
              " 'ندخل': <gensim.models.keyedvectors.Vocab at 0x7f85b6bb0b50>,\n",
              " 'واخر': <gensim.models.keyedvectors.Vocab at 0x7f85b6bb0cd0>,\n",
              " 'حبة': <gensim.models.keyedvectors.Vocab at 0x7f85b6bb0d10>,\n",
              " 'قمح': <gensim.models.keyedvectors.Vocab at 0x7f85b6bb0bd0>,\n",
              " 'اليباس': <gensim.models.keyedvectors.Vocab at 0x7f85b6bb0c10>,\n",
              " 'العتمة': <gensim.models.keyedvectors.Vocab at 0x7f85b6bb0610>,\n",
              " 'حمامة': <gensim.models.keyedvectors.Vocab at 0x7f85b6bb0a90>,\n",
              " 'تحط': <gensim.models.keyedvectors.Vocab at 0x7f85b6bb0b10>,\n",
              " 'اكتافنا': <gensim.models.keyedvectors.Vocab at 0x7f85b6bb0f90>,\n",
              " 'الخراب': <gensim.models.keyedvectors.Vocab at 0x7f85b6bb0e90>,\n",
              " 'تشتعل': <gensim.models.keyedvectors.Vocab at 0x7f85b6bb0dd0>,\n",
              " 'الحرائق': <gensim.models.keyedvectors.Vocab at 0x7f85b6c51250>,\n",
              " 'ثيابنا': <gensim.models.keyedvectors.Vocab at 0x7f85b6c513d0>,\n",
              " 'الطفولة': <gensim.models.keyedvectors.Vocab at 0x7f85b6c515d0>,\n",
              " 'تسرق': <gensim.models.keyedvectors.Vocab at 0x7f85b6c51310>,\n",
              " 'طفولتنا': <gensim.models.keyedvectors.Vocab at 0x7f85b6c51150>,\n",
              " 'بدا': <gensim.models.keyedvectors.Vocab at 0x7f85b6c51350>,\n",
              " 'الحب': <gensim.models.keyedvectors.Vocab at 0x7f85b6c511d0>,\n",
              " 'وبه': <gensim.models.keyedvectors.Vocab at 0x7f85b6c512d0>,\n",
              " 'انتهى': <gensim.models.keyedvectors.Vocab at 0x7f85b68f9550>,\n",
              " 'اللون': <gensim.models.keyedvectors.Vocab at 0x7f85b68f9590>,\n",
              " 'الاخضر': <gensim.models.keyedvectors.Vocab at 0x7f85b68f9110>,\n",
              " 'النبيذ': <gensim.models.keyedvectors.Vocab at 0x7f85b68f9290>,\n",
              " 'بحر': <gensim.models.keyedvectors.Vocab at 0x7f85b68f9150>,\n",
              " 'اعظم': <gensim.models.keyedvectors.Vocab at 0x7f85b68f9310>,\n",
              " 'المحيط': <gensim.models.keyedvectors.Vocab at 0x7f85b68f93d0>,\n",
              " 'الاطلسي': <gensim.models.keyedvectors.Vocab at 0x7f85b68f9410>,\n",
              " 'نذهب': <gensim.models.keyedvectors.Vocab at 0x7f85b68f9350>,\n",
              " 'علمنا': <gensim.models.keyedvectors.Vocab at 0x7f85b68f9390>,\n",
              " 'تكتب': <gensim.models.keyedvectors.Vocab at 0x7f85b68f9190>,\n",
              " 'ضفائر': <gensim.models.keyedvectors.Vocab at 0x7f85b68f9450>,\n",
              " 'حبيباتنا': <gensim.models.keyedvectors.Vocab at 0x7f85b68f9490>,\n",
              " 'الحنان': <gensim.models.keyedvectors.Vocab at 0x7f85b68f95d0>,\n",
              " 'يدي': <gensim.models.keyedvectors.Vocab at 0x7f85b68f9610>,\n",
              " 'تحولت': <gensim.models.keyedvectors.Vocab at 0x7f85b68f9650>,\n",
              " 'الموسيقى': <gensim.models.keyedvectors.Vocab at 0x7f85b68f9690>,\n",
              " 'مظاهرة': <gensim.models.keyedvectors.Vocab at 0x7f85b68f94d0>,\n",
              " 'وتحول': <gensim.models.keyedvectors.Vocab at 0x7f85b68f9510>,\n",
              " 'غزوة': <gensim.models.keyedvectors.Vocab at 0x7f85b68f9750>,\n",
              " 'صلاة': <gensim.models.keyedvectors.Vocab at 0x7f85b68f9710>,\n",
              " 'جملة': <gensim.models.keyedvectors.Vocab at 0x7f85b68f9b90>,\n",
              " 'كائنات': <gensim.models.keyedvectors.Vocab at 0x7f85b68f9910>,\n",
              " 'ضوء': <gensim.models.keyedvectors.Vocab at 0x7f85b68f9790>,\n",
              " 'حادثا': <gensim.models.keyedvectors.Vocab at 0x7f85b68f9990>,\n",
              " 'جبلا': <gensim.models.keyedvectors.Vocab at 0x7f85b68f99d0>,\n",
              " 'ويوم': <gensim.models.keyedvectors.Vocab at 0x7f85b68f90d0>,\n",
              " 'يكتبون': <gensim.models.keyedvectors.Vocab at 0x7f85b68f9250>,\n",
              " 'تاريخ': <gensim.models.keyedvectors.Vocab at 0x7f85b68f9f10>,\n",
              " 'الشجر': <gensim.models.keyedvectors.Vocab at 0x7f85b68f9f50>,\n",
              " 'وتاريخ': <gensim.models.keyedvectors.Vocab at 0x7f85b68f9ed0>,\n",
              " 'الاحمر': <gensim.models.keyedvectors.Vocab at 0x7f85b68f9d10>,\n",
              " 'القرى': <gensim.models.keyedvectors.Vocab at 0x7f85b68f9b10>,\n",
              " 'اهم': <gensim.models.keyedvectors.Vocab at 0x7f85b68f9a50>,\n",
              " 'باريس': <gensim.models.keyedvectors.Vocab at 0x7f85b68f9950>,\n",
              " 'يعلمون': <gensim.models.keyedvectors.Vocab at 0x7f85b68f9a90>,\n",
              " 'سنة': <gensim.models.keyedvectors.Vocab at 0x7f85b68f9ad0>,\n",
              " 'اسماء': <gensim.models.keyedvectors.Vocab at 0x7f85b68f9bd0>,\n",
              " 'الجبال': <gensim.models.keyedvectors.Vocab at 0x7f85b68f9c10>,\n",
              " 'لبنان': <gensim.models.keyedvectors.Vocab at 0x7f85b68f9c50>,\n",
              " 'اعلى': <gensim.models.keyedvectors.Vocab at 0x7f85b68f9c90>,\n",
              " 'واهم': <gensim.models.keyedvectors.Vocab at 0x7f85b68f9e50>,\n",
              " 'جبل': <gensim.models.keyedvectors.Vocab at 0x7f85b68f9cd0>,\n",
              " 'اطلس': <gensim.models.keyedvectors.Vocab at 0x7f85b68f9d90>,\n",
              " 'بني': <gensim.models.keyedvectors.Vocab at 0x7f85b68f9050>,\n",
              " 'ابني': <gensim.models.keyedvectors.Vocab at 0x7f85b68f9090>,\n",
              " 'خذني': <gensim.models.keyedvectors.Vocab at 0x7f85b63ed2d0>,\n",
              " 'صدرك': <gensim.models.keyedvectors.Vocab at 0x7f85b63ed510>,\n",
              " 'واحسب': <gensim.models.keyedvectors.Vocab at 0x7f85b63ed390>,\n",
              " 'اللي': <gensim.models.keyedvectors.Vocab at 0x7f85b63ed250>,\n",
              " 'عمرك': <gensim.models.keyedvectors.Vocab at 0x7f85b63ed650>,\n",
              " 'جنيته': <gensim.models.keyedvectors.Vocab at 0x7f85b63ed790>,\n",
              " 'العمى': <gensim.models.keyedvectors.Vocab at 0x7f85b63ed890>,\n",
              " 'بعين': <gensim.models.keyedvectors.Vocab at 0x7f85b63ed410>,\n",
              " 'ادبي': <gensim.models.keyedvectors.Vocab at 0x7f85b63ed910>,\n",
              " 'الدرب': <gensim.models.keyedvectors.Vocab at 0x7f85b63eda50>,\n",
              " 'تذكر': <gensim.models.keyedvectors.Vocab at 0x7f85b63ed1d0>,\n",
              " 'راسي': <gensim.models.keyedvectors.Vocab at 0x7f85b63edad0>,\n",
              " 'اناغي': <gensim.models.keyedvectors.Vocab at 0x7f85b63edc10>,\n",
              " 'فرح': <gensim.models.keyedvectors.Vocab at 0x7f85b63ed8d0>,\n",
              " 'يبعث': <gensim.models.keyedvectors.Vocab at 0x7f85b63edc90>,\n",
              " 'الزلال': <gensim.models.keyedvectors.Vocab at 0x7f85b63eda90>,\n",
              " 'واحيا': <gensim.models.keyedvectors.Vocab at 0x7f85b63eddd0>,\n",
              " 'وانا': <gensim.models.keyedvectors.Vocab at 0x7f85b63edc50>,\n",
              " 'ميتة': <gensim.models.keyedvectors.Vocab at 0x7f85b63ede50>,\n",
              " 'ابيض': <gensim.models.keyedvectors.Vocab at 0x7f85b63edfd0>,\n",
              " 'عيونك': <gensim.models.keyedvectors.Vocab at 0x7f85b63edf50>,\n",
              " 'صدري': <gensim.models.keyedvectors.Vocab at 0x7f85b63ede10>,\n",
              " 'وسواد': <gensim.models.keyedvectors.Vocab at 0x7f85b63ed6d0>,\n",
              " 'عد': <gensim.models.keyedvectors.Vocab at 0x7f85b63ed350>,\n",
              " 'تخاف': <gensim.models.keyedvectors.Vocab at 0x7f85b63ed210>,\n",
              " 'اليتم': <gensim.models.keyedvectors.Vocab at 0x7f85b63ed7d0>,\n",
              " 'جده': <gensim.models.keyedvectors.Vocab at 0x7f85b63ed190>,\n",
              " 'الحزب': <gensim.models.keyedvectors.Vocab at 0x7f85b63ed990>,\n",
              " 'ابوه': <gensim.models.keyedvectors.Vocab at 0x7f85b63ed850>,\n",
              " 'بيته': <gensim.models.keyedvectors.Vocab at 0x7f85b63edb50>,\n",
              " 'تكبر': <gensim.models.keyedvectors.Vocab at 0x7f85b63ed9d0>,\n",
              " 'الايام': <gensim.models.keyedvectors.Vocab at 0x7f85b63edd10>,\n",
              " 'حزام': <gensim.models.keyedvectors.Vocab at 0x7f85b63edb90>,\n",
              " 'خطوط': <gensim.models.keyedvectors.Vocab at 0x7f85b63eded0>,\n",
              " 'حدر': <gensim.models.keyedvectors.Vocab at 0x7f85b63ede90>,\n",
              " 'ضلعي': <gensim.models.keyedvectors.Vocab at 0x7f85b63ed590>,\n",
              " 'لحد': <gensim.models.keyedvectors.Vocab at 0x7f85b63edf90>,\n",
              " 'موت': <gensim.models.keyedvectors.Vocab at 0x7f85b63edd50>,\n",
              " 'بعز': <gensim.models.keyedvectors.Vocab at 0x7f85b63ed550>,\n",
              " 'السر': <gensim.models.keyedvectors.Vocab at 0x7f85b63ed610>,\n",
              " 'عمد': <gensim.models.keyedvectors.Vocab at 0x7f85b63ed090>,\n",
              " 'بيتي': <gensim.models.keyedvectors.Vocab at 0x7f85b63ed3d0>,\n",
              " 'ليلي': <gensim.models.keyedvectors.Vocab at 0x7f85b63ed810>,\n",
              " 'وربيع': <gensim.models.keyedvectors.Vocab at 0x7f85b63ed710>,\n",
              " 'والعمر': <gensim.models.keyedvectors.Vocab at 0x7f85b63eda10>,\n",
              " 'الدهر': <gensim.models.keyedvectors.Vocab at 0x7f85b63ed950>,\n",
              " 'عظم': <gensim.models.keyedvectors.Vocab at 0x7f85b63edbd0>,\n",
              " 'جرحك': <gensim.models.keyedvectors.Vocab at 0x7f85b63edb10>,\n",
              " 'خلي': <gensim.models.keyedvectors.Vocab at 0x7f85b63edd90>,\n",
              " 'الجرح': <gensim.models.keyedvectors.Vocab at 0x7f85b63edcd0>,\n",
              " 'ينطف': <gensim.models.keyedvectors.Vocab at 0x7f85b63ed110>,\n",
              " 'خله': <gensim.models.keyedvectors.Vocab at 0x7f85b63ed4d0>,\n",
              " 'ينزف': <gensim.models.keyedvectors.Vocab at 0x7f85b63ed490>,\n",
              " 'ثوار': <gensim.models.keyedvectors.Vocab at 0x7f85b63ed290>,\n",
              " 'يرفرف': <gensim.models.keyedvectors.Vocab at 0x7f85b63ed050>,\n",
              " 'ارضى': <gensim.models.keyedvectors.Vocab at 0x7f85b63ed0d0>,\n",
              " 'يرضع': <gensim.models.keyedvectors.Vocab at 0x7f85b63ed450>,\n",
              " 'خبزه': <gensim.models.keyedvectors.Vocab at 0x7f85b63ed310>,\n",
              " 'البراءة': <gensim.models.keyedvectors.Vocab at 0x7f85b6894fd0>,\n",
              " 'ياكلني': <gensim.models.keyedvectors.Vocab at 0x7f85b6894f10>,\n",
              " 'الجرب': <gensim.models.keyedvectors.Vocab at 0x7f85b6894f90>,\n",
              " 'ولحم': <gensim.models.keyedvectors.Vocab at 0x7f85b6894e50>,\n",
              " 'وتموت': <gensim.models.keyedvectors.Vocab at 0x7f85b68944d0>,\n",
              " 'عيني': <gensim.models.keyedvectors.Vocab at 0x7f85b6894590>,\n",
              " 'القحط': <gensim.models.keyedvectors.Vocab at 0x7f85b6894710>,\n",
              " 'محنة': <gensim.models.keyedvectors.Vocab at 0x7f85b6894a90>,\n",
              " 'تظل': <gensim.models.keyedvectors.Vocab at 0x7f85b68949d0>,\n",
              " 'تدري': <gensim.models.keyedvectors.Vocab at 0x7f85b6894910>,\n",
              " 'براءة': <gensim.models.keyedvectors.Vocab at 0x7f85b68946d0>,\n",
              " 'شهيد': <gensim.models.keyedvectors.Vocab at 0x7f85b6894050>,\n",
              " 'الشعب': <gensim.models.keyedvectors.Vocab at 0x7f85b6894390>,\n",
              " 'وخلي': <gensim.models.keyedvectors.Vocab at 0x7f85b6894550>,\n",
              " 'شيبي': <gensim.models.keyedvectors.Vocab at 0x7f85b6894410>,\n",
              " 'بطاهر': <gensim.models.keyedvectors.Vocab at 0x7f85b68943d0>,\n",
              " 'وذاك': <gensim.models.keyedvectors.Vocab at 0x7f85b6894250>,\n",
              " 'حزبي': <gensim.models.keyedvectors.Vocab at 0x7f85b6894350>,\n",
              " 'حزب': <gensim.models.keyedvectors.Vocab at 0x7f85b68941d0>,\n",
              " 'بيدي': <gensim.models.keyedvectors.Vocab at 0x7f85b6894210>,\n",
              " 'يبقى': <gensim.models.keyedvectors.Vocab at 0x7f85b6894110>,\n",
              " 'وجه': <gensim.models.keyedvectors.Vocab at 0x7f85b68948d0>,\n",
              " 'ولست': <gensim.models.keyedvectors.Vocab at 0x7f85b68947d0>,\n",
              " 'ارى': <gensim.models.keyedvectors.Vocab at 0x7f85b6894750>,\n",
              " 'خالدا': <gensim.models.keyedvectors.Vocab at 0x7f85b6894690>,\n",
              " 'الشريد': <gensim.models.keyedvectors.Vocab at 0x7f85b6894510>,\n",
              " 'ورهطه': <gensim.models.keyedvectors.Vocab at 0x7f85b6894e10>,\n",
              " 'اباد': <gensim.models.keyedvectors.Vocab at 0x7f85b6894d10>,\n",
              " 'جفانا': <gensim.models.keyedvectors.Vocab at 0x7f85b6894c90>,\n",
              " 'يملاون': <gensim.models.keyedvectors.Vocab at 0x7f85b6894c50>,\n",
              " 'اناء': <gensim.models.keyedvectors.Vocab at 0x7f85b6894a10>,\n",
              " 'ه': <gensim.models.keyedvectors.Vocab at 0x7f85b6894bd0>,\n",
              " 'للخليل': <gensim.models.keyedvectors.Vocab at 0x7f85b6894090>,\n",
              " 'سليما': <gensim.models.keyedvectors.Vocab at 0x7f85b6894a50>,\n",
              " 'عليا': <gensim.models.keyedvectors.Vocab at 0x7f85b6894310>,\n",
              " 'هوازن': <gensim.models.keyedvectors.Vocab at 0x7f85b6894f50>,\n",
              " 'شاهدا': <gensim.models.keyedvectors.Vocab at 0x7f85b6894d50>,\n",
              " 'ذبيان': <gensim.models.keyedvectors.Vocab at 0x7f85b6894c10>,\n",
              " 'يخاف': <gensim.models.keyedvectors.Vocab at 0x7f85b6894610>,\n",
              " 'خميسا': <gensim.models.keyedvectors.Vocab at 0x7f85b6894850>,\n",
              " 'مطلع': <gensim.models.keyedvectors.Vocab at 0x7f85b6894190>,\n",
              " 'جرداء': <gensim.models.keyedvectors.Vocab at 0x7f85b6894810>,\n",
              " 'ضامر': <gensim.models.keyedvectors.Vocab at 0x7f85b68942d0>,\n",
              " 'باخر': <gensim.models.keyedvectors.Vocab at 0x7f85b6894e90>,\n",
              " 'ليل': <gensim.models.keyedvectors.Vocab at 0x7f85b6894ed0>,\n",
              " 'اللوم': <gensim.models.keyedvectors.Vocab at 0x7f85b6894490>,\n",
              " 'تركوا': <gensim.models.keyedvectors.Vocab at 0x7f85b6894150>,\n",
              " 'فماء': <gensim.models.keyedvectors.Vocab at 0x7f85b68940d0>,\n",
              " 'ونحن': <gensim.models.keyedvectors.Vocab at 0x7f85b6894890>,\n",
              " 'قتلنا': <gensim.models.keyedvectors.Vocab at 0x7f85b6894ad0>,\n",
              " 'وابن': <gensim.models.keyedvectors.Vocab at 0x7f85b6894b50>,\n",
              " 'اخته': <gensim.models.keyedvectors.Vocab at 0x7f85b6894dd0>,\n",
              " 'صلح': <gensim.models.keyedvectors.Vocab at 0x7f85b6404950>,\n",
              " 'جرت': <gensim.models.keyedvectors.Vocab at 0x7f85b6404d50>,\n",
              " 'العادات': <gensim.models.keyedvectors.Vocab at 0x7f85b6404550>,\n",
              " 'الوغى': <gensim.models.keyedvectors.Vocab at 0x7f85b64044d0>,\n",
              " 'والانسان': <gensim.models.keyedvectors.Vocab at 0x7f85b6404190>,\n",
              " 'يبغي': <gensim.models.keyedvectors.Vocab at 0x7f85b64045d0>,\n",
              " 'غادة': <gensim.models.keyedvectors.Vocab at 0x7f85b6404350>,\n",
              " 'الوشاح': <gensim.models.keyedvectors.Vocab at 0x7f85b6404290>,\n",
              " 'رث': <gensim.models.keyedvectors.Vocab at 0x7f85b6404310>,\n",
              " 'الخلخال': <gensim.models.keyedvectors.Vocab at 0x7f85b6404a10>,\n",
              " 'تعرف': <gensim.models.keyedvectors.Vocab at 0x7f85b6404150>,\n",
              " 'الفؤاد': <gensim.models.keyedvectors.Vocab at 0x7f85b6404050>,\n",
              " 'علاته': <gensim.models.keyedvectors.Vocab at 0x7f85b6404e90>,\n",
              " 'حزنا': <gensim.models.keyedvectors.Vocab at 0x7f85b6404210>,\n",
              " 'لاسماء': <gensim.models.keyedvectors.Vocab at 0x7f85b6404990>,\n",
              " 'تحل': <gensim.models.keyedvectors.Vocab at 0x7f85b64048d0>,\n",
              " 'وطنا': <gensim.models.keyedvectors.Vocab at 0x7f85b6404fd0>,\n",
              " 'حبكم': <gensim.models.keyedvectors.Vocab at 0x7f85b6404b50>,\n",
              " 'بعدكم': <gensim.models.keyedvectors.Vocab at 0x7f85b64046d0>,\n",
              " 'حسنا': <gensim.models.keyedvectors.Vocab at 0x7f85b6404890>,\n",
              " 'غن': <gensim.models.keyedvectors.Vocab at 0x7f85b6404cd0>,\n",
              " 'ابالي': <gensim.models.keyedvectors.Vocab at 0x7f85b6404b90>,\n",
              " 'شط': <gensim.models.keyedvectors.Vocab at 0x7f85b6404a90>,\n",
              " 'الاحباب': <gensim.models.keyedvectors.Vocab at 0x7f85b6404710>,\n",
              " 'قطنا': <gensim.models.keyedvectors.Vocab at 0x7f85b6404610>,\n",
              " 'تجودي': <gensim.models.keyedvectors.Vocab at 0x7f85b6404510>,\n",
              " 'زمنا': <gensim.models.keyedvectors.Vocab at 0x7f85b64047d0>,\n",
              " 'هند': <gensim.models.keyedvectors.Vocab at 0x7f85b6404390>,\n",
              " 'الهوى': <gensim.models.keyedvectors.Vocab at 0x7f85b6404810>,\n",
              " 'ولهم': <gensim.models.keyedvectors.Vocab at 0x7f85b6404590>,\n",
              " 'تستبيك': <gensim.models.keyedvectors.Vocab at 0x7f85b6404850>,\n",
              " 'عوارضه': <gensim.models.keyedvectors.Vocab at 0x7f85b6404490>,\n",
              " 'ومقلتي': <gensim.models.keyedvectors.Vocab at 0x7f85b64043d0>,\n",
              " 'شادن': <gensim.models.keyedvectors.Vocab at 0x7f85b6404450>,\n",
              " 'يعد': <gensim.models.keyedvectors.Vocab at 0x7f85b6404b10>,\n",
              " 'بال': <gensim.models.keyedvectors.Vocab at 0x7f85b64049d0>,\n",
              " 'قلبك': <gensim.models.keyedvectors.Vocab at 0x7f85b6404c10>,\n",
              " 'يزال': <gensim.models.keyedvectors.Vocab at 0x7f85b6404c90>,\n",
              " 'عواقب': <gensim.models.keyedvectors.Vocab at 0x7f85b6404a50>,\n",
              " 'سقام': <gensim.models.keyedvectors.Vocab at 0x7f85b6404ad0>,\n",
              " 'طرقتك': <gensim.models.keyedvectors.Vocab at 0x7f85b6404790>,\n",
              " 'تمشي': <gensim.models.keyedvectors.Vocab at 0x7f85b6404910>,\n",
              " 'حرام': <gensim.models.keyedvectors.Vocab at 0x7f85b64041d0>,\n",
              " 'اتريد': <gensim.models.keyedvectors.Vocab at 0x7f85b6404250>,\n",
              " 'قتلك': <gensim.models.keyedvectors.Vocab at 0x7f85b6404090>,\n",
              " 'ام': <gensim.models.keyedvectors.Vocab at 0x7f85b6404f50>,\n",
              " 'جزاء': <gensim.models.keyedvectors.Vocab at 0x7f85b6404c50>,\n",
              " 'مودة': <gensim.models.keyedvectors.Vocab at 0x7f85b6404750>,\n",
              " 'الرفيق': <gensim.models.keyedvectors.Vocab at 0x7f85b6404d90>,\n",
              " 'ذمام': <gensim.models.keyedvectors.Vocab at 0x7f85b640b490>,\n",
              " 'ساقني': <gensim.models.keyedvectors.Vocab at 0x7f85b640ba10>,\n",
              " 'قدر': <gensim.models.keyedvectors.Vocab at 0x7f85b640b910>,\n",
              " 'وحين': <gensim.models.keyedvectors.Vocab at 0x7f85b640b2d0>,\n",
              " 'غالب': <gensim.models.keyedvectors.Vocab at 0x7f85b640bc90>,\n",
              " 'وصرف': <gensim.models.keyedvectors.Vocab at 0x7f85b640bd50>,\n",
              " 'منية': <gensim.models.keyedvectors.Vocab at 0x7f85b640b4d0>,\n",
              " 'وحمام': <gensim.models.keyedvectors.Vocab at 0x7f85b640b050>,\n",
              " 'اغنى': <gensim.models.keyedvectors.Vocab at 0x7f85b640b7d0>,\n",
              " 'السفاهة': <gensim.models.keyedvectors.Vocab at 0x7f85b640b690>,\n",
              " 'والصبا': <gensim.models.keyedvectors.Vocab at 0x7f85b640b8d0>,\n",
              " 'تاتي': <gensim.models.keyedvectors.Vocab at 0x7f85b640b950>,\n",
              " 'والان': <gensim.models.keyedvectors.Vocab at 0x7f85b640b710>,\n",
              " 'واعلم': <gensim.models.keyedvectors.Vocab at 0x7f85b640b790>,\n",
              " 'سبل': <gensim.models.keyedvectors.Vocab at 0x7f85b640b510>,\n",
              " 'الضلالة': <gensim.models.keyedvectors.Vocab at 0x7f85b640b5d0>,\n",
              " 'والهدى': <gensim.models.keyedvectors.Vocab at 0x7f85b640b0d0>,\n",
              " 'تعد': <gensim.models.keyedvectors.Vocab at 0x7f85b640b210>,\n",
              " 'داركم': <gensim.models.keyedvectors.Vocab at 0x7f85b640bd10>,\n",
              " 'امت': <gensim.models.keyedvectors.Vocab at 0x7f85b640b110>,\n",
              " 'رحمة': <gensim.models.keyedvectors.Vocab at 0x7f85b640b190>,\n",
              " 'وسلام': <gensim.models.keyedvectors.Vocab at 0x7f85b640ba90>,\n",
              " 'اشك': <gensim.models.keyedvectors.Vocab at 0x7f85b640bb50>,\n",
              " 'الخيول': <gensim.models.keyedvectors.Vocab at 0x7f85b640b290>,\n",
              " 'الخرافات': <gensim.models.keyedvectors.Vocab at 0x7f85b640ba50>,\n",
              " 'تقتل': <gensim.models.keyedvectors.Vocab at 0x7f85b640b610>,\n",
              " 'فرسانها': <gensim.models.keyedvectors.Vocab at 0x7f85b640b9d0>,\n",
              " 'خف': <gensim.models.keyedvectors.Vocab at 0x7f85b640bfd0>,\n",
              " 'القطين': <gensim.models.keyedvectors.Vocab at 0x7f85b640bf50>,\n",
              " 'فقلبي': <gensim.models.keyedvectors.Vocab at 0x7f85b640bed0>,\n",
              " 'متبول': <gensim.models.keyedvectors.Vocab at 0x7f85b640bb10>,\n",
              " 'قربن': <gensim.models.keyedvectors.Vocab at 0x7f85b640be50>,\n",
              " 'بزلا': <gensim.models.keyedvectors.Vocab at 0x7f85b640be90>,\n",
              " 'ازمتها': <gensim.models.keyedvectors.Vocab at 0x7f85b640be10>,\n",
              " 'الخدور': <gensim.models.keyedvectors.Vocab at 0x7f85b640bdd0>,\n",
              " 'زلت': <gensim.models.keyedvectors.Vocab at 0x7f85b640bc10>,\n",
              " 'انظر': <gensim.models.keyedvectors.Vocab at 0x7f85b640bd90>,\n",
              " 'حال': <gensim.models.keyedvectors.Vocab at 0x7f85b640bcd0>,\n",
              " 'خرق': <gensim.models.keyedvectors.Vocab at 0x7f85b640bc50>,\n",
              " 'بعيد': <gensim.models.keyedvectors.Vocab at 0x7f85b640bb90>,\n",
              " 'الغول': <gensim.models.keyedvectors.Vocab at 0x7f85b640b090>,\n",
              " 'مجهول': <gensim.models.keyedvectors.Vocab at 0x7f85b640b650>,\n",
              " 'تيه': <gensim.models.keyedvectors.Vocab at 0x7f85b640b150>,\n",
              " 'يحار': <gensim.models.keyedvectors.Vocab at 0x7f85b640b250>,\n",
              " 'الهادي': <gensim.models.keyedvectors.Vocab at 0x7f85b640b590>,\n",
              " 'الخيل': <gensim.models.keyedvectors.Vocab at 0x7f85b640b6d0>,\n",
              " 'تردي': <gensim.models.keyedvectors.Vocab at 0x7f85b640b990>,\n",
              " 'اعناقها': <gensim.models.keyedvectors.Vocab at 0x7f85b640b850>,\n",
              " 'يمانية': <gensim.models.keyedvectors.Vocab at 0x7f85b640b810>,\n",
              " 'لحق': <gensim.models.keyedvectors.Vocab at 0x7f85b640b890>,\n",
              " 'التوالي': <gensim.models.keyedvectors.Vocab at 0x7f85b640b750>,\n",
              " 'اندفعت': <gensim.models.keyedvectors.Vocab at 0x7f85b640b550>,\n",
              " 'اعناقهن': <gensim.models.keyedvectors.Vocab at 0x7f85b640bf90>,\n",
              " 'كانما': <gensim.models.keyedvectors.Vocab at 0x7f85b271a050>,\n",
              " 'ارحلنا': <gensim.models.keyedvectors.Vocab at 0x7f85b271a090>,\n",
              " 'قطا': <gensim.models.keyedvectors.Vocab at 0x7f85b271a0d0>,\n",
              " 'اقصر': <gensim.models.keyedvectors.Vocab at 0x7f85b271a110>,\n",
              " 'فضلنا': <gensim.models.keyedvectors.Vocab at 0x7f85b271a150>,\n",
              " 'قضى': <gensim.models.keyedvectors.Vocab at 0x7f85b271a190>,\n",
              " 'العرش': <gensim.models.keyedvectors.Vocab at 0x7f85b271a1d0>,\n",
              " 'تبديل': <gensim.models.keyedvectors.Vocab at 0x7f85b271a210>,\n",
              " 'بنى': <gensim.models.keyedvectors.Vocab at 0x7f85b271a250>,\n",
              " 'المجد': <gensim.models.keyedvectors.Vocab at 0x7f85b271a290>,\n",
              " 'عيطاء': <gensim.models.keyedvectors.Vocab at 0x7f85b271a2d0>,\n",
              " 'ابناء': <gensim.models.keyedvectors.Vocab at 0x7f85b271a310>,\n",
              " 'حنظلة': <gensim.models.keyedvectors.Vocab at 0x7f85b271a350>,\n",
              " 'الصيد': <gensim.models.keyedvectors.Vocab at 0x7f85b271a390>,\n",
              " 'المطعمون': <gensim.models.keyedvectors.Vocab at 0x7f85b271a3d0>,\n",
              " 'هبت': <gensim.models.keyedvectors.Vocab at 0x7f85b271a410>,\n",
              " 'شامية': <gensim.models.keyedvectors.Vocab at 0x7f85b271a450>,\n",
              " 'وعظم': <gensim.models.keyedvectors.Vocab at 0x7f85b271a490>,\n",
              " 'الراس': <gensim.models.keyedvectors.Vocab at 0x7f85b271a4d0>,\n",
              " 'الغر': <gensim.models.keyedvectors.Vocab at 0x7f85b271a510>,\n",
              " 'سلفي': <gensim.models.keyedvectors.Vocab at 0x7f85b271a550>,\n",
              " 'سعد': <gensim.models.keyedvectors.Vocab at 0x7f85b271a590>,\n",
              " 'واخوتهم': <gensim.models.keyedvectors.Vocab at 0x7f85b271a5d0>,\n",
              " 'عمرو': <gensim.models.keyedvectors.Vocab at 0x7f85b271a610>,\n",
              " 'كهول': <gensim.models.keyedvectors.Vocab at 0x7f85b271a650>,\n",
              " 'بهاليل': <gensim.models.keyedvectors.Vocab at 0x7f85b271a690>,\n",
              " 'دعا': <gensim.models.keyedvectors.Vocab at 0x7f85b271a6d0>,\n",
              " 'الصارخ': <gensim.models.keyedvectors.Vocab at 0x7f85b271a710>,\n",
              " 'هجت': <gensim.models.keyedvectors.Vocab at 0x7f85b271a750>,\n",
              " 'الليوث': <gensim.models.keyedvectors.Vocab at 0x7f85b271a790>,\n",
              " 'جلا': <gensim.models.keyedvectors.Vocab at 0x7f85b271a7d0>,\n",
              " 'الغيل': <gensim.models.keyedvectors.Vocab at 0x7f85b271a810>,\n",
              " 'تحمي': <gensim.models.keyedvectors.Vocab at 0x7f85b271a850>,\n",
              " 'الثغور': <gensim.models.keyedvectors.Vocab at 0x7f85b271a890>,\n",
              " 'فزعوا': <gensim.models.keyedvectors.Vocab at 0x7f85b271a8d0>,\n",
              " 'تعدو': <gensim.models.keyedvectors.Vocab at 0x7f85b271a910>,\n",
              " 'قرح': <gensim.models.keyedvectors.Vocab at 0x7f85b271a950>,\n",
              " 'جرد': <gensim.models.keyedvectors.Vocab at 0x7f85b271a990>,\n",
              " 'تلقى': <gensim.models.keyedvectors.Vocab at 0x7f85b271a9d0>,\n",
              " 'فوارسنا': <gensim.models.keyedvectors.Vocab at 0x7f85b271aa10>,\n",
              " 'يحمون': <gensim.models.keyedvectors.Vocab at 0x7f85b271aa50>,\n",
              " 'للناس': <gensim.models.keyedvectors.Vocab at 0x7f85b271aa90>,\n",
              " 'تنكيل': <gensim.models.keyedvectors.Vocab at 0x7f85b271aad0>,\n",
              " 'رئيس': <gensim.models.keyedvectors.Vocab at 0x7f85b271ab10>,\n",
              " 'التاج': <gensim.models.keyedvectors.Vocab at 0x7f85b271ab50>,\n",
              " 'مقتول': <gensim.models.keyedvectors.Vocab at 0x7f85b271ab90>,\n",
              " 'الهذيل': <gensim.models.keyedvectors.Vocab at 0x7f85b271abd0>,\n",
              " 'بهدى': <gensim.models.keyedvectors.Vocab at 0x7f85b271ac10>,\n",
              " 'رجعوا': <gensim.models.keyedvectors.Vocab at 0x7f85b271ac50>,\n",
              " 'الغبيط': <gensim.models.keyedvectors.Vocab at 0x7f85b271ac90>,\n",
              " 'ببشر': <gensim.models.keyedvectors.Vocab at 0x7f85b271acd0>,\n",
              " 'مغلول': <gensim.models.keyedvectors.Vocab at 0x7f85b271ad10>,\n",
              " 'اسد': <gensim.models.keyedvectors.Vocab at 0x7f85b271ad50>,\n",
              " 'بالخيل': <gensim.models.keyedvectors.Vocab at 0x7f85b271ad90>,\n",
              " 'الفوارس': <gensim.models.keyedvectors.Vocab at 0x7f85b271add0>,\n",
              " 'عزل': <gensim.models.keyedvectors.Vocab at 0x7f85b271ae10>,\n",
              " 'ميل': <gensim.models.keyedvectors.Vocab at 0x7f85b271ae50>,\n",
              " 'القوم': <gensim.models.keyedvectors.Vocab at 0x7f85b271ae90>,\n",
              " 'تعجيل': <gensim.models.keyedvectors.Vocab at 0x7f85b271aed0>,\n",
              " 'عوذ': <gensim.models.keyedvectors.Vocab at 0x7f85b271af10>,\n",
              " 'النساء': <gensim.models.keyedvectors.Vocab at 0x7f85b271af50>,\n",
              " 'الروع': <gensim.models.keyedvectors.Vocab at 0x7f85b271af90>,\n",
              " 'دعون': <gensim.models.keyedvectors.Vocab at 0x7f85b271afd0>,\n",
              " 'دعاء': <gensim.models.keyedvectors.Vocab at 0x7f85b271e050>,\n",
              " 'لحقنا': <gensim.models.keyedvectors.Vocab at 0x7f85b271e090>,\n",
              " 'تردى': <gensim.models.keyedvectors.Vocab at 0x7f85b271e0d0>,\n",
              " 'الجياد': <gensim.models.keyedvectors.Vocab at 0x7f85b271e110>,\n",
              " 'تخش': <gensim.models.keyedvectors.Vocab at 0x7f85b271e150>,\n",
              " 'العوذ': <gensim.models.keyedvectors.Vocab at 0x7f85b271e190>,\n",
              " 'السيوف': <gensim.models.keyedvectors.Vocab at 0x7f85b271e1d0>,\n",
              " 'تخفي': <gensim.models.keyedvectors.Vocab at 0x7f85b271e210>,\n",
              " 'مجدنا': <gensim.models.keyedvectors.Vocab at 0x7f85b271e250>,\n",
              " 'العادي': <gensim.models.keyedvectors.Vocab at 0x7f85b271e290>,\n",
              " 'قوما': <gensim.models.keyedvectors.Vocab at 0x7f85b271e2d0>,\n",
              " 'بقومي': <gensim.models.keyedvectors.Vocab at 0x7f85b271e310>,\n",
              " 'يرجع': <gensim.models.keyedvectors.Vocab at 0x7f85b271e350>,\n",
              " 'حكام': <gensim.models.keyedvectors.Vocab at 0x7f85b271e390>,\n",
              " 'فصل': <gensim.models.keyedvectors.Vocab at 0x7f85b271e3d0>,\n",
              " 'وتلقى': <gensim.models.keyedvectors.Vocab at 0x7f85b271e410>,\n",
              " 'احلام': <gensim.models.keyedvectors.Vocab at 0x7f85b271e450>,\n",
              " 'القيل': <gensim.models.keyedvectors.Vocab at 0x7f85b271e490>,\n",
              " 'امرؤ': <gensim.models.keyedvectors.Vocab at 0x7f85b271e4d0>,\n",
              " 'ارومتها': <gensim.models.keyedvectors.Vocab at 0x7f85b271e510>,\n",
              " 'مشهورة': <gensim.models.keyedvectors.Vocab at 0x7f85b271e550>,\n",
              " 'حصاة': <gensim.models.keyedvectors.Vocab at 0x7f85b271e590>,\n",
              " 'نديهم': <gensim.models.keyedvectors.Vocab at 0x7f85b271e5d0>,\n",
              " 'وجدنا': <gensim.models.keyedvectors.Vocab at 0x7f85b271e610>,\n",
              " 'نزار': <gensim.models.keyedvectors.Vocab at 0x7f85b271e650>,\n",
              " 'قوم': <gensim.models.keyedvectors.Vocab at 0x7f85b271e690>,\n",
              " 'اصل': <gensim.models.keyedvectors.Vocab at 0x7f85b271e6d0>,\n",
              " 'اللؤم': <gensim.models.keyedvectors.Vocab at 0x7f85b271e710>,\n",
              " 'اولهم': <gensim.models.keyedvectors.Vocab at 0x7f85b271e750>,\n",
              " 'ديار': <gensim.models.keyedvectors.Vocab at 0x7f85b271e790>,\n",
              " 'تحويل': <gensim.models.keyedvectors.Vocab at 0x7f85b271e7d0>,\n",
              " 'يرد': <gensim.models.keyedvectors.Vocab at 0x7f85b271e810>,\n",
              " 'النيل': <gensim.models.keyedvectors.Vocab at 0x7f85b271e850>,\n",
              " 'برداء': <gensim.models.keyedvectors.Vocab at 0x7f85b271e890>,\n",
              " 'وقطعت': <gensim.models.keyedvectors.Vocab at 0x7f85b271e8d0>,\n",
              " 'سرابيل': <gensim.models.keyedvectors.Vocab at 0x7f85b271e910>,\n",
              " 'كلمتين': <gensim.models.keyedvectors.Vocab at 0x7f85b271e950>,\n",
              " 'اياد': <gensim.models.keyedvectors.Vocab at 0x7f85b271e990>,\n",
              " 'سقط': <gensim.models.keyedvectors.Vocab at 0x7f85b271e9d0>,\n",
              " 'مشلولة': <gensim.models.keyedvectors.Vocab at 0x7f85b271ea10>,\n",
              " 'اشعار': <gensim.models.keyedvectors.Vocab at 0x7f85b271ea50>,\n",
              " 'التتار': <gensim.models.keyedvectors.Vocab at 0x7f85b271ea90>,\n",
              " 'رايته': <gensim.models.keyedvectors.Vocab at 0x7f85b271ead0>,\n",
              " 'يبحث': <gensim.models.keyedvectors.Vocab at 0x7f85b271eb10>,\n",
              " 'الوجوه': <gensim.models.keyedvectors.Vocab at 0x7f85b271eb50>,\n",
              " 'عربة': <gensim.models.keyedvectors.Vocab at 0x7f85b271eb90>,\n",
              " 'وفجاة': <gensim.models.keyedvectors.Vocab at 0x7f85b271ebd0>,\n",
              " 'تلعثمت': <gensim.models.keyedvectors.Vocab at 0x7f85b271ec10>,\n",
              " 'بالحزن': <gensim.models.keyedvectors.Vocab at 0x7f85b271ec50>,\n",
              " 'شفتاه': <gensim.models.keyedvectors.Vocab at 0x7f85b271ec90>,\n",
              " 'الحق': <gensim.models.keyedvectors.Vocab at 0x7f85b271ecd0>,\n",
              " 'نكس': <gensim.models.keyedvectors.Vocab at 0x7f85b271ed10>,\n",
              " 'واهن': <gensim.models.keyedvectors.Vocab at 0x7f85b271ed50>,\n",
              " 'القوى': <gensim.models.keyedvectors.Vocab at 0x7f85b271ed90>,\n",
              " 'اولى': <gensim.models.keyedvectors.Vocab at 0x7f85b271edd0>,\n",
              " 'العصافير': <gensim.models.keyedvectors.Vocab at 0x7f85b271ee10>,\n",
              " 'صرت': <gensim.models.keyedvectors.Vocab at 0x7f85b271ee50>,\n",
              " 'حبست': <gensim.models.keyedvectors.Vocab at 0x7f85b271ee90>,\n",
              " 'الكاس': <gensim.models.keyedvectors.Vocab at 0x7f85b271eed0>,\n",
              " 'فقام': <gensim.models.keyedvectors.Vocab at 0x7f85b271ef10>,\n",
              " 'بجر': <gensim.models.keyedvectors.Vocab at 0x7f85b271ef50>,\n",
              " 'البرد': <gensim.models.keyedvectors.Vocab at 0x7f85b271ef90>,\n",
              " 'بكفيه': <gensim.models.keyedvectors.Vocab at 0x7f85b271efd0>,\n",
              " 'السيف': <gensim.models.keyedvectors.Vocab at 0x7f85b1ea0050>,\n",
              " 'تخل': <gensim.models.keyedvectors.Vocab at 0x7f85b1ea0090>,\n",
              " 'خشية': <gensim.models.keyedvectors.Vocab at 0x7f85b1ea00d0>,\n",
              " 'اقشعرت': <gensim.models.keyedvectors.Vocab at 0x7f85b1ea0110>,\n",
              " 'حرب': <gensim.models.keyedvectors.Vocab at 0x7f85b1ea0150>,\n",
              " 'علمتم': <gensim.models.keyedvectors.Vocab at 0x7f85b1ea0190>,\n",
              " 'نجومها': <gensim.models.keyedvectors.Vocab at 0x7f85b1ea01d0>,\n",
              " 'قرة': <gensim.models.keyedvectors.Vocab at 0x7f85b1ea0210>,\n",
              " 'العينين': <gensim.models.keyedvectors.Vocab at 0x7f85b1ea0250>,\n",
              " 'واسع': <gensim.models.keyedvectors.Vocab at 0x7f85b1ea0290>,\n",
              " 'التدبير': <gensim.models.keyedvectors.Vocab at 0x7f85b1ea02d0>,\n",
              " 'والحيل': <gensim.models.keyedvectors.Vocab at 0x7f85b1ea0310>,\n",
              " 'خالع': <gensim.models.keyedvectors.Vocab at 0x7f85b1ea0350>,\n",
              " 'الحلل': <gensim.models.keyedvectors.Vocab at 0x7f85b1ea0390>,\n",
              " 'عيناك': <gensim.models.keyedvectors.Vocab at 0x7f85b1ea03d0>,\n",
              " 'احزان': <gensim.models.keyedvectors.Vocab at 0x7f85b1ea0410>,\n",
              " 'نهري': <gensim.models.keyedvectors.Vocab at 0x7f85b1ea0450>,\n",
              " 'موسيقى': <gensim.models.keyedvectors.Vocab at 0x7f85b1ea0490>,\n",
              " 'الازمان': <gensim.models.keyedvectors.Vocab at 0x7f85b1ea04d0>,\n",
              " 'الدمع': <gensim.models.keyedvectors.Vocab at 0x7f85b1ea0510>,\n",
              " 'الاسود': <gensim.models.keyedvectors.Vocab at 0x7f85b1ea0550>,\n",
              " 'يتساقط': <gensim.models.keyedvectors.Vocab at 0x7f85b1ea0590>,\n",
              " 'انغام': <gensim.models.keyedvectors.Vocab at 0x7f85b1ea05d0>,\n",
              " 'بيان': <gensim.models.keyedvectors.Vocab at 0x7f85b1ea0610>,\n",
              " 'العاشر': <gensim.models.keyedvectors.Vocab at 0x7f85b1ea0650>,\n",
              " 'المقعد': <gensim.models.keyedvectors.Vocab at 0x7f85b1ea0690>,\n",
              " 'محترق': <gensim.models.keyedvectors.Vocab at 0x7f85b1ea06d0>,\n",
              " 'نيراني': <gensim.models.keyedvectors.Vocab at 0x7f85b1ea0710>,\n",
              " 'تاكل': <gensim.models.keyedvectors.Vocab at 0x7f85b1ea0750>,\n",
              " 'ااقول': <gensim.models.keyedvectors.Vocab at 0x7f85b1ea0790>,\n",
              " 'قمري': <gensim.models.keyedvectors.Vocab at 0x7f85b1ea07d0>,\n",
              " 'اه': <gensim.models.keyedvectors.Vocab at 0x7f85b1ea0810>,\n",
              " 'بامكاني': <gensim.models.keyedvectors.Vocab at 0x7f85b1ea0850>,\n",
              " 'فانا': <gensim.models.keyedvectors.Vocab at 0x7f85b1ea0890>,\n",
              " 'املك': <gensim.models.keyedvectors.Vocab at 0x7f85b1ea08d0>,\n",
              " 'الدنيا': <gensim.models.keyedvectors.Vocab at 0x7f85b1ea0910>,\n",
              " 'عينيك': <gensim.models.keyedvectors.Vocab at 0x7f85b1ea0950>,\n",
              " ...}"
            ]
          },
          "metadata": {},
          "execution_count": 7
        }
      ],
      "source": [
        "# Train doc2vec model\n",
        "\n",
        "alpha = 0.025\n",
        "vec_size = 100\n",
        "model_dbow = Doc2Vec(dm=0, vector_size=vec_size, min_count=3, alpha=alpha, min_alpha=0.00025, workers=cores, sample=0, hs=1, negative=0)\n",
        "model_dbow.build_vocab([x for x in tqdm(train_tagged.values)])\n",
        "\n",
        "len(model_dbow.wv.vocab)\n",
        "\n",
        "#Print model vocabulary\n",
        "model_dbow.wv.vocab"
      ],
      "id": "refsXrpN1BAw"
    },
    {
      "cell_type": "markdown",
      "metadata": {
        "id": "CW0JB7oV5FEZ"
      },
      "source": [
        "# **Train the model DBOW**\n"
      ],
      "id": "CW0JB7oV5FEZ"
    },
    {
      "cell_type": "code",
      "execution_count": null,
      "metadata": {
        "colab": {
          "base_uri": "https://localhost:8080/"
        },
        "id": "kB0ruW5Nlcp3",
        "outputId": "bc0e315b-2613-42e3-e3cc-8eac9d24bdfb"
      },
      "outputs": [
        {
          "output_type": "stream",
          "name": "stdout",
          "text": [
            "Training on epoch 0\n"
          ]
        },
        {
          "output_type": "stream",
          "name": "stderr",
          "text": [
            "100%|██████████| 4185/4185 [00:00<00:00, 365226.74it/s]\n"
          ]
        },
        {
          "output_type": "stream",
          "name": "stdout",
          "text": [
            "Training on epoch 1\n"
          ]
        },
        {
          "output_type": "stream",
          "name": "stderr",
          "text": [
            "100%|██████████| 4185/4185 [00:00<00:00, 764410.67it/s]\n"
          ]
        },
        {
          "output_type": "stream",
          "name": "stdout",
          "text": [
            "Training on epoch 2\n"
          ]
        },
        {
          "output_type": "stream",
          "name": "stderr",
          "text": [
            "100%|██████████| 4185/4185 [00:00<00:00, 1161614.87it/s]\n"
          ]
        },
        {
          "output_type": "stream",
          "name": "stdout",
          "text": [
            "Training on epoch 3\n"
          ]
        },
        {
          "output_type": "stream",
          "name": "stderr",
          "text": [
            "100%|██████████| 4185/4185 [00:00<00:00, 1258742.36it/s]\n"
          ]
        },
        {
          "output_type": "stream",
          "name": "stdout",
          "text": [
            "Training on epoch 4\n"
          ]
        },
        {
          "output_type": "stream",
          "name": "stderr",
          "text": [
            "100%|██████████| 4185/4185 [00:00<00:00, 1253170.72it/s]\n"
          ]
        },
        {
          "output_type": "stream",
          "name": "stdout",
          "text": [
            "Training on epoch 5\n"
          ]
        },
        {
          "output_type": "stream",
          "name": "stderr",
          "text": [
            "100%|██████████| 4185/4185 [00:00<00:00, 1130492.83it/s]\n"
          ]
        },
        {
          "output_type": "stream",
          "name": "stdout",
          "text": [
            "Training on epoch 6\n"
          ]
        },
        {
          "output_type": "stream",
          "name": "stderr",
          "text": [
            "100%|██████████| 4185/4185 [00:00<00:00, 1195882.43it/s]\n"
          ]
        },
        {
          "output_type": "stream",
          "name": "stdout",
          "text": [
            "Training on epoch 7\n"
          ]
        },
        {
          "output_type": "stream",
          "name": "stderr",
          "text": [
            "100%|██████████| 4185/4185 [00:00<00:00, 434387.44it/s]\n"
          ]
        },
        {
          "output_type": "stream",
          "name": "stdout",
          "text": [
            "Training on epoch 8\n"
          ]
        },
        {
          "output_type": "stream",
          "name": "stderr",
          "text": [
            "100%|██████████| 4185/4185 [00:00<00:00, 1001664.13it/s]\n"
          ]
        },
        {
          "output_type": "stream",
          "name": "stdout",
          "text": [
            "Training on epoch 9\n"
          ]
        },
        {
          "output_type": "stream",
          "name": "stderr",
          "text": [
            "100%|██████████| 4185/4185 [00:00<00:00, 1065248.35it/s]\n"
          ]
        },
        {
          "output_type": "stream",
          "name": "stdout",
          "text": [
            "Training on epoch 10\n"
          ]
        },
        {
          "output_type": "stream",
          "name": "stderr",
          "text": [
            "100%|██████████| 4185/4185 [00:00<00:00, 941289.27it/s]\n"
          ]
        },
        {
          "output_type": "stream",
          "name": "stdout",
          "text": [
            "Training on epoch 11\n"
          ]
        },
        {
          "output_type": "stream",
          "name": "stderr",
          "text": [
            "100%|██████████| 4185/4185 [00:00<00:00, 698549.91it/s]\n"
          ]
        },
        {
          "output_type": "stream",
          "name": "stdout",
          "text": [
            "Training on epoch 12\n"
          ]
        },
        {
          "output_type": "stream",
          "name": "stderr",
          "text": [
            "100%|██████████| 4185/4185 [00:00<00:00, 1108014.28it/s]\n"
          ]
        },
        {
          "output_type": "stream",
          "name": "stdout",
          "text": [
            "Training on epoch 13\n"
          ]
        },
        {
          "output_type": "stream",
          "name": "stderr",
          "text": [
            "100%|██████████| 4185/4185 [00:00<00:00, 1009034.39it/s]\n"
          ]
        },
        {
          "output_type": "stream",
          "name": "stdout",
          "text": [
            "Training on epoch 14\n"
          ]
        },
        {
          "output_type": "stream",
          "name": "stderr",
          "text": [
            "100%|██████████| 4185/4185 [00:00<00:00, 1242437.87it/s]\n"
          ]
        },
        {
          "output_type": "stream",
          "name": "stdout",
          "text": [
            "Training on epoch 15\n"
          ]
        },
        {
          "output_type": "stream",
          "name": "stderr",
          "text": [
            "100%|██████████| 4185/4185 [00:00<00:00, 1731593.39it/s]\n"
          ]
        },
        {
          "output_type": "stream",
          "name": "stdout",
          "text": [
            "Training on epoch 16\n"
          ]
        },
        {
          "output_type": "stream",
          "name": "stderr",
          "text": [
            "100%|██████████| 4185/4185 [00:00<00:00, 1039079.04it/s]\n"
          ]
        },
        {
          "output_type": "stream",
          "name": "stdout",
          "text": [
            "Training on epoch 17\n"
          ]
        },
        {
          "output_type": "stream",
          "name": "stderr",
          "text": [
            "100%|██████████| 4185/4185 [00:00<00:00, 1006027.18it/s]\n"
          ]
        },
        {
          "output_type": "stream",
          "name": "stdout",
          "text": [
            "Training on epoch 18\n"
          ]
        },
        {
          "output_type": "stream",
          "name": "stderr",
          "text": [
            "100%|██████████| 4185/4185 [00:00<00:00, 713282.22it/s]\n"
          ]
        },
        {
          "output_type": "stream",
          "name": "stdout",
          "text": [
            "Training on epoch 19\n"
          ]
        },
        {
          "output_type": "stream",
          "name": "stderr",
          "text": [
            "100%|██████████| 4185/4185 [00:00<00:00, 844186.13it/s]\n"
          ]
        },
        {
          "output_type": "stream",
          "name": "stdout",
          "text": [
            "Training on epoch 20\n"
          ]
        },
        {
          "output_type": "stream",
          "name": "stderr",
          "text": [
            "100%|██████████| 4185/4185 [00:00<00:00, 1547897.90it/s]\n"
          ]
        },
        {
          "output_type": "stream",
          "name": "stdout",
          "text": [
            "Training on epoch 21\n"
          ]
        },
        {
          "output_type": "stream",
          "name": "stderr",
          "text": [
            "100%|██████████| 4185/4185 [00:00<00:00, 1443872.85it/s]\n"
          ]
        },
        {
          "output_type": "stream",
          "name": "stdout",
          "text": [
            "Training on epoch 22\n"
          ]
        },
        {
          "output_type": "stream",
          "name": "stderr",
          "text": [
            "100%|██████████| 4185/4185 [00:00<00:00, 1070445.31it/s]\n"
          ]
        },
        {
          "output_type": "stream",
          "name": "stdout",
          "text": [
            "Training on epoch 23\n"
          ]
        },
        {
          "output_type": "stream",
          "name": "stderr",
          "text": [
            "100%|██████████| 4185/4185 [00:00<00:00, 1540967.63it/s]\n"
          ]
        },
        {
          "output_type": "stream",
          "name": "stdout",
          "text": [
            "Training on epoch 24\n"
          ]
        },
        {
          "output_type": "stream",
          "name": "stderr",
          "text": [
            "100%|██████████| 4185/4185 [00:00<00:00, 362286.89it/s]\n"
          ]
        },
        {
          "output_type": "stream",
          "name": "stdout",
          "text": [
            "Training on epoch 25\n"
          ]
        },
        {
          "output_type": "stream",
          "name": "stderr",
          "text": [
            "100%|██████████| 4185/4185 [00:00<00:00, 991984.30it/s]\n"
          ]
        },
        {
          "output_type": "stream",
          "name": "stdout",
          "text": [
            "Training on epoch 26\n"
          ]
        },
        {
          "output_type": "stream",
          "name": "stderr",
          "text": [
            "100%|██████████| 4185/4185 [00:00<00:00, 1123114.87it/s]\n"
          ]
        },
        {
          "output_type": "stream",
          "name": "stdout",
          "text": [
            "Training on epoch 27\n"
          ]
        },
        {
          "output_type": "stream",
          "name": "stderr",
          "text": [
            "100%|██████████| 4185/4185 [00:00<00:00, 735858.23it/s]\n"
          ]
        },
        {
          "output_type": "stream",
          "name": "stdout",
          "text": [
            "Training on epoch 28\n"
          ]
        },
        {
          "output_type": "stream",
          "name": "stderr",
          "text": [
            "100%|██████████| 4185/4185 [00:00<00:00, 1016513.91it/s]\n"
          ]
        },
        {
          "output_type": "stream",
          "name": "stdout",
          "text": [
            "Training on epoch 29\n"
          ]
        },
        {
          "output_type": "stream",
          "name": "stderr",
          "text": [
            "100%|██████████| 4185/4185 [00:00<00:00, 705569.67it/s]\n"
          ]
        },
        {
          "output_type": "stream",
          "name": "stdout",
          "text": [
            "Training on epoch 30\n"
          ]
        },
        {
          "output_type": "stream",
          "name": "stderr",
          "text": [
            "100%|██████████| 4185/4185 [00:00<00:00, 1422114.74it/s]\n"
          ]
        },
        {
          "output_type": "stream",
          "name": "stdout",
          "text": [
            "Training on epoch 31\n"
          ]
        },
        {
          "output_type": "stream",
          "name": "stderr",
          "text": [
            "100%|██████████| 4185/4185 [00:00<00:00, 659694.91it/s]\n"
          ]
        },
        {
          "output_type": "stream",
          "name": "stdout",
          "text": [
            "Training on epoch 32\n"
          ]
        },
        {
          "output_type": "stream",
          "name": "stderr",
          "text": [
            "100%|██████████| 4185/4185 [00:00<00:00, 1006719.56it/s]\n"
          ]
        },
        {
          "output_type": "stream",
          "name": "stdout",
          "text": [
            "Training on epoch 33\n"
          ]
        },
        {
          "output_type": "stream",
          "name": "stderr",
          "text": [
            "100%|██████████| 4185/4185 [00:00<00:00, 683720.73it/s]\n"
          ]
        },
        {
          "output_type": "stream",
          "name": "stdout",
          "text": [
            "Training on epoch 34\n"
          ]
        },
        {
          "output_type": "stream",
          "name": "stderr",
          "text": [
            "100%|██████████| 4185/4185 [00:00<00:00, 1392776.50it/s]\n"
          ]
        },
        {
          "output_type": "stream",
          "name": "stdout",
          "text": [
            "Training on epoch 35\n"
          ]
        },
        {
          "output_type": "stream",
          "name": "stderr",
          "text": [
            "100%|██████████| 4185/4185 [00:00<00:00, 625602.76it/s]\n"
          ]
        },
        {
          "output_type": "stream",
          "name": "stdout",
          "text": [
            "Training on epoch 36\n"
          ]
        },
        {
          "output_type": "stream",
          "name": "stderr",
          "text": [
            "100%|██████████| 4185/4185 [00:00<00:00, 994908.02it/s]\n"
          ]
        },
        {
          "output_type": "stream",
          "name": "stdout",
          "text": [
            "Training on epoch 37\n"
          ]
        },
        {
          "output_type": "stream",
          "name": "stderr",
          "text": [
            "100%|██████████| 4185/4185 [00:00<00:00, 1774839.46it/s]\n"
          ]
        },
        {
          "output_type": "stream",
          "name": "stdout",
          "text": [
            "Training on epoch 38\n"
          ]
        },
        {
          "output_type": "stream",
          "name": "stderr",
          "text": [
            "100%|██████████| 4185/4185 [00:00<00:00, 1587515.80it/s]\n"
          ]
        },
        {
          "output_type": "stream",
          "name": "stdout",
          "text": [
            "Training on epoch 39\n"
          ]
        },
        {
          "output_type": "stream",
          "name": "stderr",
          "text": [
            "100%|██████████| 4185/4185 [00:00<00:00, 906250.31it/s]\n"
          ]
        },
        {
          "output_type": "stream",
          "name": "stdout",
          "text": [
            "Training on epoch 40\n"
          ]
        },
        {
          "output_type": "stream",
          "name": "stderr",
          "text": [
            "100%|██████████| 4185/4185 [00:00<00:00, 1043836.96it/s]\n"
          ]
        },
        {
          "output_type": "stream",
          "name": "stdout",
          "text": [
            "Training on epoch 41\n"
          ]
        },
        {
          "output_type": "stream",
          "name": "stderr",
          "text": [
            "100%|██████████| 4185/4185 [00:00<00:00, 1018401.15it/s]\n"
          ]
        },
        {
          "output_type": "stream",
          "name": "stdout",
          "text": [
            "Training on epoch 42\n"
          ]
        },
        {
          "output_type": "stream",
          "name": "stderr",
          "text": [
            "100%|██████████| 4185/4185 [00:00<00:00, 1274091.76it/s]\n"
          ]
        },
        {
          "output_type": "stream",
          "name": "stdout",
          "text": [
            "Training on epoch 43\n"
          ]
        },
        {
          "output_type": "stream",
          "name": "stderr",
          "text": [
            "100%|██████████| 4185/4185 [00:00<00:00, 1182429.25it/s]\n"
          ]
        },
        {
          "output_type": "stream",
          "name": "stdout",
          "text": [
            "Training on epoch 44\n"
          ]
        },
        {
          "output_type": "stream",
          "name": "stderr",
          "text": [
            "100%|██████████| 4185/4185 [00:00<00:00, 1787309.06it/s]\n"
          ]
        },
        {
          "output_type": "stream",
          "name": "stdout",
          "text": [
            "Training on epoch 45\n"
          ]
        },
        {
          "output_type": "stream",
          "name": "stderr",
          "text": [
            "100%|██████████| 4185/4185 [00:00<00:00, 1371126.56it/s]\n"
          ]
        },
        {
          "output_type": "stream",
          "name": "stdout",
          "text": [
            "Training on epoch 46\n"
          ]
        },
        {
          "output_type": "stream",
          "name": "stderr",
          "text": [
            "100%|██████████| 4185/4185 [00:00<00:00, 1230937.04it/s]\n"
          ]
        },
        {
          "output_type": "stream",
          "name": "stdout",
          "text": [
            "Training on epoch 47\n"
          ]
        },
        {
          "output_type": "stream",
          "name": "stderr",
          "text": [
            "100%|██████████| 4185/4185 [00:00<00:00, 1113638.01it/s]\n"
          ]
        },
        {
          "output_type": "stream",
          "name": "stdout",
          "text": [
            "Training on epoch 48\n"
          ]
        },
        {
          "output_type": "stream",
          "name": "stderr",
          "text": [
            "100%|██████████| 4185/4185 [00:00<00:00, 1590392.52it/s]\n"
          ]
        },
        {
          "output_type": "stream",
          "name": "stdout",
          "text": [
            "Training on epoch 49\n"
          ]
        },
        {
          "output_type": "stream",
          "name": "stderr",
          "text": [
            "100%|██████████| 4185/4185 [00:00<00:00, 1193686.65it/s]\n"
          ]
        },
        {
          "output_type": "stream",
          "name": "stdout",
          "text": [
            "Training on epoch 50\n"
          ]
        },
        {
          "output_type": "stream",
          "name": "stderr",
          "text": [
            "100%|██████████| 4185/4185 [00:00<00:00, 1608316.13it/s]\n"
          ]
        },
        {
          "output_type": "stream",
          "name": "stdout",
          "text": [
            "Training on epoch 51\n"
          ]
        },
        {
          "output_type": "stream",
          "name": "stderr",
          "text": [
            "100%|██████████| 4185/4185 [00:00<00:00, 728891.38it/s]\n"
          ]
        },
        {
          "output_type": "stream",
          "name": "stdout",
          "text": [
            "Training on epoch 52\n"
          ]
        },
        {
          "output_type": "stream",
          "name": "stderr",
          "text": [
            "100%|██████████| 4185/4185 [00:00<00:00, 1518045.68it/s]\n"
          ]
        },
        {
          "output_type": "stream",
          "name": "stdout",
          "text": [
            "Training on epoch 53\n"
          ]
        },
        {
          "output_type": "stream",
          "name": "stderr",
          "text": [
            "100%|██████████| 4185/4185 [00:00<00:00, 468096.81it/s]\n"
          ]
        },
        {
          "output_type": "stream",
          "name": "stdout",
          "text": [
            "Training on epoch 54\n"
          ]
        },
        {
          "output_type": "stream",
          "name": "stderr",
          "text": [
            "100%|██████████| 4185/4185 [00:00<00:00, 1064085.97it/s]\n"
          ]
        },
        {
          "output_type": "stream",
          "name": "stdout",
          "text": [
            "Training on epoch 55\n"
          ]
        },
        {
          "output_type": "stream",
          "name": "stderr",
          "text": [
            "100%|██████████| 4185/4185 [00:00<00:00, 1517651.93it/s]\n"
          ]
        },
        {
          "output_type": "stream",
          "name": "stdout",
          "text": [
            "Training on epoch 56\n"
          ]
        },
        {
          "output_type": "stream",
          "name": "stderr",
          "text": [
            "100%|██████████| 4185/4185 [00:00<00:00, 1307303.36it/s]\n"
          ]
        },
        {
          "output_type": "stream",
          "name": "stdout",
          "text": [
            "Training on epoch 57\n"
          ]
        },
        {
          "output_type": "stream",
          "name": "stderr",
          "text": [
            "100%|██████████| 4185/4185 [00:00<00:00, 1660187.48it/s]\n"
          ]
        },
        {
          "output_type": "stream",
          "name": "stdout",
          "text": [
            "Training on epoch 58\n"
          ]
        },
        {
          "output_type": "stream",
          "name": "stderr",
          "text": [
            "100%|██████████| 4185/4185 [00:00<00:00, 649515.72it/s]\n"
          ]
        },
        {
          "output_type": "stream",
          "name": "stdout",
          "text": [
            "Training on epoch 59\n"
          ]
        },
        {
          "output_type": "stream",
          "name": "stderr",
          "text": [
            "100%|██████████| 4185/4185 [00:00<00:00, 659026.18it/s]\n"
          ]
        },
        {
          "output_type": "stream",
          "name": "stdout",
          "text": [
            "CPU times: user 1min 33s, sys: 1.67 s, total: 1min 34s\n",
            "Wall time: 1min 1s\n"
          ]
        }
      ],
      "source": [
        "%%time\n",
        "max_epochs = 60\n",
        "for epoch in range(max_epochs):\n",
        "    print(\"Training on epoch %s\" %epoch)\n",
        "    model_dbow.train(utils.shuffle([x for x in tqdm(train_tagged.values)]), total_examples=len(train_tagged.values), epochs=1)\n",
        "    model_dbow.alpha -= 0.0002 # decrease the learning rate\n",
        "    model_dbow.min_alpha = model_dbow.alpha # fix the learning rate, no decay"
      ],
      "id": "kB0ruW5Nlcp3"
    },
    {
      "cell_type": "code",
      "source": [
        "def vec_for_learning(model, tagged_docs):\n",
        "    sents = tagged_docs.values\n",
        "    targets, regressors = zip(*[(doc.tags[0], model.infer_vector(doc.words, steps=20)) for doc in sents])\n",
        "    return targets, regressors"
      ],
      "metadata": {
        "id": "bLjVsgqCUXOS"
      },
      "id": "bLjVsgqCUXOS",
      "execution_count": null,
      "outputs": []
    },
    {
      "cell_type": "markdown",
      "source": [
        "# **Train and predict Logistic Regression Classifier with model DBOW**"
      ],
      "metadata": {
        "id": "140gu7g1DQiE"
      },
      "id": "140gu7g1DQiE"
    },
    {
      "cell_type": "code",
      "execution_count": null,
      "metadata": {
        "colab": {
          "base_uri": "https://localhost:8080/"
        },
        "id": "eW4iP2jl1sXn",
        "outputId": "d541b253-87a0-40e6-9e09-372b55fef976"
      },
      "outputs": [
        {
          "output_type": "stream",
          "name": "stdout",
          "text": [
            "Testing accuracy 0.9459308807134894\n",
            "Testing F1 score: 0.9459302252110431\n",
            "              precision    recall  f1-score   support\n",
            "\n",
            "           0       0.95      0.94      0.94       878\n",
            "           1       0.95      0.95      0.95       916\n",
            "\n",
            "    accuracy                           0.95      1794\n",
            "   macro avg       0.95      0.95      0.95      1794\n",
            "weighted avg       0.95      0.95      0.95      1794\n",
            "\n"
          ]
        }
      ],
      "source": [
        "y_train, X_train = vec_for_learning(model_dbow, train_tagged)\n",
        "y_test, X_test = vec_for_learning(model_dbow, test_tagged)\n",
        "\n",
        "logreg = LogisticRegression(penalty = 'l2',solver = 'liblinear', max_iter=5000, random_state = 1)\n",
        "logreg.fit(X_train, y_train)\n",
        "\n",
        "y_pred = logreg.predict(X_test)\n",
        "from sklearn.metrics import accuracy_score, f1_score\n",
        "print('Testing accuracy %s' % accuracy_score(y_test, y_pred))\n",
        "print('Testing F1 score: {}'.format(f1_score(y_test, y_pred, average='weighted')))\n",
        "print(classification_report(y_test, y_pred))"
      ],
      "id": "eW4iP2jl1sXn"
    },
    {
      "cell_type": "code",
      "source": [],
      "metadata": {
        "id": "XGc2Vl2QXK-V"
      },
      "id": "XGc2Vl2QXK-V",
      "execution_count": null,
      "outputs": []
    },
    {
      "cell_type": "markdown",
      "source": [
        "# **Train and predict SVM Classifier with model DBOW**"
      ],
      "metadata": {
        "id": "fFEIKv7fXy4n"
      },
      "id": "fFEIKv7fXy4n"
    },
    {
      "cell_type": "code",
      "source": [
        "y_train, X_train = vec_for_learning(model_dbow, train_tagged)\n",
        "y_test, X_test = vec_for_learning(model_dbow, test_tagged)\n",
        "\n",
        "svm_classifier = SVC()\n",
        "svm_classifier.fit(X_train,y_train)\n",
        "print(\"Prediction numbers:\")\n",
        "y_pred = svm_classifier.predict(X_test)\n",
        "from sklearn.metrics import accuracy_score, f1_score\n",
        "print('Testing accuracy %s' % accuracy_score(y_test, y_pred))\n",
        "print('Testing F1 score: {}'.format(f1_score(y_test, y_pred, average='weighted')))\n",
        "print(classification_report(y_test, y_pred))"
      ],
      "metadata": {
        "colab": {
          "base_uri": "https://localhost:8080/"
        },
        "id": "58vgY9LyXLFK",
        "outputId": "7fd39f41-b2ff-4b60-eee2-2c2639be31eb"
      },
      "id": "58vgY9LyXLFK",
      "execution_count": null,
      "outputs": [
        {
          "output_type": "stream",
          "name": "stdout",
          "text": [
            "Prediction numbers:\n",
            "Testing accuracy 0.9464882943143813\n",
            "Testing F1 score: 0.9464783105885202\n",
            "              precision    recall  f1-score   support\n",
            "\n",
            "           0       0.95      0.94      0.94       878\n",
            "           1       0.94      0.95      0.95       916\n",
            "\n",
            "    accuracy                           0.95      1794\n",
            "   macro avg       0.95      0.95      0.95      1794\n",
            "weighted avg       0.95      0.95      0.95      1794\n",
            "\n"
          ]
        }
      ]
    },
    {
      "cell_type": "markdown",
      "metadata": {
        "id": "K-RgWbcwO4pP"
      },
      "source": [
        "# **Train the model Distributed Memory(DM)**"
      ],
      "id": "K-RgWbcwO4pP"
    },
    {
      "cell_type": "code",
      "execution_count": null,
      "metadata": {
        "colab": {
          "base_uri": "https://localhost:8080/"
        },
        "id": "Z0-I2hqFl82B",
        "outputId": "8e5743ae-4ea3-41bd-861a-3aabbfcd0c6f"
      },
      "outputs": [
        {
          "output_type": "stream",
          "name": "stderr",
          "text": [
            "100%|██████████| 4185/4185 [00:00<00:00, 1098170.81it/s]\n"
          ]
        }
      ],
      "source": [
        "alpha=0.025\n",
        "vec_size = 100\n",
        "\n",
        "model_dmm = Doc2Vec(dm=1, vector_size=vec_size, min_count=3, alpha=alpha, min_alpha=0.00025, workers=cores, sample=0, hs=1, negative=0)\n",
        "model_dmm.build_vocab([x for x in tqdm(train_tagged.values)])"
      ],
      "id": "Z0-I2hqFl82B"
    },
    {
      "cell_type": "code",
      "execution_count": null,
      "metadata": {
        "colab": {
          "base_uri": "https://localhost:8080/"
        },
        "id": "NAww2b54mGk2",
        "outputId": "a341397e-9e9a-479f-8228-b2c861a62a66"
      },
      "outputs": [
        {
          "output_type": "stream",
          "name": "stdout",
          "text": [
            "Training on epoch 0\n"
          ]
        },
        {
          "output_type": "stream",
          "name": "stderr",
          "text": [
            "100%|██████████| 4185/4185 [00:00<00:00, 909443.15it/s]\n"
          ]
        },
        {
          "output_type": "stream",
          "name": "stdout",
          "text": [
            "Training on epoch 1\n"
          ]
        },
        {
          "output_type": "stream",
          "name": "stderr",
          "text": [
            "100%|██████████| 4185/4185 [00:00<00:00, 1598357.52it/s]\n"
          ]
        },
        {
          "output_type": "stream",
          "name": "stdout",
          "text": [
            "Training on epoch 2\n"
          ]
        },
        {
          "output_type": "stream",
          "name": "stderr",
          "text": [
            "100%|██████████| 4185/4185 [00:00<00:00, 1448639.29it/s]\n"
          ]
        },
        {
          "output_type": "stream",
          "name": "stdout",
          "text": [
            "Training on epoch 3\n"
          ]
        },
        {
          "output_type": "stream",
          "name": "stderr",
          "text": [
            "100%|██████████| 4185/4185 [00:00<00:00, 1698583.53it/s]\n"
          ]
        },
        {
          "output_type": "stream",
          "name": "stdout",
          "text": [
            "Training on epoch 4\n"
          ]
        },
        {
          "output_type": "stream",
          "name": "stderr",
          "text": [
            "100%|██████████| 4185/4185 [00:00<00:00, 1602735.78it/s]\n"
          ]
        },
        {
          "output_type": "stream",
          "name": "stdout",
          "text": [
            "Training on epoch 5\n"
          ]
        },
        {
          "output_type": "stream",
          "name": "stderr",
          "text": [
            "100%|██████████| 4185/4185 [00:00<00:00, 974959.02it/s]\n"
          ]
        },
        {
          "output_type": "stream",
          "name": "stdout",
          "text": [
            "Training on epoch 6\n"
          ]
        },
        {
          "output_type": "stream",
          "name": "stderr",
          "text": [
            "100%|██████████| 4185/4185 [00:00<00:00, 1650043.45it/s]\n"
          ]
        },
        {
          "output_type": "stream",
          "name": "stdout",
          "text": [
            "Training on epoch 7\n"
          ]
        },
        {
          "output_type": "stream",
          "name": "stderr",
          "text": [
            "100%|██████████| 4185/4185 [00:00<00:00, 1721573.39it/s]\n"
          ]
        },
        {
          "output_type": "stream",
          "name": "stdout",
          "text": [
            "Training on epoch 8\n"
          ]
        },
        {
          "output_type": "stream",
          "name": "stderr",
          "text": [
            "100%|██████████| 4185/4185 [00:00<00:00, 934126.03it/s]\n"
          ]
        },
        {
          "output_type": "stream",
          "name": "stdout",
          "text": [
            "Training on epoch 9\n"
          ]
        },
        {
          "output_type": "stream",
          "name": "stderr",
          "text": [
            "100%|██████████| 4185/4185 [00:00<00:00, 1419125.41it/s]\n"
          ]
        },
        {
          "output_type": "stream",
          "name": "stdout",
          "text": [
            "Training on epoch 10\n"
          ]
        },
        {
          "output_type": "stream",
          "name": "stderr",
          "text": [
            "100%|██████████| 4185/4185 [00:00<00:00, 1645249.06it/s]\n"
          ]
        },
        {
          "output_type": "stream",
          "name": "stdout",
          "text": [
            "Training on epoch 11\n"
          ]
        },
        {
          "output_type": "stream",
          "name": "stderr",
          "text": [
            "100%|██████████| 4185/4185 [00:00<00:00, 941339.75it/s]\n"
          ]
        },
        {
          "output_type": "stream",
          "name": "stdout",
          "text": [
            "Training on epoch 12\n"
          ]
        },
        {
          "output_type": "stream",
          "name": "stderr",
          "text": [
            "100%|██████████| 4185/4185 [00:00<00:00, 1222024.66it/s]\n"
          ]
        },
        {
          "output_type": "stream",
          "name": "stdout",
          "text": [
            "Training on epoch 13\n"
          ]
        },
        {
          "output_type": "stream",
          "name": "stderr",
          "text": [
            "100%|██████████| 4185/4185 [00:00<00:00, 1659089.06it/s]\n"
          ]
        },
        {
          "output_type": "stream",
          "name": "stdout",
          "text": [
            "Training on epoch 14\n"
          ]
        },
        {
          "output_type": "stream",
          "name": "stderr",
          "text": [
            "100%|██████████| 4185/4185 [00:00<00:00, 1022911.55it/s]\n"
          ]
        },
        {
          "output_type": "stream",
          "name": "stdout",
          "text": [
            "Training on epoch 15\n"
          ]
        },
        {
          "output_type": "stream",
          "name": "stderr",
          "text": [
            "100%|██████████| 4185/4185 [00:00<00:00, 1034364.30it/s]\n"
          ]
        },
        {
          "output_type": "stream",
          "name": "stdout",
          "text": [
            "Training on epoch 16\n"
          ]
        },
        {
          "output_type": "stream",
          "name": "stderr",
          "text": [
            "100%|██████████| 4185/4185 [00:00<00:00, 855458.95it/s]\n"
          ]
        },
        {
          "output_type": "stream",
          "name": "stdout",
          "text": [
            "Training on epoch 17\n"
          ]
        },
        {
          "output_type": "stream",
          "name": "stderr",
          "text": [
            "100%|██████████| 4185/4185 [00:00<00:00, 862012.58it/s]\n"
          ]
        },
        {
          "output_type": "stream",
          "name": "stdout",
          "text": [
            "Training on epoch 18\n"
          ]
        },
        {
          "output_type": "stream",
          "name": "stderr",
          "text": [
            "100%|██████████| 4185/4185 [00:00<00:00, 811144.28it/s]\n"
          ]
        },
        {
          "output_type": "stream",
          "name": "stdout",
          "text": [
            "Training on epoch 19\n"
          ]
        },
        {
          "output_type": "stream",
          "name": "stderr",
          "text": [
            "100%|██████████| 4185/4185 [00:00<00:00, 1657678.93it/s]\n"
          ]
        },
        {
          "output_type": "stream",
          "name": "stdout",
          "text": [
            "Training on epoch 20\n"
          ]
        },
        {
          "output_type": "stream",
          "name": "stderr",
          "text": [
            "100%|██████████| 4185/4185 [00:00<00:00, 1570752.77it/s]\n"
          ]
        },
        {
          "output_type": "stream",
          "name": "stdout",
          "text": [
            "Training on epoch 21\n"
          ]
        },
        {
          "output_type": "stream",
          "name": "stderr",
          "text": [
            "100%|██████████| 4185/4185 [00:00<00:00, 997282.10it/s]\n"
          ]
        },
        {
          "output_type": "stream",
          "name": "stdout",
          "text": [
            "Training on epoch 22\n"
          ]
        },
        {
          "output_type": "stream",
          "name": "stderr",
          "text": [
            "100%|██████████| 4185/4185 [00:00<00:00, 1066348.47it/s]\n"
          ]
        },
        {
          "output_type": "stream",
          "name": "stdout",
          "text": [
            "Training on epoch 23\n"
          ]
        },
        {
          "output_type": "stream",
          "name": "stderr",
          "text": [
            "100%|██████████| 4185/4185 [00:00<00:00, 1257479.92it/s]\n"
          ]
        },
        {
          "output_type": "stream",
          "name": "stdout",
          "text": [
            "Training on epoch 24\n"
          ]
        },
        {
          "output_type": "stream",
          "name": "stderr",
          "text": [
            "100%|██████████| 4185/4185 [00:00<00:00, 1523315.30it/s]\n"
          ]
        },
        {
          "output_type": "stream",
          "name": "stdout",
          "text": [
            "Training on epoch 25\n"
          ]
        },
        {
          "output_type": "stream",
          "name": "stderr",
          "text": [
            "100%|██████████| 4185/4185 [00:00<00:00, 670479.84it/s]\n"
          ]
        },
        {
          "output_type": "stream",
          "name": "stdout",
          "text": [
            "Training on epoch 26\n"
          ]
        },
        {
          "output_type": "stream",
          "name": "stderr",
          "text": [
            "100%|██████████| 4185/4185 [00:00<00:00, 644247.31it/s]\n"
          ]
        },
        {
          "output_type": "stream",
          "name": "stdout",
          "text": [
            "Training on epoch 27\n"
          ]
        },
        {
          "output_type": "stream",
          "name": "stderr",
          "text": [
            "100%|██████████| 4185/4185 [00:00<00:00, 1007181.68it/s]\n"
          ]
        },
        {
          "output_type": "stream",
          "name": "stdout",
          "text": [
            "Training on epoch 28\n"
          ]
        },
        {
          "output_type": "stream",
          "name": "stderr",
          "text": [
            "100%|██████████| 4185/4185 [00:00<00:00, 1250581.52it/s]\n"
          ]
        },
        {
          "output_type": "stream",
          "name": "stdout",
          "text": [
            "Training on epoch 29\n"
          ]
        },
        {
          "output_type": "stream",
          "name": "stderr",
          "text": [
            "100%|██████████| 4185/4185 [00:00<00:00, 867722.69it/s]\n"
          ]
        },
        {
          "output_type": "stream",
          "name": "stdout",
          "text": [
            "Training on epoch 30\n"
          ]
        },
        {
          "output_type": "stream",
          "name": "stderr",
          "text": [
            "100%|██████████| 4185/4185 [00:00<00:00, 905128.77it/s]\n"
          ]
        },
        {
          "output_type": "stream",
          "name": "stdout",
          "text": [
            "Training on epoch 31\n"
          ]
        },
        {
          "output_type": "stream",
          "name": "stderr",
          "text": [
            "100%|██████████| 4185/4185 [00:00<00:00, 550652.89it/s]\n"
          ]
        },
        {
          "output_type": "stream",
          "name": "stdout",
          "text": [
            "Training on epoch 32\n"
          ]
        },
        {
          "output_type": "stream",
          "name": "stderr",
          "text": [
            "100%|██████████| 4185/4185 [00:00<00:00, 1154737.34it/s]\n"
          ]
        },
        {
          "output_type": "stream",
          "name": "stdout",
          "text": [
            "Training on epoch 33\n"
          ]
        },
        {
          "output_type": "stream",
          "name": "stderr",
          "text": [
            "100%|██████████| 4185/4185 [00:00<00:00, 1598211.99it/s]\n"
          ]
        },
        {
          "output_type": "stream",
          "name": "stdout",
          "text": [
            "Training on epoch 34\n"
          ]
        },
        {
          "output_type": "stream",
          "name": "stderr",
          "text": [
            "100%|██████████| 4185/4185 [00:00<00:00, 914703.61it/s]\n"
          ]
        },
        {
          "output_type": "stream",
          "name": "stdout",
          "text": [
            "Training on epoch 35\n"
          ]
        },
        {
          "output_type": "stream",
          "name": "stderr",
          "text": [
            "100%|██████████| 4185/4185 [00:00<00:00, 905035.43it/s]\n"
          ]
        },
        {
          "output_type": "stream",
          "name": "stdout",
          "text": [
            "Training on epoch 36\n"
          ]
        },
        {
          "output_type": "stream",
          "name": "stderr",
          "text": [
            "100%|██████████| 4185/4185 [00:00<00:00, 1272982.97it/s]\n"
          ]
        },
        {
          "output_type": "stream",
          "name": "stdout",
          "text": [
            "Training on epoch 37\n"
          ]
        },
        {
          "output_type": "stream",
          "name": "stderr",
          "text": [
            "100%|██████████| 4185/4185 [00:00<00:00, 1686020.77it/s]\n"
          ]
        },
        {
          "output_type": "stream",
          "name": "stdout",
          "text": [
            "Training on epoch 38\n"
          ]
        },
        {
          "output_type": "stream",
          "name": "stderr",
          "text": [
            "100%|██████████| 4185/4185 [00:00<00:00, 1110397.41it/s]\n"
          ]
        },
        {
          "output_type": "stream",
          "name": "stdout",
          "text": [
            "Training on epoch 39\n"
          ]
        },
        {
          "output_type": "stream",
          "name": "stderr",
          "text": [
            "100%|██████████| 4185/4185 [00:00<00:00, 591533.40it/s]\n"
          ]
        },
        {
          "output_type": "stream",
          "name": "stdout",
          "text": [
            "Training on epoch 40\n"
          ]
        },
        {
          "output_type": "stream",
          "name": "stderr",
          "text": [
            "100%|██████████| 4185/4185 [00:00<00:00, 1616015.67it/s]\n"
          ]
        },
        {
          "output_type": "stream",
          "name": "stdout",
          "text": [
            "Training on epoch 41\n"
          ]
        },
        {
          "output_type": "stream",
          "name": "stderr",
          "text": [
            "100%|██████████| 4185/4185 [00:00<00:00, 826731.45it/s]\n"
          ]
        },
        {
          "output_type": "stream",
          "name": "stdout",
          "text": [
            "Training on epoch 42\n"
          ]
        },
        {
          "output_type": "stream",
          "name": "stderr",
          "text": [
            "100%|██████████| 4185/4185 [00:00<00:00, 875469.44it/s]\n"
          ]
        },
        {
          "output_type": "stream",
          "name": "stdout",
          "text": [
            "Training on epoch 43\n"
          ]
        },
        {
          "output_type": "stream",
          "name": "stderr",
          "text": [
            "100%|██████████| 4185/4185 [00:00<00:00, 1577670.52it/s]\n"
          ]
        },
        {
          "output_type": "stream",
          "name": "stdout",
          "text": [
            "Training on epoch 44\n"
          ]
        },
        {
          "output_type": "stream",
          "name": "stderr",
          "text": [
            "100%|██████████| 4185/4185 [00:00<00:00, 1435137.13it/s]\n"
          ]
        },
        {
          "output_type": "stream",
          "name": "stdout",
          "text": [
            "Training on epoch 45\n"
          ]
        },
        {
          "output_type": "stream",
          "name": "stderr",
          "text": [
            "100%|██████████| 4185/4185 [00:00<00:00, 1535709.73it/s]\n"
          ]
        },
        {
          "output_type": "stream",
          "name": "stdout",
          "text": [
            "Training on epoch 46\n"
          ]
        },
        {
          "output_type": "stream",
          "name": "stderr",
          "text": [
            "100%|██████████| 4185/4185 [00:00<00:00, 1351594.84it/s]\n"
          ]
        },
        {
          "output_type": "stream",
          "name": "stdout",
          "text": [
            "Training on epoch 47\n"
          ]
        },
        {
          "output_type": "stream",
          "name": "stderr",
          "text": [
            "100%|██████████| 4185/4185 [00:00<00:00, 1161845.53it/s]\n"
          ]
        },
        {
          "output_type": "stream",
          "name": "stdout",
          "text": [
            "Training on epoch 48\n"
          ]
        },
        {
          "output_type": "stream",
          "name": "stderr",
          "text": [
            "100%|██████████| 4185/4185 [00:00<00:00, 1233012.24it/s]\n"
          ]
        },
        {
          "output_type": "stream",
          "name": "stdout",
          "text": [
            "Training on epoch 49\n"
          ]
        },
        {
          "output_type": "stream",
          "name": "stderr",
          "text": [
            "100%|██████████| 4185/4185 [00:00<00:00, 1251830.14it/s]\n"
          ]
        },
        {
          "output_type": "stream",
          "name": "stdout",
          "text": [
            "Training on epoch 50\n"
          ]
        },
        {
          "output_type": "stream",
          "name": "stderr",
          "text": [
            "100%|██████████| 4185/4185 [00:00<00:00, 979966.63it/s]\n"
          ]
        },
        {
          "output_type": "stream",
          "name": "stdout",
          "text": [
            "Training on epoch 51\n"
          ]
        },
        {
          "output_type": "stream",
          "name": "stderr",
          "text": [
            "100%|██████████| 4185/4185 [00:00<00:00, 628965.25it/s]\n"
          ]
        },
        {
          "output_type": "stream",
          "name": "stdout",
          "text": [
            "Training on epoch 52\n"
          ]
        },
        {
          "output_type": "stream",
          "name": "stderr",
          "text": [
            "100%|██████████| 4185/4185 [00:00<00:00, 839502.71it/s]\n"
          ]
        },
        {
          "output_type": "stream",
          "name": "stdout",
          "text": [
            "Training on epoch 53\n"
          ]
        },
        {
          "output_type": "stream",
          "name": "stderr",
          "text": [
            "100%|██████████| 4185/4185 [00:00<00:00, 796061.78it/s]\n"
          ]
        },
        {
          "output_type": "stream",
          "name": "stdout",
          "text": [
            "Training on epoch 54\n"
          ]
        },
        {
          "output_type": "stream",
          "name": "stderr",
          "text": [
            "100%|██████████| 4185/4185 [00:00<00:00, 1569348.43it/s]\n"
          ]
        },
        {
          "output_type": "stream",
          "name": "stdout",
          "text": [
            "Training on epoch 55\n"
          ]
        },
        {
          "output_type": "stream",
          "name": "stderr",
          "text": [
            "100%|██████████| 4185/4185 [00:00<00:00, 1149368.93it/s]\n"
          ]
        },
        {
          "output_type": "stream",
          "name": "stdout",
          "text": [
            "Training on epoch 56\n"
          ]
        },
        {
          "output_type": "stream",
          "name": "stderr",
          "text": [
            "100%|██████████| 4185/4185 [00:00<00:00, 1808858.43it/s]\n"
          ]
        },
        {
          "output_type": "stream",
          "name": "stdout",
          "text": [
            "Training on epoch 57\n"
          ]
        },
        {
          "output_type": "stream",
          "name": "stderr",
          "text": [
            "100%|██████████| 4185/4185 [00:00<00:00, 984142.31it/s]\n"
          ]
        },
        {
          "output_type": "stream",
          "name": "stdout",
          "text": [
            "Training on epoch 58\n"
          ]
        },
        {
          "output_type": "stream",
          "name": "stderr",
          "text": [
            "100%|██████████| 4185/4185 [00:00<00:00, 1119818.96it/s]\n"
          ]
        },
        {
          "output_type": "stream",
          "name": "stdout",
          "text": [
            "Training on epoch 59\n"
          ]
        },
        {
          "output_type": "stream",
          "name": "stderr",
          "text": [
            "100%|██████████| 4185/4185 [00:00<00:00, 1619893.16it/s]\n"
          ]
        },
        {
          "output_type": "stream",
          "name": "stdout",
          "text": [
            "CPU times: user 2min 7s, sys: 2.57 s, total: 2min 9s\n",
            "Wall time: 1min 17s\n"
          ]
        }
      ],
      "source": [
        "%%time \n",
        "max_epochs = 60\n",
        "for epoch in range(max_epochs):\n",
        "  print(\"Training on epoch %s\" %epoch)\n",
        "  \n",
        "  model_dmm.train(utils.shuffle([x for x in tqdm(train_tagged.values)]), total_examples=len(train_tagged.values), epochs= 1 )\n",
        "  model_dmm.alpha -= 0.0002 # decrease the learning rate\n",
        "  model_dmm.min_alpha = model_dmm.alpha # fix the learning rate, no decay"
      ],
      "id": "NAww2b54mGk2"
    },
    {
      "cell_type": "markdown",
      "source": [
        "# **Train and predict Logistic Regression Classifier with model DM**"
      ],
      "metadata": {
        "id": "wQNDnRLQPb1X"
      },
      "id": "wQNDnRLQPb1X"
    },
    {
      "cell_type": "code",
      "source": [
        "y_train, X_train = vec_for_learning(model_dmm, train_tagged)\n",
        "y_test, X_test = vec_for_learning(model_dmm, test_tagged)\n",
        "\n",
        "logreg = LogisticRegression(penalty = 'l2',solver = 'liblinear', max_iter=5000, random_state = 1)\n",
        "logreg.fit(X_train, y_train)\n",
        "\n",
        "y_pred = logreg.predict(X_test)\n",
        "from sklearn.metrics import accuracy_score, f1_score\n",
        "print('Testing accuracy %s' % accuracy_score(y_test, y_pred))\n",
        "print('Testing F1 score: {}'.format(f1_score(y_test, y_pred, average='weighted')))\n",
        "print(classification_report(y_test, y_pred))"
      ],
      "metadata": {
        "colab": {
          "base_uri": "https://localhost:8080/"
        },
        "id": "Wv_upOIcCzdw",
        "outputId": "48290395-d3ff-4da4-8cd9-cc35670aaef8"
      },
      "id": "Wv_upOIcCzdw",
      "execution_count": null,
      "outputs": [
        {
          "output_type": "stream",
          "name": "stdout",
          "text": [
            "Testing accuracy 0.8885172798216276\n",
            "Testing F1 score: 0.888354761278262\n",
            "              precision    recall  f1-score   support\n",
            "\n",
            "           0       0.91      0.86      0.88       878\n",
            "           1       0.87      0.92      0.89       916\n",
            "\n",
            "    accuracy                           0.89      1794\n",
            "   macro avg       0.89      0.89      0.89      1794\n",
            "weighted avg       0.89      0.89      0.89      1794\n",
            "\n"
          ]
        }
      ]
    },
    {
      "cell_type": "code",
      "source": [
        "y_train, X_train = vec_for_learning(model_dmm, train_tagged)\n",
        "y_test, X_test = vec_for_learning(model_dmm, test_tagged)\n",
        "\n",
        "svm_classifier = SVC()\n",
        "svm_classifier.fit(X_train,y_train)\n",
        "print(\"Prediction numbers:\")\n",
        "y_pred = svm_classifier.predict(X_test)\n",
        "from sklearn.metrics import accuracy_score, f1_score\n",
        "print('Testing accuracy %s' % accuracy_score(y_test, y_pred))\n",
        "print('Testing F1 score: {}'.format(f1_score(y_test, y_pred, average='weighted')))\n",
        "print(classification_report(y_test, y_pred))"
      ],
      "metadata": {
        "colab": {
          "base_uri": "https://localhost:8080/"
        },
        "id": "DRJ4mUmmYDcp",
        "outputId": "4e3f1646-e27c-478b-cc4c-0f59c2042e38"
      },
      "id": "DRJ4mUmmYDcp",
      "execution_count": null,
      "outputs": [
        {
          "output_type": "stream",
          "name": "stdout",
          "text": [
            "Prediction numbers:\n",
            "Testing accuracy 0.5211817168338907\n",
            "Testing F1 score: 0.39006518268738033\n",
            "              precision    recall  f1-score   support\n",
            "\n",
            "           0       0.51      1.00      0.67       878\n",
            "           1       0.97      0.06      0.12       916\n",
            "\n",
            "    accuracy                           0.52      1794\n",
            "   macro avg       0.74      0.53      0.40      1794\n",
            "weighted avg       0.74      0.52      0.39      1794\n",
            "\n"
          ]
        }
      ]
    },
    {
      "cell_type": "markdown",
      "metadata": {
        "id": "a7X7WyD9SmCU"
      },
      "source": [
        "**Predicts with DBOW** "
      ],
      "id": "a7X7WyD9SmCU"
    },
    {
      "cell_type": "code",
      "execution_count": null,
      "metadata": {
        "colab": {
          "base_uri": "https://localhost:8080/"
        },
        "id": "N6KpuKeR6X-V",
        "outputId": "4b4831a6-dcac-4b2f-804d-76c7c85037c8"
      },
      "outputs": [
        {
          "output_type": "execute_result",
          "data": {
            "text/plain": [
              "[(1, 0.4618702232837677), (0, 0.030529506504535675)]"
            ]
          },
          "metadata": {},
          "execution_count": 14
        }
      ],
      "source": [
        "# with DBOW\n",
        "test_doc = word_tokenize(\"لنا منكب الاسلام والهامة وانا لمما تضرب الكبش ضربة على راسه والحرب قد لاح نارها\")\n",
        "test_doc_vector = model_dbow.infer_vector(test_doc)\n",
        "model_dbow.docvecs.most_similar(positive = [test_doc_vector])"
      ],
      "id": "N6KpuKeR6X-V"
    },
    {
      "cell_type": "markdown",
      "source": [
        "**Predicts with DM**"
      ],
      "metadata": {
        "id": "auldPbIVDcFe"
      },
      "id": "auldPbIVDcFe"
    },
    {
      "cell_type": "code",
      "execution_count": null,
      "metadata": {
        "colab": {
          "base_uri": "https://localhost:8080/"
        },
        "id": "_ivuhNJdNJDE",
        "outputId": "10da3e3b-4c3e-4a9d-fac4-c6fdf4808564"
      },
      "outputs": [
        {
          "output_type": "execute_result",
          "data": {
            "text/plain": [
              "[(1, 0.10873958468437195), (0, -0.09453152120113373)]"
            ]
          },
          "metadata": {},
          "execution_count": 15
        }
      ],
      "source": [
        "# with DM\n",
        "test_doc = word_tokenize(\"لنا منكب الاسلام والهامة وانا لمما تضرب الكبش ضربة على راسه والحرب قد لاح نارها\")\n",
        "test_doc_vector = model_dmm.infer_vector(test_doc)\n",
        "model_dmm.docvecs.most_similar(positive = [test_doc_vector])"
      ],
      "id": "_ivuhNJdNJDE"
    }
  ],
  "metadata": {
    "colab": {
      "provenance": [],
      "include_colab_link": true
    },
    "kernelspec": {
      "display_name": "Python 3 (ipykernel)",
      "language": "python",
      "name": "python3"
    },
    "language_info": {
      "codemirror_mode": {
        "name": "ipython",
        "version": 3
      },
      "file_extension": ".py",
      "mimetype": "text/x-python",
      "name": "python",
      "nbconvert_exporter": "python",
      "pygments_lexer": "ipython3",
      "version": "3.9.7"
    }
  },
  "nbformat": 4,
  "nbformat_minor": 5
}