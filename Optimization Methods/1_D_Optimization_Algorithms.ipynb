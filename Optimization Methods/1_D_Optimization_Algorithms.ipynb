{
  "nbformat": 4,
  "nbformat_minor": 0,
  "metadata": {
    "colab": {
      "provenance": [],
      "authorship_tag": "ABX9TyOz4JZ+UVsp5EttYGIklgSO",
      "include_colab_link": true
    },
    "kernelspec": {
      "name": "python3",
      "display_name": "Python 3"
    },
    "language_info": {
      "name": "python"
    }
  },
  "cells": [
    {
      "cell_type": "markdown",
      "metadata": {
        "id": "view-in-github",
        "colab_type": "text"
      },
      "source": [
        "<a href=\"https://colab.research.google.com/github/ManalSahafi/master-degree/blob/main/Optimization%20Methods/1_D_Optimization_Algorithms.ipynb\" target=\"_parent\"><img src=\"https://colab.research.google.com/assets/colab-badge.svg\" alt=\"Open In Colab\"/></a>"
      ]
    },
    {
      "cell_type": "markdown",
      "source": [
        "# **Test Functions**"
      ],
      "metadata": {
        "id": "2cvR6TjPyLqL"
      }
    },
    {
      "cell_type": "code",
      "source": [
        "import math\n",
        "from math import exp\n",
        "\n",
        "def func(x):\n",
        "    return 3*(x**4)+(x-1)**2\n",
        "\n",
        "def func2(x):\n",
        "   return -4*x*math.sin(x)\n",
        "\n",
        "def func3(x):\n",
        "    try:\n",
        "        fx = 2*(x-3)**2 + exp(0.5*x**2)\n",
        "    except OverflowError:\n",
        "        fx = float('inf')\n",
        "    return fx\n",
        "\n",
        "def func4(x):\n",
        "   return 3*(x)**2+12/(x**3)-5;\n",
        "\n",
        "def func5(x):\n",
        "   return 2*x*x+16/x;"
      ],
      "metadata": {
        "id": "aYGY8ysBlkXn"
      },
      "execution_count": 1,
      "outputs": []
    },
    {
      "cell_type": "markdown",
      "source": [
        "# **Bisection Mehod**"
      ],
      "metadata": {
        "id": "RMeMfbrMhP2C"
      }
    },
    {
      "cell_type": "code",
      "source": [
        "# delx ->  central difference method\n",
        "# derivative -> derivative using central difference method\n",
        "# derivative_alpha -> derivative at x = alpha\n",
        "def bisection1(a, b):\n",
        "    epsilon = 0.01\n",
        "    delx = 0.01\n",
        "    for i in range(100):\n",
        "        alpha = (a+b)/2 # midpoint of a and b\n",
        "        derivative = (func(a+delx) - func(a-delx) )/(2*delx)\n",
        "        derivative_alpha = (func(alpha+delx)- func(alpha-delx))/(2*delx)\n",
        "        if (derivative*derivative_alpha) < 0:\n",
        "            b = alpha\n",
        "        else:\n",
        "            a = alpha\n",
        "            if abs(a-b) < epsilon:\n",
        "                break\n",
        "    print('\\nx* = ', a ,'\\n' 'Minimum f(x*) = ', round(func(a),2))\n",
        "    #print('error = ', round(abs(func(a) - a), 4))\n",
        "    print('Number of function calls = ', 4*i)\n",
        "\n",
        "def bisection2(a, b):\n",
        "    epsilon = 0.01\n",
        "    delx = 0.01\n",
        "    for i in range(100):\n",
        "        alpha = (a+b)/2 # midpoint of a and b\n",
        "        derivative = (func2(a+delx) - func2(a-delx) )/(2*delx)\n",
        "        derivative_alpha = (func2(alpha+delx)- func2(alpha-delx))/(2*delx)\n",
        "        if (derivative*derivative_alpha) < 0:\n",
        "            b = alpha\n",
        "        else:\n",
        "            a = alpha\n",
        "            if abs(a-b) < epsilon:\n",
        "                break\n",
        "    print('\\nx* = ', a ,'\\n' 'Minimum f(x*) = ', round(func2(a),2))\n",
        "    #print('error = ', round(abs(func2(a) - a), 4))\n",
        "    print('Number of function calls = ', 4*i)\n",
        "\n",
        "\n",
        "def bisection3(a, b):\n",
        "    epsilon = 0.01\n",
        "    delx = 0.01\n",
        "    for i in range(100):\n",
        "        alpha = (a+b)/2 # midpoint of a and b\n",
        "        derivative = (func3(a+delx) - func3(a-delx) )/(2*delx)\n",
        "        derivative_alpha = (func3(alpha+delx)- func3(alpha-delx))/(2*delx)\n",
        "        if (derivative*derivative_alpha) < 0:\n",
        "            b = alpha\n",
        "        else:\n",
        "            a = alpha\n",
        "            if abs(a-b) < epsilon:\n",
        "                break\n",
        "    print('\\nx* = ', a ,'\\n' 'Minimum f(x*) = ', round(func3(a),2))\n",
        "    #print('error = ', round(abs(func3(a) - a), 4))\n",
        "    print('Number of function calls = ', 4*i)\n",
        "\n",
        "\n",
        "\n",
        "def bisection4(a, b):\n",
        "    epsilon = 0.01\n",
        "    delx = 0.01\n",
        "    for i in range(100):\n",
        "        alpha = (a+b)/2 # midpoint of a and b\n",
        "        derivative = (func4(a+delx) - func4(a-delx) )/(2*delx)\n",
        "        derivative_alpha = (func4(alpha+delx)- func4(alpha-delx))/(2*delx)\n",
        "        if (derivative*derivative_alpha) < 0:\n",
        "            b = alpha\n",
        "        else:\n",
        "            a = alpha\n",
        "            if abs(a-b) < epsilon:\n",
        "                break\n",
        "    print('\\nx* = ', a ,'\\n' 'Minimum f(x*) = ', round(func4(a),2))\n",
        "    #print('error = ', round(abs(func4(a) - a), 4))\n",
        "    print('Number of function calls = ', 4*i)\n",
        "\n",
        "def bisection5(a, b):\n",
        "    epsilon = 0.01\n",
        "    delx = 0.01\n",
        "    for i in range(100):\n",
        "        alpha = (a+b)/2 # midpoint of a and b\n",
        "        derivative = (func5(a+delx) - func5(a-delx) )/(2*delx)\n",
        "        derivative_alpha = (func5(alpha+delx)- func5(alpha-delx))/(2*delx)\n",
        "        if (derivative*derivative_alpha) < 0:\n",
        "            b = alpha\n",
        "        else:\n",
        "            a = alpha\n",
        "            if abs(a-b) < epsilon:\n",
        "                break\n",
        "    print('\\nx* = ', a ,'\\n' 'Minimum f(x*) = ', round(func5(a)),2)\n",
        "    #print('error = ', round(abs(func5(a) - a), 4))\n",
        "    print('Number of function calls = ', 4*i)"
      ],
      "metadata": {
        "id": "hyrzCstfjN6R"
      },
      "execution_count": 2,
      "outputs": []
    },
    {
      "cell_type": "markdown",
      "source": [
        "# **Newtonraphson**"
      ],
      "metadata": {
        "id": "8ZEfBqN92_0-"
      }
    },
    {
      "cell_type": "code",
      "source": [
        "# x -> initial guess of design variable\n",
        "# delx -> central difference method\n",
        "# derivative -> derivative using central difference method\n",
        "# sec_derivative -> second derivative\n",
        "# epsilon -> constant used to terminate the program\n",
        "# xprev -> value of x stored from previous iteration\n",
        "\n",
        "def newtorn1(x):\n",
        "    delx = 0.01;\n",
        "    epsilon = 0.01;\n",
        "    for i in range(100):\n",
        "        derivative = (func(x+delx) - func(x-delx))/(2*delx)\n",
        "        sec_derivative =(func(x+delx)+func(x-delx)-2*func(x))/(delx*delx)\n",
        "        xprev = x\n",
        "        x = x- derivative/sec_derivative\n",
        "        if abs(x-xprev) < epsilon:\n",
        "            break\n",
        "    print('x* = ', x ,'\\n' 'Minimum f(x*) = ', round(func(x),2))\n",
        "    #print('error = ', round(abs(func(x) - x), 4))\n",
        "    print('Number of function calls = ', 5*i)\n",
        "\n",
        "def newtorn2(x):\n",
        "    delx = 0.01;\n",
        "    epsilon = 0.01;\n",
        "    for i in range(100):\n",
        "        derivative = (func2(x+delx) - func2(x-delx))/(2*delx)\n",
        "        sec_derivative =(func2(x+delx)+func2(x-delx)-2*func2(x))/(delx*delx)\n",
        "        xprev = x\n",
        "        x = x- derivative/sec_derivative\n",
        "        if abs(x-xprev) < epsilon:\n",
        "            break\n",
        "    print('x* = ', x ,'\\n' 'Minimum f(x*) = ', round(func2(x),2))\n",
        "    #print('error = ', round(abs(func2(x) - x), 4))\n",
        "    print('Number of function calls = ', 5*i)\n",
        "\n",
        "def newtorn3(x):\n",
        "    delx = 0.01;\n",
        "    epsilon = 0.01;\n",
        "    for i in range(100):\n",
        "        derivative = (func3(x+delx) - func3(x-delx))/(2*delx)\n",
        "        sec_derivative =(func3(x+delx)+func3(x-delx)-2*func3(x))/(delx*delx)\n",
        "        xprev = x\n",
        "        x = x- derivative/sec_derivative\n",
        "        if abs(x-xprev) < epsilon:\n",
        "            break\n",
        "    print('x* = ', x ,'\\n' 'Minimum f(x*) = ', round(func3(x),2))\n",
        "    #print('error = ', round(abs(func3(x) - x), 4))\n",
        "    print('Number of function calls = ', 5*i)\n",
        "\n",
        "def newtorn4(x):\n",
        "    delx = 0.01;\n",
        "    epsilon = 0.01;\n",
        "    for i in range(100):\n",
        "        derivative = (func4(x+delx) - func4(x-delx))/(2*delx)\n",
        "        sec_derivative =(func4(x+delx)+func4(x-delx)-2*func4(x))/(delx*delx)\n",
        "        xprev = x\n",
        "        x = x- derivative/sec_derivative\n",
        "        if abs(x-xprev) < epsilon:\n",
        "            break\n",
        "    print('x* = ', x ,'\\n' 'Minimum f(x*) = ', round(func4(x),2))\n",
        "    #print('error = ', round(abs(func4(x) - x), 4))\n",
        "    print('Number of function calls = ', 5*i)\n",
        "\n",
        "def newtorn5(x):\n",
        "    delx = 0.01;\n",
        "    epsilon = 0.01;\n",
        "    for i in range(100):\n",
        "        derivative = (func5(x+delx) - func5(x-delx))/(2*delx)\n",
        "        sec_derivative =(func5(x+delx)+func5(x-delx)-2*func5(x))/(delx*delx)\n",
        "        xprev = x\n",
        "        x = x- derivative/sec_derivative\n",
        "        if abs(x-xprev) < epsilon:\n",
        "            break\n",
        "    print('x* = ', x ,'\\n' 'Minimum f(x*) = ', round(func5(x),2))\n",
        "    #print('error = ', round(abs(func5(x) - x), 4))\n",
        "    print('Number of function calls = ', 5*i)"
      ],
      "metadata": {
        "id": "S4vb6OHmkqLZ"
      },
      "execution_count": 3,
      "outputs": []
    },
    {
      "cell_type": "markdown",
      "source": [
        "# **Secant**"
      ],
      "metadata": {
        "id": "eKfyrIFl4bq_"
      }
    },
    {
      "cell_type": "code",
      "source": [
        "# flag -> set the flag when minimum is bracketed\n",
        "# delx ->  for central difference method\n",
        "# derivative -> derivative using central difference method\n",
        "# derivative_alpha -> derivative at x = alpha\n",
        "# abs -> absolute of a number\n",
        "# a -> lower bound of the design variable\n",
        "# b -> upper bound of the design variable\n",
        "\n",
        "def scant1(a , b):\n",
        "    epsilon = 0.001;\n",
        "    delx = 0.01;\n",
        "    flag = 0;\n",
        "    for i in range(100):\n",
        "        alpha = (a+b)/2\n",
        "        derivative = (func(a+delx) - func(a-delx))/(2*delx)\n",
        "        derivative_alpha = (func(alpha+delx)-func(alpha-delx))/ (2*delx)\n",
        "        if (derivative*derivative_alpha) < 0:\n",
        "            b = alpha\n",
        "            flag = 1\n",
        "        else:\n",
        "            a = alpha\n",
        "            if flag == 1:\n",
        "                break\n",
        "        for j in range(100):\n",
        "            derivative_a = (func(a+delx) - func(a-delx))/(2*delx)\n",
        "            derivative_b = (func(b+delx) - func(b-delx))/(2*delx)\n",
        "            alpha = b - derivative_b*(b-a)/(derivative_b-derivative_a)\n",
        "            derivative_alpha = (func(alpha+delx) - func(alpha-delx))/(2*delx)\n",
        "            if derivative_alpha > 0:\n",
        "                b = alpha\n",
        "            else:\n",
        "                a = alpha\n",
        "                if abs(derivative_alpha) < epsilon:\n",
        "                    break\n",
        "    print('x* = ', alpha ,'\\n' 'Minimum f(x*) = ', round(func(alpha)))\n",
        "    #print('error = ', round(abs(func(alpha) - alpha), 4))\n",
        "    print('Number of function calls = ', 4*i+6*j)\n",
        "\n",
        "def scant2(a , b):\n",
        "    epsilon = 0.001;\n",
        "    delx = 0.01;\n",
        "    flag = 0;\n",
        "    for i in range(100):\n",
        "        alpha = (a+b)/2\n",
        "        derivative = (func2(a+delx) - func2(a-delx))/(2*delx)\n",
        "        derivative_alpha = (func2(alpha+delx)-func2(alpha-delx))/ (2*delx)\n",
        "        if (derivative*derivative_alpha) < 0:\n",
        "            b = alpha\n",
        "            flag = 1\n",
        "        else:\n",
        "            a = alpha\n",
        "            if flag == 1:\n",
        "                break\n",
        "        for j in range(100):\n",
        "            derivative_a = (func2(a+delx) - func2(a-delx))/(2*delx)\n",
        "            derivative_b = (func2(b+delx) - func2(b-delx))/(2*delx)\n",
        "            alpha = b - derivative_b*(b-a)/(derivative_b-derivative_a)\n",
        "            derivative_alpha = (func2(alpha+delx) - func2(alpha-delx))/(2*delx)\n",
        "            if derivative_alpha > 0:\n",
        "                b = alpha\n",
        "            else:\n",
        "                a = alpha\n",
        "                if abs(derivative_alpha) < epsilon:\n",
        "                    break\n",
        "    print('x* = ', alpha ,'\\n' 'Minimum f(x*) = ', round(func2(alpha),2))\n",
        "    #print('error = ', round(abs(func2(alpha) - alpha), 4))\n",
        "    print('Number of function calls = ', 4*i+6*j)\n",
        "\n",
        "def scant3(a , b):\n",
        "    epsilon = 0.001;\n",
        "    delx = 0.01;\n",
        "    flag = 0;\n",
        "    for i in range(100):\n",
        "        alpha = (a+b)/2\n",
        "        derivative = (func3(a+delx) - func3(a-delx))/(2*delx)\n",
        "        derivative_alpha = (func3(alpha+delx)-func3(alpha-delx))/ (2*delx)\n",
        "        if (derivative*derivative_alpha) < 0:\n",
        "            b = alpha\n",
        "            flag = 1\n",
        "        else:\n",
        "            a = alpha\n",
        "            if flag == 1:\n",
        "                break\n",
        "        for j in range(100):\n",
        "            derivative_a = (func3(a+delx) - func3(a-delx))/(2*delx)\n",
        "            derivative_b = (func3(b+delx) - func3(b-delx))/(2*delx)\n",
        "            alpha = b - derivative_b*(b-a)/(derivative_b-derivative_a)\n",
        "            derivative_alpha = (func3(alpha+delx) - func3(alpha-delx))/(2*delx)\n",
        "            if derivative_alpha > 0:\n",
        "                b = alpha\n",
        "            else:\n",
        "                a = alpha\n",
        "                if abs(derivative_alpha) < epsilon:\n",
        "                    break\n",
        "    print('x* = ', alpha ,'\\n' 'Minimum f(x*) = ', round(func3(alpha),2))\n",
        "    #print('error = ', round(abs(func3(alpha) - alpha), 4))\n",
        "    print('Number of function calls = ', 4*i+6*j)\n",
        "\n",
        "def scant4(a , b):\n",
        "    epsilon = 0.001;\n",
        "    delx = 0.01;\n",
        "    flag = 0;\n",
        "    for i in range(100):\n",
        "        alpha = (a+b)/2\n",
        "        derivative = (func4(a+delx) - func4(a-delx))/(2*delx)\n",
        "        derivative_alpha = (func4(alpha+delx)-func4(alpha-delx))/ (2*delx)\n",
        "        if (derivative*derivative_alpha) < 0:\n",
        "            b = alpha\n",
        "            flag = 1\n",
        "        else:\n",
        "            a = alpha\n",
        "            if flag == 1:\n",
        "                break\n",
        "        for j in range(100):\n",
        "            derivative_a = (func4(a+delx) - func4(a-delx))/(2*delx)\n",
        "            derivative_b = (func4(b+delx) - func4(b-delx))/(2*delx)\n",
        "            alpha = b - derivative_b*(b-a)/(derivative_b-derivative_a)\n",
        "            derivative_alpha = (func4(alpha+delx) - func4(alpha-delx))/(2*delx)\n",
        "            if derivative_alpha > 0:\n",
        "                b = alpha\n",
        "            else:\n",
        "                a = alpha\n",
        "                if abs(derivative_alpha) < epsilon:\n",
        "                    break\n",
        "    print('x* = ', alpha ,'\\n' 'Minimum f(x*) = ', round(func4(alpha),2))\n",
        "    #print('error = ', round(abs(func4(alpha) - alpha), 4))\n",
        "    print('Number of function calls = ', 4*i+6*j)\n",
        "\n",
        "def scant5(a , b):\n",
        "    epsilon = 0.001;\n",
        "    delx = 0.01;\n",
        "    flag = 0;\n",
        "    for i in range(100):\n",
        "        alpha = (a+b)/2\n",
        "        derivative = (func5(a+delx) - func5(a-delx))/(2*delx)\n",
        "        derivative_alpha = (func5(alpha+delx)-func5(alpha-delx))/ (2*delx)\n",
        "        if (derivative*derivative_alpha) < 0:\n",
        "            b = alpha\n",
        "            flag = 1\n",
        "        else:\n",
        "            a = alpha\n",
        "            if flag == 1:\n",
        "                break\n",
        "        for j in range(100):\n",
        "            derivative_a = (func5(a+delx) - func5(a-delx))/(2*delx)\n",
        "            derivative_b = (func5(b+delx) - func5(b-delx))/(2*delx)\n",
        "            alpha = b - derivative_b*(b-a)/(derivative_b-derivative_a)\n",
        "            derivative_alpha = (func5(alpha+delx) - func5(alpha-delx))/(2*delx)\n",
        "            if derivative_alpha > 0:\n",
        "                b = alpha\n",
        "            else:\n",
        "                a = alpha\n",
        "                if abs(derivative_alpha) < epsilon:\n",
        "                    break\n",
        "    print('x* = ', alpha ,'\\n' 'Minimum f(x*) = ', round(func5(alpha),2))\n",
        "    #print('error = ', round(abs(func5(alpha) - alpha), 4))\n",
        "    print('Number of function calls = ', 4*i+6*j)"
      ],
      "metadata": {
        "id": "VEdFlL3R30BH"
      },
      "execution_count": 4,
      "outputs": []
    },
    {
      "cell_type": "markdown",
      "source": [
        "# **Golden**"
      ],
      "metadata": {
        "id": "CY7ipowY8wbK"
      }
    },
    {
      "cell_type": "code",
      "source": [
        "# a -> lower bound of the design variable\n",
        "# b -> upper bound of the design variable\n",
        "# alpha -> midpoint of a and b\n",
        "# falpha1 -> function value at x = alpha1\n",
        "# falpha2 -> function value at x = alpha2\n",
        "# epsilon -> constant used to terminate the algorithm\n",
        "# abs -> absolute of a number, MATLAB function\n",
        "# tau -> 2-golden number\n",
        "def golden1(a,b):\n",
        "    epsilon = 0.00001;\n",
        "    tau = 0.381967;\n",
        "    alpha1 = a*(1-tau) + b*tau;\n",
        "    alpha2 = a*tau + b*(1-tau);\n",
        "    falpha1 = func(alpha1);\n",
        "    falpha2 = func(alpha2);\n",
        "\n",
        "    for i in range(100):\n",
        "        if falpha1 > falpha2:\n",
        "            a = alpha1\n",
        "            alpha1 = alpha2\n",
        "            falpha1 = falpha2\n",
        "            alpha2 = tau*a + (1-tau)*b\n",
        "            falpha2 = func(alpha2)\n",
        "        else:\n",
        "            b = alpha2\n",
        "            alpha2 = alpha1\n",
        "            falpha2 = falpha1\n",
        "            alpha1 = tau*b + (1-tau)*a\n",
        "            falpha1 = func(alpha1)\n",
        "            if abs(func(alpha1)-func(alpha2)) < epsilon:\n",
        "                break;\n",
        "    print('x* = ', alpha1 ,'\\n' 'Minimum f(x*) = ', round(func(alpha1),2))\n",
        "    #print('error = ', round(abs(func(alpha1) - alpha1), 4))\n",
        "    print('Number of function calls = ', 2+i)\n",
        "\n",
        "def golden2(a,b):\n",
        "    epsilon = 0.00001;\n",
        "    tau = 0.381967;\n",
        "    alpha1 = a*(1-tau) + b*tau;\n",
        "    alpha2 = a*tau + b*(1-tau);\n",
        "    falpha1 = func2(alpha1);\n",
        "    falpha2 = func2(alpha2);\n",
        "\n",
        "    for i in range(100):\n",
        "        if falpha1 > falpha2:\n",
        "            a = alpha1\n",
        "            alpha1 = alpha2\n",
        "            falpha1 = falpha2\n",
        "            alpha2 = tau*a + (1-tau)*b\n",
        "            falpha2 = func2(alpha2)\n",
        "        else:\n",
        "            b = alpha2\n",
        "            alpha2 = alpha1\n",
        "            falpha2 = falpha1\n",
        "            alpha1 = tau*b + (1-tau)*a\n",
        "            falpha1 = func2(alpha1)\n",
        "            if abs(func2(alpha1)-func2(alpha2)) < epsilon:\n",
        "                break;\n",
        "    print('x* = ', alpha1 ,'\\n' 'Minimum f(x*) = ', round(func2(alpha1),2))\n",
        "    #print('error = ', round(abs(func2(alpha1) - alpha1), 4))\n",
        "    print('Number of function calls = ', 2+i)\n",
        "\n",
        "\n",
        "def golden3(a,b):\n",
        "    epsilon = 0.00001;\n",
        "    tau = 0.381967;\n",
        "    alpha1 = a*(1-tau) + b*tau;\n",
        "    alpha2 = a*tau + b*(1-tau);\n",
        "    falpha1 = func3(alpha1);\n",
        "    falpha2 = func3(alpha2);\n",
        "\n",
        "    for i in range(100):\n",
        "        if falpha1 > falpha2:\n",
        "            a = alpha1\n",
        "            alpha1 = alpha2\n",
        "            falpha1 = falpha2\n",
        "            alpha2 = tau*a + (1-tau)*b\n",
        "            falpha2 = func3(alpha2)\n",
        "        else:\n",
        "            b = alpha2\n",
        "            alpha2 = alpha1\n",
        "            falpha2 = falpha1\n",
        "            alpha1 = tau*b + (1-tau)*a\n",
        "            falpha1 = func3(alpha1)\n",
        "            if abs(func3(alpha1)-func3(alpha2)) < epsilon:\n",
        "                break;\n",
        "    print('x* = ', alpha1 ,'\\n' 'Minimum f(x*) = ', round(func3(alpha1),2))\n",
        "    #print('error = ', round(abs(func3(alpha1) - alpha1), 4))\n",
        "    print('Number of function calls = ', 2+i)\n",
        "\n",
        "def golden4(a,b):\n",
        "    epsilon = 0.00001;\n",
        "    tau = 0.381967;\n",
        "    alpha1 = a*(1-tau) + b*tau;\n",
        "    alpha2 = a*tau + b*(1-tau);\n",
        "    falpha1 = func4(alpha1);\n",
        "    falpha2 = func4(alpha2);\n",
        "\n",
        "    for i in range(100):\n",
        "        if falpha1 > falpha2:\n",
        "            a = alpha1\n",
        "            alpha1 = alpha2\n",
        "            falpha1 = falpha2\n",
        "            alpha2 = tau*a + (1-tau)*b\n",
        "            falpha2 = func4(alpha2)\n",
        "        else:\n",
        "            b = alpha2\n",
        "            alpha2 = alpha1\n",
        "            falpha2 = falpha1\n",
        "            alpha1 = tau*b + (1-tau)*a\n",
        "            falpha1 = func4(alpha1)\n",
        "            if abs(func4(alpha1)-func4(alpha2)) < epsilon:\n",
        "                break;\n",
        "    print('x* = ', alpha1 ,'\\n' 'Minimum f(x*) = ', round(func4(alpha1),2))\n",
        "    #print('error = ', round(abs(func4(alpha1) - alpha1), 4))\n",
        "    print('Number of function calls = ', 2+i)\n",
        "\n",
        "def golden5(a,b):\n",
        "    epsilon = 0.00001;\n",
        "    tau = 0.381967;\n",
        "    alpha1 = a*(1-tau) + b*tau;\n",
        "    alpha2 = a*tau + b*(1-tau);\n",
        "    falpha1 = func5(alpha1);\n",
        "    falpha2 = func5(alpha2);\n",
        "\n",
        "    for i in range(100):\n",
        "        if falpha1 > falpha2:\n",
        "            a = alpha1\n",
        "            alpha1 = alpha2\n",
        "            falpha1 = falpha2\n",
        "            alpha2 = tau*a + (1-tau)*b\n",
        "            falpha2 = func5(alpha2)\n",
        "        else:\n",
        "            b = alpha2\n",
        "            alpha2 = alpha1\n",
        "            falpha2 = falpha1\n",
        "            alpha1 = tau*b + (1-tau)*a\n",
        "            falpha1 = func5(alpha1)\n",
        "            if abs(func5(alpha1)-func5(alpha2)) < epsilon:\n",
        "                break;\n",
        "    print('x* = ', alpha1 ,'\\n' 'Minimum f(x*) = ', round(func5(alpha1),2))\n",
        "    print('Number of function calls = ', (2+i))\n",
        "    #print('error = ', round(abs(func5(alpha1) - alpha1), 4))\n",
        "    "
      ],
      "metadata": {
        "id": "F00LkjcI6qX2"
      },
      "execution_count": 14,
      "outputs": []
    },
    {
      "cell_type": "markdown",
      "source": [
        "**Test Function 1: fx = 3*x^4+(x-1)^2  Where  0 <= x <= 4**"
      ],
      "metadata": {
        "id": "Q7QLn4nX5oYK"
      }
    },
    {
      "cell_type": "code",
      "source": [
        "print('--------------------------------Using Bisection----------------------------------------')\n",
        "bisection1(0 , 3.90)\n",
        "print('--------------------------------Using Newtorn----------------------------------------')\n",
        "newtorn1(3.90)\n",
        "print('--------------------------------Using Scant----------------------------------------')\n",
        "scant1(0, 3.90)\n",
        "print('--------------------------------Using Golden----------------------------------------')\n",
        "golden1(0, 3.90)"
      ],
      "metadata": {
        "colab": {
          "base_uri": "https://localhost:8080/"
        },
        "id": "RofdGd9E2YDw",
        "outputId": "fa18b3ce-3eed-4a57-e907-943926f3c985"
      },
      "execution_count": 15,
      "outputs": [
        {
          "output_type": "stream",
          "name": "stdout",
          "text": [
            "--------------------------------Using Bisection----------------------------------------\n",
            "\n",
            "x* =  0.4494140625 \n",
            "Minimum f(x*) =  0.43\n",
            "Number of function calls =  32\n",
            "--------------------------------Using Newtorn----------------------------------------\n",
            "x* =  0.45064105378747626 \n",
            "Minimum f(x*) =  0.43\n",
            "Number of function calls =  35\n",
            "--------------------------------Using Scant----------------------------------------\n",
            "x* =  0.45137265320129394 \n",
            "Minimum f(x*) =  0\n",
            "Number of function calls =  44\n",
            "--------------------------------Using Golden----------------------------------------\n",
            "x* =  0.44965228525461554 \n",
            "Minimum f(x*) =  0.43\n",
            "Number of function calls =  14\n"
          ]
        }
      ]
    },
    {
      "cell_type": "markdown",
      "source": [
        " **Test Function 2: fx = -4*x*sin(x) Where  0 <= x <= Pi**"
      ],
      "metadata": {
        "id": "NXiMVx2S5iEb"
      }
    },
    {
      "cell_type": "code",
      "source": [
        "print('--------------------------------Using Bisection----------------------------------------')\n",
        "bisection2(0 , 3.14)\n",
        "print('--------------------------------Using Newtorn----------------------------------------')\n",
        "newtorn2(3.14)\n",
        "print('--------------------------------Using Scant----------------------------------------')\n",
        "scant2(0 , 3.14)\n",
        "print('--------------------------------Using Golden----------------------------------------')\n",
        "golden2(0 , 3.14)"
      ],
      "metadata": {
        "colab": {
          "base_uri": "https://localhost:8080/"
        },
        "id": "UA82L95f37Dp",
        "outputId": "7f545325-7e3c-4326-901b-0afab87b7930"
      },
      "execution_count": 16,
      "outputs": [
        {
          "output_type": "stream",
          "name": "stdout",
          "text": [
            "--------------------------------Using Bisection----------------------------------------\n",
            "\n",
            "x* =  2.02689453125 \n",
            "Minimum f(x*) =  -7.28\n",
            "Number of function calls =  36\n",
            "--------------------------------Using Newtorn----------------------------------------\n",
            "x* =  2.028762507092247 \n",
            "Minimum f(x*) =  -7.28\n",
            "Number of function calls =  15\n",
            "--------------------------------Using Scant----------------------------------------\n",
            "x* =  2.0330875675483897 \n",
            "Minimum f(x*) =  -7.28\n",
            "Number of function calls =  32\n",
            "--------------------------------Using Golden----------------------------------------\n",
            "x* =  2.028391649758376 \n",
            "Minimum f(x*) =  -7.28\n",
            "Number of function calls =  15\n"
          ]
        }
      ]
    },
    {
      "cell_type": "markdown",
      "source": [
        "**Test Function 3: fx = 2*(x-3)^2+exp(0.5*x*x) Where  0 <= x <= 100**"
      ],
      "metadata": {
        "id": "Yc3pwChS5Rz4"
      }
    },
    {
      "cell_type": "code",
      "source": [
        "print('--------------------------------Using Bisection----------------------------------------')\n",
        "bisection3(0 , 100)\n",
        "print('--------------------------------Using Newtorn----------------------------------------')\n",
        "newtorn3(100)\n",
        "print('--------------------------------Using Scant----------------------------------------')\n",
        "scant3(0 , 100)\n",
        "print('--------------------------------Using Golden----------------------------------------')\n",
        "golden3(0 , 100)"
      ],
      "metadata": {
        "colab": {
          "base_uri": "https://localhost:8080/"
        },
        "id": "K9qxMf-B4FYL",
        "outputId": "3cd61104-6883-4082-a24d-7062d8c6eca6"
      },
      "execution_count": 17,
      "outputs": [
        {
          "output_type": "stream",
          "name": "stdout",
          "text": [
            "--------------------------------Using Bisection----------------------------------------\n",
            "\n",
            "x* =  99.993896484375 \n",
            "Minimum f(x*) =  inf\n",
            "Number of function calls =  52\n",
            "--------------------------------Using Newtorn----------------------------------------\n",
            "x* =  nan \n",
            "Minimum f(x*) =  nan\n",
            "Number of function calls =  495\n",
            "--------------------------------Using Scant----------------------------------------\n",
            "x* =  nan \n",
            "Minimum f(x*) =  nan\n",
            "Number of function calls =  990\n",
            "--------------------------------Using Golden----------------------------------------\n",
            "x* =  1.589964553501968 \n",
            "Minimum f(x*) =  7.52\n",
            "Number of function calls =  21\n"
          ]
        }
      ]
    },
    {
      "cell_type": "markdown",
      "source": [
        "**Test Function 4: fx = 2*(x-3)^2+exp(0.5*x*x) Where  0.5 <= x <= 2.5**"
      ],
      "metadata": {
        "id": "3RlykvH05uXD"
      }
    },
    {
      "cell_type": "code",
      "source": [
        "print('--------------------------------Using Bisection----------------------------------------')\n",
        "bisection4(0.5 , 2.5)\n",
        "print('--------------------------------Using Newtorn----------------------------------------')\n",
        "newtorn4(2.5)\n",
        "print('--------------------------------Using Scant----------------------------------------')\n",
        "scant4(0.5 , 2.5)\n",
        "print('--------------------------------Using Golden----------------------------------------')\n",
        "golden4(0.5 , 2.5)"
      ],
      "metadata": {
        "colab": {
          "base_uri": "https://localhost:8080/"
        },
        "id": "t6hwznjn5vni",
        "outputId": "086d9dab-8a13-494a-9aa0-f1076c2894d9"
      },
      "execution_count": 18,
      "outputs": [
        {
          "output_type": "stream",
          "name": "stdout",
          "text": [
            "--------------------------------Using Bisection----------------------------------------\n",
            "\n",
            "x* =  1.4296875 \n",
            "Minimum f(x*) =  5.24\n",
            "Number of function calls =  28\n",
            "--------------------------------Using Newtorn----------------------------------------\n",
            "x* =  1.431015554021087 \n",
            "Minimum f(x*) =  5.24\n",
            "Number of function calls =  35\n",
            "--------------------------------Using Scant----------------------------------------\n",
            "x* =  0.9657485999134944 \n",
            "Minimum f(x*) =  11.12\n",
            "Number of function calls =  598\n",
            "--------------------------------Using Golden----------------------------------------\n",
            "x* =  1.4307286834491628 \n",
            "Minimum f(x*) =  5.24\n",
            "Number of function calls =  17\n"
          ]
        }
      ]
    },
    {
      "cell_type": "markdown",
      "source": [
        "**Test Function 5: fx = 2*(x-3)^2+exp(0.5*x*x) Where  1 <= x <= 5**"
      ],
      "metadata": {
        "id": "q6MDevfi523I"
      }
    },
    {
      "cell_type": "code",
      "source": [
        "print('--------------------------------Using Bisection----------------------------------------')\n",
        "bisection5(1 , 5)\n",
        "print('--------------------------------Using Newtorn----------------------------------------')\n",
        "newtorn5(5)\n",
        "print('--------------------------------Using Scant----------------------------------------')\n",
        "scant5(1 , 5)\n",
        "print('--------------------------------Using Golden----------------------------------------')\n",
        "golden5(1 , 5)"
      ],
      "metadata": {
        "colab": {
          "base_uri": "https://localhost:8080/"
        },
        "id": "486YRLWxwdHm",
        "outputId": "61b56cb8-0405-402f-957e-5ed135fb447b"
      },
      "execution_count": 19,
      "outputs": [
        {
          "output_type": "stream",
          "name": "stdout",
          "text": [
            "--------------------------------Using Bisection----------------------------------------\n",
            "\n",
            "x* =  1.5859375 \n",
            "Minimum f(x*) =  15 2\n",
            "Number of function calls =  32\n",
            "--------------------------------Using Newtorn----------------------------------------\n",
            "x* =  1.587419516797376 \n",
            "Minimum f(x*) =  15.12\n",
            "Number of function calls =  30\n",
            "--------------------------------Using Scant----------------------------------------\n",
            "x* =  1.5874220506523673 \n",
            "Minimum f(x*) =  15.12\n",
            "Number of function calls =  226\n",
            "--------------------------------Using Golden----------------------------------------\n",
            "x* =  1.5869536083368443 \n",
            "Minimum f(x*) =  15.12\n",
            "Number of function calls =  18\n"
          ]
        }
      ]
    }
  ]
}