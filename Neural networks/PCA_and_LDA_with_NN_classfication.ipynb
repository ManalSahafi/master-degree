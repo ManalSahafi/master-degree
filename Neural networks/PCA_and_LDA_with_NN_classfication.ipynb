{
  "cells": [
    {
      "cell_type": "markdown",
      "metadata": {
        "id": "view-in-github",
        "colab_type": "text"
      },
      "source": [
        "<a href=\"https://colab.research.google.com/github/ManalSahafi/master-degree/blob/main/Neural%20networks/PCA_and_LDA_with_NN_classfication.ipynb\" target=\"_parent\"><img src=\"https://colab.research.google.com/assets/colab-badge.svg\" alt=\"Open In Colab\"/></a>"
      ]
    },
    {
      "cell_type": "code",
      "execution_count": null,
      "id": "23c017bb",
      "metadata": {
        "id": "23c017bb"
      },
      "outputs": [],
      "source": [
        "# importing required libraries\n",
        "import numpy as np\n",
        "import matplotlib.pyplot as plt\n",
        "import pandas as pd\n",
        "from sklearn.preprocessing import StandardScaler\n",
        "from sklearn.decomposition import PCA\n",
        "from sklearn.discriminant_analysis import LinearDiscriminantAnalysis\n",
        "from sklearn.metrics import confusion_matrix\n",
        "from sklearn.model_selection import train_test_split"
      ]
    },
    {
      "cell_type": "markdown",
      "id": "5295a023",
      "metadata": {
        "id": "5295a023"
      },
      "source": [
        "# Loading the dataset"
      ]
    },
    {
      "cell_type": "code",
      "execution_count": null,
      "id": "6396b852",
      "metadata": {
        "scrolled": true,
        "id": "6396b852",
        "outputId": "7d23dfc0-107e-4557-f871-c755cb0373e9"
      },
      "outputs": [
        {
          "data": {
            "text/html": [
              "<div>\n",
              "<style scoped>\n",
              "    .dataframe tbody tr th:only-of-type {\n",
              "        vertical-align: middle;\n",
              "    }\n",
              "\n",
              "    .dataframe tbody tr th {\n",
              "        vertical-align: top;\n",
              "    }\n",
              "\n",
              "    .dataframe thead th {\n",
              "        text-align: right;\n",
              "    }\n",
              "</style>\n",
              "<table border=\"1\" class=\"dataframe\">\n",
              "  <thead>\n",
              "    <tr style=\"text-align: right;\">\n",
              "      <th></th>\n",
              "      <th>0</th>\n",
              "      <th>1</th>\n",
              "      <th>2</th>\n",
              "      <th>3</th>\n",
              "      <th>4</th>\n",
              "      <th>5</th>\n",
              "      <th>6</th>\n",
              "      <th>7</th>\n",
              "      <th>8</th>\n",
              "      <th>9</th>\n",
              "      <th>...</th>\n",
              "      <th>256</th>\n",
              "      <th>257</th>\n",
              "      <th>258</th>\n",
              "      <th>259</th>\n",
              "      <th>260</th>\n",
              "      <th>261</th>\n",
              "      <th>262</th>\n",
              "      <th>263</th>\n",
              "      <th>264</th>\n",
              "      <th>265</th>\n",
              "    </tr>\n",
              "  </thead>\n",
              "  <tbody>\n",
              "    <tr>\n",
              "      <th>0</th>\n",
              "      <td>0.0</td>\n",
              "      <td>0.0</td>\n",
              "      <td>0.0</td>\n",
              "      <td>0.0</td>\n",
              "      <td>0.0</td>\n",
              "      <td>0.0</td>\n",
              "      <td>1.0</td>\n",
              "      <td>1.0</td>\n",
              "      <td>1.0</td>\n",
              "      <td>1.0</td>\n",
              "      <td>...</td>\n",
              "      <td>1</td>\n",
              "      <td>0</td>\n",
              "      <td>0</td>\n",
              "      <td>0</td>\n",
              "      <td>0</td>\n",
              "      <td>0</td>\n",
              "      <td>0</td>\n",
              "      <td>0</td>\n",
              "      <td>0</td>\n",
              "      <td>0</td>\n",
              "    </tr>\n",
              "    <tr>\n",
              "      <th>1</th>\n",
              "      <td>0.0</td>\n",
              "      <td>0.0</td>\n",
              "      <td>0.0</td>\n",
              "      <td>0.0</td>\n",
              "      <td>0.0</td>\n",
              "      <td>1.0</td>\n",
              "      <td>1.0</td>\n",
              "      <td>1.0</td>\n",
              "      <td>1.0</td>\n",
              "      <td>1.0</td>\n",
              "      <td>...</td>\n",
              "      <td>1</td>\n",
              "      <td>0</td>\n",
              "      <td>0</td>\n",
              "      <td>0</td>\n",
              "      <td>0</td>\n",
              "      <td>0</td>\n",
              "      <td>0</td>\n",
              "      <td>0</td>\n",
              "      <td>0</td>\n",
              "      <td>0</td>\n",
              "    </tr>\n",
              "    <tr>\n",
              "      <th>2</th>\n",
              "      <td>0.0</td>\n",
              "      <td>0.0</td>\n",
              "      <td>0.0</td>\n",
              "      <td>0.0</td>\n",
              "      <td>0.0</td>\n",
              "      <td>0.0</td>\n",
              "      <td>0.0</td>\n",
              "      <td>0.0</td>\n",
              "      <td>0.0</td>\n",
              "      <td>1.0</td>\n",
              "      <td>...</td>\n",
              "      <td>1</td>\n",
              "      <td>0</td>\n",
              "      <td>0</td>\n",
              "      <td>0</td>\n",
              "      <td>0</td>\n",
              "      <td>0</td>\n",
              "      <td>0</td>\n",
              "      <td>0</td>\n",
              "      <td>0</td>\n",
              "      <td>0</td>\n",
              "    </tr>\n",
              "    <tr>\n",
              "      <th>3</th>\n",
              "      <td>0.0</td>\n",
              "      <td>0.0</td>\n",
              "      <td>0.0</td>\n",
              "      <td>0.0</td>\n",
              "      <td>0.0</td>\n",
              "      <td>0.0</td>\n",
              "      <td>1.0</td>\n",
              "      <td>1.0</td>\n",
              "      <td>1.0</td>\n",
              "      <td>1.0</td>\n",
              "      <td>...</td>\n",
              "      <td>1</td>\n",
              "      <td>0</td>\n",
              "      <td>0</td>\n",
              "      <td>0</td>\n",
              "      <td>0</td>\n",
              "      <td>0</td>\n",
              "      <td>0</td>\n",
              "      <td>0</td>\n",
              "      <td>0</td>\n",
              "      <td>0</td>\n",
              "    </tr>\n",
              "    <tr>\n",
              "      <th>4</th>\n",
              "      <td>0.0</td>\n",
              "      <td>0.0</td>\n",
              "      <td>0.0</td>\n",
              "      <td>0.0</td>\n",
              "      <td>0.0</td>\n",
              "      <td>0.0</td>\n",
              "      <td>0.0</td>\n",
              "      <td>0.0</td>\n",
              "      <td>0.0</td>\n",
              "      <td>1.0</td>\n",
              "      <td>...</td>\n",
              "      <td>1</td>\n",
              "      <td>0</td>\n",
              "      <td>0</td>\n",
              "      <td>0</td>\n",
              "      <td>0</td>\n",
              "      <td>0</td>\n",
              "      <td>0</td>\n",
              "      <td>0</td>\n",
              "      <td>0</td>\n",
              "      <td>0</td>\n",
              "    </tr>\n",
              "  </tbody>\n",
              "</table>\n",
              "<p>5 rows × 266 columns</p>\n",
              "</div>"
            ],
            "text/plain": [
              "   0    1    2    3    4    5    6    7    8    9    ...  256  257  258  259  \\\n",
              "0  0.0  0.0  0.0  0.0  0.0  0.0  1.0  1.0  1.0  1.0  ...    1    0    0    0   \n",
              "1  0.0  0.0  0.0  0.0  0.0  1.0  1.0  1.0  1.0  1.0  ...    1    0    0    0   \n",
              "2  0.0  0.0  0.0  0.0  0.0  0.0  0.0  0.0  0.0  1.0  ...    1    0    0    0   \n",
              "3  0.0  0.0  0.0  0.0  0.0  0.0  1.0  1.0  1.0  1.0  ...    1    0    0    0   \n",
              "4  0.0  0.0  0.0  0.0  0.0  0.0  0.0  0.0  0.0  1.0  ...    1    0    0    0   \n",
              "\n",
              "   260  261  262  263  264  265  \n",
              "0    0    0    0    0    0    0  \n",
              "1    0    0    0    0    0    0  \n",
              "2    0    0    0    0    0    0  \n",
              "3    0    0    0    0    0    0  \n",
              "4    0    0    0    0    0    0  \n",
              "\n",
              "[5 rows x 266 columns]"
            ]
          },
          "execution_count": 257,
          "metadata": {},
          "output_type": "execute_result"
        }
      ],
      "source": [
        "# importing or loading the dataset\n",
        "df = pd.read_csv(\"http://archive.ics.uci.edu/ml/machine-learning-databases/semeion/semeion.data\", delimiter = r\"\\s+\",\n",
        "                header=None )\n",
        "df.head()"
      ]
    },
    {
      "cell_type": "code",
      "execution_count": null,
      "id": "3e77f8e6",
      "metadata": {
        "id": "3e77f8e6",
        "outputId": "3049b5c4-0415-49b5-9cbe-d898a1aeb5c6"
      },
      "outputs": [
        {
          "data": {
            "text/html": [
              "<div>\n",
              "<style scoped>\n",
              "    .dataframe tbody tr th:only-of-type {\n",
              "        vertical-align: middle;\n",
              "    }\n",
              "\n",
              "    .dataframe tbody tr th {\n",
              "        vertical-align: top;\n",
              "    }\n",
              "\n",
              "    .dataframe thead th {\n",
              "        text-align: right;\n",
              "    }\n",
              "</style>\n",
              "<table border=\"1\" class=\"dataframe\">\n",
              "  <thead>\n",
              "    <tr style=\"text-align: right;\">\n",
              "      <th></th>\n",
              "      <th>0</th>\n",
              "      <th>1</th>\n",
              "      <th>2</th>\n",
              "      <th>3</th>\n",
              "      <th>4</th>\n",
              "      <th>5</th>\n",
              "      <th>6</th>\n",
              "      <th>7</th>\n",
              "      <th>8</th>\n",
              "      <th>9</th>\n",
              "      <th>...</th>\n",
              "      <th>246</th>\n",
              "      <th>247</th>\n",
              "      <th>248</th>\n",
              "      <th>249</th>\n",
              "      <th>250</th>\n",
              "      <th>251</th>\n",
              "      <th>252</th>\n",
              "      <th>253</th>\n",
              "      <th>254</th>\n",
              "      <th>255</th>\n",
              "    </tr>\n",
              "  </thead>\n",
              "  <tbody>\n",
              "    <tr>\n",
              "      <th>0</th>\n",
              "      <td>0.0</td>\n",
              "      <td>0.0</td>\n",
              "      <td>0.0</td>\n",
              "      <td>0.0</td>\n",
              "      <td>0.0</td>\n",
              "      <td>0.0</td>\n",
              "      <td>1.0</td>\n",
              "      <td>1.0</td>\n",
              "      <td>1.0</td>\n",
              "      <td>1.0</td>\n",
              "      <td>...</td>\n",
              "      <td>1.0</td>\n",
              "      <td>0.0</td>\n",
              "      <td>0.0</td>\n",
              "      <td>0.0</td>\n",
              "      <td>0.0</td>\n",
              "      <td>0.0</td>\n",
              "      <td>0.0</td>\n",
              "      <td>0.0</td>\n",
              "      <td>0.0</td>\n",
              "      <td>0.0</td>\n",
              "    </tr>\n",
              "    <tr>\n",
              "      <th>1</th>\n",
              "      <td>0.0</td>\n",
              "      <td>0.0</td>\n",
              "      <td>0.0</td>\n",
              "      <td>0.0</td>\n",
              "      <td>0.0</td>\n",
              "      <td>1.0</td>\n",
              "      <td>1.0</td>\n",
              "      <td>1.0</td>\n",
              "      <td>1.0</td>\n",
              "      <td>1.0</td>\n",
              "      <td>...</td>\n",
              "      <td>1.0</td>\n",
              "      <td>1.0</td>\n",
              "      <td>1.0</td>\n",
              "      <td>1.0</td>\n",
              "      <td>1.0</td>\n",
              "      <td>0.0</td>\n",
              "      <td>0.0</td>\n",
              "      <td>0.0</td>\n",
              "      <td>0.0</td>\n",
              "      <td>0.0</td>\n",
              "    </tr>\n",
              "    <tr>\n",
              "      <th>2</th>\n",
              "      <td>0.0</td>\n",
              "      <td>0.0</td>\n",
              "      <td>0.0</td>\n",
              "      <td>0.0</td>\n",
              "      <td>0.0</td>\n",
              "      <td>0.0</td>\n",
              "      <td>0.0</td>\n",
              "      <td>0.0</td>\n",
              "      <td>0.0</td>\n",
              "      <td>1.0</td>\n",
              "      <td>...</td>\n",
              "      <td>1.0</td>\n",
              "      <td>0.0</td>\n",
              "      <td>0.0</td>\n",
              "      <td>0.0</td>\n",
              "      <td>0.0</td>\n",
              "      <td>0.0</td>\n",
              "      <td>0.0</td>\n",
              "      <td>0.0</td>\n",
              "      <td>0.0</td>\n",
              "      <td>0.0</td>\n",
              "    </tr>\n",
              "    <tr>\n",
              "      <th>3</th>\n",
              "      <td>0.0</td>\n",
              "      <td>0.0</td>\n",
              "      <td>0.0</td>\n",
              "      <td>0.0</td>\n",
              "      <td>0.0</td>\n",
              "      <td>0.0</td>\n",
              "      <td>1.0</td>\n",
              "      <td>1.0</td>\n",
              "      <td>1.0</td>\n",
              "      <td>1.0</td>\n",
              "      <td>...</td>\n",
              "      <td>0.0</td>\n",
              "      <td>0.0</td>\n",
              "      <td>0.0</td>\n",
              "      <td>0.0</td>\n",
              "      <td>0.0</td>\n",
              "      <td>0.0</td>\n",
              "      <td>0.0</td>\n",
              "      <td>0.0</td>\n",
              "      <td>0.0</td>\n",
              "      <td>0.0</td>\n",
              "    </tr>\n",
              "    <tr>\n",
              "      <th>4</th>\n",
              "      <td>0.0</td>\n",
              "      <td>0.0</td>\n",
              "      <td>0.0</td>\n",
              "      <td>0.0</td>\n",
              "      <td>0.0</td>\n",
              "      <td>0.0</td>\n",
              "      <td>0.0</td>\n",
              "      <td>0.0</td>\n",
              "      <td>0.0</td>\n",
              "      <td>1.0</td>\n",
              "      <td>...</td>\n",
              "      <td>0.0</td>\n",
              "      <td>0.0</td>\n",
              "      <td>0.0</td>\n",
              "      <td>0.0</td>\n",
              "      <td>0.0</td>\n",
              "      <td>0.0</td>\n",
              "      <td>0.0</td>\n",
              "      <td>0.0</td>\n",
              "      <td>0.0</td>\n",
              "      <td>0.0</td>\n",
              "    </tr>\n",
              "    <tr>\n",
              "      <th>...</th>\n",
              "      <td>...</td>\n",
              "      <td>...</td>\n",
              "      <td>...</td>\n",
              "      <td>...</td>\n",
              "      <td>...</td>\n",
              "      <td>...</td>\n",
              "      <td>...</td>\n",
              "      <td>...</td>\n",
              "      <td>...</td>\n",
              "      <td>...</td>\n",
              "      <td>...</td>\n",
              "      <td>...</td>\n",
              "      <td>...</td>\n",
              "      <td>...</td>\n",
              "      <td>...</td>\n",
              "      <td>...</td>\n",
              "      <td>...</td>\n",
              "      <td>...</td>\n",
              "      <td>...</td>\n",
              "      <td>...</td>\n",
              "      <td>...</td>\n",
              "    </tr>\n",
              "    <tr>\n",
              "      <th>1588</th>\n",
              "      <td>0.0</td>\n",
              "      <td>0.0</td>\n",
              "      <td>0.0</td>\n",
              "      <td>1.0</td>\n",
              "      <td>1.0</td>\n",
              "      <td>1.0</td>\n",
              "      <td>1.0</td>\n",
              "      <td>1.0</td>\n",
              "      <td>1.0</td>\n",
              "      <td>1.0</td>\n",
              "      <td>...</td>\n",
              "      <td>0.0</td>\n",
              "      <td>0.0</td>\n",
              "      <td>0.0</td>\n",
              "      <td>0.0</td>\n",
              "      <td>0.0</td>\n",
              "      <td>0.0</td>\n",
              "      <td>0.0</td>\n",
              "      <td>1.0</td>\n",
              "      <td>1.0</td>\n",
              "      <td>0.0</td>\n",
              "    </tr>\n",
              "    <tr>\n",
              "      <th>1589</th>\n",
              "      <td>0.0</td>\n",
              "      <td>0.0</td>\n",
              "      <td>0.0</td>\n",
              "      <td>1.0</td>\n",
              "      <td>1.0</td>\n",
              "      <td>1.0</td>\n",
              "      <td>1.0</td>\n",
              "      <td>1.0</td>\n",
              "      <td>1.0</td>\n",
              "      <td>1.0</td>\n",
              "      <td>...</td>\n",
              "      <td>1.0</td>\n",
              "      <td>1.0</td>\n",
              "      <td>1.0</td>\n",
              "      <td>1.0</td>\n",
              "      <td>1.0</td>\n",
              "      <td>1.0</td>\n",
              "      <td>1.0</td>\n",
              "      <td>0.0</td>\n",
              "      <td>0.0</td>\n",
              "      <td>0.0</td>\n",
              "    </tr>\n",
              "    <tr>\n",
              "      <th>1590</th>\n",
              "      <td>0.0</td>\n",
              "      <td>0.0</td>\n",
              "      <td>1.0</td>\n",
              "      <td>1.0</td>\n",
              "      <td>1.0</td>\n",
              "      <td>1.0</td>\n",
              "      <td>1.0</td>\n",
              "      <td>1.0</td>\n",
              "      <td>1.0</td>\n",
              "      <td>1.0</td>\n",
              "      <td>...</td>\n",
              "      <td>0.0</td>\n",
              "      <td>0.0</td>\n",
              "      <td>0.0</td>\n",
              "      <td>1.0</td>\n",
              "      <td>1.0</td>\n",
              "      <td>0.0</td>\n",
              "      <td>0.0</td>\n",
              "      <td>0.0</td>\n",
              "      <td>0.0</td>\n",
              "      <td>0.0</td>\n",
              "    </tr>\n",
              "    <tr>\n",
              "      <th>1591</th>\n",
              "      <td>0.0</td>\n",
              "      <td>1.0</td>\n",
              "      <td>1.0</td>\n",
              "      <td>1.0</td>\n",
              "      <td>1.0</td>\n",
              "      <td>1.0</td>\n",
              "      <td>1.0</td>\n",
              "      <td>1.0</td>\n",
              "      <td>1.0</td>\n",
              "      <td>1.0</td>\n",
              "      <td>...</td>\n",
              "      <td>0.0</td>\n",
              "      <td>0.0</td>\n",
              "      <td>0.0</td>\n",
              "      <td>1.0</td>\n",
              "      <td>1.0</td>\n",
              "      <td>0.0</td>\n",
              "      <td>0.0</td>\n",
              "      <td>0.0</td>\n",
              "      <td>0.0</td>\n",
              "      <td>0.0</td>\n",
              "    </tr>\n",
              "    <tr>\n",
              "      <th>1592</th>\n",
              "      <td>0.0</td>\n",
              "      <td>0.0</td>\n",
              "      <td>0.0</td>\n",
              "      <td>0.0</td>\n",
              "      <td>0.0</td>\n",
              "      <td>0.0</td>\n",
              "      <td>1.0</td>\n",
              "      <td>1.0</td>\n",
              "      <td>1.0</td>\n",
              "      <td>1.0</td>\n",
              "      <td>...</td>\n",
              "      <td>1.0</td>\n",
              "      <td>0.0</td>\n",
              "      <td>0.0</td>\n",
              "      <td>0.0</td>\n",
              "      <td>0.0</td>\n",
              "      <td>0.0</td>\n",
              "      <td>0.0</td>\n",
              "      <td>0.0</td>\n",
              "      <td>0.0</td>\n",
              "      <td>0.0</td>\n",
              "    </tr>\n",
              "  </tbody>\n",
              "</table>\n",
              "<p>1593 rows × 256 columns</p>\n",
              "</div>"
            ],
            "text/plain": [
              "      0    1    2    3    4    5    6    7    8    9    ...  246  247  248  \\\n",
              "0     0.0  0.0  0.0  0.0  0.0  0.0  1.0  1.0  1.0  1.0  ...  1.0  0.0  0.0   \n",
              "1     0.0  0.0  0.0  0.0  0.0  1.0  1.0  1.0  1.0  1.0  ...  1.0  1.0  1.0   \n",
              "2     0.0  0.0  0.0  0.0  0.0  0.0  0.0  0.0  0.0  1.0  ...  1.0  0.0  0.0   \n",
              "3     0.0  0.0  0.0  0.0  0.0  0.0  1.0  1.0  1.0  1.0  ...  0.0  0.0  0.0   \n",
              "4     0.0  0.0  0.0  0.0  0.0  0.0  0.0  0.0  0.0  1.0  ...  0.0  0.0  0.0   \n",
              "...   ...  ...  ...  ...  ...  ...  ...  ...  ...  ...  ...  ...  ...  ...   \n",
              "1588  0.0  0.0  0.0  1.0  1.0  1.0  1.0  1.0  1.0  1.0  ...  0.0  0.0  0.0   \n",
              "1589  0.0  0.0  0.0  1.0  1.0  1.0  1.0  1.0  1.0  1.0  ...  1.0  1.0  1.0   \n",
              "1590  0.0  0.0  1.0  1.0  1.0  1.0  1.0  1.0  1.0  1.0  ...  0.0  0.0  0.0   \n",
              "1591  0.0  1.0  1.0  1.0  1.0  1.0  1.0  1.0  1.0  1.0  ...  0.0  0.0  0.0   \n",
              "1592  0.0  0.0  0.0  0.0  0.0  0.0  1.0  1.0  1.0  1.0  ...  1.0  0.0  0.0   \n",
              "\n",
              "      249  250  251  252  253  254  255  \n",
              "0     0.0  0.0  0.0  0.0  0.0  0.0  0.0  \n",
              "1     1.0  1.0  0.0  0.0  0.0  0.0  0.0  \n",
              "2     0.0  0.0  0.0  0.0  0.0  0.0  0.0  \n",
              "3     0.0  0.0  0.0  0.0  0.0  0.0  0.0  \n",
              "4     0.0  0.0  0.0  0.0  0.0  0.0  0.0  \n",
              "...   ...  ...  ...  ...  ...  ...  ...  \n",
              "1588  0.0  0.0  0.0  0.0  1.0  1.0  0.0  \n",
              "1589  1.0  1.0  1.0  1.0  0.0  0.0  0.0  \n",
              "1590  1.0  1.0  0.0  0.0  0.0  0.0  0.0  \n",
              "1591  1.0  1.0  0.0  0.0  0.0  0.0  0.0  \n",
              "1592  0.0  0.0  0.0  0.0  0.0  0.0  0.0  \n",
              "\n",
              "[1593 rows x 256 columns]"
            ]
          },
          "execution_count": 258,
          "metadata": {},
          "output_type": "execute_result"
        }
      ],
      "source": [
        "X = pd.DataFrame(df)\n",
        "X = X.drop([256,257,258,259,260,261,262,263,264,265], axis=1)\n",
        "X"
      ]
    },
    {
      "cell_type": "code",
      "execution_count": null,
      "id": "93412f14",
      "metadata": {
        "id": "93412f14"
      },
      "outputs": [],
      "source": [
        "label_df = pd.DataFrame(df.iloc[:,[256,257,258,259,260,261,262,263,264,265]])\n",
        "label_df.rename(columns={256:0, 257:1, 258:2, 259:3, 260:4, 261:5, 262:6, 263:7, 264:8, 265:9 }, inplace=True)"
      ]
    },
    {
      "cell_type": "code",
      "execution_count": null,
      "id": "4085dde1",
      "metadata": {
        "id": "4085dde1"
      },
      "outputs": [],
      "source": [
        "label_df['y'] = label_df.apply(lambda x: label_df.columns[x.argmax()], axis = 1)"
      ]
    },
    {
      "cell_type": "code",
      "execution_count": null,
      "id": "55cbd637",
      "metadata": {
        "id": "55cbd637",
        "outputId": "8223b6f1-709a-46d0-a8a2-9bb2c8d31bba"
      },
      "outputs": [
        {
          "data": {
            "text/plain": [
              "0       0\n",
              "1       0\n",
              "2       0\n",
              "3       0\n",
              "4       0\n",
              "       ..\n",
              "1588    9\n",
              "1589    9\n",
              "1590    9\n",
              "1591    9\n",
              "1592    9\n",
              "Name: y, Length: 1593, dtype: int64"
            ]
          },
          "execution_count": 261,
          "metadata": {},
          "output_type": "execute_result"
        }
      ],
      "source": [
        "y = label_df['y']\n",
        "y"
      ]
    },
    {
      "cell_type": "code",
      "execution_count": null,
      "id": "41b16985",
      "metadata": {
        "id": "41b16985",
        "outputId": "b3261dee-32ff-43d7-a0cb-5eed7b9d31fa"
      },
      "outputs": [
        {
          "data": {
            "text/plain": [
              "(1593, 256)"
            ]
          },
          "execution_count": 262,
          "metadata": {},
          "output_type": "execute_result"
        }
      ],
      "source": [
        "X.shape"
      ]
    },
    {
      "cell_type": "code",
      "execution_count": null,
      "id": "8b9cda22",
      "metadata": {
        "id": "8b9cda22",
        "outputId": "1261349f-c004-45b0-eb6b-8de025986e30"
      },
      "outputs": [
        {
          "data": {
            "text/plain": [
              "(1593,)"
            ]
          },
          "execution_count": 263,
          "metadata": {},
          "output_type": "execute_result"
        }
      ],
      "source": [
        "y.shape"
      ]
    },
    {
      "cell_type": "markdown",
      "id": "78e614ac",
      "metadata": {
        "id": "78e614ac"
      },
      "source": [
        "PCA directions are highly sensitive to data scaling, and we need to standardize the features prior to PCA \n",
        "if the features were measured on different scales and we want to assign equal importance to all features."
      ]
    },
    {
      "cell_type": "markdown",
      "id": "2866f9fe",
      "metadata": {
        "id": "2866f9fe"
      },
      "source": [
        "# scale input variables using a scikit-learn"
      ]
    },
    {
      "cell_type": "markdown",
      "id": "5b399b39",
      "metadata": {
        "id": "5b399b39"
      },
      "source": [
        "using a scikit-learn StandardScaler object. This will scale the variables so that they have a zero mean and a standard deviation of approximately 1."
      ]
    },
    {
      "cell_type": "code",
      "execution_count": null,
      "id": "2d3c46bf",
      "metadata": {
        "id": "2d3c46bf",
        "outputId": "f2463af5-ca87-44e1-a191-249e0a817c13"
      },
      "outputs": [
        {
          "data": {
            "text/plain": [
              "array([[-0.32478039, -0.42632234, -0.54809503, ..., -0.39180601,\n",
              "        -0.32122515, -0.2062505 ],\n",
              "       [-0.32478039, -0.42632234, -0.54809503, ..., -0.39180601,\n",
              "        -0.32122515, -0.2062505 ],\n",
              "       [-0.32478039, -0.42632234, -0.54809503, ..., -0.39180601,\n",
              "        -0.32122515, -0.2062505 ],\n",
              "       ...,\n",
              "       [-0.32478039, -0.42632234,  1.82450112, ..., -0.39180601,\n",
              "        -0.32122515, -0.2062505 ],\n",
              "       [-0.32478039,  2.34564294,  1.82450112, ..., -0.39180601,\n",
              "        -0.32122515, -0.2062505 ],\n",
              "       [-0.32478039, -0.42632234, -0.54809503, ..., -0.39180601,\n",
              "        -0.32122515, -0.2062505 ]])"
            ]
          },
          "execution_count": 264,
          "metadata": {},
          "output_type": "execute_result"
        }
      ],
      "source": [
        "# standardize the features\n",
        "scaler = StandardScaler()\n",
        "X_scaled = scaler.fit_transform(X)\n",
        "X_scaled"
      ]
    },
    {
      "cell_type": "markdown",
      "id": "a0bdae89",
      "metadata": {
        "id": "a0bdae89"
      },
      "source": [
        "# split dataset "
      ]
    },
    {
      "cell_type": "code",
      "execution_count": null,
      "id": "589e3be0",
      "metadata": {
        "id": "589e3be0"
      },
      "outputs": [],
      "source": [
        "#Split dataset into training and testing sets\n",
        "X_train, X_test, y_train, y_test = train_test_split(X_scaled, y, test_size=0.2, random_state=30)"
      ]
    },
    {
      "cell_type": "markdown",
      "id": "8fb8fb47",
      "metadata": {
        "id": "8fb8fb47"
      },
      "source": [
        "# Classification by Model wothout using PCA"
      ]
    },
    {
      "cell_type": "code",
      "execution_count": null,
      "id": "6cdc6303",
      "metadata": {
        "id": "6cdc6303",
        "outputId": "a53402ae-d9fc-4850-8e9a-025a8f3d757b"
      },
      "outputs": [
        {
          "name": "stdout",
          "output_type": "stream",
          "text": [
            "The prediction on Test: '\n",
            "' [5 6 4 5 8 1 9 4 1 3 7 6 3 7 4 2 6 6 0 5 4 3 5 7 3 5 9 9 1 1 6 6 2 1 5 2 0\n",
            " 4 9 6 4 3 2 8 9 8 8 9 9 0 7 0 9 8 9 7 0 4 2 2 2 0 7 3 5 7 0 1 9 1 3 9 3 3\n",
            " 4 1 9 0 4 1 4 8 6 8 7 2 3 6 0 2 0 8 0 6 6 4 5 9 3 2 1 7 3 1 6 7 5 0 0 1 6\n",
            " 4 9 5 1 6 7 4 3 8 6 2 9 5 4 6 8 2 6 1 6 3 3 2 0 1 7 1 0 0 8 7 3 0 0 3 6 5\n",
            " 6 9 0 0 1 5 0 6 9 0 5 6 8 6 3 9 3 9 6 3 9 3 5 0 1 7 3 8 6 4 2 1 3 5 6 5 4\n",
            " 8 9 5 4 6 5 9 9 7 3 8 7 2 2 1 5 5 0 1 7 5 3 9 3 9 9 2 3 9 3 5 0 2 6 9 4 9\n",
            " 5 5 0 6 2 5 6 7 6 5 1 2 6 1 0 6 1 4 9 7 6 0 1 3 7 5 6 6 5 4 4 3 3 1 8 6 6\n",
            " 6 7 2 6 2 6 3 2 1 1 2 5 3 1 4 1 3 5 4 5 0 0 2 1 9 1 9 2 3 3 1 2 6 3 1 1 6\n",
            " 8 9 5 9 9 0 2 9 3 4 3 5 1 8 9 7 4 4 6 9 1 0 4] \n",
            " \n",
            " The score of prediction without using PCA: '\n",
            "' 0.890282131661442\n"
          ]
        }
      ],
      "source": [
        "from sklearn.linear_model import LogisticRegression\n",
        "\n",
        "LR_model = LogisticRegression(multi_class='auto', solver='liblinear')\n",
        "LR_model.fit(X_train, y_train)\n",
        "LR_pred = LR_model.predict(X_test)\n",
        "LR_score= LR_model.score(X_test, y_test)\n",
        "\n",
        "print(\"The prediction on Test: '\\n'\",LR_pred,\n",
        "     '\\n','\\n', \"The score of prediction without using PCA: '\\n'\", LR_score)"
      ]
    },
    {
      "cell_type": "markdown",
      "id": "469d2870",
      "metadata": {
        "id": "469d2870"
      },
      "source": [
        "# Applying PCA  into 2 dimintion using scikit-learn"
      ]
    },
    {
      "cell_type": "markdown",
      "id": "96905e5a",
      "metadata": {
        "id": "96905e5a"
      },
      "source": [
        "Projection Into Feature Subspace: With Scikit-Learn"
      ]
    },
    {
      "cell_type": "code",
      "execution_count": null,
      "id": "df21f4f2",
      "metadata": {
        "id": "df21f4f2",
        "outputId": "906c40b2-6be1-45dd-cae9-0ebe3182109f"
      },
      "outputs": [
        {
          "name": "stdout",
          "output_type": "stream",
          "text": [
            "Shape of Train set before PCA: (1593, 256)\n",
            "Shape of Train set after PCA: (1593, 2)\n"
          ]
        }
      ],
      "source": [
        "from sklearn.decomposition import PCA\n",
        "\n",
        "  #step1: project from 256 to 2 dimensions\n",
        "    \n",
        "pca_2 = PCA(n_components=2)\n",
        "projected = pca_2.fit_transform(X_scaled)\n",
        "projected\n",
        "\n",
        "   #step2:split dataset according to new input space\n",
        "\n",
        "X_train_pca, X_test_pca, y_train, y_test = train_test_split(projected, y, test_size=0.2, random_state=30)\n",
        "\n",
        "print(\"Shape of Train set before PCA:\", X_scaled.shape)\n",
        "print(\"Shape of Train set after PCA:\",projected.shape)"
      ]
    },
    {
      "cell_type": "code",
      "execution_count": null,
      "id": "a9c0c7d7",
      "metadata": {
        "id": "a9c0c7d7",
        "outputId": "4788bc33-3587-4ec5-af15-94e717901211"
      },
      "outputs": [
        {
          "data": {
            "image/png": "[encoded data removed]",
            "text/plain": [
              "<Figure size 432x288 with 2 Axes>"
            ]
          },
          "metadata": {
            "needs_background": "light"
          },
          "output_type": "display_data"
        }
      ],
      "source": [
        "plt.scatter(projected[:, 0], projected[:, 1],\n",
        "            c=y, edgecolor='none', alpha=0.5,\n",
        "            cmap=plt.cm.get_cmap('Spectral', 10))\n",
        "plt.xlabel('component 1')\n",
        "plt.ylabel('component 2')\n",
        "plt.colorbar();\n"
      ]
    },
    {
      "cell_type": "markdown",
      "id": "a1b3158c",
      "metadata": {
        "id": "a1b3158c"
      },
      "source": [
        "# Choosing the number of components"
      ]
    },
    {
      "cell_type": "markdown",
      "id": "f7fdb693",
      "metadata": {
        "id": "f7fdb693"
      },
      "source": [
        "A vital part of using PCA in practice is the ability to estimate how many components are needed to describe the data. \n",
        "\n",
        "This can be determined by looking at the cumulative explained variance ratio as a function of the number of components:"
      ]
    },
    {
      "cell_type": "code",
      "execution_count": null,
      "id": "57fb537a",
      "metadata": {
        "id": "57fb537a",
        "outputId": "504cd309-eae7-4d9a-b65d-330d6474de9f"
      },
      "outputs": [
        {
          "data": {
            "image/png": "[encoded data removed]",
            "text/plain": [
              "<Figure size 432x288 with 1 Axes>"
            ]
          },
          "metadata": {
            "needs_background": "light"
          },
          "output_type": "display_data"
        }
      ],
      "source": [
        "# cumulative explained variance ratio for 2 components of PCA\n",
        "\n",
        "plt.plot(np.cumsum(pca_2.explained_variance_ratio_))\n",
        "plt.xlabel('number of components')\n",
        "plt.ylabel('cumulative explained variance');"
      ]
    },
    {
      "cell_type": "markdown",
      "id": "5e902498",
      "metadata": {
        "id": "5e902498"
      },
      "source": [
        "# Classification by Model with using PCA "
      ]
    },
    {
      "cell_type": "code",
      "execution_count": null,
      "id": "b6935cbd",
      "metadata": {
        "id": "b6935cbd",
        "outputId": "21cc6176-85a5-434e-c5bf-7a001002fe25"
      },
      "outputs": [
        {
          "name": "stdout",
          "output_type": "stream",
          "text": [
            "The prediction on Test: '\n",
            "' [5 6 4 4 3 1 2 0 7 3 1 0 3 7 4 2 4 0 0 4 5 3 5 7 7 4 5 8 1 4 1 6 2 1 5 3 0\n",
            " 4 5 0 0 3 8 1 3 5 2 5 6 0 1 0 1 1 3 1 0 8 7 2 3 0 7 3 8 7 0 1 3 1 3 5 3 3\n",
            " 4 4 5 0 4 7 4 8 4 4 7 3 3 0 0 5 0 4 0 1 6 6 4 3 5 3 1 7 3 1 0 7 8 0 0 1 4\n",
            " 4 9 5 7 0 7 1 3 4 5 8 1 5 4 4 8 2 5 1 0 3 3 2 0 1 7 1 0 0 8 7 3 0 5 3 4 0\n",
            " 0 8 0 5 7 3 0 6 5 0 4 4 5 7 5 2 2 0 6 3 3 3 3 0 1 7 3 5 4 6 4 7 3 4 4 5 1\n",
            " 5 4 4 4 4 5 2 5 1 3 8 4 7 5 4 5 5 0 1 7 8 3 5 3 5 3 2 3 3 3 0 0 2 4 9 8 4\n",
            " 5 4 0 4 7 5 5 1 0 8 4 3 8 7 0 4 1 5 5 7 0 0 7 5 2 5 4 0 4 8 5 3 2 7 8 4 4\n",
            " 5 7 2 4 3 4 3 2 7 3 3 4 3 4 4 7 3 5 0 4 0 0 3 1 0 7 4 4 3 3 2 2 5 3 7 1 0\n",
            " 1 5 5 3 4 4 1 2 3 4 3 6 7 3 4 7 4 4 4 2 1 0 6] \n",
            " \n",
            " The score of prediction using 2 Componts of PCA: '\n",
            "' 0.44200626959247646\n"
          ]
        }
      ],
      "source": [
        "from sklearn.linear_model import LogisticRegression\n",
        "\n",
        "LR_PCA_model = LogisticRegression(multi_class='auto', solver='liblinear')\n",
        "LR_PCA_model.fit(X_train_pca, y_train)\n",
        "LR_PCA_pred = LR_PCA_model.predict(X_test_pca)\n",
        "LR_PCA_score= LR_PCA_model.score(X_test_pca, y_test)\n",
        "\n",
        "print(\"The prediction on Test: '\\n'\",LR_PCA_pred,\n",
        "     '\\n','\\n', \"The score of prediction using 2 Componts of PCA: '\\n'\", LR_PCA_score)"
      ]
    },
    {
      "cell_type": "code",
      "execution_count": null,
      "id": "c1759fd8",
      "metadata": {
        "id": "c1759fd8"
      },
      "outputs": [],
      "source": [
        "from matplotlib.colors import ListedColormap\n",
        "\n",
        "def plot_decision_regions(X, y, classifier, resolution=0.02):\n",
        "    # setup marker generator and color map\n",
        "    markers = ('s', 'x', 'o', '^', 'v','d', 'h','p','.','*')\n",
        "    colors = ('red', 'blue', 'gray', 'goldenrod','darkslategray', 'brown', 'dodgerblue', 'greenyellow', 'deeppink', 'darkorange')\n",
        "    cmap = ListedColormap(colors[:len(np.unique(y))])\n",
        "\n",
        "    # plot the decision surface\n",
        "    x1_min, x1_max = X[:, 0].min() - 1, X[:, 0].max() + 1\n",
        "    x2_min, x2_max = X[:, 1].min() - 1, X[:, 1].max() + 1\n",
        "    xx1, xx2 = np.meshgrid(np.arange(x1_min, x1_max, resolution),\n",
        "                           np.arange(x2_min, x2_max, resolution))\n",
        "    Z = classifier.predict(np.array([xx1.ravel(), xx2.ravel()]).T)\n",
        "    Z = Z.reshape(xx1.shape)\n",
        "    plt.contourf(xx1, xx2, Z, alpha=0.4, cmap=cmap)\n",
        "    plt.xlim(xx1.min(), xx1.max())\n",
        "    plt.ylim(xx2.min(), xx2.max())\n",
        "\n",
        "    # plot class samples\n",
        "    for idx, cl in enumerate(np.unique(y)):\n",
        "        plt.scatter(x=X[y == cl, 0], \n",
        "                    y=X[y == cl, 1],\n",
        "                    s=20,\n",
        "                    alpha=0.6, \n",
        "                    c=[cmap(idx)],\n",
        "                    marker=markers[idx],\n",
        "                    label=cl)# plot decision regions for training set"
      ]
    },
    {
      "cell_type": "markdown",
      "id": "ec11ca34",
      "metadata": {
        "id": "ec11ca34"
      },
      "source": [
        "# Plots PCA with LogisticRegression Classifer"
      ]
    },
    {
      "cell_type": "code",
      "execution_count": null,
      "id": "678070e2",
      "metadata": {
        "id": "678070e2",
        "outputId": "bde9d01d-75c8-4a99-e08a-8f061c4e48dd"
      },
      "outputs": [
        {
          "data": {
            "image/png": "[encoded data removed]",
            "text/plain": [
              "<Figure size 432x288 with 1 Axes>"
            ]
          },
          "metadata": {
            "needs_background": "light"
          },
          "output_type": "display_data"
        }
      ],
      "source": [
        "# plot decision regions for test set\n",
        "plot_decision_regions(X_train_pca, y_train,classifier=LR_PCA_model)\n",
        "plt.xlabel('PC 1')\n",
        "plt.ylabel('PC 2')\n",
        "plt.legend(loc=0)\n",
        "plt.show()"
      ]
    },
    {
      "cell_type": "markdown",
      "id": "29397ef3",
      "metadata": {
        "id": "29397ef3"
      },
      "source": [
        "# Use components such that 95% of variance is retained"
      ]
    },
    {
      "cell_type": "code",
      "execution_count": null,
      "id": "6904addf",
      "metadata": {
        "id": "6904addf",
        "outputId": "29919fb4-3579-4d40-e778-4f3386ec5a26"
      },
      "outputs": [
        {
          "name": "stdout",
          "output_type": "stream",
          "text": [
            "Principal Components:\n",
            "162\n",
            "Shape of Train set before PCA: (1593, 256)\n",
            "Shape of Train set after PCA: (1593, 162)\n"
          ]
        }
      ],
      "source": [
        "#step1: project data \n",
        "pca_95 = PCA(0.95)\n",
        "\n",
        "projected_95 = pca_95.fit_transform(X_scaled)\n",
        "print (\"Principal Components:\")\n",
        "print (pca.n_components_)\n",
        "\n",
        "#step2:split dataset according to new input space\n",
        "X_train_95, X_test_95, y_train, y_test = train_test_split(projected_95, y, test_size=0.2, random_state=30)\n",
        "\n",
        "print(\"Shape of Train set before PCA:\", X_scaled.shape)\n",
        "print(\"Shape of Train set after PCA:\",projected_95.shape)"
      ]
    },
    {
      "cell_type": "code",
      "execution_count": null,
      "id": "57376739",
      "metadata": {
        "id": "57376739",
        "outputId": "0ebaf0b9-97a0-4569-9cbd-938ff36adf85"
      },
      "outputs": [
        {
          "name": "stdout",
          "output_type": "stream",
          "text": [
            "The prediction on Test: '\n",
            "' [5 6 4 5 9 1 9 4 1 3 7 6 3 7 4 6 6 6 0 5 4 2 5 7 1 5 9 9 1 1 6 6 2 1 5 2 0\n",
            " 4 9 6 4 3 2 8 9 8 8 9 9 0 7 0 8 8 9 7 0 4 2 2 2 0 7 5 5 7 0 1 9 1 3 9 3 3\n",
            " 4 1 9 0 4 1 4 8 6 8 7 2 3 6 0 2 0 8 0 6 6 4 5 9 3 2 1 7 3 1 6 7 5 0 0 1 6\n",
            " 4 9 5 1 6 7 4 3 8 6 2 1 5 4 6 8 2 6 1 6 3 3 2 0 1 7 1 0 0 8 7 3 0 0 3 6 5\n",
            " 6 9 0 0 1 9 0 6 9 0 5 6 8 8 5 9 3 0 6 3 9 3 5 0 1 7 3 8 6 4 2 1 3 5 6 5 4\n",
            " 8 9 5 4 6 5 9 9 7 3 2 4 2 2 5 5 5 0 1 7 3 3 9 3 9 9 2 3 9 3 5 0 2 6 9 4 9\n",
            " 5 5 0 6 2 5 6 7 6 5 1 2 6 1 0 6 1 5 9 7 6 0 1 3 7 5 8 6 5 4 6 3 3 1 8 6 6\n",
            " 6 7 2 6 2 8 3 2 1 1 2 5 3 1 4 1 3 5 4 5 0 0 2 1 9 1 9 8 3 3 1 2 6 3 1 1 6\n",
            " 8 9 5 9 9 0 2 9 3 4 3 5 1 8 9 7 4 4 6 9 1 0 4] \n",
            " \n",
            " The score of prediction using 162 Componts of PCA: '\n",
            "' 0.8871473354231975\n"
          ]
        }
      ],
      "source": [
        "from sklearn.linear_model import LogisticRegression\n",
        "\n",
        "LR_95_model = LogisticRegression(multi_class='auto', solver='liblinear')\n",
        "LR_95_model.fit(X_train_95, y_train)\n",
        "LR_95_pred = LR_95_model.predict(X_test_95)\n",
        "LR_95_score= LR_95_model.score(X_test_95, y_test)\n",
        "\n",
        "print(\"The prediction on Test: '\\n'\",LR_95_pred,\n",
        "     '\\n','\\n', \"The score of prediction using 162 Componts of PCA: '\\n'\", LR_95_score)"
      ]
    },
    {
      "cell_type": "code",
      "execution_count": null,
      "id": "f5915e94",
      "metadata": {
        "id": "f5915e94",
        "outputId": "c26df082-e836-41d9-c01f-390560a5a19d"
      },
      "outputs": [
        {
          "data": {
            "image/png": "[encoded data removed]",
            "text/plain": [
              "<Figure size 432x288 with 1 Axes>"
            ]
          },
          "metadata": {
            "needs_background": "light"
          },
          "output_type": "display_data"
        }
      ],
      "source": [
        "# cumulative explained variance ratio for 162 components of PCA\n",
        "\n",
        "plt.plot(np.cumsum(pca_95.explained_variance_ratio_))\n",
        "plt.xlabel('number of components')\n",
        "plt.ylabel('cumulative explained variance');"
      ]
    },
    {
      "cell_type": "markdown",
      "id": "811b94b3",
      "metadata": {
        "id": "811b94b3"
      },
      "source": [
        "# # Classification by LDA with no need Model"
      ]
    },
    {
      "cell_type": "code",
      "execution_count": null,
      "id": "2fda3589",
      "metadata": {
        "id": "2fda3589",
        "outputId": "71ab7326-1c2b-4096-ec2c-7fff519c0a8a"
      },
      "outputs": [
        {
          "name": "stdout",
          "output_type": "stream",
          "text": [
            "The prediction on Test: '\n",
            "' [9 6 4 5 8 7 9 9 1 3 1 6 3 7 4 8 6 6 0 5 4 3 6 7 7 5 9 9 1 1 6 6 2 1 5 2 0\n",
            " 4 9 6 4 3 2 7 9 8 8 9 9 0 7 0 9 8 9 7 0 4 2 2 2 0 7 3 5 7 0 1 9 1 3 9 3 3\n",
            " 4 1 9 0 4 7 4 8 6 8 7 2 3 6 0 2 0 8 0 6 6 4 5 9 3 2 1 7 3 1 6 7 5 0 0 7 6\n",
            " 4 9 5 1 6 7 4 3 8 6 2 9 5 4 6 8 2 5 1 6 3 3 2 0 1 7 1 0 0 8 7 3 0 0 3 6 0\n",
            " 6 9 0 0 1 3 0 6 9 0 5 6 8 8 3 9 3 9 6 3 9 3 5 0 1 7 3 8 6 4 2 7 3 5 6 5 4\n",
            " 8 8 5 4 6 5 9 9 7 3 8 1 2 2 5 5 0 0 4 7 5 3 9 3 9 9 2 3 9 3 5 0 2 6 9 4 9\n",
            " 5 5 0 6 2 5 6 7 6 5 1 2 6 7 0 6 1 4 9 7 6 0 1 3 7 5 6 6 9 4 5 3 8 1 8 6 6\n",
            " 5 7 2 6 2 8 3 2 1 1 3 5 3 1 4 1 3 5 4 5 0 0 2 1 9 1 9 2 3 3 1 2 6 3 7 1 6\n",
            " 8 9 5 9 9 0 2 9 3 4 3 6 1 8 2 7 4 4 6 9 1 0 4] \n",
            " \n",
            " The score of prediction using LDA: '\n",
            "' 0.8746081504702194\n"
          ]
        }
      ],
      "source": [
        "#\n",
        "#Split dataset into training and testing sets\n",
        "X_train_lda, X_test_lda, y_train, y_test = train_test_split(X, y, test_size=0.2, random_state=30)\n",
        "\n",
        "lda = LinearDiscriminantAnalysis()\n",
        "lda.fit(X_train_lda, y_train)\n",
        "lda_pred= lda.predict(X_test_lda)\n",
        "lda_score= lda.score(X_test_lda, y_test)\n",
        "\n",
        "print(\"The prediction on Test: '\\n'\",lda_pred,\n",
        "     '\\n','\\n', \"The score of prediction using LDA: '\\n'\", lda_score)"
      ]
    }
  ],
  "metadata": {
    "kernelspec": {
      "display_name": "Python 3 (ipykernel)",
      "language": "python",
      "name": "python3"
    },
    "language_info": {
      "codemirror_mode": {
        "name": "ipython",
        "version": 3
      },
      "file_extension": ".py",
      "mimetype": "text/x-python",
      "name": "python",
      "nbconvert_exporter": "python",
      "pygments_lexer": "ipython3",
      "version": "3.9.7"
    },
    "colab": {
      "provenance": [],
      "include_colab_link": true
    }
  },
  "nbformat": 4,
  "nbformat_minor": 5
}